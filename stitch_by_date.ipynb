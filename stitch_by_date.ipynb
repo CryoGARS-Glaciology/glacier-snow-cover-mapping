{
 "cells": [
  {
   "cell_type": "code",
   "execution_count": 1,
   "metadata": {},
   "outputs": [],
   "source": [
    "import os\n",
    "from osgeo import gdal, ogr\n",
    "import subprocess"
   ]
  },
  {
   "cell_type": "code",
   "execution_count": 2,
   "metadata": {},
   "outputs": [],
   "source": [
    "# path to images\n",
    "basepath = '/Users/raineyaberle/Desktop/Research/PhD/Wolverine/images/2021-04-20_2021-08-25/PSScene4Band/'\n",
    "# path for output stitched images\n",
    "outpath = '/Users/raineyaberle/Desktop/Research/PhD/Wolverine/images/'\n",
    "\n",
    "#basepath = '/Users/jukesliu/Documents/TURNER/DATA/Planet_images/06d1c5d1-0a7c-4a00-922d-530563154de9/PSScene4Band/' "
   ]
  },
  {
   "cell_type": "markdown",
   "metadata": {},
   "source": [
    "## Mosaic image files with a specified extension"
   ]
  },
  {
   "cell_type": "code",
   "execution_count": 3,
   "metadata": {},
   "outputs": [],
   "source": [
    "######################### Set extension for mosaicing\n",
    "ext = 'SR'\n",
    "# ext = 'udm2'\n",
    "# ext = 'DN_udm'\n",
    "\n",
    "# set output directory\n",
    "out_dir = 'SR-stitched'\n",
    "#########################\n",
    "\n",
    "# imgpaths = []\n",
    "# # identify images\n",
    "# for scene in os.listdir(basepath): \n",
    "#     if scene.startswith('Turner'): # Turner scenes\n",
    "# #         tifs = os.listdir(basepath+scene+'/files/') # grab the tifs in the scene folder\n",
    "#         tof \n",
    "        \n",
    "#         for tif in tifs:\n",
    "#             if tif.endswith(ext+'_clip.tif'): # SR_clip files\n",
    "#                 imgpaths.append(basepath+scene+'/files/'+tif)"
   ]
  },
  {
   "cell_type": "code",
   "execution_count": 4,
   "metadata": {},
   "outputs": [
    {
     "data": {
      "text/plain": [
       "['20210421',\n",
       " '20210422',\n",
       " '20210423',\n",
       " '20210424',\n",
       " '20210425',\n",
       " '20210426',\n",
       " '20210427',\n",
       " '20210429',\n",
       " '20210501',\n",
       " '20210507',\n",
       " '20210517',\n",
       " '20210518',\n",
       " '20210524',\n",
       " '20210605',\n",
       " '20210606',\n",
       " '20210611',\n",
       " '20210612',\n",
       " '20210613',\n",
       " '20210614',\n",
       " '20210615',\n",
       " '20210629',\n",
       " '20210630',\n",
       " '20210701',\n",
       " '20210704',\n",
       " '20210714',\n",
       " '20210715',\n",
       " '20210716',\n",
       " '20210717',\n",
       " '20210718',\n",
       " '20210719',\n",
       " '20210726',\n",
       " '20210731',\n",
       " '20210801',\n",
       " '20210802',\n",
       " '20210813',\n",
       " '20210815',\n",
       " '20210816',\n",
       " '20210818',\n",
       " '20210821']"
      ]
     },
     "execution_count": 4,
     "metadata": {},
     "output_type": "execute_result"
    }
   ],
   "source": [
    "uniquescenes = [] # grab unique scenes from a folder with all scenefiles\n",
    "for scene in os.listdir(basepath):\n",
    "    date = scene[0:8]\n",
    "    uniquescenes.append(date)\n",
    "uniquescenes = list(set(uniquescenes))\n",
    "uniquescenes.sort() # sort in order\n",
    "uniquescenes"
   ]
  },
  {
   "cell_type": "code",
   "execution_count": 10,
   "metadata": {},
   "outputs": [
    {
     "name": "stdout",
     "output_type": "stream",
     "text": [
      "CompletedProcess(args='gdal_merge.py -v /Users/raineyaberle/Desktop/Research/PhD/Wolverine/images/2021-04-20_2021-08-25/PSScene4Band/20210421_165659_0f21_3B_AnalyticMS_SR_clip.tif /Users/raineyaberle/Desktop/Research/PhD/Wolverine/images/2021-04-20_2021-08-25/PSScene4Band/20210421_211435_88_2254_3B_AnalyticMS_SR_clip.tif /Users/raineyaberle/Desktop/Research/PhD/Wolverine/images/2021-04-20_2021-08-25/PSScene4Band/20210421_165700_0f21_3B_AnalyticMS_SR_clip.tif /Users/raineyaberle/Desktop/Research/PhD/Wolverine/images/2021-04-20_2021-08-25/PSScene4Band/20210421_165658_0f21_3B_AnalyticMS_SR_clip.tif /Users/raineyaberle/Desktop/Research/PhD/Wolverine/images/2021-04-20_2021-08-25/PSScene4Band/20210421_202734_37_2423_3B_AnalyticMS_SR_clip.tif /Users/raineyaberle/Desktop/Research/PhD/Wolverine/images/2021-04-20_2021-08-25/PSScene4Band/20210421_211433_53_2254_3B_AnalyticMS_SR_clip.tif -o /Users/raineyaberle/Desktop/Research/PhD/Wolverine/images/SR-stitched/20210421.tif', returncode=1, stdout=b'Creation failed, terminating gdal_merge.\\n', stderr=b\"ERROR 4: Attempt to create new tiff file `/Users/raineyaberle/Desktop/Research/PhD/Wolverine/images/SR-stitched/20210421.tif' failed: No such file or directory\\n\")\n",
      "CompletedProcess(args='gdal_merge.py -v /Users/raineyaberle/Desktop/Research/PhD/Wolverine/images/2021-04-20_2021-08-25/PSScene4Band/20210422_213334_99_105d_3B_AnalyticMS_SR_clip.tif -o /Users/raineyaberle/Desktop/Research/PhD/Wolverine/images/SR-stitched/20210422.tif', returncode=1, stdout=b'Creation failed, terminating gdal_merge.\\n', stderr=b\"ERROR 4: Attempt to create new tiff file `/Users/raineyaberle/Desktop/Research/PhD/Wolverine/images/SR-stitched/20210422.tif' failed: No such file or directory\\n\")\n",
      "CompletedProcess(args='gdal_merge.py -v /Users/raineyaberle/Desktop/Research/PhD/Wolverine/images/2021-04-20_2021-08-25/PSScene4Band/20210423_170031_1053_3B_AnalyticMS_SR_clip.tif /Users/raineyaberle/Desktop/Research/PhD/Wolverine/images/2021-04-20_2021-08-25/PSScene4Band/20210423_170029_1053_3B_AnalyticMS_SR_clip.tif /Users/raineyaberle/Desktop/Research/PhD/Wolverine/images/2021-04-20_2021-08-25/PSScene4Band/20210423_170030_1053_3B_AnalyticMS_SR_clip.tif /Users/raineyaberle/Desktop/Research/PhD/Wolverine/images/2021-04-20_2021-08-25/PSScene4Band/20210423_202540_54_241a_3B_AnalyticMS_SR_clip.tif /Users/raineyaberle/Desktop/Research/PhD/Wolverine/images/2021-04-20_2021-08-25/PSScene4Band/20210423_170031_1_1053_3B_AnalyticMS_SR_clip.tif -o /Users/raineyaberle/Desktop/Research/PhD/Wolverine/images/SR-stitched/20210423.tif', returncode=1, stdout=b'Creation failed, terminating gdal_merge.\\n', stderr=b\"ERROR 4: Attempt to create new tiff file `/Users/raineyaberle/Desktop/Research/PhD/Wolverine/images/SR-stitched/20210423.tif' failed: No such file or directory\\n\")\n",
      "CompletedProcess(args='gdal_merge.py -v /Users/raineyaberle/Desktop/Research/PhD/Wolverine/images/2021-04-20_2021-08-25/PSScene4Band/20210424_202443_93_2431_3B_AnalyticMS_SR_clip.tif -o /Users/raineyaberle/Desktop/Research/PhD/Wolverine/images/SR-stitched/20210424.tif', returncode=1, stdout=b'Creation failed, terminating gdal_merge.\\n', stderr=b\"ERROR 4: Attempt to create new tiff file `/Users/raineyaberle/Desktop/Research/PhD/Wolverine/images/SR-stitched/20210424.tif' failed: No such file or directory\\n\")\n",
      "CompletedProcess(args='gdal_merge.py -v /Users/raineyaberle/Desktop/Research/PhD/Wolverine/images/2021-04-20_2021-08-25/PSScene4Band/20210425_165654_1050_3B_AnalyticMS_SR_clip.tif /Users/raineyaberle/Desktop/Research/PhD/Wolverine/images/2021-04-20_2021-08-25/PSScene4Band/20210425_211428_03_2406_3B_AnalyticMS_SR_clip.tif /Users/raineyaberle/Desktop/Research/PhD/Wolverine/images/2021-04-20_2021-08-25/PSScene4Band/20210425_165655_1050_3B_AnalyticMS_SR_clip.tif /Users/raineyaberle/Desktop/Research/PhD/Wolverine/images/2021-04-20_2021-08-25/PSScene4Band/20210425_165656_1050_3B_AnalyticMS_SR_clip.tif /Users/raineyaberle/Desktop/Research/PhD/Wolverine/images/2021-04-20_2021-08-25/PSScene4Band/20210425_165657_1050_3B_AnalyticMS_SR_clip.tif /Users/raineyaberle/Desktop/Research/PhD/Wolverine/images/2021-04-20_2021-08-25/PSScene4Band/20210425_211425_74_2406_3B_AnalyticMS_SR_clip.tif -o /Users/raineyaberle/Desktop/Research/PhD/Wolverine/images/SR-stitched/20210425.tif', returncode=1, stdout=b'Creation failed, terminating gdal_merge.\\n', stderr=b\"ERROR 4: Attempt to create new tiff file `/Users/raineyaberle/Desktop/Research/PhD/Wolverine/images/SR-stitched/20210425.tif' failed: No such file or directory\\n\")\n",
      "CompletedProcess(args='gdal_merge.py -v /Users/raineyaberle/Desktop/Research/PhD/Wolverine/images/2021-04-20_2021-08-25/PSScene4Band/20210426_203130_64_2251_3B_AnalyticMS_SR_clip.tif /Users/raineyaberle/Desktop/Research/PhD/Wolverine/images/2021-04-20_2021-08-25/PSScene4Band/20210426_170328_0f3c_3B_AnalyticMS_SR_clip.tif /Users/raineyaberle/Desktop/Research/PhD/Wolverine/images/2021-04-20_2021-08-25/PSScene4Band/20210426_170329_0f3c_3B_AnalyticMS_SR_clip.tif /Users/raineyaberle/Desktop/Research/PhD/Wolverine/images/2021-04-20_2021-08-25/PSScene4Band/20210426_203015_80_2262_3B_AnalyticMS_SR_clip.tif /Users/raineyaberle/Desktop/Research/PhD/Wolverine/images/2021-04-20_2021-08-25/PSScene4Band/20210426_203018_09_2262_3B_AnalyticMS_SR_clip.tif /Users/raineyaberle/Desktop/Research/PhD/Wolverine/images/2021-04-20_2021-08-25/PSScene4Band/20210426_170327_0f3c_3B_AnalyticMS_SR_clip.tif /Users/raineyaberle/Desktop/Research/PhD/Wolverine/images/2021-04-20_2021-08-25/PSScene4Band/20210426_203132_93_2251_3B_AnalyticMS_SR_clip.tif -o /Users/raineyaberle/Desktop/Research/PhD/Wolverine/images/SR-stitched/20210426.tif', returncode=1, stdout=b'Creation failed, terminating gdal_merge.\\n', stderr=b\"ERROR 4: Attempt to create new tiff file `/Users/raineyaberle/Desktop/Research/PhD/Wolverine/images/SR-stitched/20210426.tif' failed: No such file or directory\\n\")\n",
      "CompletedProcess(args='gdal_merge.py -v /Users/raineyaberle/Desktop/Research/PhD/Wolverine/images/2021-04-20_2021-08-25/PSScene4Band/20210427_194054_25_106d_3B_AnalyticMS_SR_clip.tif /Users/raineyaberle/Desktop/Research/PhD/Wolverine/images/2021-04-20_2021-08-25/PSScene4Band/20210427_194055_78_106d_3B_AnalyticMS_SR_clip.tif -o /Users/raineyaberle/Desktop/Research/PhD/Wolverine/images/SR-stitched/20210427.tif', returncode=1, stdout=b'Creation failed, terminating gdal_merge.\\n', stderr=b\"ERROR 4: Attempt to create new tiff file `/Users/raineyaberle/Desktop/Research/PhD/Wolverine/images/SR-stitched/20210427.tif' failed: No such file or directory\\n\")\n",
      "CompletedProcess(args='gdal_merge.py -v /Users/raineyaberle/Desktop/Research/PhD/Wolverine/images/2021-04-20_2021-08-25/PSScene4Band/20210429_170034_1048_3B_AnalyticMS_SR_clip.tif -o /Users/raineyaberle/Desktop/Research/PhD/Wolverine/images/SR-stitched/20210429.tif', returncode=1, stdout=b'Creation failed, terminating gdal_merge.\\n', stderr=b\"ERROR 4: Attempt to create new tiff file `/Users/raineyaberle/Desktop/Research/PhD/Wolverine/images/SR-stitched/20210429.tif' failed: No such file or directory\\n\")\n",
      "CompletedProcess(args='gdal_merge.py -v /Users/raineyaberle/Desktop/Research/PhD/Wolverine/images/2021-04-20_2021-08-25/PSScene4Band/20210501_211757_67_227a_3B_AnalyticMS_SR_clip.tif /Users/raineyaberle/Desktop/Research/PhD/Wolverine/images/2021-04-20_2021-08-25/PSScene4Band/20210501_211800_15_227a_3B_AnalyticMS_SR_clip.tif /Users/raineyaberle/Desktop/Research/PhD/Wolverine/images/2021-04-20_2021-08-25/PSScene4Band/20210501_202300_20_2463_3B_AnalyticMS_SR_clip.tif /Users/raineyaberle/Desktop/Research/PhD/Wolverine/images/2021-04-20_2021-08-25/PSScene4Band/20210501_202302_55_2463_3B_AnalyticMS_SR_clip.tif -o /Users/raineyaberle/Desktop/Research/PhD/Wolverine/images/SR-stitched/20210501.tif', returncode=1, stdout=b'Creation failed, terminating gdal_merge.\\n', stderr=b\"ERROR 4: Attempt to create new tiff file `/Users/raineyaberle/Desktop/Research/PhD/Wolverine/images/SR-stitched/20210501.tif' failed: No such file or directory\\n\")\n",
      "CompletedProcess(args='gdal_merge.py -v /Users/raineyaberle/Desktop/Research/PhD/Wolverine/images/2021-04-20_2021-08-25/PSScene4Band/20210507_165516_100d_3B_AnalyticMS_SR_clip.tif /Users/raineyaberle/Desktop/Research/PhD/Wolverine/images/2021-04-20_2021-08-25/PSScene4Band/20210507_165517_1_100d_3B_AnalyticMS_SR_clip.tif /Users/raineyaberle/Desktop/Research/PhD/Wolverine/images/2021-04-20_2021-08-25/PSScene4Band/20210507_170008_1054_3B_AnalyticMS_SR_clip.tif /Users/raineyaberle/Desktop/Research/PhD/Wolverine/images/2021-04-20_2021-08-25/PSScene4Band/20210507_165515_100d_3B_AnalyticMS_SR_clip.tif -o /Users/raineyaberle/Desktop/Research/PhD/Wolverine/images/SR-stitched/20210507.tif', returncode=1, stdout=b'Creation failed, terminating gdal_merge.\\n', stderr=b\"ERROR 4: Attempt to create new tiff file `/Users/raineyaberle/Desktop/Research/PhD/Wolverine/images/SR-stitched/20210507.tif' failed: No such file or directory\\n\")\n"
     ]
    },
    {
     "name": "stdout",
     "output_type": "stream",
     "text": [
      "CompletedProcess(args='gdal_merge.py -v /Users/raineyaberle/Desktop/Research/PhD/Wolverine/images/2021-04-20_2021-08-25/PSScene4Band/20210517_202034_50_2206_3B_AnalyticMS_SR_clip.tif /Users/raineyaberle/Desktop/Research/PhD/Wolverine/images/2021-04-20_2021-08-25/PSScene4Band/20210517_202036_71_2206_3B_AnalyticMS_SR_clip.tif -o /Users/raineyaberle/Desktop/Research/PhD/Wolverine/images/SR-stitched/20210517.tif', returncode=1, stdout=b'Creation failed, terminating gdal_merge.\\n', stderr=b\"ERROR 4: Attempt to create new tiff file `/Users/raineyaberle/Desktop/Research/PhD/Wolverine/images/SR-stitched/20210517.tif' failed: No such file or directory\\n\")\n",
      "CompletedProcess(args='gdal_merge.py -v /Users/raineyaberle/Desktop/Research/PhD/Wolverine/images/2021-04-20_2021-08-25/PSScene4Band/20210518_211339_01_2401_3B_AnalyticMS_SR_clip.tif /Users/raineyaberle/Desktop/Research/PhD/Wolverine/images/2021-04-20_2021-08-25/PSScene4Band/20210518_211341_30_2401_3B_AnalyticMS_SR_clip.tif -o /Users/raineyaberle/Desktop/Research/PhD/Wolverine/images/SR-stitched/20210518.tif', returncode=1, stdout=b'Creation failed, terminating gdal_merge.\\n', stderr=b\"ERROR 4: Attempt to create new tiff file `/Users/raineyaberle/Desktop/Research/PhD/Wolverine/images/SR-stitched/20210518.tif' failed: No such file or directory\\n\")\n",
      "CompletedProcess(args='gdal_merge.py -v /Users/raineyaberle/Desktop/Research/PhD/Wolverine/images/2021-04-20_2021-08-25/PSScene4Band/20210524_165518_104b_3B_AnalyticMS_SR_clip.tif /Users/raineyaberle/Desktop/Research/PhD/Wolverine/images/2021-04-20_2021-08-25/PSScene4Band/20210524_165519_104b_3B_AnalyticMS_SR_clip.tif /Users/raineyaberle/Desktop/Research/PhD/Wolverine/images/2021-04-20_2021-08-25/PSScene4Band/20210524_165520_104b_3B_AnalyticMS_SR_clip.tif -o /Users/raineyaberle/Desktop/Research/PhD/Wolverine/images/SR-stitched/20210524.tif', returncode=1, stdout=b'Creation failed, terminating gdal_merge.\\n', stderr=b\"ERROR 4: Attempt to create new tiff file `/Users/raineyaberle/Desktop/Research/PhD/Wolverine/images/SR-stitched/20210524.tif' failed: No such file or directory\\n\")\n",
      "CompletedProcess(args='gdal_merge.py -v /Users/raineyaberle/Desktop/Research/PhD/Wolverine/images/2021-04-20_2021-08-25/PSScene4Band/20210605_202114_48_222b_3B_AnalyticMS_SR_clip.tif /Users/raineyaberle/Desktop/Research/PhD/Wolverine/images/2021-04-20_2021-08-25/PSScene4Band/20210605_165245_0f21_3B_AnalyticMS_SR_clip.tif /Users/raineyaberle/Desktop/Research/PhD/Wolverine/images/2021-04-20_2021-08-25/PSScene4Band/20210605_165245_1_0f21_3B_AnalyticMS_SR_clip.tif /Users/raineyaberle/Desktop/Research/PhD/Wolverine/images/2021-04-20_2021-08-25/PSScene4Band/20210605_202404_27_2431_3B_AnalyticMS_SR_clip.tif /Users/raineyaberle/Desktop/Research/PhD/Wolverine/images/2021-04-20_2021-08-25/PSScene4Band/20210605_202116_69_222b_3B_AnalyticMS_SR_clip.tif -o /Users/raineyaberle/Desktop/Research/PhD/Wolverine/images/SR-stitched/20210605.tif', returncode=1, stdout=b'Creation failed, terminating gdal_merge.\\n', stderr=b\"ERROR 4: Attempt to create new tiff file `/Users/raineyaberle/Desktop/Research/PhD/Wolverine/images/SR-stitched/20210605.tif' failed: No such file or directory\\n\")\n",
      "CompletedProcess(args='gdal_merge.py -v /Users/raineyaberle/Desktop/Research/PhD/Wolverine/images/2021-04-20_2021-08-25/PSScene4Band/20210606_201946_88_2463_3B_AnalyticMS_SR_clip.tif /Users/raineyaberle/Desktop/Research/PhD/Wolverine/images/2021-04-20_2021-08-25/PSScene4Band/20210606_201944_58_2463_3B_AnalyticMS_SR_clip.tif /Users/raineyaberle/Desktop/Research/PhD/Wolverine/images/2021-04-20_2021-08-25/PSScene4Band/20210606_202719_80_2428_3B_AnalyticMS_SR_clip.tif /Users/raineyaberle/Desktop/Research/PhD/Wolverine/images/2021-04-20_2021-08-25/PSScene4Band/20210606_202722_10_2428_3B_AnalyticMS_SR_clip.tif -o /Users/raineyaberle/Desktop/Research/PhD/Wolverine/images/SR-stitched/20210606.tif', returncode=1, stdout=b'Creation failed, terminating gdal_merge.\\n', stderr=b\"ERROR 4: Attempt to create new tiff file `/Users/raineyaberle/Desktop/Research/PhD/Wolverine/images/SR-stitched/20210606.tif' failed: No such file or directory\\n\")\n",
      "CompletedProcess(args='gdal_merge.py -v /Users/raineyaberle/Desktop/Research/PhD/Wolverine/images/2021-04-20_2021-08-25/PSScene4Band/20210611_193902_91_106e_3B_AnalyticMS_SR_clip.tif /Users/raineyaberle/Desktop/Research/PhD/Wolverine/images/2021-04-20_2021-08-25/PSScene4Band/20210611_165003_104b_3B_AnalyticMS_SR_clip.tif /Users/raineyaberle/Desktop/Research/PhD/Wolverine/images/2021-04-20_2021-08-25/PSScene4Band/20210611_165004_104b_3B_AnalyticMS_SR_clip.tif /Users/raineyaberle/Desktop/Research/PhD/Wolverine/images/2021-04-20_2021-08-25/PSScene4Band/20210611_165002_104b_3B_AnalyticMS_SR_clip.tif /Users/raineyaberle/Desktop/Research/PhD/Wolverine/images/2021-04-20_2021-08-25/PSScene4Band/20210611_193904_93_106e_3B_AnalyticMS_SR_clip.tif /Users/raineyaberle/Desktop/Research/PhD/Wolverine/images/2021-04-20_2021-08-25/PSScene4Band/20210611_205334_1011_3B_AnalyticMS_SR_clip.tif -o /Users/raineyaberle/Desktop/Research/PhD/Wolverine/images/SR-stitched/20210611.tif', returncode=1, stdout=b'Creation failed, terminating gdal_merge.\\n', stderr=b\"ERROR 4: Attempt to create new tiff file `/Users/raineyaberle/Desktop/Research/PhD/Wolverine/images/SR-stitched/20210611.tif' failed: No such file or directory\\n\")\n",
      "CompletedProcess(args='gdal_merge.py -v /Users/raineyaberle/Desktop/Research/PhD/Wolverine/images/2021-04-20_2021-08-25/PSScene4Band/20210612_210955_70_227a_3B_AnalyticMS_SR_clip.tif /Users/raineyaberle/Desktop/Research/PhD/Wolverine/images/2021-04-20_2021-08-25/PSScene4Band/20210612_210953_21_227a_3B_AnalyticMS_SR_clip.tif -o /Users/raineyaberle/Desktop/Research/PhD/Wolverine/images/SR-stitched/20210612.tif', returncode=1, stdout=b'Creation failed, terminating gdal_merge.\\n', stderr=b\"ERROR 4: Attempt to create new tiff file `/Users/raineyaberle/Desktop/Research/PhD/Wolverine/images/SR-stitched/20210612.tif' failed: No such file or directory\\n\")\n",
      "CompletedProcess(args='gdal_merge.py -v /Users/raineyaberle/Desktop/Research/PhD/Wolverine/images/2021-04-20_2021-08-25/PSScene4Band/20210613_193952_72_106c_3B_AnalyticMS_SR_clip.tif /Users/raineyaberle/Desktop/Research/PhD/Wolverine/images/2021-04-20_2021-08-25/PSScene4Band/20210613_202529_05_245d_3B_AnalyticMS_SR_clip.tif /Users/raineyaberle/Desktop/Research/PhD/Wolverine/images/2021-04-20_2021-08-25/PSScene4Band/20210613_193954_72_106c_3B_AnalyticMS_SR_clip.tif /Users/raineyaberle/Desktop/Research/PhD/Wolverine/images/2021-04-20_2021-08-25/PSScene4Band/20210613_202526_75_245d_3B_AnalyticMS_SR_clip.tif -o /Users/raineyaberle/Desktop/Research/PhD/Wolverine/images/SR-stitched/20210613.tif', returncode=1, stdout=b'Creation failed, terminating gdal_merge.\\n', stderr=b\"ERROR 4: Attempt to create new tiff file `/Users/raineyaberle/Desktop/Research/PhD/Wolverine/images/SR-stitched/20210613.tif' failed: No such file or directory\\n\")\n",
      "CompletedProcess(args='gdal_merge.py -v /Users/raineyaberle/Desktop/Research/PhD/Wolverine/images/2021-04-20_2021-08-25/PSScene4Band/20210614_164800_0f49_3B_AnalyticMS_SR_clip.tif /Users/raineyaberle/Desktop/Research/PhD/Wolverine/images/2021-04-20_2021-08-25/PSScene4Band/20210614_205247_1025_3B_AnalyticMS_SR_clip.tif /Users/raineyaberle/Desktop/Research/PhD/Wolverine/images/2021-04-20_2021-08-25/PSScene4Band/20210614_164801_0f49_3B_AnalyticMS_SR_clip.tif /Users/raineyaberle/Desktop/Research/PhD/Wolverine/images/2021-04-20_2021-08-25/PSScene4Band/20210614_164759_0f49_3B_AnalyticMS_SR_clip.tif /Users/raineyaberle/Desktop/Research/PhD/Wolverine/images/2021-04-20_2021-08-25/PSScene4Band/20210614_164758_0f49_3B_AnalyticMS_SR_clip.tif -o /Users/raineyaberle/Desktop/Research/PhD/Wolverine/images/SR-stitched/20210614.tif', returncode=1, stdout=b'Creation failed, terminating gdal_merge.\\n', stderr=b\"ERROR 4: Attempt to create new tiff file `/Users/raineyaberle/Desktop/Research/PhD/Wolverine/images/SR-stitched/20210614.tif' failed: No such file or directory\\n\")\n",
      "CompletedProcess(args='gdal_merge.py -v /Users/raineyaberle/Desktop/Research/PhD/Wolverine/images/2021-04-20_2021-08-25/PSScene4Band/20210615_202553_97_245f_3B_AnalyticMS_SR_clip.tif /Users/raineyaberle/Desktop/Research/PhD/Wolverine/images/2021-04-20_2021-08-25/PSScene4Band/20210615_211616_96_2426_3B_AnalyticMS_SR_clip.tif /Users/raineyaberle/Desktop/Research/PhD/Wolverine/images/2021-04-20_2021-08-25/PSScene4Band/20210615_202556_27_245f_3B_AnalyticMS_SR_clip.tif /Users/raineyaberle/Desktop/Research/PhD/Wolverine/images/2021-04-20_2021-08-25/PSScene4Band/20210615_202558_58_245f_3B_AnalyticMS_SR_clip.tif /Users/raineyaberle/Desktop/Research/PhD/Wolverine/images/2021-04-20_2021-08-25/PSScene4Band/20210615_211619_25_2426_3B_AnalyticMS_SR_clip.tif -o /Users/raineyaberle/Desktop/Research/PhD/Wolverine/images/SR-stitched/20210615.tif', returncode=1, stdout=b'Creation failed, terminating gdal_merge.\\n', stderr=b\"ERROR 4: Attempt to create new tiff file `/Users/raineyaberle/Desktop/Research/PhD/Wolverine/images/SR-stitched/20210615.tif' failed: No such file or directory\\n\")\n"
     ]
    },
    {
     "name": "stdout",
     "output_type": "stream",
     "text": [
      "CompletedProcess(args='gdal_merge.py -v /Users/raineyaberle/Desktop/Research/PhD/Wolverine/images/2021-04-20_2021-08-25/PSScene4Band/20210629_203040_14_2233_3B_AnalyticMS_SR_clip.tif /Users/raineyaberle/Desktop/Research/PhD/Wolverine/images/2021-04-20_2021-08-25/PSScene4Band/20210629_165003_1050_3B_AnalyticMS_SR_clip.tif /Users/raineyaberle/Desktop/Research/PhD/Wolverine/images/2021-04-20_2021-08-25/PSScene4Band/20210629_165002_1050_3B_AnalyticMS_SR_clip.tif /Users/raineyaberle/Desktop/Research/PhD/Wolverine/images/2021-04-20_2021-08-25/PSScene4Band/20210629_165001_1050_3B_AnalyticMS_SR_clip.tif -o /Users/raineyaberle/Desktop/Research/PhD/Wolverine/images/SR-stitched/20210629.tif', returncode=1, stdout=b'Creation failed, terminating gdal_merge.\\n', stderr=b\"ERROR 4: Attempt to create new tiff file `/Users/raineyaberle/Desktop/Research/PhD/Wolverine/images/SR-stitched/20210629.tif' failed: No such file or directory\\n\")\n",
      "CompletedProcess(args='gdal_merge.py -v /Users/raineyaberle/Desktop/Research/PhD/Wolverine/images/2021-04-20_2021-08-25/PSScene4Band/20210630_205214_1035_3B_AnalyticMS_SR_clip.tif -o /Users/raineyaberle/Desktop/Research/PhD/Wolverine/images/SR-stitched/20210630.tif', returncode=1, stdout=b'Creation failed, terminating gdal_merge.\\n', stderr=b\"ERROR 4: Attempt to create new tiff file `/Users/raineyaberle/Desktop/Research/PhD/Wolverine/images/SR-stitched/20210630.tif' failed: No such file or directory\\n\")\n",
      "CompletedProcess(args='gdal_merge.py -v /Users/raineyaberle/Desktop/Research/PhD/Wolverine/images/2021-04-20_2021-08-25/PSScene4Band/20210701_203411_12_2441_3B_AnalyticMS_SR_clip.tif /Users/raineyaberle/Desktop/Research/PhD/Wolverine/images/2021-04-20_2021-08-25/PSScene4Band/20210701_203408_83_2441_3B_AnalyticMS_SR_clip.tif -o /Users/raineyaberle/Desktop/Research/PhD/Wolverine/images/SR-stitched/20210701.tif', returncode=1, stdout=b'Creation failed, terminating gdal_merge.\\n', stderr=b\"ERROR 4: Attempt to create new tiff file `/Users/raineyaberle/Desktop/Research/PhD/Wolverine/images/SR-stitched/20210701.tif' failed: No such file or directory\\n\")\n",
      "CompletedProcess(args='gdal_merge.py -v /Users/raineyaberle/Desktop/Research/PhD/Wolverine/images/2021-04-20_2021-08-25/PSScene4Band/20210704_204515_1040_3B_AnalyticMS_SR_clip.tif /Users/raineyaberle/Desktop/Research/PhD/Wolverine/images/2021-04-20_2021-08-25/PSScene4Band/20210704_164734_0f49_3B_AnalyticMS_SR_clip.tif /Users/raineyaberle/Desktop/Research/PhD/Wolverine/images/2021-04-20_2021-08-25/PSScene4Band/20210704_204639_1013_3B_AnalyticMS_SR_clip.tif /Users/raineyaberle/Desktop/Research/PhD/Wolverine/images/2021-04-20_2021-08-25/PSScene4Band/20210704_204517_1040_3B_AnalyticMS_SR_clip.tif /Users/raineyaberle/Desktop/Research/PhD/Wolverine/images/2021-04-20_2021-08-25/PSScene4Band/20210704_204638_1013_3B_AnalyticMS_SR_clip.tif /Users/raineyaberle/Desktop/Research/PhD/Wolverine/images/2021-04-20_2021-08-25/PSScene4Band/20210704_204516_1040_3B_AnalyticMS_SR_clip.tif /Users/raineyaberle/Desktop/Research/PhD/Wolverine/images/2021-04-20_2021-08-25/PSScene4Band/20210704_204640_1013_3B_AnalyticMS_SR_clip.tif -o /Users/raineyaberle/Desktop/Research/PhD/Wolverine/images/SR-stitched/20210704.tif', returncode=1, stdout=b'Creation failed, terminating gdal_merge.\\n', stderr=b\"ERROR 4: Attempt to create new tiff file `/Users/raineyaberle/Desktop/Research/PhD/Wolverine/images/SR-stitched/20210704.tif' failed: No such file or directory\\n\")\n",
      "CompletedProcess(args='gdal_merge.py -v /Users/raineyaberle/Desktop/Research/PhD/Wolverine/images/2021-04-20_2021-08-25/PSScene4Band/20210714_204343_1025_3B_AnalyticMS_SR_clip.tif /Users/raineyaberle/Desktop/Research/PhD/Wolverine/images/2021-04-20_2021-08-25/PSScene4Band/20210714_204344_1025_3B_AnalyticMS_SR_clip.tif /Users/raineyaberle/Desktop/Research/PhD/Wolverine/images/2021-04-20_2021-08-25/PSScene4Band/20210714_204342_1025_3B_AnalyticMS_SR_clip.tif -o /Users/raineyaberle/Desktop/Research/PhD/Wolverine/images/SR-stitched/20210714.tif', returncode=1, stdout=b'Creation failed, terminating gdal_merge.\\n', stderr=b\"ERROR 4: Attempt to create new tiff file `/Users/raineyaberle/Desktop/Research/PhD/Wolverine/images/SR-stitched/20210714.tif' failed: No such file or directory\\n\")\n",
      "CompletedProcess(args='gdal_merge.py -v /Users/raineyaberle/Desktop/Research/PhD/Wolverine/images/2021-04-20_2021-08-25/PSScene4Band/20210715_211159_05_2402_3B_AnalyticMS_SR_clip.tif /Users/raineyaberle/Desktop/Research/PhD/Wolverine/images/2021-04-20_2021-08-25/PSScene4Band/20210715_204552_1035_3B_AnalyticMS_SR_clip.tif /Users/raineyaberle/Desktop/Research/PhD/Wolverine/images/2021-04-20_2021-08-25/PSScene4Band/20210715_204553_1035_3B_AnalyticMS_SR_clip.tif /Users/raineyaberle/Desktop/Research/PhD/Wolverine/images/2021-04-20_2021-08-25/PSScene4Band/20210715_211156_75_2402_3B_AnalyticMS_SR_clip.tif /Users/raineyaberle/Desktop/Research/PhD/Wolverine/images/2021-04-20_2021-08-25/PSScene4Band/20210715_204551_1035_3B_AnalyticMS_SR_clip.tif -o /Users/raineyaberle/Desktop/Research/PhD/Wolverine/images/SR-stitched/20210715.tif', returncode=1, stdout=b'Creation failed, terminating gdal_merge.\\n', stderr=b\"ERROR 4: Attempt to create new tiff file `/Users/raineyaberle/Desktop/Research/PhD/Wolverine/images/SR-stitched/20210715.tif' failed: No such file or directory\\n\")\n",
      "CompletedProcess(args='gdal_merge.py -v /Users/raineyaberle/Desktop/Research/PhD/Wolverine/images/2021-04-20_2021-08-25/PSScene4Band/20210716_202701_03_245d_3B_AnalyticMS_SR_clip.tif /Users/raineyaberle/Desktop/Research/PhD/Wolverine/images/2021-04-20_2021-08-25/PSScene4Band/20210716_202703_50_245d_3B_AnalyticMS_SR_clip.tif -o /Users/raineyaberle/Desktop/Research/PhD/Wolverine/images/SR-stitched/20210716.tif', returncode=1, stdout=b'Creation failed, terminating gdal_merge.\\n', stderr=b\"ERROR 4: Attempt to create new tiff file `/Users/raineyaberle/Desktop/Research/PhD/Wolverine/images/SR-stitched/20210716.tif' failed: No such file or directory\\n\")\n",
      "CompletedProcess(args='gdal_merge.py -v /Users/raineyaberle/Desktop/Research/PhD/Wolverine/images/2021-04-20_2021-08-25/PSScene4Band/20210717_213412_67_1057_3B_AnalyticMS_SR_clip.tif /Users/raineyaberle/Desktop/Research/PhD/Wolverine/images/2021-04-20_2021-08-25/PSScene4Band/20210717_203016_37_2262_3B_AnalyticMS_SR_clip.tif /Users/raineyaberle/Desktop/Research/PhD/Wolverine/images/2021-04-20_2021-08-25/PSScene4Band/20210717_213409_67_1057_3B_AnalyticMS_SR_clip.tif /Users/raineyaberle/Desktop/Research/PhD/Wolverine/images/2021-04-20_2021-08-25/PSScene4Band/20210717_213411_17_1057_3B_AnalyticMS_SR_clip.tif -o /Users/raineyaberle/Desktop/Research/PhD/Wolverine/images/SR-stitched/20210717.tif', returncode=1, stdout=b'Creation failed, terminating gdal_merge.\\n', stderr=b\"ERROR 4: Attempt to create new tiff file `/Users/raineyaberle/Desktop/Research/PhD/Wolverine/images/SR-stitched/20210717.tif' failed: No such file or directory\\n\")\n",
      "CompletedProcess(args='gdal_merge.py -v /Users/raineyaberle/Desktop/Research/PhD/Wolverine/images/2021-04-20_2021-08-25/PSScene4Band/20210718_204744_100a_3B_AnalyticMS_SR_clip.tif /Users/raineyaberle/Desktop/Research/PhD/Wolverine/images/2021-04-20_2021-08-25/PSScene4Band/20210718_204742_100a_3B_AnalyticMS_SR_clip.tif /Users/raineyaberle/Desktop/Research/PhD/Wolverine/images/2021-04-20_2021-08-25/PSScene4Band/20210718_213547_71_1066_3B_AnalyticMS_SR_clip.tif /Users/raineyaberle/Desktop/Research/PhD/Wolverine/images/2021-04-20_2021-08-25/PSScene4Band/20210718_213549_21_1066_3B_AnalyticMS_SR_clip.tif /Users/raineyaberle/Desktop/Research/PhD/Wolverine/images/2021-04-20_2021-08-25/PSScene4Band/20210718_204743_100a_3B_AnalyticMS_SR_clip.tif /Users/raineyaberle/Desktop/Research/PhD/Wolverine/images/2021-04-20_2021-08-25/PSScene4Band/20210718_213550_71_1066_3B_AnalyticMS_SR_clip.tif -o /Users/raineyaberle/Desktop/Research/PhD/Wolverine/images/SR-stitched/20210718.tif', returncode=1, stdout=b'Creation failed, terminating gdal_merge.\\n', stderr=b\"ERROR 4: Attempt to create new tiff file `/Users/raineyaberle/Desktop/Research/PhD/Wolverine/images/SR-stitched/20210718.tif' failed: No such file or directory\\n\")\n",
      "CompletedProcess(args='gdal_merge.py -v /Users/raineyaberle/Desktop/Research/PhD/Wolverine/images/2021-04-20_2021-08-25/PSScene4Band/20210719_205616_68_105c_3B_AnalyticMS_SR_clip.tif -o /Users/raineyaberle/Desktop/Research/PhD/Wolverine/images/SR-stitched/20210719.tif', returncode=1, stdout=b'Creation failed, terminating gdal_merge.\\n', stderr=b\"ERROR 4: Attempt to create new tiff file `/Users/raineyaberle/Desktop/Research/PhD/Wolverine/images/SR-stitched/20210719.tif' failed: No such file or directory\\n\")\n"
     ]
    },
    {
     "name": "stdout",
     "output_type": "stream",
     "text": [
      "CompletedProcess(args='gdal_merge.py -v /Users/raineyaberle/Desktop/Research/PhD/Wolverine/images/2021-04-20_2021-08-25/PSScene4Band/20210726_204317_100c_3B_AnalyticMS_SR_clip.tif /Users/raineyaberle/Desktop/Research/PhD/Wolverine/images/2021-04-20_2021-08-25/PSScene4Band/20210726_202247_62_2436_3B_AnalyticMS_SR_clip.tif /Users/raineyaberle/Desktop/Research/PhD/Wolverine/images/2021-04-20_2021-08-25/PSScene4Band/20210726_204316_100c_3B_AnalyticMS_SR_clip.tif /Users/raineyaberle/Desktop/Research/PhD/Wolverine/images/2021-04-20_2021-08-25/PSScene4Band/20210726_164152_1053_3B_AnalyticMS_SR_clip.tif /Users/raineyaberle/Desktop/Research/PhD/Wolverine/images/2021-04-20_2021-08-25/PSScene4Band/20210726_204318_100c_3B_AnalyticMS_SR_clip.tif /Users/raineyaberle/Desktop/Research/PhD/Wolverine/images/2021-04-20_2021-08-25/PSScene4Band/20210726_164153_1053_3B_AnalyticMS_SR_clip.tif -o /Users/raineyaberle/Desktop/Research/PhD/Wolverine/images/SR-stitched/20210726.tif', returncode=1, stdout=b'Creation failed, terminating gdal_merge.\\n', stderr=b\"ERROR 4: Attempt to create new tiff file `/Users/raineyaberle/Desktop/Research/PhD/Wolverine/images/SR-stitched/20210726.tif' failed: No such file or directory\\n\")\n",
      "CompletedProcess(args='gdal_merge.py -v /Users/raineyaberle/Desktop/Research/PhD/Wolverine/images/2021-04-20_2021-08-25/PSScene4Band/20210731_204803_0f17_3B_AnalyticMS_SR_clip.tif /Users/raineyaberle/Desktop/Research/PhD/Wolverine/images/2021-04-20_2021-08-25/PSScene4Band/20210731_201800_68_2212_3B_AnalyticMS_SR_clip.tif /Users/raineyaberle/Desktop/Research/PhD/Wolverine/images/2021-04-20_2021-08-25/PSScene4Band/20210731_204804_0f17_3B_AnalyticMS_SR_clip.tif /Users/raineyaberle/Desktop/Research/PhD/Wolverine/images/2021-04-20_2021-08-25/PSScene4Band/20210731_204802_0f17_3B_AnalyticMS_SR_clip.tif /Users/raineyaberle/Desktop/Research/PhD/Wolverine/images/2021-04-20_2021-08-25/PSScene4Band/20210731_201802_89_2212_3B_AnalyticMS_SR_clip.tif -o /Users/raineyaberle/Desktop/Research/PhD/Wolverine/images/SR-stitched/20210731.tif', returncode=1, stdout=b'Creation failed, terminating gdal_merge.\\n', stderr=b\"ERROR 4: Attempt to create new tiff file `/Users/raineyaberle/Desktop/Research/PhD/Wolverine/images/SR-stitched/20210731.tif' failed: No such file or directory\\n\")\n",
      "CompletedProcess(args='gdal_merge.py -v /Users/raineyaberle/Desktop/Research/PhD/Wolverine/images/2021-04-20_2021-08-25/PSScene4Band/20210801_164622_104a_3B_AnalyticMS_SR_clip.tif /Users/raineyaberle/Desktop/Research/PhD/Wolverine/images/2021-04-20_2021-08-25/PSScene4Band/20210801_193330_13_106d_3B_AnalyticMS_SR_clip.tif /Users/raineyaberle/Desktop/Research/PhD/Wolverine/images/2021-04-20_2021-08-25/PSScene4Band/20210801_210819_89_240c_3B_AnalyticMS_SR_clip.tif /Users/raineyaberle/Desktop/Research/PhD/Wolverine/images/2021-04-20_2021-08-25/PSScene4Band/20210801_193327_08_106d_3B_AnalyticMS_SR_clip.tif /Users/raineyaberle/Desktop/Research/PhD/Wolverine/images/2021-04-20_2021-08-25/PSScene4Band/20210801_202256_48_2456_3B_AnalyticMS_SR_clip.tif /Users/raineyaberle/Desktop/Research/PhD/Wolverine/images/2021-04-20_2021-08-25/PSScene4Band/20210801_204541_1003_3B_AnalyticMS_SR_clip.tif /Users/raineyaberle/Desktop/Research/PhD/Wolverine/images/2021-04-20_2021-08-25/PSScene4Band/20210801_164620_104a_3B_AnalyticMS_SR_clip.tif /Users/raineyaberle/Desktop/Research/PhD/Wolverine/images/2021-04-20_2021-08-25/PSScene4Band/20210801_193328_61_106d_3B_AnalyticMS_SR_clip.tif /Users/raineyaberle/Desktop/Research/PhD/Wolverine/images/2021-04-20_2021-08-25/PSScene4Band/20210801_202254_00_2456_3B_AnalyticMS_SR_clip.tif /Users/raineyaberle/Desktop/Research/PhD/Wolverine/images/2021-04-20_2021-08-25/PSScene4Band/20210801_210822_19_240c_3B_AnalyticMS_SR_clip.tif /Users/raineyaberle/Desktop/Research/PhD/Wolverine/images/2021-04-20_2021-08-25/PSScene4Band/20210801_164621_104a_3B_AnalyticMS_SR_clip.tif -o /Users/raineyaberle/Desktop/Research/PhD/Wolverine/images/SR-stitched/20210801.tif', returncode=1, stdout=b'Creation failed, terminating gdal_merge.\\n', stderr=b\"ERROR 4: Attempt to create new tiff file `/Users/raineyaberle/Desktop/Research/PhD/Wolverine/images/SR-stitched/20210801.tif' failed: No such file or directory\\n\")\n",
      "CompletedProcess(args='gdal_merge.py -v /Users/raineyaberle/Desktop/Research/PhD/Wolverine/images/2021-04-20_2021-08-25/PSScene4Band/20210802_204541_1012_3B_AnalyticMS_SR_clip.tif /Users/raineyaberle/Desktop/Research/PhD/Wolverine/images/2021-04-20_2021-08-25/PSScene4Band/20210802_203624_62_225a_3B_AnalyticMS_SR_clip.tif /Users/raineyaberle/Desktop/Research/PhD/Wolverine/images/2021-04-20_2021-08-25/PSScene4Band/20210802_204543_1012_3B_AnalyticMS_SR_clip.tif /Users/raineyaberle/Desktop/Research/PhD/Wolverine/images/2021-04-20_2021-08-25/PSScene4Band/20210802_213634_72_1057_3B_AnalyticMS_SR_clip.tif /Users/raineyaberle/Desktop/Research/PhD/Wolverine/images/2021-04-20_2021-08-25/PSScene4Band/20210802_213636_22_1057_3B_AnalyticMS_SR_clip.tif /Users/raineyaberle/Desktop/Research/PhD/Wolverine/images/2021-04-20_2021-08-25/PSScene4Band/20210802_203626_91_225a_3B_AnalyticMS_SR_clip.tif /Users/raineyaberle/Desktop/Research/PhD/Wolverine/images/2021-04-20_2021-08-25/PSScene4Band/20210802_204542_1012_3B_AnalyticMS_SR_clip.tif -o /Users/raineyaberle/Desktop/Research/PhD/Wolverine/images/SR-stitched/20210802.tif', returncode=1, stdout=b'Creation failed, terminating gdal_merge.\\n', stderr=b\"ERROR 4: Attempt to create new tiff file `/Users/raineyaberle/Desktop/Research/PhD/Wolverine/images/SR-stitched/20210802.tif' failed: No such file or directory\\n\")\n",
      "CompletedProcess(args='gdal_merge.py -v /Users/raineyaberle/Desktop/Research/PhD/Wolverine/images/2021-04-20_2021-08-25/PSScene4Band/20210813_204649_1012_3B_AnalyticMS_SR_clip.tif -o /Users/raineyaberle/Desktop/Research/PhD/Wolverine/images/SR-stitched/20210813.tif', returncode=1, stdout=b'Creation failed, terminating gdal_merge.\\n', stderr=b\"ERROR 4: Attempt to create new tiff file `/Users/raineyaberle/Desktop/Research/PhD/Wolverine/images/SR-stitched/20210813.tif' failed: No such file or directory\\n\")\n",
      "CompletedProcess(args='gdal_merge.py -v /Users/raineyaberle/Desktop/Research/PhD/Wolverine/images/2021-04-20_2021-08-25/PSScene4Band/20210815_202830_37_225a_3B_AnalyticMS_SR_clip.tif /Users/raineyaberle/Desktop/Research/PhD/Wolverine/images/2021-04-20_2021-08-25/PSScene4Band/20210815_204454_1010_3B_AnalyticMS_SR_clip.tif /Users/raineyaberle/Desktop/Research/PhD/Wolverine/images/2021-04-20_2021-08-25/PSScene4Band/20210815_202832_67_225a_3B_AnalyticMS_SR_clip.tif /Users/raineyaberle/Desktop/Research/PhD/Wolverine/images/2021-04-20_2021-08-25/PSScene4Band/20210815_202055_60_2459_3B_AnalyticMS_SR_clip.tif /Users/raineyaberle/Desktop/Research/PhD/Wolverine/images/2021-04-20_2021-08-25/PSScene4Band/20210815_202055_57_2429_3B_AnalyticMS_SR_clip.tif /Users/raineyaberle/Desktop/Research/PhD/Wolverine/images/2021-04-20_2021-08-25/PSScene4Band/20210815_204455_1010_3B_AnalyticMS_SR_clip.tif /Users/raineyaberle/Desktop/Research/PhD/Wolverine/images/2021-04-20_2021-08-25/PSScene4Band/20210815_204453_1010_3B_AnalyticMS_SR_clip.tif /Users/raineyaberle/Desktop/Research/PhD/Wolverine/images/2021-04-20_2021-08-25/PSScene4Band/20210815_202053_12_2459_3B_AnalyticMS_SR_clip.tif /Users/raineyaberle/Desktop/Research/PhD/Wolverine/images/2021-04-20_2021-08-25/PSScene4Band/20210815_202058_05_2429_3B_AnalyticMS_SR_clip.tif -o /Users/raineyaberle/Desktop/Research/PhD/Wolverine/images/SR-stitched/20210815.tif', returncode=1, stdout=b'Creation failed, terminating gdal_merge.\\n', stderr=b\"ERROR 4: Attempt to create new tiff file `/Users/raineyaberle/Desktop/Research/PhD/Wolverine/images/SR-stitched/20210815.tif' failed: No such file or directory\\n\")\n",
      "CompletedProcess(args='gdal_merge.py -v /Users/raineyaberle/Desktop/Research/PhD/Wolverine/images/2021-04-20_2021-08-25/PSScene4Band/20210816_202316_11_242a_3B_AnalyticMS_SR_clip.tif /Users/raineyaberle/Desktop/Research/PhD/Wolverine/images/2021-04-20_2021-08-25/PSScene4Band/20210816_202318_59_242a_3B_AnalyticMS_SR_clip.tif -o /Users/raineyaberle/Desktop/Research/PhD/Wolverine/images/SR-stitched/20210816.tif', returncode=1, stdout=b'Creation failed, terminating gdal_merge.\\n', stderr=b\"ERROR 4: Attempt to create new tiff file `/Users/raineyaberle/Desktop/Research/PhD/Wolverine/images/SR-stitched/20210816.tif' failed: No such file or directory\\n\")\n",
      "CompletedProcess(args='gdal_merge.py -v /Users/raineyaberle/Desktop/Research/PhD/Wolverine/images/2021-04-20_2021-08-25/PSScene4Band/20210818_164255_104e_3B_AnalyticMS_SR_clip.tif /Users/raineyaberle/Desktop/Research/PhD/Wolverine/images/2021-04-20_2021-08-25/PSScene4Band/20210818_204911_1014_3B_AnalyticMS_SR_clip.tif /Users/raineyaberle/Desktop/Research/PhD/Wolverine/images/2021-04-20_2021-08-25/PSScene4Band/20210818_164256_104e_3B_AnalyticMS_SR_clip.tif /Users/raineyaberle/Desktop/Research/PhD/Wolverine/images/2021-04-20_2021-08-25/PSScene4Band/20210818_204910_1014_3B_AnalyticMS_SR_clip.tif /Users/raineyaberle/Desktop/Research/PhD/Wolverine/images/2021-04-20_2021-08-25/PSScene4Band/20210818_204909_1014_3B_AnalyticMS_SR_clip.tif -o /Users/raineyaberle/Desktop/Research/PhD/Wolverine/images/SR-stitched/20210818.tif', returncode=1, stdout=b'Creation failed, terminating gdal_merge.\\n', stderr=b\"ERROR 4: Attempt to create new tiff file `/Users/raineyaberle/Desktop/Research/PhD/Wolverine/images/SR-stitched/20210818.tif' failed: No such file or directory\\n\")\n"
     ]
    },
    {
     "name": "stdout",
     "output_type": "stream",
     "text": [
      "CompletedProcess(args='gdal_merge.py -v /Users/raineyaberle/Desktop/Research/PhD/Wolverine/images/2021-04-20_2021-08-25/PSScene4Band/20210821_204640_1013_3B_AnalyticMS_SR_clip.tif /Users/raineyaberle/Desktop/Research/PhD/Wolverine/images/2021-04-20_2021-08-25/PSScene4Band/20210821_201830_73_2428_3B_AnalyticMS_SR_clip.tif /Users/raineyaberle/Desktop/Research/PhD/Wolverine/images/2021-04-20_2021-08-25/PSScene4Band/20210821_201828_26_2428_3B_AnalyticMS_SR_clip.tif -o /Users/raineyaberle/Desktop/Research/PhD/Wolverine/images/SR-stitched/20210821.tif', returncode=1, stdout=b'Creation failed, terminating gdal_merge.\\n', stderr=b\"ERROR 4: Attempt to create new tiff file `/Users/raineyaberle/Desktop/Research/PhD/Wolverine/images/SR-stitched/20210821.tif' failed: No such file or directory\\n\")\n"
     ]
    }
   ],
   "source": [
    "for scene in uniquescenes:\n",
    "    filepaths = [] # files from the same date to mosaic together\n",
    "    for file in os.listdir(basepath): # check all files\n",
    "        if file.startswith(scene) and file.endswith(ext+'_clip.tif'): # if they match the scene date and end in the right extension\n",
    "            filepaths.append(basepath+file) # add the path to the file\n",
    "    \n",
    "    # construct the gdal_merge command\n",
    "    cmd = 'gdal_merge.py -v '\n",
    "\n",
    "    # add in input files\n",
    "    for filepath in filepaths:\n",
    "        cmd += filepath+' '\n",
    "    \n",
    "    # define the out path with correct extension\n",
    "    if ext == 'DN_udm':\n",
    "        out = os.path.join(outpath, out_dir, scene + \"_DN_mask.tif\")\n",
    "    elif ext == 'udm2':\n",
    "        out = os.path.join(outpath, out_dir, scene + \"_mask.tif\")\n",
    "    else:\n",
    "        out = os.path.join(outpath, out_dir, scene + \".tif\")\n",
    "\n",
    "    cmd += '-o '+out\n",
    "\n",
    "    # Run the command \n",
    "    p = subprocess.run(cmd, shell=True, capture_output=True) \n",
    "    print(p)"
   ]
  },
  {
   "cell_type": "code",
   "execution_count": 9,
   "metadata": {},
   "outputs": [
    {
     "name": "stdout",
     "output_type": "stream",
     "text": [
      "Driver: GTiff/GeoTIFF\r\n",
      "Files: /Users/raineyaberle/Desktop/Research/PhD/Wolverine/images/2021-04-20_2021-08-25/PSScene4Band/20210421_165659_0f21_3B_AnalyticMS_SR_clip.tif\r\n",
      "Size is 2684, 3438\r\n",
      "Coordinate System is:\r\n",
      "PROJCRS[\"WGS 84 / UTM zone 6N\",\r\n",
      "    BASEGEOGCRS[\"WGS 84\",\r\n",
      "        DATUM[\"World Geodetic System 1984\",\r\n",
      "            ELLIPSOID[\"WGS 84\",6378137,298.257223563,\r\n",
      "                LENGTHUNIT[\"metre\",1]]],\r\n",
      "        PRIMEM[\"Greenwich\",0,\r\n",
      "            ANGLEUNIT[\"degree\",0.0174532925199433]],\r\n",
      "        ID[\"EPSG\",4326]],\r\n",
      "    CONVERSION[\"UTM zone 6N\",\r\n",
      "        METHOD[\"Transverse Mercator\",\r\n",
      "            ID[\"EPSG\",9807]],\r\n",
      "        PARAMETER[\"Latitude of natural origin\",0,\r\n",
      "            ANGLEUNIT[\"degree\",0.0174532925199433],\r\n",
      "            ID[\"EPSG\",8801]],\r\n",
      "        PARAMETER[\"Longitude of natural origin\",-147,\r\n",
      "            ANGLEUNIT[\"degree\",0.0174532925199433],\r\n",
      "            ID[\"EPSG\",8802]],\r\n",
      "        PARAMETER[\"Scale factor at natural origin\",0.9996,\r\n",
      "            SCALEUNIT[\"unity\",1],\r\n",
      "            ID[\"EPSG\",8805]],\r\n",
      "        PARAMETER[\"False easting\",500000,\r\n",
      "            LENGTHUNIT[\"metre\",1],\r\n",
      "            ID[\"EPSG\",8806]],\r\n",
      "        PARAMETER[\"False northing\",0,\r\n",
      "            LENGTHUNIT[\"metre\",1],\r\n",
      "            ID[\"EPSG\",8807]]],\r\n",
      "    CS[Cartesian,2],\r\n",
      "        AXIS[\"(E)\",east,\r\n",
      "            ORDER[1],\r\n",
      "            LENGTHUNIT[\"metre\",1]],\r\n",
      "        AXIS[\"(N)\",north,\r\n",
      "            ORDER[2],\r\n",
      "            LENGTHUNIT[\"metre\",1]],\r\n",
      "    USAGE[\r\n",
      "        SCOPE[\"Engineering survey, topographic mapping.\"],\r\n",
      "        AREA[\"Between 150°W and 144°W, northern hemisphere between equator and 84°N, onshore and offshore. United States (USA) - Alaska (AK).\"],\r\n",
      "        BBOX[0,-150,84,-144]],\r\n",
      "    ID[\"EPSG\",32606]]\r\n",
      "Data axis to CRS axis mapping: 1,2\r\n",
      "Origin = (391056.000000000000000,6703608.000000000000000)\r\n",
      "Pixel Size = (3.000000000000000,-3.000000000000000)\r\n",
      "Metadata:\r\n",
      "  AREA_OR_POINT=Area\r\n",
      "  TIFFTAG_DATETIME=2021:04:21 16:56:59\r\n",
      "  TIFFTAG_IMAGEDESCRIPTION={\"atmospheric_correction\": {\"aerosol_model\": \"continental\", \"aot_coverage\": 1.0, \"aot_mean_quality\": 2, \"aot_method\": \"map\", \"aot_source\": \"mod09cma\", \"aot_status\": \"Data Found\", \"aot_std\": 0.0242, \"aot_used\": 0.0667, \"atmospheric_correction_algorithm\": \"6Sv2.1\", \"atmospheric_model\": \"water_vapor_and_ozone\", \"luts_version\": 3, \"ozone_coverage\": 1.0, \"ozone_mean_quality\": 260, \"ozone_method\": \"fixed\", \"ozone_source\": \"mod09cmg_nrt\", \"ozone_status\": \"Data Found\", \"ozone_std\": 0.001, \"ozone_used\": 0.34, \"satellite_azimuth_angle\": 0, \"satellite_zenith_angle\": 0, \"solar_azimuth_angle\": 98.2341, \"solar_zenith_angle\": 71.411, \"sr_version\": \"2.0\", \"water_vapor_coverage\": 1.0, \"water_vapor_mean_quality\": 2, \"water_vapor_method\": \"fixed\", \"water_vapor_source\": \"mod09cma\", \"water_vapor_status\": \"Data Found\", \"water_vapor_std\": 0.12, \"water_vapor_used\": 0.6}}\r\n",
      "Image Structure Metadata:\r\n",
      "  COMPRESSION=LZW\r\n",
      "  INTERLEAVE=PIXEL\r\n",
      "Corner Coordinates:\r\n",
      "Upper Left  (  391056.000, 6703608.000) (148d58'50.09\"W, 60d27'14.26\"N)\r\n",
      "Lower Left  (  391056.000, 6693294.000) (148d58'29.86\"W, 60d21'41.08\"N)\r\n",
      "Upper Right (  399108.000, 6703608.000) (148d50' 3.43\"W, 60d27'21.80\"N)\r\n",
      "Lower Right (  399108.000, 6693294.000) (148d49'44.70\"W, 60d21'48.59\"N)\r\n",
      "Center      (  395082.000, 6698451.000) (148d54'17.01\"W, 60d24'31.51\"N)\r\n",
      "Band 1 Block=256x256 Type=UInt16, ColorInterp=Blue\r\n",
      "  NoData Value=0\r\n",
      "Band 2 Block=256x256 Type=UInt16, ColorInterp=Green\r\n",
      "  NoData Value=0\r\n",
      "Band 3 Block=256x256 Type=UInt16, ColorInterp=Red\r\n",
      "  NoData Value=0\r\n",
      "Band 4 Block=256x256 Type=UInt16, ColorInterp=Undefined\r\n",
      "  NoData Value=0\r\n"
     ]
    }
   ],
   "source": [
    "file=basepath+'20210421_165659_0f21_3B_AnalyticMS_SR_clip.tif'\n",
    "!gdalinfo $file\n"
   ]
  },
  {
   "cell_type": "code",
   "execution_count": null,
   "metadata": {},
   "outputs": [],
   "source": [
    "# Print files in outpath to verify\n",
    "os.listdir(outpath)"
   ]
  }
 ],
 "metadata": {
  "kernelspec": {
   "display_name": "Python 3",
   "language": "python",
   "name": "python3"
  },
  "language_info": {
   "codemirror_mode": {
    "name": "ipython",
    "version": 3
   },
   "file_extension": ".py",
   "mimetype": "text/x-python",
   "name": "python",
   "nbconvert_exporter": "python",
   "pygments_lexer": "ipython3",
   "version": "3.8.5"
  }
 },
 "nbformat": 4,
 "nbformat_minor": 4
}
