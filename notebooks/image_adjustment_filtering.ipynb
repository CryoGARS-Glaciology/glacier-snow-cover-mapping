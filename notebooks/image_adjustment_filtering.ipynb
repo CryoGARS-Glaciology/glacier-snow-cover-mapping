{
 "cells": [
  {
   "cell_type": "markdown",
   "id": "c569449a",
   "metadata": {},
   "source": [
    "## Notebook to adjust PlanetScope images using the estimated surface reflectance of snow\n",
    "\n",
    "Rainey Aberle\n",
    "\n",
    "Summer 2022\n",
    "\n",
    "__To-Do:__\n",
    "- option to remove intermediate files (i.e., if hillshade correction and radiometric adjustment are selected, remove hs-corrected file)\n",
    "- option to filter images with clipped bands"
   ]
  },
  {
   "cell_type": "code",
   "execution_count": null,
   "id": "0287d563",
   "metadata": {},
   "outputs": [],
   "source": [
    "import os\n",
    "import glob\n",
    "import matplotlib.pyplot as plt\n",
    "import numpy as np\n",
    "import rasterio as rio\n",
    "import rasterio.features\n",
    "from shapely.geometry import Polygon\n",
    "import shapely.geometry\n",
    "from scipy.interpolate import interp2d\n",
    "from scipy import stats\n",
    "import time\n",
    "import rasterio as rio\n",
    "import geopandas as gpd\n",
    "import sys\n",
    "import ee"
   ]
  },
  {
   "cell_type": "markdown",
   "id": "5178d91c",
   "metadata": {},
   "source": [
    "### Authenticate and initialize Google Earth Engine (GEE)\n",
    "\n",
    "__Note:__ The first time you run the following cell, you will be asked to authenticate your GEE account for use in this notebook. This will send you to an external web page, where you will walk through the GEE authentication workflow and copy an authentication code back in this notebook when prompted. "
   ]
  },
  {
   "cell_type": "code",
   "execution_count": null,
   "id": "d8b0e507",
   "metadata": {},
   "outputs": [],
   "source": [
    "try:\n",
    "    ee.Initialize()\n",
    "except: \n",
    "    ee.Authenticate()\n",
    "    ee.Initialize()"
   ]
  },
  {
   "cell_type": "markdown",
   "id": "08573259",
   "metadata": {},
   "source": [
    "### 1. Define paths in directory, snow-covered area (SCA), and settings"
   ]
  },
  {
   "cell_type": "code",
   "execution_count": null,
   "id": "2835b96c",
   "metadata": {},
   "outputs": [],
   "source": [
    "# -----Define paths in directory\n",
    "site_name = 'Sperry'\n",
    "# path to planet-snow/ directory\n",
    "base_path = '/Users/raineyaberle/Research/PhD/Planet_snow_cover/planet-snow/'\n",
    "# path to stitched PlanetScope images\n",
    "im_path = base_path+'../study-sites/'+site_name+'/imagery/PlanetScope/stitched/'\n",
    "# output folder\n",
    "out_path = im_path+'../adjusted-filtered/'\n",
    "# AOI shapefile full path in directory\n",
    "AOI_fn = base_path+'../../GIS_data/RGI_outlines/'+site_name+'_RGI.shp'\n",
    "\n",
    "# -----Determine settings\n",
    "plot_results = True # = True to plot corrected images\n",
    "hillshade_correction = False # = True to apply hillshade correction using a DEM\n",
    "skip_clipped = False # = True to skip images where bands appear \"clipped\", i.e. max blue SR < 0.8\n",
    "adjust_radiometry = True # = True to adjust image band radiometry using the SCA\n",
    "\n",
    "# -----Add path to functions\n",
    "sys.path.insert(1, base_path+'functions/')\n",
    "from image_adjustment_utils import sunpos, into_range, apply_hillshade_correction, create_top_elev_AOI_poly, adjust_image_radiometry\n",
    "from classification_utils import query_GEE_for_DEM"
   ]
  },
  {
   "cell_type": "markdown",
   "id": "9de3dbf4",
   "metadata": {},
   "source": [
    "### 2. Load AOI, DEM, and PlanetScope images, determine approximate year-round snow-covered area (SCA) based on elevations distribution"
   ]
  },
  {
   "cell_type": "code",
   "execution_count": null,
   "id": "2c94c8ad",
   "metadata": {},
   "outputs": [],
   "source": [
    "# -----Load AOI as gpd.GeoDataFrame\n",
    "AOI = gpd.read_file(AOI_fn)\n",
    "\n",
    "# -----Load DEM\n",
    "os.chdir(im_path) \n",
    "im_fns = glob.glob('*.tif') # read image filenames\n",
    "im_fns.sort() # sort chronologically\n",
    "DEM, DEM_x, DEM_y, AOI_UTM = query_GEE_for_DEM(AOI, im_path, im_fns)\n",
    "\n",
    "# -----Create a polygon of the top 10th percentile elevations within the AOI\n",
    "polygon, im_fn, im, r, g, b, im_x, im_y = create_top_elev_AOI_poly(AOI_UTM, im_path, im_fns, DEM, DEM_x, DEM_y)\n",
    "\n",
    "# -----Plot\n",
    "fig = plt.figure(figsize=(8,8))\n",
    "plt.imshow(np.dstack([r, g, b]), extent=(np.min(im_x), np.max(im_x), np.min(im_y), np.max(im_y)))\n",
    "plt.plot(*polygon.exterior.xy, color='orange', linewidth=2, label='polygon')\n",
    "plt.xlabel('Easting [m]')\n",
    "plt.ylabel('Northing [m]')\n",
    "plt.title(im_fn)\n",
    "fig.legend(loc='upper right')\n",
    "fig.tight_layout()\n",
    "plt.show()"
   ]
  },
  {
   "cell_type": "markdown",
   "id": "fcd6492f",
   "metadata": {},
   "source": [
    "### 3. Loop through images"
   ]
  },
  {
   "cell_type": "code",
   "execution_count": null,
   "id": "08cc5077",
   "metadata": {
    "scrolled": false
   },
   "outputs": [],
   "source": [
    "# -----Start timer\n",
    "t1 = time.monotonic()\n",
    "\n",
    "# -----Loop through images\n",
    "for im_fn in im_fns:\n",
    "    \n",
    "    # load image\n",
    "    print('Image: ', im_fn)\n",
    "    im = rio.open(im_fn)\n",
    "    \n",
    "    # apply hillshade correction\n",
    "    if (hillshade_correction == True):\n",
    "        im_corrected_name = apply_hillshade_correction(CRS, polygon, im, im_fn, im_path, DEM_path, hs_path, out_path, skip_clipped, plot_results)\n",
    "        if im_corrected_fn=='N/A':\n",
    "            print('----------')\n",
    "            print(' ')            \n",
    "            continue\n",
    "        else:\n",
    "            im_corrected = rio.open(out_path + im_corrected_fn)\n",
    "    \n",
    "    # adjust radiometry\n",
    "    if (adjust_radiometry == True):\n",
    "        if (hillshade_correction == True):\n",
    "            im_adj_fn = adjust_image_radiometry(im_corrected, im_corrected_fn, out_path, polygon, out_path, skip_clipped, plot_results)\n",
    "        else:\n",
    "            im_adj_fn = adjust_image_radiometry(im, im_fn, im_path, polygon, out_path, skip_clipped, plot_results)\n",
    "    \n",
    "    print('----------')\n",
    "    print(' ')\n",
    "\n",
    "# -----Stop timer\n",
    "t2 = time.monotonic()\n",
    "print('Time elapsed: ',str(round(t2-t1)/60),'minutes ')\n",
    "    "
   ]
  }
 ],
 "metadata": {
  "kernelspec": {
   "display_name": "planet-snow",
   "language": "python",
   "name": "planet-snow"
  },
  "language_info": {
   "codemirror_mode": {
    "name": "ipython",
    "version": 3
   },
   "file_extension": ".py",
   "mimetype": "text/x-python",
   "name": "python",
   "nbconvert_exporter": "python",
   "pygments_lexer": "ipython3",
   "version": "3.9.13"
  },
  "varInspector": {
   "cols": {
    "lenName": 16,
    "lenType": 16,
    "lenVar": 40
   },
   "kernels_config": {
    "python": {
     "delete_cmd_postfix": "",
     "delete_cmd_prefix": "del ",
     "library": "var_list.py",
     "varRefreshCmd": "print(var_dic_list())"
    },
    "r": {
     "delete_cmd_postfix": ") ",
     "delete_cmd_prefix": "rm(",
     "library": "var_list.r",
     "varRefreshCmd": "cat(var_dic_list()) "
    }
   },
   "types_to_exclude": [
    "module",
    "function",
    "builtin_function_or_method",
    "instance",
    "_Feature"
   ],
   "window_display": false
  }
 },
 "nbformat": 4,
 "nbformat_minor": 5
}
