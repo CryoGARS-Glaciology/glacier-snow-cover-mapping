{
 "cells": [
  {
   "cell_type": "markdown",
   "id": "c569449a",
   "metadata": {},
   "source": [
    "## Notebook to adjust PlanetScope images using a hillshade model and expected surface reflectance of snow\n",
    "\n",
    "Rainey Aberle\n",
    "\n",
    "Summer 2022\n",
    "\n",
    "__To-Do:__\n",
    "- option to remove intermediate files (i.e., if hillshade correction and radiometric adjustment are selected, remove hs-corrected file)\n",
    "- option to filter images with clipped bands"
   ]
  },
  {
   "cell_type": "code",
   "execution_count": null,
   "id": "0287d563",
   "metadata": {},
   "outputs": [],
   "source": [
    "import os\n",
    "import glob\n",
    "import matplotlib.pyplot as plt\n",
    "import numpy as np\n",
    "import rasterio as rio\n",
    "from shapely.geometry import Polygon\n",
    "from scipy.interpolate import interp2d\n",
    "import time\n",
    "import rasterio as rio\n",
    "import geopandas as gpd\n",
    "import sys"
   ]
  },
  {
   "cell_type": "markdown",
   "id": "08573259",
   "metadata": {},
   "source": [
    "### 1. Define paths in directory, snow-covered area (SCA), and settings"
   ]
  },
  {
   "cell_type": "code",
   "execution_count": null,
   "id": "2835b96c",
   "metadata": {},
   "outputs": [],
   "source": [
    "# -----Define paths in directory\n",
    "# path to planet-snow/ directory\n",
    "base_path = '/Users/raineyaberle/Research/PhD/planet-snow/'\n",
    "# path to raw PlanetScope images\n",
    "im_path = base_path+'../study-sites/Mendenhall/imagery/Planet/stitched/'\n",
    "# path to hillshades directory\n",
    "hs_path = base_path+'../study-sites/Wolverine/imagery/Planet/hillshades/'\n",
    "# output folder\n",
    "out_path = im_path+'../adjusted-filtered/'\n",
    "\n",
    "# -----Define snow-covered area (SCA) \n",
    "# Wolverine\n",
    "# SCA = Polygon([(393.5e3, 6699.8e3), (393.5e3, 6701e3), (395.5e3, 6701e3), (395.5e3, 6699.8e3), (393.5e3, 6699.8e3)])\n",
    "# Mendenhall\n",
    "xmin, xmax, ymin, ymax = 533.5e3, 535.5e3, 6490e3, 6492e3\n",
    "SCA = Polygon([(xmin, ymin), (xmax, ymin), (xmax, ymax), (xmin, ymax), (xmin, ymin)])\n",
    "\n",
    "# -----Determine settings\n",
    "plot_results = True # = True to plot corrected images\n",
    "hillshade_correction = False # = True to apply hillshade correction using a DEM\n",
    "skip_clipped = True # = True to skip images where bands appear \"clipped\", i.e. max blue SR < 0.8\n",
    "adjust_radiometry = True # = True to adjust image band radiometry using the SCA\n",
    "# path to DEM - required only if hillshade_correction = True\n",
    "DEM_path = base_path+'../study-sites/Wolverine/DEMs/WG_20200728-DEM_mosaic_crop_UTM6_resamp_filled.tif'\n",
    "\n",
    "# -----Add path to functions\n",
    "sys.path.insert(1, base_path+'functions/')\n",
    "from image_adjustment_utils import sunpos, into_range, apply_hillshade_correction, adjust_image_radiometry"
   ]
  },
  {
   "cell_type": "markdown",
   "id": "9de3dbf4",
   "metadata": {},
   "source": [
    "### 2. Load DEM and PlanetScope images"
   ]
  },
  {
   "cell_type": "code",
   "execution_count": null,
   "id": "2c94c8ad",
   "metadata": {},
   "outputs": [],
   "source": [
    "# -----Define CRS (EPSG code)\n",
    "CRS = 32606\n",
    "\n",
    "# -----Load DEM\n",
    "if hillshade_correction:\n",
    "    DEM = rio.open(DEM_path)\n",
    "    # coordinates\n",
    "    DEM_x = np.linspace(DEM.bounds.left, DEM.bounds.right, num=np.shape(DEM.read(1))[1])\n",
    "    DEM_y = np.linspace(DEM.bounds.top, DEM.bounds.bottom, num=np.shape(DEM.read(1))[0])\n",
    "    print('DEM CRS: ',DEM.crs) # print crs\n",
    "\n",
    "# -----Load images\n",
    "ims = os.chdir(im_path) # change directory\n",
    "im_names = glob.glob('*.tif') # load all SR files\n",
    "im_names.sort() # sort file names by date\n",
    "print('Images CRS:',rio.open(im_names[0]).crs) # print crs\n",
    "\n",
    "# -----Read one image and plot SCA\n",
    "im_name = im_names[10]\n",
    "im = rio.open(im_name)\n",
    "im_scalar = 10000\n",
    "b = im.read(1).astype(float)\n",
    "g = im.read(2).astype(float)\n",
    "r = im.read(3).astype(float)\n",
    "nir = im.read(4).astype(float)\n",
    "# divide by im_scalar if they have not been already\n",
    "if (np.nanmean(b)>1e3):\n",
    "    b = b / im_scalar\n",
    "    g = g / im_scalar\n",
    "    r = r / im_scalar\n",
    "    nir = nir / im_scalar\n",
    "# define coordinates grid\n",
    "im_x = np.linspace(im.bounds.left, im.bounds.right, num=np.shape(b)[1])\n",
    "im_y = np.linspace(im.bounds.top, im.bounds.bottom, num=np.shape(b)[0])\n",
    "# plot\n",
    "fig, ax1 = plt.subplots(1, 1, figsize=(8,8))\n",
    "plt.rcParams.update({'font.size': 14, 'font.serif': 'Arial'})\n",
    "ax1.imshow(np.dstack([r, g, b]), \n",
    "           extent=(np.min(im_x)/1000, np.max(im_x)/1000, np.min(im_y)/1000, np.max(im_y)/1000))\n",
    "ax1.plot([x/1000 for x in SCA.exterior.xy[0]], [y/1000 for y in SCA.exterior.xy[1]], \n",
    "         color='black', linewidth=2, label='SCA')\n",
    "ax1.set_xlabel('Easting [km]')\n",
    "ax1.set_ylabel('Northing [km]')\n",
    "ax1.set_title(im_name[0:15])\n",
    "ax1.legend()\n",
    "plt.show()"
   ]
  },
  {
   "cell_type": "markdown",
   "id": "fcd6492f",
   "metadata": {},
   "source": [
    "### 3. Loop through images"
   ]
  },
  {
   "cell_type": "code",
   "execution_count": null,
   "id": "08cc5077",
   "metadata": {
    "scrolled": false
   },
   "outputs": [],
   "source": [
    "# -----Start timer\n",
    "t1 = time.monotonic()\n",
    "\n",
    "# -----Loop through images\n",
    "for im_name in im_names:\n",
    "    \n",
    "    # load image\n",
    "    print('Image: ',im_name)\n",
    "    im = rio.open(im_name)\n",
    "    \n",
    "    # apply hillshade correction\n",
    "    if (hillshade_correction == True):\n",
    "        im_corrected_name = apply_hillshade_correction(CRS, SCA, im, im_name, im_path, DEM_path, hs_path, out_path, skip_clipped, plot_results)\n",
    "        if im_corrected_name=='N/A':\n",
    "            print('----------')\n",
    "            print(' ')            \n",
    "            continue\n",
    "        else:\n",
    "            im_corrected = rio.open(out_path+im_corrected_name)\n",
    "    \n",
    "    # adjust radiometry\n",
    "    if (adjust_radiometry == True):\n",
    "        if (hillshade_correction==True):\n",
    "            im_adj_name = adjust_image_radiometry(im_corrected, im_corrected_name, out_path, SCA, out_path, skip_clipped, plot_results)\n",
    "        else:\n",
    "            im_adj_name = adjust_image_radiometry(im, im_name, im_path, SCA, out_path, skip_clipped, plot_results)\n",
    "    \n",
    "    print('----------')\n",
    "    print(' ')\n",
    "\n",
    "# -----Stop timer\n",
    "t2 = time.monotonic()\n",
    "print('Time elapsed: ',str(round(t2-t1)/60),'minutes ')\n",
    "    "
   ]
  },
  {
   "cell_type": "code",
   "execution_count": null,
   "id": "87bbbefb",
   "metadata": {},
   "outputs": [],
   "source": []
  }
 ],
 "metadata": {
  "kernelspec": {
   "display_name": "planet-snow",
   "language": "python",
   "name": "planet-snow"
  },
  "language_info": {
   "codemirror_mode": {
    "name": "ipython",
    "version": 3
   },
   "file_extension": ".py",
   "mimetype": "text/x-python",
   "name": "python",
   "nbconvert_exporter": "python",
   "pygments_lexer": "ipython3",
   "version": "3.9.13"
  },
  "varInspector": {
   "cols": {
    "lenName": 16,
    "lenType": 16,
    "lenVar": 40
   },
   "kernels_config": {
    "python": {
     "delete_cmd_postfix": "",
     "delete_cmd_prefix": "del ",
     "library": "var_list.py",
     "varRefreshCmd": "print(var_dic_list())"
    },
    "r": {
     "delete_cmd_postfix": ") ",
     "delete_cmd_prefix": "rm(",
     "library": "var_list.r",
     "varRefreshCmd": "cat(var_dic_list()) "
    }
   },
   "types_to_exclude": [
    "module",
    "function",
    "builtin_function_or_method",
    "instance",
    "_Feature"
   ],
   "window_display": false
  }
 },
 "nbformat": 4,
 "nbformat_minor": 5
}
