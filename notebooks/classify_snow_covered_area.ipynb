{
 "cells": [
  {
   "cell_type": "markdown",
   "id": "6ed430d2",
   "metadata": {},
   "source": [
    "## Notebook to classify snow-covered area (SCA) and determine minimum snow elevations in PlanetScope 4-band images\n",
    "\n",
    "Rainey Aberle, 2022\n",
    "\n",
    "### Inputs required:\n",
    "\n",
    "- __Area of interest (AOI) (`.shp` file):__ can be used to crop images before classifying snow\n",
    "- __Google Earth Engine account:__ sign up for a free account [here](https://earthengine.google.com/new_signup/). Used for accessing global digital elevation model datasets.  \n",
    "- __PlanetScope images (`.tif` file(s)):__ used to classify snow\n",
    "- __Trained classifier (`.sav` file):__ used to classify snow in PlanetScope images (find in `planet-snow/inputs-outputs/` or develop in `develop_classifier.ipynb`)\n",
    "\n",
    "### 1. Import packages"
   ]
  },
  {
   "cell_type": "code",
   "execution_count": null,
   "id": "2060f810",
   "metadata": {},
   "outputs": [],
   "source": [
    "import os\n",
    "import ee\n",
    "import glob\n",
    "import numpy as np\n",
    "import geopandas as gpd\n",
    "import pandas as pd\n",
    "import rasterio as rio\n",
    "import fiona\n",
    "from rasterio.mask import mask\n",
    "from rasterio.plot import show\n",
    "import matplotlib\n",
    "import matplotlib.dates as mdates\n",
    "from matplotlib.dates import DateFormatter\n",
    "from matplotlib.patches import Rectangle\n",
    "from matplotlib import pyplot as plt, dates\n",
    "from shapely.geometry import shape, Polygon\n",
    "from scipy import stats\n",
    "import pickle\n",
    "import sys\n",
    "import time"
   ]
  },
  {
   "cell_type": "markdown",
   "id": "77be3e2d",
   "metadata": {},
   "source": [
    "### 2. Define settings and paths in directory"
   ]
  },
  {
   "cell_type": "code",
   "execution_count": null,
   "id": "75ec814c",
   "metadata": {},
   "outputs": [],
   "source": [
    "# -----Define site name (used for folder and output file names)\n",
    "# Wolverine, Mendenhall, SitKusa, Easton, SCascade_LeConte, Blue, Emmons\n",
    "site_name = 'SCascade_LeConte'\n",
    "\n",
    "# -----Define settings\n",
    "save_outputs = True # = True to save SCA images to file\n",
    "save_figures = True # = True to save output figures\n",
    "crop_to_AOI = False # = True to crop images to AOI before calculating SCA\n",
    "\n",
    "# -----Define paths in directory\n",
    "# base directory (path to \"planet-snow/\")\n",
    "base_path = '/Users/raineyaberle/Research/PhD/Planet_snow_cover/planet-snow/'\n",
    "# image directory\n",
    "im_path = base_path+'../study-sites/'+site_name+'/imagery/Planet/adjusted-filtered/'\n",
    "# SCA images output directory \n",
    "out_path = base_path+'../study-sites/'+site_name+'/imagery/Planet/classified/'\n",
    "# figures output directory (only required if save_figures==True)\n",
    "figures_out_path = base_path+'../study-sites/'+site_name+'/figures/'\n",
    "# AOI shapefile full path in directory\n",
    "# AOI_fn = base_path+'../../GIS_data/RGI_outlines/'+site_name+'_RGI.shp'\n",
    "AOI_fn = base_path+'../../GIS_data/SCascade_LeConte_bounding_box.shp'"
   ]
  },
  {
   "cell_type": "markdown",
   "id": "43f2ce80",
   "metadata": {},
   "source": [
    "### 4. Load files\n",
    "\n",
    "- Area of interest (AOI)\n",
    "- PlanetScope images\n",
    "- Image classifier"
   ]
  },
  {
   "cell_type": "code",
   "execution_count": null,
   "id": "b1874ebd",
   "metadata": {
    "scrolled": false
   },
   "outputs": [],
   "source": [
    "# -----Load image names from file\n",
    "os.chdir(im_path) # change directory\n",
    "im_fns = glob.glob('*.tif') # file names for all .tif files in im_path\n",
    "im_fns.sort() # sort file names by date\n",
    "\n",
    "# -----Load image classifier and feature columns\n",
    "clf_fn = base_path+'inputs-outputs/'+'all_sites_classifier.sav'\n",
    "clf = pickle.load(open(clf_fn, 'rb'))\n",
    "feature_cols_fn = base_path+'inputs-outputs/all_sites_classifier_feature_cols.pkl'\n",
    "feature_cols = pickle.load(open(feature_cols_fn,'rb'))\n",
    "\n",
    "# -----Load the AOI as gpd.DataFrame\n",
    "AOI = gpd.read_file(AOI_fn)\n",
    "\n",
    "# -----Add path to functions\n",
    "sys.path.insert(1, base_path+'functions/')\n",
    "from classification_utils import query_GEE_for_DEM, crop_images_to_AOI, classify_image, calculate_SCA, determine_snow_elevs "
   ]
  },
  {
   "cell_type": "markdown",
   "id": "826595e2",
   "metadata": {},
   "source": [
    "### 4. Authenticate and initialize GEE, load the DEM\n",
    "\n",
    "__Note:__ The first time you run the following cell, you will be asked to authenticate your GEE account for use in this notebook. This will send you to an external web page, where you will walk through the GEE authentication workflow and copy an authentication code back in this notebook when prompted. "
   ]
  },
  {
   "cell_type": "code",
   "execution_count": null,
   "id": "e6a867fc",
   "metadata": {},
   "outputs": [],
   "source": [
    "# -----Authenticate and initialize\n",
    "try:\n",
    "    ee.Initialize()\n",
    "except: \n",
    "    ee.Authenticate()\n",
    "    ee.Initialize()\n",
    "    \n",
    "# -----Load the DEM\n",
    "DEM, DEM_x, DEM_y, AOI_UTM = query_GEE_for_DEM(AOI, im_path, im_fns)"
   ]
  },
  {
   "cell_type": "markdown",
   "id": "f4bad6d7",
   "metadata": {},
   "source": [
    "### 5. Classify snow, calculate SCA, determine minimum snow elevation in each image"
   ]
  },
  {
   "cell_type": "code",
   "execution_count": null,
   "id": "cbf0f787",
   "metadata": {},
   "outputs": [],
   "source": [
    "# -----Start timer\n",
    "t1 = time.time()\n",
    "\n",
    "# -----Initialize image dates\n",
    "im_dts = [] # image datetimes\n",
    "\n",
    "# -----Crop images if previously selected\n",
    "if crop_to_AOI==True:\n",
    "    \n",
    "    # Crop images if previously selected\n",
    "    cropped_im_path = crop_images_to_AOI(im_path, im_fns, AOI_UTM)\n",
    "    # grab cropped image names\n",
    "    os.chdir(cropped_im_path) # change directory\n",
    "    im_fns_crop = glob.glob('*_crop.tif')\n",
    "    im_fns_crop.sort() # sort file names by date\n",
    "    im_fns_loop = im_fns_crop # image file names to use in loop\n",
    "    \n",
    "else:\n",
    "    \n",
    "    os.chdir(im_path)\n",
    "    im_fns_loop = im_fns # im_names to use in loop\n",
    "\n",
    "# -----Make directory for output figures (if it does not already exist in file)\n",
    "if save_figures and os.path.exists(figures_out_path)==False:\n",
    "    os.mkdir(figures_out_path)\n",
    "    print('made directory for output figures:' + figures_out_path)\n",
    "        \n",
    "# -----Create figure for snow elevations box plot\n",
    "fig2, ax = plt.subplots(figsize=(16,8))\n",
    "ax.set_ylabel('Snow elevations [m a.s.l.]')\n",
    "ax.xaxis.set_major_formatter(dates.DateFormatter('%Y'))\n",
    "\n",
    "# -----Initialize DataFrame to hold stats summary\n",
    "df = pd.DataFrame(columns=('site_name', 'datetime', 'im_elev_min', 'im_elev_max', 'snow_elev_min', 'snow_elev_max', \n",
    "                           'snow_elev_median', 'snow_elev_10th_perc', 'snow_elev_90th_perc'))\n",
    "\n",
    "# -----Loop through images\n",
    "i=0 # loop counter\n",
    "for im_fn in im_fns_loop:\n",
    "\n",
    "    # extract datetime from image name\n",
    "    im_dt = np.datetime64(im_fn[0:4] + '-' + im_fn[4:6] + '-' + im_fn[6:8]\n",
    "                          + 'T' + im_fn[9:11] + ':00:00')\n",
    "    im_dts = im_dts + [im_dt]\n",
    "\n",
    "    # open image\n",
    "    im = rio.open(im_fn)\n",
    "\n",
    "    # classify snow\n",
    "    im_x, im_y, im_classified = classify_image(im, im_fn, clf, feature_cols, out_path)   \n",
    "    \n",
    "    # determine snow elevations\n",
    "    plot_output = True\n",
    "    im_elev_min, im_elev_max, snow_elev, fig = determine_snow_elevs(DEM, DEM_x, DEM_y, im, im_classified, im_dt, im_x, im_y, plot_output)\n",
    "#     plot_output = False\n",
    "#     snow_elev = determine_snow_elevs(DEM, DEM_x, DEM_y, snow, im, im_dt, im_x, im_y, plot_output)\n",
    "    \n",
    "    # calculate and plot stats\n",
    "    iqr = stats.iqr(snow_elev, \n",
    "                rng=(10, 90))\n",
    "    med = np.median(snow_elev)\n",
    "    ax.add_patch(Rectangle((im_dt-np.timedelta64(1, 'D'), med-iqr/2), \n",
    "                           width=2*np.timedelta64(1, 'D'), height=iqr, color='blue'))\n",
    "    ax.scatter([im_dt, im_dt], [np.min(snow_elev), np.max(snow_elev)], color='blue', s=10)\n",
    "    ax.scatter(im_dt, med, facecolor='white', edgecolor='black', s=20)\n",
    "\n",
    "    # save stats in pandas DataFrame\n",
    "    df_row = pd.DataFrame({'site_name':site_name, 'datetime':im_dt, 'im_elev_min':im_elev_min, 'im_elev_min':im_elev_max, \n",
    "                           'snow_elev_min':np.min(snow_elev), 'snow_elev_min':np.max(snow_elev), 'snow_elev_median':med,  \n",
    "                           'snow_elev_10th_perc':med-iqr/2, 'snow_elev_90th_perc':med+iqr/2}, index=[0])\n",
    "    df = pd.concat([df, df_row], ignore_index=True)\n",
    "    \n",
    "    # save figure\n",
    "    if save_figures==True:\n",
    "        fig.savefig(figures_out_path+im_fn[0:15]+'_SCA.png', dpi=200, facecolor='white', edgecolor='none')\n",
    "        print('figure saved to file')\n",
    "\n",
    "    i+=1 # increase loop counter\n",
    "\n",
    "# -----Save figure and data table\n",
    "if plot_output and save_figures:\n",
    "    fig2.savefig(figures_out_path+site_name+'_snow_elevs.png', dpi=200, facecolor='white', edgecolor='none')\n",
    "    print('snow elevations figure saved to file')\n",
    "if save_outputs:\n",
    "    df.to_csv(path_or_buf=out_path+site_name+'_snow_elevs_stats.csv', sep=',', na_rep='', header=True)\n",
    "    print('data table saved to file')\n",
    "\n",
    "# -----Stop timer\n",
    "print('Time elapsed: '+str(np.round((time.time()-t1)/60, 2))+' minutes')\n",
    "\n",
    "# -----Display complete figure 2\n",
    "fig2"
   ]
  },
  {
   "cell_type": "code",
   "execution_count": null,
   "id": "b7a7c29b",
   "metadata": {},
   "outputs": [],
   "source": []
  }
 ],
 "metadata": {
  "kernelspec": {
   "display_name": "planet-snow",
   "language": "python",
   "name": "planet-snow"
  },
  "language_info": {
   "codemirror_mode": {
    "name": "ipython",
    "version": 3
   },
   "file_extension": ".py",
   "mimetype": "text/x-python",
   "name": "python",
   "nbconvert_exporter": "python",
   "pygments_lexer": "ipython3",
   "version": "3.9.13"
  },
  "varInspector": {
   "cols": {
    "lenName": 16,
    "lenType": 16,
    "lenVar": 40
   },
   "kernels_config": {
    "python": {
     "delete_cmd_postfix": "",
     "delete_cmd_prefix": "del ",
     "library": "var_list.py",
     "varRefreshCmd": "print(var_dic_list())"
    },
    "r": {
     "delete_cmd_postfix": ") ",
     "delete_cmd_prefix": "rm(",
     "library": "var_list.r",
     "varRefreshCmd": "cat(var_dic_list()) "
    }
   },
   "types_to_exclude": [
    "module",
    "function",
    "builtin_function_or_method",
    "instance",
    "_Feature"
   ],
   "window_display": false
  }
 },
 "nbformat": 4,
 "nbformat_minor": 5
}
