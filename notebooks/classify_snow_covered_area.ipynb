{
 "cells": [
  {
   "cell_type": "markdown",
   "id": "6ed430d2",
   "metadata": {},
   "source": [
    "## Notebook to classify snow-covered area (SCA) and determine minimum snow elevations in PlanetScope 4-band images\n",
    "\n",
    "Rainey Aberle, 2022\n",
    "\n",
    "### Inputs required:\n",
    "\n",
    "- __Area of interest (AOI) (`.shp` file):__ can be used to crop images before classifying snow\n",
    "- __Digital elevation model (DEM) that covers the AOI (`.tif` file):__ used to extract minimum snow elevation in each image\n",
    "- __PlanetScope images (`.tif` file(s)):__ used to classify snow\n",
    "- __Trained classifier (`.sav` file):__ used to classify snow in PlanetScope images (find in `planet-snow/inputs-outputs/` or develop in `develop_classifier.ipynb`)\n",
    "\n",
    "### 1. Import packages"
   ]
  },
  {
   "cell_type": "code",
   "execution_count": 4,
   "id": "2060f810",
   "metadata": {},
   "outputs": [],
   "source": [
    "import os\n",
    "import ee\n",
    "import geemap\n",
    "import glob\n",
    "import numpy as np\n",
    "import geopandas as gpd\n",
    "import pandas as pd\n",
    "import rasterio as rio\n",
    "from rasterio.mask import mask\n",
    "from rasterio.plot import show\n",
    "import matplotlib\n",
    "import matplotlib.dates as mdates\n",
    "from matplotlib.dates import DateFormatter\n",
    "import matplotlib.pyplot as plt\n",
    "from shapely.geometry import shape\n",
    "import pickle\n",
    "import sys\n",
    "import time"
   ]
  },
  {
   "cell_type": "markdown",
   "id": "77be3e2d",
   "metadata": {},
   "source": [
    "### 2. Define settings and paths in directory"
   ]
  },
  {
   "cell_type": "code",
   "execution_count": 2,
   "id": "75ec814c",
   "metadata": {},
   "outputs": [],
   "source": [
    "# -----Define site ID (used to load classifier and in output file names)\n",
    "site_ID = 'WG'\n",
    "\n",
    "# -----Determine whether to save output figures\n",
    "save_figures = False # = True to save output figures\n",
    "crop_to_AOI = True # = True to crop images to AOI before calculating SCA\n",
    "\n",
    "# -----Define desired EPSG\n",
    "epsg = 32606\n",
    "\n",
    "# -----Define paths in directory\n",
    "# base directory (path to \"planet-snow/\")\n",
    "base_path = '/Users/raineyaberle/Research/PhD/planet-snow/'\n",
    "# image directory\n",
    "im_path = base_path+'../study-sites/Wolverine/imagery/Planet/adjusted-filtered/'\n",
    "# figures output directory\n",
    "figures_out_path = base_path+'../study-sites/Wolverine/figures/SCA/'\n",
    "# AOI shapefile full path \n",
    "AOI_fn = base_path+'../GIS_data/RGI_outlines/Wolverine_RGI.shp'"
   ]
  },
  {
   "cell_type": "markdown",
   "id": "7268d58e",
   "metadata": {},
   "source": [
    "### 3. GEE Authentication and Initialization"
   ]
  },
  {
   "cell_type": "code",
   "execution_count": 3,
   "id": "294eb405",
   "metadata": {},
   "outputs": [
    {
     "name": "stderr",
     "output_type": "stream",
     "text": [
      "*** Earth Engine *** FINAL DEADLINE: ee.Authenticate will fail after 2022-06-06. Please upgrade. https://developers.google.com/earth-engine/guides/python_install\n"
     ]
    }
   ],
   "source": [
    "try:\n",
    "    ee.Initialize()\n",
    "except: \n",
    "    ee.Authenticate()\n",
    "    ee.Initialize()"
   ]
  },
  {
   "cell_type": "markdown",
   "id": "43f2ce80",
   "metadata": {},
   "source": [
    "### 3. Load files from directory and plot\n",
    "\n",
    "- Area of interest (AOI)\n",
    "- Digital elevartion model (DEM) from GEE\n",
    "- PlanetScope images\n",
    "- Image classifier"
   ]
  },
  {
   "cell_type": "code",
   "execution_count": 33,
   "id": "b1874ebd",
   "metadata": {},
   "outputs": [
    {
     "data": {
      "application/vnd.jupyter.widget-view+json": {
       "model_id": "bc6b2a479eb843b88a9a0fa0394e8309",
       "version_major": 2,
       "version_minor": 0
      },
      "text/plain": [
       "Map(center=[20, 0], controls=(WidgetControl(options=['position', 'transparent_bg'], widget=HBox(children=(Togg…"
      ]
     },
     "metadata": {},
     "output_type": "display_data"
    }
   ],
   "source": [
    "# -----Load image names from file\n",
    "os.chdir(im_path) # change directory\n",
    "im_names = glob.glob('*.tif') # load all .tif file names\n",
    "im_names.sort() # sort file names by date\n",
    "\n",
    "# -----Load image classifier and feature columns\n",
    "clf_fn = base_path+'inputs-outputs/'+site_ID+'_best_classifier.sav'\n",
    "clf = pickle.load(open(clf_fn, 'rb'))\n",
    "feature_cols_fn = base_path+'inputs-outputs/'+site_ID+'_best_classifier_feature_cols.pkl'\n",
    "feature_cols = pickle.load(open(feature_cols_fn,'rb'))\n",
    "\n",
    "# -----Add path to functions\n",
    "sys.path.insert(1, base_path+'functions/')\n",
    "from classification_utils import crop_images_to_AOI, classify_image, calculate_SCA, determine_min_snow_elev\n",
    "\n",
    "# -----Load AOI - used for image cropping and DEM filtering\n",
    "AOI = gpd.read_file(AOI_fn)\n",
    "# reproject to UTM\n",
    "AOI_UTM = AOI.to_crs(epsg)\n",
    "# reformat AOI as ee.Geometry for clipping DEM\n",
    "AOI_bb_ee = ee.Geometry({\"type\": \"Polygon\",\"coordinates\": \n",
    "                        [[[AOI.geometry.bounds.minx[0], AOI.geometry.bounds.miny[0]],\n",
    "                          [AOI.geometry.bounds.maxx[0], AOI.geometry.bounds.miny[0]],\n",
    "                          [AOI.geometry.bounds.maxx[0], AOI.geometry.bounds.maxy[0]],\n",
    "                          [AOI.geometry.bounds.minx[0], AOI.geometry.bounds.maxy[0]],\n",
    "                          [AOI.geometry.bounds.minx[0], AOI.geometry.bounds.miny[0]]]\n",
    "                        ]})\n",
    "\n",
    "# -----Query GEE for ArcticDEM, clip to AOI\n",
    "DEM = ee.Image(\"UMN/PGC/ArcticDEM/V3/2m_mosaic\").clip(AOI_ee)\n",
    "\n",
    "# -----Plot on GEE map\n",
    "Map = geemap.Map()\n",
    "Map.add_basemap('SATELLITE')\n",
    "Map.addLayer(DEM.select('elevation'), {'min': 0, 'max': 1500, 'palette': ['white', 'green']})\n",
    "Map.centerObject(AOI_ee)\n",
    "Map"
   ]
  },
  {
   "cell_type": "markdown",
   "id": "f4bad6d7",
   "metadata": {},
   "source": [
    "### 4. Classify snow, calculate SCA, determine minimum snow elevation in each image"
   ]
  },
  {
   "cell_type": "code",
   "execution_count": null,
   "id": "cbf0f787",
   "metadata": {
    "scrolled": false
   },
   "outputs": [],
   "source": [
    "# -----Start timer\n",
    "t1 = time.time()\n",
    "\n",
    "# -----Initialize image dates and SCA\n",
    "im_dts = [] # image datetimes\n",
    "SCA = [] # [m^2]\n",
    "\n",
    "# -----Crop images if previously selected\n",
    "if crop_to_AOI==True:\n",
    "    \n",
    "    # Crop images if previously selected\n",
    "    cropped_im_path = crop_images_to_AOI(im_path, im_names, AOI)\n",
    "    # grab cropped image names\n",
    "    os.chdir(cropped_im_path) # change directory\n",
    "    im_names_crop = glob.glob('*_crop.tif')\n",
    "    im_names_crop.sort() # sort file names by date\n",
    "\n",
    "    im_names_loop = im_names_crop # im_names to use in loop\n",
    "    \n",
    "else:\n",
    "    \n",
    "    os.chdir(im_path)\n",
    "    im_names_loop = im_names # im_names to use in loop\n",
    "    \n",
    "# -----Initialize minimum snow and image elevations\n",
    "snow_elev_min = np.zeros(len(im_names_crop)) # [m] minimum elevation where snow is present\n",
    "im_elev_min = np.zeros(len(im_names_crop)) # [m] minimum elevation of the image\n",
    "\n",
    "# -----Loop through images\n",
    "i=0 # loop counter\n",
    "for im_name in im_names_loop:\n",
    "\n",
    "    # extract datetime from image name\n",
    "    im_dt = np.datetime64(im_name[0:4] + '-' + im_name[4:6] + '-' + im_name[6:8]\n",
    "                          + ' ' + im_name[9:11] + ':' +im_name[11:13] + ':' + im_name[13:15])\n",
    "    im_dts = im_dts + [im_dt]\n",
    "\n",
    "    # open image\n",
    "    im = rio.open(im_name)\n",
    "\n",
    "    # classify snow\n",
    "    plot_output = True\n",
    "    im_x, im_y, snow, fig = classify_image(im, clf, feature_cols, plot_output)\n",
    "    fig.suptitle(im_dt)\n",
    "    plt.show()\n",
    "\n",
    "    # calculate SCA [m^2]\n",
    "    SCA = SCA + [calculate_SCA(im, snow)]\n",
    "\n",
    "    # determine lowest snow elevation\n",
    "    snow_elev_min[i], im_elev_min[i] = determine_min_snow_elev(DEM, snow, im, im_x, im_y)\n",
    "\n",
    "    # save figure\n",
    "    if save_figures==True:\n",
    "        fig.savefig(figures_out_path+im_name[0:15]+'_SCA.png', dpi=200, facecolor='white', edgecolor='none')\n",
    "        print('figure saved to file')\n",
    "\n",
    "    i+=1 # increase loop counter\n",
    "    \n",
    "# -----Create pandas.DataFrame for snow cover info\n",
    "snow_df = pd.DataFrame()\n",
    "snow_df['datetime'] = im_dts\n",
    "snow_df['SCA'] = SCA\n",
    "snow_df['snow_elev_min'] = snow_elev_min\n",
    "snow_df['im_elev_min'] = im_elev_min\n",
    "\n",
    "# -----Plot SCA and minimum snow elevation\n",
    "fig, (ax1, ax2) = plt.subplots(2, 1, figsize=(8,10))\n",
    "plt.rcParams.update({'font.size': 14, 'font.serif': 'Arial'})\n",
    "# SCA\n",
    "ax1.scatter(snow_df['datetime'], [x/1000 for x in snow_df['SCA']], s=10, color='blue')\n",
    "ax1.set_ylabel('Snow-covered area [km^2]')\n",
    "ax1.set_xticklabels([])\n",
    "ax1.grid()\n",
    "# min snow elevations (where they equal the min image elev)\n",
    "ax2.scatter(snow_df.loc[snow_df['snow_elev_min']==snow_df['im_elev_min'], 'datetime'], \n",
    "            snow_df.loc[snow_df['snow_elev_min']==snow_df['im_elev_min'], 'snow_elev_min'], \n",
    "            s=10, color='orange')\n",
    "ax2.scatter(snow_df.loc[snow_df['snow_elev_min']!=snow_df['im_elev_min'], 'datetime'], \n",
    "            snow_df.loc[snow_df['snow_elev_min']!=snow_df['im_elev_min'], 'snow_elev_min'], \n",
    "            s=10, color='blue')\n",
    "ax2.tick_params(labelrotation=45)\n",
    "ax2.set_ylabel('Minimum snow elevation [m]')\n",
    "ax2.grid()\n",
    "plt.show()\n",
    "\n",
    "# -----Stop timer\n",
    "print('Time elapsed: '+str(np.round((time.time()-t1)/60, 2))+' minutes')"
   ]
  },
  {
   "cell_type": "markdown",
   "id": "8461d5b1",
   "metadata": {},
   "source": [
    "### Test method for detecting contours"
   ]
  },
  {
   "cell_type": "code",
   "execution_count": null,
   "id": "c2349c40",
   "metadata": {},
   "outputs": [],
   "source": [
    "# open image\n",
    "# im_name = im_names_loop[20]\n",
    "# im = rio.open(im_name)\n",
    "\n",
    "# # classify snow\n",
    "# plot_output = True\n",
    "# im_x, im_y, snow, fig = classify_image(im, clf, feature_cols, plot_output)\n",
    "# # fig.suptitle(im_dt)\n",
    "# plt.show()\n",
    "\n",
    "# # calculate SCA [m^2]\n",
    "# SCA = SCA + [calculate_SCA(im, snow)]\n",
    "\n",
    "# # determine lowest snow elevation\n",
    "# snow_elev_min, im_elev_min = determine_min_snow_elev(DEM, snow, im, im_x, im_y)\n",
    "\n",
    "# from skimage.measure import find_contours\n",
    "\n",
    "# # Find contours\n",
    "# contours = measure.find_contours(snow)\n",
    "# # Display the image and plot all contours found\n",
    "# fig, ax = plt.subplots()\n",
    "# ax.imshow(snow, cmap=plt.cm.gray)\n",
    "# for contour in contours:\n",
    "#     ax.plot(contour[:, 1], contour[:, 0], linewidth=1)\n",
    "# plt.show()"
   ]
  }
 ],
 "metadata": {
  "kernelspec": {
   "display_name": "Python 3 (ipykernel)",
   "language": "python",
   "name": "python3"
  },
  "language_info": {
   "codemirror_mode": {
    "name": "ipython",
    "version": 3
   },
   "file_extension": ".py",
   "mimetype": "text/x-python",
   "name": "python",
   "nbconvert_exporter": "python",
   "pygments_lexer": "ipython3",
   "version": "3.9.1"
  },
  "varInspector": {
   "cols": {
    "lenName": 16,
    "lenType": 16,
    "lenVar": 40
   },
   "kernels_config": {
    "python": {
     "delete_cmd_postfix": "",
     "delete_cmd_prefix": "del ",
     "library": "var_list.py",
     "varRefreshCmd": "print(var_dic_list())"
    },
    "r": {
     "delete_cmd_postfix": ") ",
     "delete_cmd_prefix": "rm(",
     "library": "var_list.r",
     "varRefreshCmd": "cat(var_dic_list()) "
    }
   },
   "types_to_exclude": [
    "module",
    "function",
    "builtin_function_or_method",
    "instance",
    "_Feature"
   ],
   "window_display": false
  }
 },
 "nbformat": 4,
 "nbformat_minor": 5
}
