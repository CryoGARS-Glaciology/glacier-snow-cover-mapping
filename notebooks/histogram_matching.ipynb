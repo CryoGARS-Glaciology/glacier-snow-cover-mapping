{
 "cells": [
  {
   "cell_type": "markdown",
   "id": "a9d156cf",
   "metadata": {},
   "source": [
    "# Notebook to correct radiometry in Planet imagery using SciKit histogram matching\n",
    "\n",
    "Rainey Aberle\n",
    "\n",
    "Summer 2022"
   ]
  },
  {
   "cell_type": "code",
   "execution_count": null,
   "id": "6713ff57",
   "metadata": {},
   "outputs": [],
   "source": [
    "import os\n",
    "import glob\n",
    "import numpy as np\n",
    "import rasterio as rio\n",
    "import matplotlib.pyplot as plt\n",
    "from skimage.exposure import match_histograms\n",
    "\n",
    "# path to Planet images\n",
    "im_path = '/Users/raineyaberle/Research/PhD/Wolverine/imagery/Planet/2021-04-20_2021-08-25/PSScene4Band/'\n",
    "out_path = im_path+'../im_histograms/'"
   ]
  },
  {
   "cell_type": "code",
   "execution_count": null,
   "id": "108bee74",
   "metadata": {},
   "outputs": [],
   "source": [
    "# -----Grab image file names\n",
    "ims = os.chdir(im_path) # change directory\n",
    "im_names = glob.glob('*SR_clip.tif') # load all .tif file names\n",
    "im_names.sort() # sort file names by date\n",
    "im_names"
   ]
  },
  {
   "cell_type": "code",
   "execution_count": null,
   "id": "8759cbe7",
   "metadata": {},
   "outputs": [],
   "source": [
    "# -----load 'correct' image\n",
    "# load image\n",
    "im1_name = im_names[1]\n",
    "im1 = rio.open(im1_name)\n",
    "# read image bands\n",
    "im_scalar = 10000\n",
    "b1 = im1.read(1) / im_scalar\n",
    "g1 = im1.read(2) / im_scalar\n",
    "r1 = im1.read(3) / im_scalar\n",
    "nir1 = im1.read(4) / im_scalar\n",
    "# define grid\n",
    "im1_x = np.linspace(im1.bounds.left, im1.bounds.right, num=np.shape(b1)[1])\n",
    "im1_y = np.linspace(im1.bounds.top, im1.bounds.bottom, num=np.shape(b1)[0])\n",
    "\n",
    "# -----load 'incorrect' image\n",
    "im2_name = im_names[3]\n",
    "im2 = rio.open(im2_name)\n",
    "# read image bands\n",
    "b2 = im2.read(1) / im_scalar\n",
    "g2 = im2.read(2) / im_scalar\n",
    "r2 = im2.read(3) / im_scalar\n",
    "nir2 = im2.read(4) / im_scalar\n",
    "# define grid\n",
    "im2_x = np.linspace(im2.bounds.left, im2.bounds.right, num=np.shape(b2)[1])\n",
    "im2_y = np.linspace(im2.bounds.top, im2.bounds.bottom, num=np.shape(b2)[0])\n",
    "\n",
    "# -----apply histogram matching to each band\n",
    "b2_matched = match_histograms(b2, b1)\n",
    "g2_matched = match_histograms(g2, g1)\n",
    "r2_matched = match_histograms(r2, r1)\n",
    "nir2_matched = match_histograms(nir2, nir1)"
   ]
  },
  {
   "cell_type": "code",
   "execution_count": null,
   "id": "436e45b1",
   "metadata": {},
   "outputs": [],
   "source": [
    "# -----plot RGB images and histograms\n",
    "fig, ((ax1, ax2, ax3), (ax4, ax5, ax6)) = plt.subplots(2, 3, figsize=(16,10), gridspec_kw={'height_ratios': [3,1]})\n",
    "plt.rcParams.update({'font.size': 12, 'font.serif': 'Arial'})\n",
    "# incorrect image\n",
    "ax1.imshow(np.dstack([r2, g2, b2]),\n",
    "            extent=(np.min(im2_x)/1000, np.max(im2_x/1000), np.min(im2_y)/1000, np.max(im2_y)/1000))\n",
    "ax1.set_xlabel('Easting [km]')\n",
    "ax1.set_ylabel('Northing [km]')\n",
    "ax1.set_title('Incorrect image')\n",
    "h1_nir = ax4.hist(nir2.flatten(), color='purple', bins=100, alpha=0.5, label='NIR')\n",
    "h1_b = ax4.hist(b2.flatten(), color='blue', bins=100, alpha=0.5, label='blue')\n",
    "h1_g = ax4.hist(g2.flatten(), color='green', bins=100, alpha=0.5, label='green')\n",
    "h1_r = ax4.hist(r2.flatten(), color='red', bins=100, alpha=0.5, label='red')\n",
    "ax4.set_xlabel('Surface reflectance')\n",
    "ax4.set_ylabel('Pixel counts')\n",
    "ax4.set_ylim(0,np.max([h1_nir[0][1:], h1_g[0][1:], h1_r[0][1:], h1_b[0][1:]])+5000)\n",
    "ax4.grid()\n",
    "ax3.legend(loc='right')\n",
    "# reference image\n",
    "ax2.imshow(np.dstack([r1, g1, b1]),\n",
    "            extent=(np.min(im1_x)/1000, np.max(im1_x/1000), np.min(im1_y)/1000, np.max(im1_y)/1000))\n",
    "ax2.set_xlabel('Easting [km]')\n",
    "ax2.set_title('Reference image')\n",
    "h2_nir = ax5.hist(nir1.flatten(), color='purple', bins=100, alpha=0.5, label='NIR')\n",
    "h2_b = ax5.hist(b1.flatten(), color='blue', bins=100, alpha=0.5, label='blue')\n",
    "h2_g = ax5.hist(g1.flatten(), color='green', bins=100, alpha=0.5, label='green')\n",
    "h2_r = ax5.hist(r1.flatten(), color='red', bins=100, alpha=0.5, label='red')\n",
    "ax5.set_xlabel('Surface reflectance')\n",
    "ax5.set_ylim(0,np.max([h2_nir[0][1:], h2_g[0][1:], h2_r[0][1:], h2_b[0][1:]])+5000)\n",
    "ax5.grid()\n",
    "# histogram-matched image\n",
    "ax3.imshow(np.dstack([r2_matched, g2_matched, b2_matched]),\n",
    "            extent=(np.min(im2_x)/1000, np.max(im2_x/1000), np.min(im2_y)/1000, np.max(im2_y)/1000))\n",
    "ax3.set_xlabel('Easting [km]')\n",
    "ax3.set_title('Histogram-matched image')\n",
    "h3_nir = ax6.hist(nir2_matched.flatten(), color='purple', bins=100, alpha=0.5, label='NIR')\n",
    "h3_b = ax6.hist(b2_matched.flatten(), color='blue', bins=100, alpha=0.5, label='blue')\n",
    "h3_g = ax6.hist(g2_matched.flatten(), color='green', bins=100, alpha=0.5, label='green')\n",
    "h3_r = ax6.hist(r2_matched.flatten(), color='red', bins=100, alpha=0.5, label='red')\n",
    "ax6.set_xlabel('Surface reflectance')\n",
    "ax6.set_ylim(0,np.max([h3_nir[0][1:], h3_g[0][1:], h3_r[0][1:], h3_b[0][1:]])+5000)\n",
    "ax6.grid()\n",
    "fig.tight_layout()\n",
    "plt.show()"
   ]
  },
  {
   "cell_type": "code",
   "execution_count": null,
   "id": "b301cf59",
   "metadata": {},
   "outputs": [],
   "source": []
  }
 ],
 "metadata": {
  "kernelspec": {
   "display_name": "Python [conda env:planet-snow] *",
   "language": "python",
   "name": "conda-env-planet-snow-py"
  },
  "language_info": {
   "codemirror_mode": {
    "name": "ipython",
    "version": 3
   },
   "file_extension": ".py",
   "mimetype": "text/x-python",
   "name": "python",
   "nbconvert_exporter": "python",
   "pygments_lexer": "ipython3",
   "version": "3.10.2"
  },
  "varInspector": {
   "cols": {
    "lenName": 16,
    "lenType": 16,
    "lenVar": 40
   },
   "kernels_config": {
    "python": {
     "delete_cmd_postfix": "",
     "delete_cmd_prefix": "del ",
     "library": "var_list.py",
     "varRefreshCmd": "print(var_dic_list())"
    },
    "r": {
     "delete_cmd_postfix": ") ",
     "delete_cmd_prefix": "rm(",
     "library": "var_list.r",
     "varRefreshCmd": "cat(var_dic_list()) "
    }
   },
   "types_to_exclude": [
    "module",
    "function",
    "builtin_function_or_method",
    "instance",
    "_Feature"
   ],
   "window_display": false
  }
 },
 "nbformat": 4,
 "nbformat_minor": 5
}
