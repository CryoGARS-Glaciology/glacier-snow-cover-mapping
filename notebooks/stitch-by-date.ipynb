{
 "cells": [
  {
   "cell_type": "markdown",
   "metadata": {},
   "source": [
    "## Notebook to mosaic images captured on the same day\n",
    "\n",
    "Jukes Liu & Rainey Aberle\n",
    "\n",
    "January 2022"
   ]
  },
  {
   "cell_type": "code",
   "execution_count": null,
   "metadata": {},
   "outputs": [],
   "source": [
    "import os\n",
    "import rasterio as rio\n",
    "import numpy as np\n",
    "import glob\n",
    "import subprocess\n",
    "from osgeo import gdal\n",
    "from xml.dom import minidom\n",
    "from rasterio.plot import show\n",
    "import matplotlib.pyplot as plt"
   ]
  },
  {
   "cell_type": "code",
   "execution_count": null,
   "metadata": {},
   "outputs": [],
   "source": [
    "### ---path to images--- ###\n",
    "# impath = '/Users/raineyaberle/Research/PhD/Wolverine/imagery/Planet/2021-04-20_2021-08-25/PSScene4Band/'\n",
    "impath = '/Users/raineyaberle/Research/PhD/Turner/Planet-imagery/order_71057ea6-fc00-4fb2-ae18-d2e18dac91d7'\n",
    "\n",
    "### ---path for output images--- ###\n",
    "# outpath = '/Users/raineyaberle/Research/PhD/Wolverine/imagery/Planet/2021-04-20_2021-08-25/'\n",
    "outpath = impath\n",
    "\n",
    "### ---extension for mosaicing--- ###\n",
    "# ext = 'SR_clip'\n",
    "ext = 'SR_harmonized_clip'"
   ]
  },
  {
   "cell_type": "markdown",
   "metadata": {},
   "source": [
    "### Mosaic reflectance image files"
   ]
  },
  {
   "cell_type": "code",
   "execution_count": null,
   "metadata": {},
   "outputs": [],
   "source": [
    "uniquescenes = [] # grab unique scenes from a folder with all scenefiles\n",
    "for scene in os.listdir(impath):\n",
    "    date = scene[0:8]\n",
    "    uniquescenes.append(date)\n",
    "uniquescenes = list(set(uniquescenes))\n",
    "uniquescenes.sort() # sort chronologically\n",
    "uniquescenes"
   ]
  },
  {
   "cell_type": "code",
   "execution_count": null,
   "metadata": {},
   "outputs": [],
   "source": [
    "# make directory for SR stitched outputs\n",
    "stitch_path = outpath+'SR-stitched/'\n",
    "if os.path.isdir(stitch_path)==0:\n",
    "    os.mkdir(stitch_path)\n",
    "    print(stitch_path+' directory made')\n",
    "\n",
    "# loop through unique scenes\n",
    "for scene in uniquescenes:\n",
    "    filepaths = [] # files from the same date to mosaic together\n",
    "    for file in os.listdir(impath): # check all files\n",
    "        if (scene in file) & (ext in file): # if they match the scene date and have the right extension\n",
    "            filepaths.append(impath+file) # add the path to the file\n",
    "    \n",
    "    # construct the gdal_merge command\n",
    "    cmd = 'gdal_merge.py -v '\n",
    "\n",
    "    # add in input files\n",
    "    for filepath in filepaths:\n",
    "        cmd += filepath+' '\n",
    "    \n",
    "    # define the out path with correct extension\n",
    "    if ext == 'DN_udm':\n",
    "        out = os.path.join(stitch_path, scene + \"_DN_mask.tif\")\n",
    "    elif ext == 'udm2':\n",
    "        out = os.path.join(stitch_path, scene + \"_mask.tif\")\n",
    "    else:\n",
    "        out = os.path.join(stitch_path, scene + \".tif\")\n",
    "\n",
    "    cmd += '-o '+out\n",
    "\n",
    "    # Run the command \n",
    "    p = subprocess.run(cmd, shell=True, capture_output=True) \n",
    "    print(p)"
   ]
  },
  {
   "cell_type": "code",
   "execution_count": null,
   "metadata": {},
   "outputs": [],
   "source": [
    "# Print files in outpath to verify\n",
    "os.listdir(stitch_path)"
   ]
  },
  {
   "cell_type": "code",
   "execution_count": null,
   "metadata": {},
   "outputs": [],
   "source": [
    "# Plot image mosaics to preview\n",
    "os.chdir(stitch_path)\n",
    "im_names = glob.glob('*.tif')\n",
    "im_names.sort()\n",
    "for im_name in im_names:\n",
    "    im = rio.open(im_name)\n",
    "    n = im.read(4)\n",
    "    plt.title(im_name[0:8])\n",
    "    plt.imshow(n)\n",
    "    plt.clim(0,15000)\n",
    "    plt.colorbar()\n",
    "    plt.show()"
   ]
  },
  {
   "cell_type": "markdown",
   "metadata": {},
   "source": [
    "### Done!"
   ]
  }
 ],
 "metadata": {
  "kernelspec": {
   "display_name": "Python 3 (ipykernel)",
   "language": "python",
   "name": "python3"
  },
  "language_info": {
   "codemirror_mode": {
    "name": "ipython",
    "version": 3
   },
   "file_extension": ".py",
   "mimetype": "text/x-python",
   "name": "python",
   "nbconvert_exporter": "python",
   "pygments_lexer": "ipython3",
   "version": "3.10.2"
  },
  "varInspector": {
   "cols": {
    "lenName": 16,
    "lenType": 16,
    "lenVar": 40
   },
   "kernels_config": {
    "python": {
     "delete_cmd_postfix": "",
     "delete_cmd_prefix": "del ",
     "library": "var_list.py",
     "varRefreshCmd": "print(var_dic_list())"
    },
    "r": {
     "delete_cmd_postfix": ") ",
     "delete_cmd_prefix": "rm(",
     "library": "var_list.r",
     "varRefreshCmd": "cat(var_dic_list()) "
    }
   },
   "types_to_exclude": [
    "module",
    "function",
    "builtin_function_or_method",
    "instance",
    "_Feature"
   ],
   "window_display": false
  }
 },
 "nbformat": 4,
 "nbformat_minor": 4
}
