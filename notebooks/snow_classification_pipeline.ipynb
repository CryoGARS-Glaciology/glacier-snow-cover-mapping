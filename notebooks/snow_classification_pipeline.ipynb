{
 "cells": [
  {
   "cell_type": "markdown",
   "id": "ce5d338c",
   "metadata": {},
   "source": [
    "# Classify snow-covered area (SCA) in Sentinel-2, Landsat 8/9, and PlanetScope imagery: full pipelines\n",
    "\n",
    "Rainey Aberle\n",
    "\n",
    "Department of Geosciences, Boise State University\n",
    "\n",
    "2022\n",
    "\n",
    "### Requirements:\n",
    "- Area of Interest (AOI) shapefile: used to query and crop imagery \n",
    "- Google Earth Engine (GEE) account: used to query imagery and the DEM (if no DEM is provided). Sign up for a free account [here](https://earthengine.google.com/new_signup/). \n",
    "- Digital elevation model (DEM; _optional_): used to extract elevations over the AOI and for each snowline. If no DEM is provided, the ArcticDEM Mosaic will be used where there is coverage; otherwise, the NASADEM will be used.\n",
    "- Pre-downloaded PlanetScope 4-band Surface Reflectance images (_optional_): download using the `Planet_images_order_download.ipynb` or through Planet Explorer. \n",
    "\n",
    "### Outline:\n",
    "__0. Setup__ paths in directory, file locations, authenticate GEE - _modify this section!_\n",
    "\n",
    "__1. Sentinel-2 Top of Atmosphere (TOA) imagery:__ full pipeline\n",
    "\n",
    "__2. Sentinel-2 Surface Reflectance (SR) imagery:__ full pipeline\n",
    "\n",
    "__3. Landsat 8/9 Surface Reflectance (SR) imagery:__ full pipeline\n",
    "\n",
    "__4. PlanetScope Surface Reflectance (SR) imagery:__ full pipeline\n",
    "\n",
    "-------\n"
   ]
  },
  {
   "cell_type": "markdown",
   "id": "fb8979f4",
   "metadata": {},
   "source": [
    "### 0. Setup\n",
    "\n",
    "#### Define paths in directory and desired settings. \n",
    "Modify lines located within the following:\n",
    "\n",
    "`#### MODIFY HERE ####`  \n",
    "\n",
    "`#####################`"
   ]
  },
  {
   "cell_type": "code",
   "execution_count": 1,
   "id": "183ca5f3",
   "metadata": {},
   "outputs": [],
   "source": [
    "##### MODIFY HERE #####\n",
    "\n",
    "# -----Paths in directory\n",
    "site_name = 'Wolverine'\n",
    "# path to snow-cover-mapping/ \n",
    "base_path = '/Users/raineyaberle/Research/PhD/snow_cover_mapping/snow-cover-mapping/'\n",
    "# path to folder containing AOI files\n",
    "aoi_path = '/Users/raineyaberle/Google Drive/My Drive/Research/PhD/write-ups/CH1_snow_cover_mapping_methods_manuscript/Aberle_et_al_dataset_submission/' + site_name + '/AOIs/'\n",
    "# AOI file name\n",
    "aoi_fn = site_name + '_Glacier_Boundaries_20201019.shp' \n",
    "# path to folder containing dem raster file\n",
    "dem_path = '/Users/raineyaberle/Google Drive/My Drive/Research/PhD/GIS_data/USGS/DEMs/wolverine/'\n",
    "# DEM file name\n",
    "# Note: set dem_fn=None if you want to use the Arcticdem or NASAdem via Google Earth Engine\n",
    "dem_fn = site_name + '_2020.10.19_DEM.tif' \n",
    "# path for output images\n",
    "out_path = aoi_path + '../imagery/'\n",
    "# path to PlanetScope images\n",
    "# Note: set ps_im_path=None if not using PlanetScope\n",
    "ps_im_path = out_path + 'PlanetScope/raw_images/'\n",
    "# path for output figures\n",
    "figures_out_path = aoi_path + '../figures/'\n",
    "\n",
    "# -----Define image search filters\n",
    "date_start = '2023-05-01'\n",
    "date_end = '2023-11-01'\n",
    "month_start = 5\n",
    "month_end = 10\n",
    "cloud_cover_max = 70\n",
    "\n",
    "# -----Determine whether to mask clouds using the respective cloud masking data products\n",
    "# NOTE: Cloud mask products anecdotally are less accurate over glacierized/snow-covered surfaces. \n",
    "# If the cloud masks are consistently masking large regions or your study site, I suggest setting mask_clouds = False\n",
    "mask_clouds = True\n",
    "\n",
    "# -----Determine image download, clipping & plotting settings\n",
    "# Note: if im_download = False, but images over the aoi exceed GEE limit, images must be downloaded regardless.\n",
    "im_download = False  # = True to download all satellite images by default\n",
    "plot_results = True # = True to plot figures of results for each image where applicable\n",
    "save_outputs = True # = True to save SCAs and snowlines to file\n",
    "verbose = True # = True to output details for each image during each step\n",
    "skip_clipped = False # = True to skip PlanetScope images where bands appear \"clipped\", i.e. max(blue) < 0.8\n",
    "\n",
    "#######################\n",
    "\n",
    "# -----Import packages\n",
    "import xarray as xr\n",
    "import os\n",
    "import numpy as np\n",
    "import glob\n",
    "from matplotlib import pyplot as plt, dates\n",
    "import matplotlib\n",
    "import rasterio as rio\n",
    "import geopandas as gpd\n",
    "import pandas as pd\n",
    "import sys\n",
    "import ee\n",
    "import json\n",
    "from tqdm.auto import tqdm\n",
    "from joblib import dump, load\n",
    "from shapely.geometry import MultiPolygon, Polygon\n",
    "import warnings\n",
    "warnings.filterwarnings('ignore')\n",
    "\n",
    "# -----Make output directory if it doesn't exist\n",
    "if not os.path.exists(out_path):\n",
    "    os.mkdir(out_path)\n",
    "    print('Made directory for outputs: ', out_path)\n",
    "\n",
    "# -----Set paths for output files\n",
    "s2_toa_im_path = os.path.join(out_path, 'Sentinel-2_TOA')\n",
    "s2_sr_im_path = os.path.join(out_path, 'Sentinel-2_SR')\n",
    "l_im_path = os.path.join(out_path, 'Landsat')\n",
    "ps_im_masked_path = os.path.join(out_path, 'PlanetScope', 'masked')\n",
    "ps_im_mosaics_path = os.path.join(out_path, 'PlanetScope', 'mosaics')\n",
    "im_classified_path = os.path.join(out_path, 'classified')\n",
    "snowlines_path = os.path.join(out_path, 'snowlines')\n",
    "\n",
    "# -----Add path to functions\n",
    "sys.path.insert(1, os.path.join(base_path, 'functions'))\n",
    "import pipeline_utils as f\n",
    "import PlanetScope_preprocessing as psp\n",
    "\n",
    "# -----Load dataset dictionary\n",
    "dataset_dict_fn = os.path.join(base_path, 'inputs-outputs', 'datasets_characteristics.json')\n",
    "dataset_dict = json.load(open(dataset_dict_fn))"
   ]
  },
  {
   "cell_type": "markdown",
   "id": "eaee83ad",
   "metadata": {},
   "source": [
    "#### Authenticate and initialize Google Earth Engine (GEE). \n",
    "\n",
    "__Note:__ The first time you run the following cell, you will be asked to authenticate your GEE account for use in this notebook. This will send you to an external web page, where you will walk through the GEE authentication workflow and copy an authentication code back into the space below this cell when prompted. "
   ]
  },
  {
   "cell_type": "code",
   "execution_count": null,
   "id": "176ec405",
   "metadata": {},
   "outputs": [],
   "source": [
    "try:\n",
    "    ee.Initialize(opt_url='https://earthengine-highvolume.googleapis.com')\n",
    "except: \n",
    "    ee.Authenticate()\n",
    "    ee.Initialize(opt_url='https://earthengine-highvolume.googleapis.com')"
   ]
  },
  {
   "cell_type": "markdown",
   "id": "14b83185",
   "metadata": {},
   "source": [
    "#### Load AOI and DEM"
   ]
  },
  {
   "cell_type": "code",
   "execution_count": null,
   "id": "e959210a",
   "metadata": {
    "scrolled": true,
    "tags": []
   },
   "outputs": [],
   "source": [
    "# -----Load AOI as gpd.GeoDataFrame\n",
    "aoi = gpd.read_file(os.path.join(aoi_path, aoi_fn))\n",
    "# reproject the AOI to WGS84 to solve for the optimal utm zone\n",
    "aoi_wgs = aoi.to_crs('EPSG:4326')\n",
    "aoi_wgs_centroid = [aoi_wgs.geometry[0].centroid.xy[0][0],\n",
    "                    aoi_wgs.geometry[0].centroid.xy[1][0]]\n",
    "# grab the optimal utm zone EPSG code\n",
    "epsg_utm = f.convert_wgs_to_utm(aoi_wgs_centroid[0], aoi_wgs_centroid[1])\n",
    "print('Optimal UTM CRS = EPSG:' + str(epsg_utm))\n",
    "# reproject AOI to the optimal utm zone\n",
    "aoi_utm = aoi.to_crs('EPSG:'+epsg_utm)\n",
    "\n",
    "# -----Load DEM as Xarray DataSet\n",
    "if dem_fn is None:\n",
    "    # query GEE for DEM\n",
    "    dem = f.query_gee_for_dem(aoi_utm, base_path, site_name, dem_path)\n",
    "else:\n",
    "    # load DEM as xarray DataSet\n",
    "    dem = xr.open_dataset(os.path.join(dem_path, dem_fn))\n",
    "    dem_crs = str(dem.rio.crs.to_epsg())\n",
    "    dem = f.adjust_dem_data_vars(dem)\n",
    "    # set no data values to NaN\n",
    "    dem = xr.where((dem > 1e38) | (dem <= -9999), np.nan, dem)\n",
    "    # reproject the DEM to the optimal utm zone\n",
    "    dem = dem.rio.write_crs('EPSG:' + dem_crs)\n",
    "    if dem_crs is not epsg_utm:\n",
    "        dem = dem.rio.reproject('EPSG:' + epsg_utm).rio.write_crs('EPSG:'+str(epsg_utm))\n",
    "\n",
    "# -----Plot\n",
    "fig, ax = plt.subplots(1, 1, figsize=(6,6))\n",
    "dem_im = ax.imshow(dem.elevation.data, cmap='terrain', \n",
    "          extent=(np.min(dem.x.data)/1e3, np.max(dem.x.data)/1e3, np.min(dem.y.data)/1e3, np.max(dem.y.data)/1e3))\n",
    "if type(aoi_utm.geometry[0])==Polygon:\n",
    "    ax.plot([x/1e3 for x in aoi_utm.geometry[0].exterior.coords.xy[0]],\n",
    "            [y/1e3 for y in aoi_utm.geometry[0].exterior.coords.xy[1]], '-k')\n",
    "elif type(aoi_utm.geometry[0])==MultiPolygon:\n",
    "    [ax.plot([x/1e3 for x in geom.exterior.coords.xy[0]],\n",
    "            [y/1e3 for y in geom.exterior.coords.xy[1]], '-k') for geom in aoi_utm.geometry[0].geoms]\n",
    "ax.grid()\n",
    "ax.set_xlabel('Easting [km]')\n",
    "ax.set_ylabel('Northing [km]')\n",
    "fig.colorbar(dem_im, ax=ax, shrink=0.5, label='Elevation [m.a.s.l.]')\n",
    "plt.show()"
   ]
  },
  {
   "cell_type": "markdown",
   "id": "d94aa40c",
   "metadata": {},
   "source": [
    "## 1. Sentinel-2 TOA imagery"
   ]
  },
  {
   "cell_type": "code",
   "execution_count": null,
   "id": "cda52707",
   "metadata": {
    "scrolled": true,
    "tags": []
   },
   "outputs": [],
   "source": [
    "# -----Query GEE for imagery and run classification pipeline\n",
    "# Define dataset\n",
    "dataset = 'Sentinel-2_TOA'\n",
    "# Load trained image classifier\n",
    "clf_fn = os.path.join(base_path, 'inputs-outputs', 'Sentinel-2_TOA_classifier_all_sites.joblib')\n",
    "clf = load(clf_fn)\n",
    "# Load feature columns (bands to use in classification)\n",
    "feature_cols_fn = os.path.join(base_path, 'inputs-outputs', 'Sentinel-2_TOA_feature_columns.json')\n",
    "feature_cols = json.load(open(feature_cols_fn))\n",
    "# Run the classification pipeline\n",
    "f.query_gee_for_imagery_run_pipeline(dataset_dict, dataset, aoi_utm, dem, date_start, date_end, month_start, month_end, \n",
    "                                     cloud_cover_max, mask_clouds, site_name, clf, feature_cols, s2_toa_im_path, \n",
    "                                     im_classified_path, snowlines_path, figures_out_path, plot_results, verbose, im_download)"
   ]
  },
  {
   "cell_type": "markdown",
   "id": "a10df07b",
   "metadata": {},
   "source": [
    "## 2. Sentinel-2 SR imagery"
   ]
  },
  {
   "cell_type": "code",
   "execution_count": null,
   "id": "7615f094",
   "metadata": {
    "scrolled": true,
    "tags": []
   },
   "outputs": [],
   "source": [
    "# -----Query GEE for imagery and run classification pipeline\n",
    "# Define dataset\n",
    "dataset = 'Sentinel-2_SR'\n",
    "# Load trained image classifier\n",
    "clf_fn = os.path.join(base_path, 'inputs-outputs', 'Sentinel-2_SR_classifier_all_sites.joblib')\n",
    "clf = load(clf_fn)\n",
    "# Load feature columns (bands to use in classification)\n",
    "feature_cols_fn = os.path.join(base_path, 'inputs-outputs', 'Sentinel-2_SR_feature_columns.json')\n",
    "feature_cols = json.load(open(feature_cols_fn))\n",
    "# Run the classification pipeline\n",
    "f.query_gee_for_imagery_run_pipeline(dataset_dict, dataset, aoi_utm, dem, date_start, date_end, month_start, month_end, \n",
    "                                     cloud_cover_max, mask_clouds, site_name, clf, feature_cols, s2_sr_im_path, \n",
    "                                     im_classified_path, snowlines_path, figures_out_path, plot_results, verbose, im_download)"
   ]
  },
  {
   "cell_type": "markdown",
   "id": "2deef487",
   "metadata": {},
   "source": [
    "## 3. Landsat 8/9 SR imagery"
   ]
  },
  {
   "cell_type": "code",
   "execution_count": null,
   "id": "86d4b791",
   "metadata": {
    "scrolled": true,
    "tags": []
   },
   "outputs": [],
   "source": [
    "# -----Query GEE for imagery (and download to l_im_path if necessary)\n",
    "# Define dataset\n",
    "dataset = 'Landsat'\n",
    "# Load trained image classifier\n",
    "clf_fn = os.path.join(base_path, 'inputs-outputs', 'Landsat_classifier_all_sites.joblib')\n",
    "clf = load(clf_fn)\n",
    "# Load feature columns (bands to use in classification)\n",
    "feature_cols_fn = os.path.join(base_path, 'inputs-outputs', 'Landsat_feature_columns.json')\n",
    "feature_cols = json.load(open(feature_cols_fn))\n",
    "# Run the classification pipeline\n",
    "f.query_gee_for_imagery_run_pipeline(dataset_dict, dataset, aoi_utm, dem, date_start, date_end, month_start, month_end, \n",
    "                                     cloud_cover_max, mask_clouds, site_name, clf, feature_cols, l_im_path, \n",
    "                                     im_classified_path, snowlines_path, figures_out_path, plot_results, verbose, im_download)"
   ]
  },
  {
   "cell_type": "markdown",
   "id": "87b5ce4c",
   "metadata": {},
   "source": [
    "## 4. PlanetScope SR imagery\n",
    "\n",
    "### Pre-process raw imagery"
   ]
  },
  {
   "cell_type": "code",
   "execution_count": 6,
   "id": "ff084bc7-baa3-472c-99d5-d9f50b06b396",
   "metadata": {},
   "outputs": [
    {
     "name": "stdout",
     "output_type": "stream",
     "text": [
      "Masking images using cloud bitmask...\n"
     ]
    },
    {
     "data": {
      "application/vnd.jupyter.widget-view+json": {
       "model_id": "bc1e8238617c4d4084a796889d3a7bf8",
       "version_major": 2,
       "version_minor": 0
      },
      "text/plain": [
       "  0%|          | 0/1261 [00:00<?, ?it/s]"
      ]
     },
     "metadata": {},
     "output_type": "display_data"
    },
    {
     "name": "stdout",
     "output_type": "stream",
     "text": [
      "Mosaicking images captured in the same hour...\n"
     ]
    },
    {
     "data": {
      "application/vnd.jupyter.widget-view+json": {
       "model_id": "97443dea47614155b8c3f0c29cd4f8cc",
       "version_major": 2,
       "version_minor": 0
      },
      "text/plain": [
       "  0%|          | 0/500 [00:00<?, ?it/s]"
      ]
     },
     "metadata": {},
     "output_type": "display_data"
    },
    {
     "name": "stdout",
     "output_type": "stream",
     "text": [
      " \n"
     ]
    }
   ],
   "source": [
    "# -----Read surface reflectance image file names\n",
    "os.chdir(ps_im_path)\n",
    "im_fns = sorted(glob.glob('*SR*.tif'))\n",
    "\n",
    "# ----Mask clouds and cloud shadows in all images\n",
    "plot_results = False\n",
    "if mask_clouds:\n",
    "    print('Masking images using cloud bitmask...')\n",
    "    for im_fn in tqdm(im_fns):\n",
    "        psp.planetscope_mask_image_pixels(ps_im_path, im_fn, ps_im_masked_path, save_outputs, plot_results)\n",
    "# read masked image file names\n",
    "os.chdir(ps_im_masked_path)\n",
    "im_masked_fns = sorted(glob.glob('*_mask.tif'))\n",
    "\n",
    "# -----Mosaic images captured within same hour\n",
    "print('Mosaicking images captured in the same hour...')\n",
    "if mask_clouds:\n",
    "    psp.planetscope_mosaic_images_by_date(ps_im_masked_path, im_masked_fns, ps_im_mosaics_path, aoi_utm)\n",
    "    print(' ')\n",
    "else:\n",
    "    psp.planetscope_mosaic_images_by_date(ps_im_path, im_fns, ps_im_mosaics_path, aoi_utm)\n",
    "    print(' ')"
   ]
  },
  {
   "cell_type": "markdown",
   "id": "31604373-27af-4f1d-beaa-fcf4807c8d53",
   "metadata": {},
   "source": [
    "### Run snow detection workflow"
   ]
  },
  {
   "cell_type": "code",
   "execution_count": 25,
   "id": "fd2e4584",
   "metadata": {
    "scrolled": true,
    "tags": []
   },
   "outputs": [
    {
     "data": {
      "application/vnd.jupyter.widget-view+json": {
       "model_id": "3c7e1ef0b9ab421f8a31379ea533ab89",
       "version_major": 2,
       "version_minor": 0
      },
      "text/plain": [
       "  0%|          | 0/34 [00:00<?, ?it/s]"
      ]
     },
     "metadata": {},
     "output_type": "display_data"
    },
    {
     "name": "stdout",
     "output_type": "stream",
     "text": [
      "2022-05-05T20:00:00\n",
      "Classified image saved to file: /Users/raineyaberle/Google Drive/My Drive/Research/PhD/write-ups/CH1_snow_cover_mapping_methods_manuscript/Aberle_et_al_dataset_submission/Wolverine/AOIs/../imagery/classified/20220505T200000_Wolverine_PlanetScope_classified.nc\n",
      "Snowline saved to file: /Users/raineyaberle/Google Drive/My Drive/Research/PhD/write-ups/CH1_snow_cover_mapping_methods_manuscript/Aberle_et_al_dataset_submission/Wolverine/AOIs/../imagery/snowlines/20220505T200000_Wolverine_PlanetScope_snowline.csv\n"
     ]
    },
    {
     "name": "stderr",
     "output_type": "stream",
     "text": [
      "Clipping input data to the valid range for imshow with RGB data ([0..1] for floats or [0..255] for integers).\n"
     ]
    },
    {
     "name": "stdout",
     "output_type": "stream",
     "text": [
      "Figure saved to file:/Users/raineyaberle/Google Drive/My Drive/Research/PhD/write-ups/CH1_snow_cover_mapping_methods_manuscript/Aberle_et_al_dataset_submission/Wolverine/AOIs/../figures/20220505T200000_Wolverine_PlanetScope_snow-cover.png\n",
      "Accumulation Area Ratio =  0.93805635\n",
      " \n",
      "2022-05-08T20:00:00\n",
      "Classified image saved to file: /Users/raineyaberle/Google Drive/My Drive/Research/PhD/write-ups/CH1_snow_cover_mapping_methods_manuscript/Aberle_et_al_dataset_submission/Wolverine/AOIs/../imagery/classified/20220508T200000_Wolverine_PlanetScope_classified.nc\n",
      "Snowline saved to file: /Users/raineyaberle/Google Drive/My Drive/Research/PhD/write-ups/CH1_snow_cover_mapping_methods_manuscript/Aberle_et_al_dataset_submission/Wolverine/AOIs/../imagery/snowlines/20220508T200000_Wolverine_PlanetScope_snowline.csv\n"
     ]
    },
    {
     "name": "stderr",
     "output_type": "stream",
     "text": [
      "Clipping input data to the valid range for imshow with RGB data ([0..1] for floats or [0..255] for integers).\n"
     ]
    },
    {
     "name": "stdout",
     "output_type": "stream",
     "text": [
      "Figure saved to file:/Users/raineyaberle/Google Drive/My Drive/Research/PhD/write-ups/CH1_snow_cover_mapping_methods_manuscript/Aberle_et_al_dataset_submission/Wolverine/AOIs/../figures/20220508T200000_Wolverine_PlanetScope_snow-cover.png\n",
      "Accumulation Area Ratio =  0.98977727\n",
      " \n",
      "2022-05-10T20:00:00\n",
      "Less than 70% coverage of the AOI, skipping image...\n",
      " \n",
      "2022-05-14T20:00:00\n",
      "Classified image saved to file: /Users/raineyaberle/Google Drive/My Drive/Research/PhD/write-ups/CH1_snow_cover_mapping_methods_manuscript/Aberle_et_al_dataset_submission/Wolverine/AOIs/../imagery/classified/20220514T200000_Wolverine_PlanetScope_classified.nc\n",
      "Snowline saved to file: /Users/raineyaberle/Google Drive/My Drive/Research/PhD/write-ups/CH1_snow_cover_mapping_methods_manuscript/Aberle_et_al_dataset_submission/Wolverine/AOIs/../imagery/snowlines/20220514T200000_Wolverine_PlanetScope_snowline.csv\n"
     ]
    },
    {
     "name": "stderr",
     "output_type": "stream",
     "text": [
      "Clipping input data to the valid range for imshow with RGB data ([0..1] for floats or [0..255] for integers).\n"
     ]
    },
    {
     "name": "stdout",
     "output_type": "stream",
     "text": [
      "Figure saved to file:/Users/raineyaberle/Google Drive/My Drive/Research/PhD/write-ups/CH1_snow_cover_mapping_methods_manuscript/Aberle_et_al_dataset_submission/Wolverine/AOIs/../figures/20220514T200000_Wolverine_PlanetScope_snow-cover.png\n",
      "Accumulation Area Ratio =  0.98391074\n",
      " \n",
      "2022-07-12T20:00:00\n",
      "Less than 70% coverage of the AOI, skipping image...\n",
      " \n",
      "2022-07-13T20:00:00\n",
      "Less than 70% coverage of the AOI, skipping image...\n",
      " \n",
      "2022-07-18T20:00:00\n",
      "Image does not contain polygons... skipping.\n",
      "2022-07-28T20:00:00\n",
      "Classified image saved to file: /Users/raineyaberle/Google Drive/My Drive/Research/PhD/write-ups/CH1_snow_cover_mapping_methods_manuscript/Aberle_et_al_dataset_submission/Wolverine/AOIs/../imagery/classified/20220728T200000_Wolverine_PlanetScope_classified.nc\n",
      "Snowline saved to file: /Users/raineyaberle/Google Drive/My Drive/Research/PhD/write-ups/CH1_snow_cover_mapping_methods_manuscript/Aberle_et_al_dataset_submission/Wolverine/AOIs/../imagery/snowlines/20220728T200000_Wolverine_PlanetScope_snowline.csv\n"
     ]
    },
    {
     "name": "stderr",
     "output_type": "stream",
     "text": [
      "Clipping input data to the valid range for imshow with RGB data ([0..1] for floats or [0..255] for integers).\n"
     ]
    },
    {
     "name": "stdout",
     "output_type": "stream",
     "text": [
      "Figure saved to file:/Users/raineyaberle/Google Drive/My Drive/Research/PhD/write-ups/CH1_snow_cover_mapping_methods_manuscript/Aberle_et_al_dataset_submission/Wolverine/AOIs/../figures/20220728T200000_Wolverine_PlanetScope_snow-cover.png\n",
      "Accumulation Area Ratio =  0.9818067\n",
      " \n",
      "2022-07-29T20:00:00\n",
      "Less than 70% coverage of the AOI, skipping image...\n",
      " \n",
      "2022-08-02T20:00:00\n",
      "Less than 70% coverage of the AOI, skipping image...\n",
      " \n",
      "2022-08-03T21:00:00\n",
      "Classified image saved to file: /Users/raineyaberle/Google Drive/My Drive/Research/PhD/write-ups/CH1_snow_cover_mapping_methods_manuscript/Aberle_et_al_dataset_submission/Wolverine/AOIs/../imagery/classified/20220803T210000_Wolverine_PlanetScope_classified.nc\n",
      "Snowline saved to file: /Users/raineyaberle/Google Drive/My Drive/Research/PhD/write-ups/CH1_snow_cover_mapping_methods_manuscript/Aberle_et_al_dataset_submission/Wolverine/AOIs/../imagery/snowlines/20220803T210000_Wolverine_PlanetScope_snowline.csv\n"
     ]
    },
    {
     "name": "stderr",
     "output_type": "stream",
     "text": [
      "Clipping input data to the valid range for imshow with RGB data ([0..1] for floats or [0..255] for integers).\n"
     ]
    },
    {
     "name": "stdout",
     "output_type": "stream",
     "text": [
      "Figure saved to file:/Users/raineyaberle/Google Drive/My Drive/Research/PhD/write-ups/CH1_snow_cover_mapping_methods_manuscript/Aberle_et_al_dataset_submission/Wolverine/AOIs/../figures/20220803T210000_Wolverine_PlanetScope_snow-cover.png\n",
      "Accumulation Area Ratio =  0.78725594\n",
      " \n",
      "2022-08-08T20:00:00\n",
      "Less than 70% coverage of the AOI, skipping image...\n",
      " \n",
      "2022-08-12T20:00:00\n",
      "Less than 70% coverage of the AOI, skipping image...\n",
      " \n",
      "2022-08-13T20:00:00\n",
      "Less than 70% coverage of the AOI, skipping image...\n",
      " \n",
      "2022-09-28T20:00:00\n",
      "Less than 70% coverage of the AOI, skipping image...\n",
      " \n",
      "2022-09-29T20:00:00\n",
      "Classified image saved to file: /Users/raineyaberle/Google Drive/My Drive/Research/PhD/write-ups/CH1_snow_cover_mapping_methods_manuscript/Aberle_et_al_dataset_submission/Wolverine/AOIs/../imagery/classified/20220929T200000_Wolverine_PlanetScope_classified.nc\n",
      "Snowline saved to file: /Users/raineyaberle/Google Drive/My Drive/Research/PhD/write-ups/CH1_snow_cover_mapping_methods_manuscript/Aberle_et_al_dataset_submission/Wolverine/AOIs/../imagery/snowlines/20220929T200000_Wolverine_PlanetScope_snowline.csv\n"
     ]
    },
    {
     "name": "stderr",
     "output_type": "stream",
     "text": [
      "Clipping input data to the valid range for imshow with RGB data ([0..1] for floats or [0..255] for integers).\n"
     ]
    },
    {
     "name": "stdout",
     "output_type": "stream",
     "text": [
      "Figure saved to file:/Users/raineyaberle/Google Drive/My Drive/Research/PhD/write-ups/CH1_snow_cover_mapping_methods_manuscript/Aberle_et_al_dataset_submission/Wolverine/AOIs/../figures/20220929T200000_Wolverine_PlanetScope_snow-cover.png\n",
      "Accumulation Area Ratio =  0.82758373\n",
      " \n",
      "2022-09-30T20:00:00\n",
      "Less than 70% coverage of the AOI, skipping image...\n",
      " \n",
      "2022-10-03T20:00:00\n",
      "Less than 70% coverage of the AOI, skipping image...\n",
      " \n",
      "2022-10-04T20:00:00\n",
      "Less than 70% coverage of the AOI, skipping image...\n",
      " \n",
      "2022-10-05T21:00:00\n",
      "Less than 70% coverage of the AOI, skipping image...\n",
      " \n",
      "2022-10-07T20:00:00\n",
      "Error occurred in classification: Input X contains infinity or a value too large for dtype('float64').\n",
      "2022-10-08T20:00:00\n",
      "Classified image saved to file: /Users/raineyaberle/Google Drive/My Drive/Research/PhD/write-ups/CH1_snow_cover_mapping_methods_manuscript/Aberle_et_al_dataset_submission/Wolverine/AOIs/../imagery/classified/20221008T200000_Wolverine_PlanetScope_classified.nc\n",
      "Snowline saved to file: /Users/raineyaberle/Google Drive/My Drive/Research/PhD/write-ups/CH1_snow_cover_mapping_methods_manuscript/Aberle_et_al_dataset_submission/Wolverine/AOIs/../imagery/snowlines/20221008T200000_Wolverine_PlanetScope_snowline.csv\n"
     ]
    },
    {
     "name": "stderr",
     "output_type": "stream",
     "text": [
      "Clipping input data to the valid range for imshow with RGB data ([0..1] for floats or [0..255] for integers).\n"
     ]
    },
    {
     "name": "stdout",
     "output_type": "stream",
     "text": [
      "Figure saved to file:/Users/raineyaberle/Google Drive/My Drive/Research/PhD/write-ups/CH1_snow_cover_mapping_methods_manuscript/Aberle_et_al_dataset_submission/Wolverine/AOIs/../figures/20221008T200000_Wolverine_PlanetScope_snow-cover.png\n",
      "Accumulation Area Ratio =  0.9717537\n",
      " \n",
      "2022-10-11T20:00:00\n",
      "Classified image saved to file: /Users/raineyaberle/Google Drive/My Drive/Research/PhD/write-ups/CH1_snow_cover_mapping_methods_manuscript/Aberle_et_al_dataset_submission/Wolverine/AOIs/../imagery/classified/20221011T200000_Wolverine_PlanetScope_classified.nc\n",
      "Snowline saved to file: /Users/raineyaberle/Google Drive/My Drive/Research/PhD/write-ups/CH1_snow_cover_mapping_methods_manuscript/Aberle_et_al_dataset_submission/Wolverine/AOIs/../imagery/snowlines/20221011T200000_Wolverine_PlanetScope_snowline.csv\n"
     ]
    },
    {
     "name": "stderr",
     "output_type": "stream",
     "text": [
      "Clipping input data to the valid range for imshow with RGB data ([0..1] for floats or [0..255] for integers).\n"
     ]
    },
    {
     "name": "stdout",
     "output_type": "stream",
     "text": [
      "Figure saved to file:/Users/raineyaberle/Google Drive/My Drive/Research/PhD/write-ups/CH1_snow_cover_mapping_methods_manuscript/Aberle_et_al_dataset_submission/Wolverine/AOIs/../figures/20221011T200000_Wolverine_PlanetScope_snow-cover.png\n",
      "Accumulation Area Ratio =  0.960097\n",
      " \n",
      "2022-10-12T20:00:00\n",
      "Less than 70% coverage of the AOI, skipping image...\n",
      " \n",
      "2022-10-13T20:00:00\n",
      "Classified image saved to file: /Users/raineyaberle/Google Drive/My Drive/Research/PhD/write-ups/CH1_snow_cover_mapping_methods_manuscript/Aberle_et_al_dataset_submission/Wolverine/AOIs/../imagery/classified/20221013T200000_Wolverine_PlanetScope_classified.nc\n",
      "Snowline saved to file: /Users/raineyaberle/Google Drive/My Drive/Research/PhD/write-ups/CH1_snow_cover_mapping_methods_manuscript/Aberle_et_al_dataset_submission/Wolverine/AOIs/../imagery/snowlines/20221013T200000_Wolverine_PlanetScope_snowline.csv\n"
     ]
    },
    {
     "name": "stderr",
     "output_type": "stream",
     "text": [
      "Clipping input data to the valid range for imshow with RGB data ([0..1] for floats or [0..255] for integers).\n"
     ]
    },
    {
     "name": "stdout",
     "output_type": "stream",
     "text": [
      "Figure saved to file:/Users/raineyaberle/Google Drive/My Drive/Research/PhD/write-ups/CH1_snow_cover_mapping_methods_manuscript/Aberle_et_al_dataset_submission/Wolverine/AOIs/../figures/20221013T200000_Wolverine_PlanetScope_snow-cover.png\n",
      "Accumulation Area Ratio =  0.9036646\n",
      " \n",
      "2022-10-14T20:00:00\n",
      "Classified image saved to file: /Users/raineyaberle/Google Drive/My Drive/Research/PhD/write-ups/CH1_snow_cover_mapping_methods_manuscript/Aberle_et_al_dataset_submission/Wolverine/AOIs/../imagery/classified/20221014T200000_Wolverine_PlanetScope_classified.nc\n",
      "Snowline saved to file: /Users/raineyaberle/Google Drive/My Drive/Research/PhD/write-ups/CH1_snow_cover_mapping_methods_manuscript/Aberle_et_al_dataset_submission/Wolverine/AOIs/../imagery/snowlines/20221014T200000_Wolverine_PlanetScope_snowline.csv\n"
     ]
    },
    {
     "name": "stderr",
     "output_type": "stream",
     "text": [
      "Clipping input data to the valid range for imshow with RGB data ([0..1] for floats or [0..255] for integers).\n"
     ]
    },
    {
     "name": "stdout",
     "output_type": "stream",
     "text": [
      "Figure saved to file:/Users/raineyaberle/Google Drive/My Drive/Research/PhD/write-ups/CH1_snow_cover_mapping_methods_manuscript/Aberle_et_al_dataset_submission/Wolverine/AOIs/../figures/20221014T200000_Wolverine_PlanetScope_snow-cover.png\n",
      "Accumulation Area Ratio =  0.9864019\n",
      " \n",
      "2022-10-15T20:00:00\n",
      "Classified image saved to file: /Users/raineyaberle/Google Drive/My Drive/Research/PhD/write-ups/CH1_snow_cover_mapping_methods_manuscript/Aberle_et_al_dataset_submission/Wolverine/AOIs/../imagery/classified/20221015T200000_Wolverine_PlanetScope_classified.nc\n",
      "Snowline saved to file: /Users/raineyaberle/Google Drive/My Drive/Research/PhD/write-ups/CH1_snow_cover_mapping_methods_manuscript/Aberle_et_al_dataset_submission/Wolverine/AOIs/../imagery/snowlines/20221015T200000_Wolverine_PlanetScope_snowline.csv\n"
     ]
    },
    {
     "name": "stderr",
     "output_type": "stream",
     "text": [
      "Clipping input data to the valid range for imshow with RGB data ([0..1] for floats or [0..255] for integers).\n"
     ]
    },
    {
     "name": "stdout",
     "output_type": "stream",
     "text": [
      "Figure saved to file:/Users/raineyaberle/Google Drive/My Drive/Research/PhD/write-ups/CH1_snow_cover_mapping_methods_manuscript/Aberle_et_al_dataset_submission/Wolverine/AOIs/../figures/20221015T200000_Wolverine_PlanetScope_snow-cover.png\n",
      "Accumulation Area Ratio =  0.95853883\n",
      " \n",
      "2022-10-16T20:00:00\n",
      "Less than 70% coverage of the AOI, skipping image...\n",
      " \n",
      "2022-10-19T20:00:00\n",
      "Classified image saved to file: /Users/raineyaberle/Google Drive/My Drive/Research/PhD/write-ups/CH1_snow_cover_mapping_methods_manuscript/Aberle_et_al_dataset_submission/Wolverine/AOIs/../imagery/classified/20221019T200000_Wolverine_PlanetScope_classified.nc\n",
      "Snowline saved to file: /Users/raineyaberle/Google Drive/My Drive/Research/PhD/write-ups/CH1_snow_cover_mapping_methods_manuscript/Aberle_et_al_dataset_submission/Wolverine/AOIs/../imagery/snowlines/20221019T200000_Wolverine_PlanetScope_snowline.csv\n"
     ]
    },
    {
     "name": "stderr",
     "output_type": "stream",
     "text": [
      "Clipping input data to the valid range for imshow with RGB data ([0..1] for floats or [0..255] for integers).\n"
     ]
    },
    {
     "name": "stdout",
     "output_type": "stream",
     "text": [
      "Figure saved to file:/Users/raineyaberle/Google Drive/My Drive/Research/PhD/write-ups/CH1_snow_cover_mapping_methods_manuscript/Aberle_et_al_dataset_submission/Wolverine/AOIs/../figures/20221019T200000_Wolverine_PlanetScope_snow-cover.png\n",
      "Accumulation Area Ratio =  0.9185681\n",
      " \n",
      "2022-10-21T20:00:00\n",
      "Classified image saved to file: /Users/raineyaberle/Google Drive/My Drive/Research/PhD/write-ups/CH1_snow_cover_mapping_methods_manuscript/Aberle_et_al_dataset_submission/Wolverine/AOIs/../imagery/classified/20221021T200000_Wolverine_PlanetScope_classified.nc\n",
      "Snowline saved to file: /Users/raineyaberle/Google Drive/My Drive/Research/PhD/write-ups/CH1_snow_cover_mapping_methods_manuscript/Aberle_et_al_dataset_submission/Wolverine/AOIs/../imagery/snowlines/20221021T200000_Wolverine_PlanetScope_snowline.csv\n"
     ]
    },
    {
     "name": "stderr",
     "output_type": "stream",
     "text": [
      "Clipping input data to the valid range for imshow with RGB data ([0..1] for floats or [0..255] for integers).\n"
     ]
    },
    {
     "name": "stdout",
     "output_type": "stream",
     "text": [
      "Figure saved to file:/Users/raineyaberle/Google Drive/My Drive/Research/PhD/write-ups/CH1_snow_cover_mapping_methods_manuscript/Aberle_et_al_dataset_submission/Wolverine/AOIs/../figures/20221021T200000_Wolverine_PlanetScope_snow-cover.png\n",
      "Accumulation Area Ratio =  0.9175695\n",
      " \n",
      "2022-10-22T20:00:00\n",
      "Classified image saved to file: /Users/raineyaberle/Google Drive/My Drive/Research/PhD/write-ups/CH1_snow_cover_mapping_methods_manuscript/Aberle_et_al_dataset_submission/Wolverine/AOIs/../imagery/classified/20221022T200000_Wolverine_PlanetScope_classified.nc\n",
      "Snowline saved to file: /Users/raineyaberle/Google Drive/My Drive/Research/PhD/write-ups/CH1_snow_cover_mapping_methods_manuscript/Aberle_et_al_dataset_submission/Wolverine/AOIs/../imagery/snowlines/20221022T200000_Wolverine_PlanetScope_snowline.csv\n"
     ]
    },
    {
     "name": "stderr",
     "output_type": "stream",
     "text": [
      "Clipping input data to the valid range for imshow with RGB data ([0..1] for floats or [0..255] for integers).\n"
     ]
    },
    {
     "name": "stdout",
     "output_type": "stream",
     "text": [
      "Figure saved to file:/Users/raineyaberle/Google Drive/My Drive/Research/PhD/write-ups/CH1_snow_cover_mapping_methods_manuscript/Aberle_et_al_dataset_submission/Wolverine/AOIs/../figures/20221022T200000_Wolverine_PlanetScope_snow-cover.png\n",
      "Accumulation Area Ratio =  0.976533\n",
      " \n",
      "2022-10-23T20:00:00\n",
      "Classified image saved to file: /Users/raineyaberle/Google Drive/My Drive/Research/PhD/write-ups/CH1_snow_cover_mapping_methods_manuscript/Aberle_et_al_dataset_submission/Wolverine/AOIs/../imagery/classified/20221023T200000_Wolverine_PlanetScope_classified.nc\n",
      "Snowline saved to file: /Users/raineyaberle/Google Drive/My Drive/Research/PhD/write-ups/CH1_snow_cover_mapping_methods_manuscript/Aberle_et_al_dataset_submission/Wolverine/AOIs/../imagery/snowlines/20221023T200000_Wolverine_PlanetScope_snowline.csv\n"
     ]
    },
    {
     "name": "stderr",
     "output_type": "stream",
     "text": [
      "Clipping input data to the valid range for imshow with RGB data ([0..1] for floats or [0..255] for integers).\n"
     ]
    },
    {
     "name": "stdout",
     "output_type": "stream",
     "text": [
      "Figure saved to file:/Users/raineyaberle/Google Drive/My Drive/Research/PhD/write-ups/CH1_snow_cover_mapping_methods_manuscript/Aberle_et_al_dataset_submission/Wolverine/AOIs/../figures/20221023T200000_Wolverine_PlanetScope_snow-cover.png\n",
      "Accumulation Area Ratio =  0.18410353\n",
      " \n",
      "2022-10-24T20:00:00\n",
      "Classified image saved to file: /Users/raineyaberle/Google Drive/My Drive/Research/PhD/write-ups/CH1_snow_cover_mapping_methods_manuscript/Aberle_et_al_dataset_submission/Wolverine/AOIs/../imagery/classified/20221024T200000_Wolverine_PlanetScope_classified.nc\n",
      "Snowline saved to file: /Users/raineyaberle/Google Drive/My Drive/Research/PhD/write-ups/CH1_snow_cover_mapping_methods_manuscript/Aberle_et_al_dataset_submission/Wolverine/AOIs/../imagery/snowlines/20221024T200000_Wolverine_PlanetScope_snowline.csv\n"
     ]
    },
    {
     "name": "stderr",
     "output_type": "stream",
     "text": [
      "Clipping input data to the valid range for imshow with RGB data ([0..1] for floats or [0..255] for integers).\n"
     ]
    },
    {
     "name": "stdout",
     "output_type": "stream",
     "text": [
      "Figure saved to file:/Users/raineyaberle/Google Drive/My Drive/Research/PhD/write-ups/CH1_snow_cover_mapping_methods_manuscript/Aberle_et_al_dataset_submission/Wolverine/AOIs/../figures/20221024T200000_Wolverine_PlanetScope_snow-cover.png\n",
      "Accumulation Area Ratio =  0.9529872\n",
      " \n",
      "2022-10-25T20:00:00\n",
      "Classified image saved to file: /Users/raineyaberle/Google Drive/My Drive/Research/PhD/write-ups/CH1_snow_cover_mapping_methods_manuscript/Aberle_et_al_dataset_submission/Wolverine/AOIs/../imagery/classified/20221025T200000_Wolverine_PlanetScope_classified.nc\n",
      "Snowline saved to file: /Users/raineyaberle/Google Drive/My Drive/Research/PhD/write-ups/CH1_snow_cover_mapping_methods_manuscript/Aberle_et_al_dataset_submission/Wolverine/AOIs/../imagery/snowlines/20221025T200000_Wolverine_PlanetScope_snowline.csv\n"
     ]
    },
    {
     "name": "stderr",
     "output_type": "stream",
     "text": [
      "Clipping input data to the valid range for imshow with RGB data ([0..1] for floats or [0..255] for integers).\n"
     ]
    },
    {
     "name": "stdout",
     "output_type": "stream",
     "text": [
      "Figure saved to file:/Users/raineyaberle/Google Drive/My Drive/Research/PhD/write-ups/CH1_snow_cover_mapping_methods_manuscript/Aberle_et_al_dataset_submission/Wolverine/AOIs/../figures/20221025T200000_Wolverine_PlanetScope_snow-cover.png\n",
      "Accumulation Area Ratio =  0.58962446\n",
      " \n"
     ]
    }
   ],
   "source": [
    "# -----Load trained classifier and feature columns\n",
    "clf_fn = os.path.join(base_path, 'inputs-outputs', 'PlanetScope_classifier_all_sites.joblib')\n",
    "clf = load(clf_fn)\n",
    "feature_cols_fn = os.path.join(base_path, 'inputs-outputs', 'PlanetScope_feature_columns.json')\n",
    "feature_cols = json.load(open(feature_cols_fn))\n",
    "dataset = 'PlanetScope'\n",
    "\n",
    "# -----Iterate over image mosaics\n",
    "# read image mosaic file names\n",
    "os.chdir(ps_im_mosaics_path)\n",
    "im_mosaic_fns = sorted(glob.glob('2022*.tif'))\n",
    "# create polygon(s) of the top and bottom 20th percentile elevations within the AOI\n",
    "polygons_top, polygons_bottom = psp.create_aoi_elev_polys(aoi_utm, dem)\n",
    "# loop through images\n",
    "for im_mosaic_fn in tqdm(im_mosaic_fns):\n",
    "\n",
    "    # -----Determine image date from image mosaic file name\n",
    "    im_date = im_mosaic_fn[0:4] + '-' + im_mosaic_fn[4:6] + '-' + im_mosaic_fn[6:8] + 'T' + im_mosaic_fn[9:11] + ':00:00'\n",
    "    im_dt = np.datetime64(im_date)\n",
    "    if verbose:\n",
    "        print(im_date)\n",
    "            \n",
    "    # -----Check if classified image already exists in file\n",
    "    # check if classified image already exists in file\n",
    "    im_classified_fn = im_date.replace('-', '').replace(':',\n",
    "                                                        '') + '_' + site_name + '_' + dataset + '_classified.nc'\n",
    "    if os.path.exists(os.path.join(im_classified_path, im_classified_fn)):\n",
    "        if verbose:\n",
    "            print('Classified image already exists in file, loading...')\n",
    "        im_classified = xr.open_dataset(os.path.join(im_classified_path, im_classified_fn))\n",
    "        \n",
    "        # remove no data values\n",
    "        im_classified = xr.where(im_classified == -9999, np.nan, im_classified)\n",
    "        # reproject to UTM\n",
    "        im_classified = im_classified.rio.write_crs('EPSG:4326')\n",
    "        im_classified = im_classified.rio.reproject('EPSG:' + epsg_utm)\n",
    "    else:\n",
    "    \n",
    "        # -----Open image mosaic\n",
    "        im_da = xr.open_dataset(os.path.join(ps_im_mosaics_path, im_mosaic_fn))\n",
    "\n",
    "        # -----Adjust radiometry\n",
    "        im_adj, im_adj_method = psp.planetscope_adjust_image_radiometry(im_da, im_dt, polygons_top, polygons_bottom,\n",
    "                                                                        dataset_dict, skip_clipped)\n",
    "        if type(im_adj) is str:  # skip if there was an error in adjustment\n",
    "            continue\n",
    "\n",
    "        # -----Check that image mosaic covers at least 70% of the AOI\n",
    "        # Create dummy band for AOI masking comparison\n",
    "        im_adj['aoi_mask'] = (['time', 'y', 'x'], np.ones(np.shape(im_adj[dataset_dict[dataset]['RGB_bands'][0]].data)))\n",
    "        im_aoi = im_adj.rio.clip(aoi_utm.geometry, im_adj.rio.crs)\n",
    "        # Calculate the percentage of real values in the AOI    \n",
    "        perc_real_values_aoi = (len(np.where(~np.isnan(np.ravel(im_aoi[dataset_dict[dataset]['RGB_bands'][0]].data)))[0])\n",
    "                                / len(np.where(~np.isnan(np.ravel(im_aoi['aoi_mask'].data)))[0]))\n",
    "        if perc_real_values_aoi < 0.7:\n",
    "            if verbose:\n",
    "                print('Less than 70% coverage of the AOI, skipping image...')\n",
    "                print(' ')\n",
    "            continue\n",
    "\n",
    "        # -----Classify image\n",
    "        im_classified = f.classify_image(im_adj, clf, feature_cols, aoi_utm, dataset_dict,\n",
    "                                         dataset, im_classified_fn, im_classified_path, verbose)\n",
    "        if type(im_classified) == str:\n",
    "            continue\n",
    "\n",
    "    # -----Delineate snowline(s)\n",
    "    # check if snowline already exists in file\n",
    "    snowline_fn = im_date.replace('-', '').replace(':', '') + '_' + site_name + '_' + dataset + '_snowline.csv'\n",
    "    if os.path.exists(os.path.join(snowlines_path, snowline_fn)):\n",
    "        if verbose:\n",
    "            print('Snowline already exists in file, skipping...')\n",
    "            print(' ')\n",
    "        continue    \n",
    "    else:\n",
    "        plot_results = True\n",
    "        snowline_df = f.delineate_snowline(im_classified, site_name, aoi_utm, dem, dataset_dict,\n",
    "                                           dataset, im_date, snowline_fn, snowlines_path, figures_out_path,\n",
    "                                           plot_results, im_adj, verbose)\n",
    "        plt.close()\n",
    "        if verbose:\n",
    "            print('Accumulation Area Ratio =  ' + str(snowline_df['AAR'][0]))\n",
    "    if verbose:\n",
    "        print(' ')"
   ]
  },
  {
   "cell_type": "code",
   "execution_count": null,
   "id": "d7aff196-9626-4b0a-a7b5-cafd770944ff",
   "metadata": {},
   "outputs": [],
   "source": []
  }
 ],
 "metadata": {
  "kernelspec": {
   "display_name": "snow-cover-mapping",
   "language": "python",
   "name": "snow-cover-mapping"
  },
  "language_info": {
   "codemirror_mode": {
    "name": "ipython",
    "version": 3
   },
   "file_extension": ".py",
   "mimetype": "text/x-python",
   "name": "python",
   "nbconvert_exporter": "python",
   "pygments_lexer": "ipython3",
   "version": "3.11.5"
  }
 },
 "nbformat": 4,
 "nbformat_minor": 5
}
