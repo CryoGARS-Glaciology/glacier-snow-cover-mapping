{
 "cells": [
  {
   "cell_type": "markdown",
   "metadata": {},
   "source": [
    "## Notebook to bulk download PlanetScope 4-band imagery through the Planet API\n",
    "\n",
    "### _WARNING: has not been updated since the update from Planet SDK V1 -> V2_\n",
    "\n",
    "\n",
    "Rainey Aberle\n",
    "\n",
    "Modified from [Planet Developers API Tutorial](https://developers.planet.com/docs/apis/data/) and the Planet Labs Jupyter Notebooks for [API orders tutorials](https://github.com/planetlabs/notebooks/tree/665f165e59f2c3584976ad2dde569c649e631c0b/jupyter-notebooks/orders_api_tutorials)."
   ]
  },
  {
   "cell_type": "markdown",
   "metadata": {},
   "source": [
    "### 1. Define paths in directory and setup filters for image search. \n",
    "\n",
    "#### _MODIFY THIS CELL_"
   ]
  },
  {
   "cell_type": "code",
   "execution_count": null,
   "metadata": {},
   "outputs": [],
   "source": [
    "# -----Define paths in directory\n",
    "site_name = 'SouthCascade'\n",
    "# path to snow-cover-mapping/\n",
    "base_path = '/Users/raineyaberle/Research/PhD/snow_cover_mapping/snow-cover-mapping/' \n",
    "# path for saving image downloads\n",
    "out_path = '/Users/raineyaberle/Google Drive/My Drive/Research/PhD/snow_cover_mapping/study-sites/' + site_name + '/imagery/RapidEye/'\n",
    "\n",
    "# -----Area of Interest (AOI)\n",
    "# Path and filename of your AOI shapefile\n",
    "AOI_path = '/Users/raineyaberle/Google Drive/My Drive/Research/PhD/snow_cover_mapping/study-sites/' + site_name + '/AOIs/'\n",
    "AOI_fn = 'SouthCascade_RGI_outline.shp'\n",
    "\n",
    "# -----Date Range\n",
    "# Format: 'YYYY-MM-DD'\n",
    "start_date = '2011-05-01'\n",
    "end_date = '2011-11-01'\n",
    "\n",
    "# -----Cloud Cover Filter\n",
    "# Format: decimal (e.g., 50% max cloud cover = 0.5)\n",
    "max_cloud_cover = 0.8\n",
    "\n",
    "# -----Item Type\n",
    "# See here for possible image (\"item\") types:\n",
    "# https://developers.planet.com/docs/apis/data/items-assets/\n",
    "# For PlanetScope Scene, item_type = \"PSScene\"\n",
    "# For RapidEye Orthorectified Scene, item_type = \"REOrthoTile\"\n",
    "item_type = \"REOrthoTile\"\n",
    "\n",
    "# -----Asset Type\n",
    "# Each Item Type has a number of image (\"asset\") types to choose from.\n",
    "# See here for the asset types available for your item type:\n",
    "# https://developers.planet.com/docs/apis/data/items-assets/\n",
    "# For PlanetScope orthorectified 4-band surface reflectance products, asset_type = \"ortho_analytic_4b_sr\"\n",
    "# For RapidEye orthorectified 5-band surface refelctance products, asset_type = \"analytic_sr\"\n",
    "asset_type = \"analytic_sr\"\n",
    "\n",
    "# -----AOI clipping\n",
    "# Determine whether to clip images to the AOI (True/False)\n",
    "# This greatly speeds up the ordering and downloading process and decreases the usage of your imagery quota\n",
    "clip_to_AOI = True\n",
    "\n",
    "# -----Sentinel-2 Harmonization\n",
    "# option to harmonize PlanetScope imagery to Sentinel-2\n",
    "harmonize = False # = True to harmonize\n",
    "\n",
    "# -----Name of order\n",
    "# Once requested, this makes it easier to locate the order on your \"My Orders\" page \n",
    "# in order to check the status or to re-download items via the website, etc. \n",
    "order_name = site_name + '_' + item_type[0:2] + '_' + start_date[0:4]\n",
    "print('Order name: ' + request_name)"
   ]
  },
  {
   "cell_type": "code",
   "execution_count": null,
   "metadata": {},
   "outputs": [],
   "source": [
    "# -----Import packages\n",
    "import os\n",
    "import glob\n",
    "import json\n",
    "from getpass import getpass\n",
    "from planet import Auth, Session, OrdersClient, reporting\n",
    "import requests\n",
    "from requests.auth import HTTPBasicAuth\n",
    "import geopandas as gpd\n",
    "from shapely import geometry as sgeom\n",
    "import rioxarray as rxr\n",
    "import numpy as np\n",
    "import matplotlib.pyplot as plt\n",
    "import sys\n",
    "from pathlib import Path\n",
    "\n",
    "# add path to functions\n",
    "sys.path.insert(1, base_path+'functions/')\n",
    "import PlanetScope_orders_utils as orders_utils\n",
    "import pipeline_utils as f"
   ]
  },
  {
   "cell_type": "markdown",
   "metadata": {},
   "source": [
    "### 2. Authenticate your Planet account\n",
    "\n",
    "Requires your Planet API Key. To find your API Key, Login to your account at [planet.com](https://www.planet.com/) and go to \"My Settings\". \n",
    "\n",
    "If output is `<Repsonse [200]>`, authentication was successful. "
   ]
  },
  {
   "cell_type": "code",
   "execution_count": null,
   "metadata": {},
   "outputs": [],
   "source": [
    "# set API key as environment variable\n",
    "API_key = getpass('Enter Planet API Key, then press Enter:')\n",
    "os.environ['PL_API_KEY'] = API_key\n",
    "\n",
    "# Setup the API Key stored as the `PL_API_KEY` environment variable\n",
    "PLANET_API_KEY = os.getenv('PL_API_KEY')\n",
    "\n",
    "# Orders URL\n",
    "orders_url = 'https://api.planet.com/compute/ops/orders/v2'\n",
    "\n",
    "# Authorize\n",
    "auth = HTTPBasicAuth(PLANET_API_KEY, '')\n",
    "response = requests.get(orders_url, auth=auth)\n",
    "response"
   ]
  },
  {
   "cell_type": "markdown",
   "metadata": {},
   "source": [
    "### 3. Reformat AOI for querying"
   ]
  },
  {
   "cell_type": "code",
   "execution_count": null,
   "metadata": {},
   "outputs": [],
   "source": [
    "# -----Read in the shapefile\n",
    "AOI = gpd.read_file(AOI_path + AOI_fn)\n",
    "# Reproject to WGS84 if necessary\n",
    "AOI = AOI.to_crs('EPSG:4326')\n",
    "\n",
    "# -----Convert AOI bounding box to geoJSON format\n",
    "# Planet only excepts a bounding box as a spatial filter, \n",
    "# so we need to convert our AOI to a box (if it is not already). \n",
    "AOI_box = {u'type': u'Polygon',\n",
    "            u'coordinates': [[\n",
    "               [AOI.bounds.minx[0],AOI.bounds.miny[0]],\n",
    "               [AOI.bounds.maxx[0],AOI.bounds.miny[0]],\n",
    "               [AOI.bounds.maxx[0],AOI.bounds.maxy[0]],\n",
    "               [AOI.bounds.minx[0],AOI.bounds.maxy[0]],\n",
    "               [AOI.bounds.minx[0],AOI.bounds.miny[0]]\n",
    "            ]]\n",
    "          }\n",
    "# Convert AOI geojson to a rasterio Shape for Quick Search function\n",
    "AOI_box_shape = sgeom.shape(AOI_box)\n",
    "\n",
    "# -----Plot AOI and bounding box\n",
    "fig, ax1 = plt.subplots(1, 1, figsize=(8,8))\n",
    "AOI.plot(ax=ax1, facecolor='none') # AOI\n",
    "ax1.plot(*AOI_box_shape.exterior.xy) # AOI box\n",
    "ax1.set_title('AOI outline and bounding box')\n",
    "ax1.set_xlabel('Longitude')\n",
    "ax1.set_ylabel('Latitude')\n",
    "plt.show()"
   ]
  },
  {
   "cell_type": "markdown",
   "metadata": {},
   "source": [
    "### 4. Compile filters to create a Quick Search request\n",
    "\n",
    "Use Quick Search first to grab image IDs before ordering"
   ]
  },
  {
   "cell_type": "code",
   "execution_count": null,
   "metadata": {},
   "outputs": [],
   "source": [
    "# -----Build QuickSearch request\n",
    "QS_request = orders_utils.build_quick_search_request(AOI_box_shape, max_cloud_cover, start_date, end_date, item_type, asset_type)\n",
    "        \n",
    "# -----Planet API Quick Search using created request\n",
    "# fire off the POST request\n",
    "QS_result = \\\n",
    "  requests.post(\n",
    "    'https://api.planet.com/data/v1/quick-search',\n",
    "    auth=HTTPBasicAuth(PLANET_API_KEY, ''),\n",
    "    json=QS_request)\n",
    "# Print resulting image IDs\n",
    "im_ids = [feature['id'] for feature in QS_result.json()['features']]\n",
    "im_ids = sorted(im_ids)\n",
    "print(len(im_ids),'images found')"
   ]
  },
  {
   "cell_type": "code",
   "execution_count": null,
   "metadata": {},
   "outputs": [],
   "source": [
    "# only download images that don't already exist in directory\n",
    "im_ids_filtered = []\n",
    "for im_id in im_ids:\n",
    "    num_exist = len(glob.glob(out_path + 'raw_images' + im_id+'*.tif'))\n",
    "    if num_exist==0:\n",
    "        im_ids_filtered = im_ids_filtered + [im_id]\n",
    "print(str(len(im_ids_filtered)) + ' new images to be downloaded')"
   ]
  },
  {
   "cell_type": "markdown",
   "metadata": {},
   "source": [
    "### 5. Place order and poll for success\n",
    "\n",
    "This section compiles the request and places the order with outputs on the order status every ~5 seconds. Download will begin when the console outputs \"success\". "
   ]
  },
  {
   "cell_type": "code",
   "execution_count": null,
   "metadata": {
    "scrolled": true,
    "tags": []
   },
   "outputs": [],
   "source": [
    "# -----Build new request\n",
    "request = orders_utils.build_request_with_item_ids(request_name, AOI_box, clip_to_AOI, harmonize, \n",
    "                                                   im_ids_filtered, item_type, asset_type)\n",
    "\n",
    "# -----Place order and download results\n",
    "async def create_poll_and_download():\n",
    "    async with Session(auth=auth) as sess:\n",
    "        cl = OrdersClient(sess)\n",
    "\n",
    "        # Use \"reporting\" to manage polling for order status\n",
    "        with reporting.StateBar(state='creating') as bar:\n",
    "            # create order via Orders client\n",
    "            order = await cl.create_order(request)\n",
    "            bar.update(state='created', order_id=order['id'])\n",
    "\n",
    "            # poll...poll...poll...\n",
    "            # setting max_attempts=0 means there is no limit on the number of attempts\n",
    "            await cl.wait(order['id'], callback=bar.update_state, max_attempts=0)\n",
    "\n",
    "        # if we get here that means the order completed. Yay! Download the files.\n",
    "        await cl.download_order(order['id'], directory=Path(out_path))\n",
    "        \n",
    "# remember: \"await\" to run the thing\n",
    "await create_poll_and_download()"
   ]
  },
  {
   "cell_type": "markdown",
   "metadata": {},
   "source": [
    "### _Optional:_ Plot downloaded images"
   ]
  },
  {
   "cell_type": "code",
   "execution_count": null,
   "metadata": {},
   "outputs": [],
   "source": [
    "# -----Grab output image file names\n",
    "# set image output folder\n",
    "im_path = out_path + 'a590c954-2cd4-49a2-a149-1e808d645b0a/REOrthoTile/'\n",
    "# change directory to im_path\n",
    "os.chdir(im_path) \n",
    "# grab image file names\n",
    "im_fns = glob.glob('*SR*.tif')\n",
    "\n",
    "# -----Loop through files\n",
    "for im_fn in im_fns:\n",
    "    \n",
    "    # open image\n",
    "    im = rxr.open_rasterio(im_fn)\n",
    "    # account for image scalar\n",
    "    im_scalar = 1e4\n",
    "    im = im / im_scalar\n",
    "    # replace no data values with NaN\n",
    "    im = im.where(im!=-9999)\n",
    "    \n",
    "    # plot RGB image\n",
    "    fig, ax = plt.subplots(1, 1, figsize=(6,6))\n",
    "    ax.imshow(np.dstack([im.data[2], im.data[1], im.data[0]]), \n",
    "              extent=(im.x.data[0]/1e3, im.x.data[-1]/1e3, im.y.data[0]/1e3, im.y.data[-1]/1e3))\n",
    "    ax.set_xlabel('Easting [km]')\n",
    "    ax.set_ylabel('Northing [km]')\n",
    "    ax.set_title(im_fn[0:8])\n",
    "    plt.show()"
   ]
  },
  {
   "cell_type": "code",
   "execution_count": null,
   "metadata": {},
   "outputs": [],
   "source": []
  }
 ],
 "metadata": {
  "kernelspec": {
   "display_name": "Python 3 (ipykernel)",
   "language": "python",
   "name": "python3"
  },
  "language_info": {
   "codemirror_mode": {
    "name": "ipython",
    "version": 3
   },
   "file_extension": ".py",
   "mimetype": "text/x-python",
   "name": "python",
   "nbconvert_exporter": "python",
   "pygments_lexer": "ipython3",
   "version": "3.11.3"
  },
  "varInspector": {
   "cols": {
    "lenName": 16,
    "lenType": 16,
    "lenVar": 40
   },
   "kernels_config": {
    "python": {
     "delete_cmd_postfix": "",
     "delete_cmd_prefix": "del ",
     "library": "var_list.py",
     "varRefreshCmd": "print(var_dic_list())"
    },
    "r": {
     "delete_cmd_postfix": ") ",
     "delete_cmd_prefix": "rm(",
     "library": "var_list.r",
     "varRefreshCmd": "cat(var_dic_list()) "
    }
   },
   "types_to_exclude": [
    "module",
    "function",
    "builtin_function_or_method",
    "instance",
    "_Feature"
   ],
   "window_display": false
  }
 },
 "nbformat": 4,
 "nbformat_minor": 4
}
