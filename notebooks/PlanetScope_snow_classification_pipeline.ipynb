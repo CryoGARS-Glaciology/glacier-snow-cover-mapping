{
 "cells": [
  {
   "cell_type": "markdown",
   "id": "4a0b599d",
   "metadata": {},
   "source": [
    "# Classify snow-covered area (SCA) in PlanetScope iamgery: full pipeline\n",
    "\n",
    "Rainey Aberle\n",
    "\n",
    "Department of Geosciences, Boise State University\n",
    "\n",
    "2022\n",
    "\n",
    "### Requirements:\n",
    "- Planet account with access to PlanetScope imagery through the NASA CSDA contract. Sign up __[here](https://www.planet.com/markets/nasa/)__.\n",
    "- Area of Interest (AOI) shapefile: where snow will be classified in each image. \n",
    "- PlanetScope 4-band image collection over the AOI. Download images using `planetAPI_image_download.ipynb` or through [PlanetExplorer](https://www.planet.com/explorer/). \n",
    "- Google Earth Engine (GEE) account: used to pull DEM over the AOI. Sign up for a free account [here](). \n",
    "\n",
    "\n",
    "### Outline:\n",
    "__0. Setup__ paths in directory, AOI file location - _modify this section!_\n",
    "\n",
    "__1. Mosaic images__ captured in the same hour\n",
    "\n",
    "__2. Adjust image radiometry__ using median surface reflectance at the top perentile of elevations\n",
    "\n",
    "__3. Classify SCA__ and use the snow elevations distribution to estimate the seasonal snowline\n",
    "\n",
    "__4. Estimate snow line__ and snow line elevations\n",
    "\n",
    "----------"
   ]
  },
  {
   "cell_type": "markdown",
   "id": "e1054ad9",
   "metadata": {},
   "source": [
    "## 0. Setup\n",
    "\n",
    "#### Define paths in directory, image file extensions, and desired settings. \n",
    "Modify lines located within the following:\n",
    "\n",
    "`#### MODIFY HERE ####`  \n",
    "\n",
    "`#####################`"
   ]
  },
  {
   "cell_type": "code",
   "execution_count": 1,
   "id": "c59b1a64",
   "metadata": {},
   "outputs": [],
   "source": [
    "##### MODIFY HERE #####\n",
    "# -----Path to snow-cover-mapping\n",
    "base_path = '/Users/raineyaberle/Research/PhD/snow_cover_mapping/snow-cover-mapping/'\n",
    "\n",
    "# -----Paths in directory\n",
    "site_name = 'Gulkana'\n",
    "# path to images\n",
    "im_path = base_path+'../study-sites/'+site_name+'/imagery/PlanetScope/2016-2021/'\n",
    "# path to AOI including the name of the shapefile\n",
    "AOI_fn = base_path+'../../GIS_data/RGI_outlines/'+site_name+'_RGI.shp'\n",
    "# path for output images\n",
    "out_path = im_path+'../'\n",
    "# path for output figures\n",
    "figures_out_path = im_path+'../../../figures/'\n",
    "\n",
    "# -----Image file extensions (for mosaicing)\n",
    "ext = 'SR_clip'\n",
    "\n",
    "# -----Determine settings\n",
    "plot_results = True # = True to plot figures of results for each image where applicable\n",
    "skip_clipped = False # = True to skip images where bands appear \"clipped\", i.e. max blue SR < 0.8\n",
    "crop_to_AOI = True # = True to crop images to AOI before calculating SCA\n",
    "save_outputs = True # = True to save SCA images to file\n",
    "save_figures = True # = True to save SCA output figures to file\n",
    "\n",
    "#######################\n",
    "\n",
    "# -----Import packages\n",
    "import os\n",
    "import numpy as np\n",
    "import glob\n",
    "import subprocess\n",
    "from matplotlib.patches import Rectangle\n",
    "from matplotlib import pyplot as plt, dates\n",
    "import rasterio as rio\n",
    "from scipy import stats\n",
    "import pandas as pd\n",
    "import geopandas as gpd\n",
    "import sys\n",
    "import time\n",
    "import ee\n",
    "import pickle\n",
    "\n",
    "# -----Add path to functions\n",
    "sys.path.insert(1, base_path+'functions/')\n",
    "import ps_pipeline_utils as f\n",
    "\n",
    "# -----Load AOI as geopandas.GeoDataFrame\n",
    "AOI = gpd.read_file(AOI_fn)\n",
    "\n",
    "# -----Set paths for output files\n",
    "im_mosaic_path = out_path+'mosaics/'\n",
    "im_adj_path = out_path+'adjusted-filtered/'\n",
    "im_classified_path = out_path+'classified/'"
   ]
  },
  {
   "cell_type": "markdown",
   "id": "09e18812",
   "metadata": {},
   "source": [
    "#### Authenticate and initialize Google Earth Engine (GEE). \n",
    "\n",
    "__Note:__ The first time you run the following cell, you will be asked to authenticate your GEE account for use in this notebook. This will send you to an external web page, where you will walk through the GEE authentication workflow and copy an authentication code back in this notebook when prompted. "
   ]
  },
  {
   "cell_type": "code",
   "execution_count": 2,
   "id": "d32926fb",
   "metadata": {},
   "outputs": [],
   "source": [
    "try:\n",
    "    ee.Initialize()\n",
    "except: \n",
    "    ee.Authenticate()\n",
    "    ee.Initialize()"
   ]
  },
  {
   "cell_type": "markdown",
   "id": "ecd78935-de57-417d-87d2-1c4437b1fda2",
   "metadata": {},
   "source": [
    "#### Query GEE for DEM"
   ]
  },
  {
   "cell_type": "code",
   "execution_count": 3,
   "id": "8650cf62-52e6-473b-8b2b-46f80249f13d",
   "metadata": {},
   "outputs": [
    {
     "data": {
      "application/vnd.jupyter.widget-view+json": {
       "model_id": "2e9ab5fb2b6e482eb17f198dce101a68",
       "version_major": 2,
       "version_minor": 0
      },
      "text/plain": [
       "Downloading:   0%|          | 0.00/31.4k [00:00<?, ?iB/s]"
      ]
     },
     "metadata": {},
     "output_type": "display_data"
    }
   ],
   "source": [
    "DEM, AOI_UTM = f.query_GEE_for_DEM(AOI)"
   ]
  },
  {
   "cell_type": "markdown",
   "id": "1cc29573",
   "metadata": {},
   "source": [
    "## 1. Mosaic images by date\n",
    "\n",
    "Mosaic all images captured within the same hour to increase area coverage of each image over the AOI. Images captured in different hours are more likely to have drastic variations in illumination. Adapted from code developed by Jukes Liu. \n",
    "\n",
    "If you have `plot_results` set to `True`, I suggest using the output figures to filter out images, such as those that are completely saturated (some small regions of saturation are okay), barely cover the AOI, or have thick cloud cover over a large portion of the AOI. Place unusable images into a separate folder (e.g., `unusable_images`) or otherwise remove them from the `mosaics/` folder before proceeding to step __2.__ below. This takes extra time, but will help to improve the resulting SCA and snow line elevation time series. \n",
    "\n",
    "Note that images with no data over the AOI are skipped in this step. Issues with illumination or radiometry will be further filtered and adjusted in the next step.  "
   ]
  },
  {
   "cell_type": "code",
   "execution_count": null,
   "id": "1e6fe592",
   "metadata": {
    "scrolled": true,
    "tags": []
   },
   "outputs": [],
   "source": [
    "# -----Load file names with proper extension\n",
    "os.chdir(im_path)\n",
    "im_fns = glob.glob('*' + ext + '*')\n",
    "im_fns.sort() # sort chronologically\n",
    "\n",
    "# ----Mosaic images by date\n",
    "f.mosaic_ims_by_date(im_path, im_fns, ext, im_mosaic_path, AOI, plot_results)"
   ]
  },
  {
   "cell_type": "markdown",
   "id": "22c9a56c",
   "metadata": {},
   "source": [
    "## 2. Adjust image radiometry\n",
    "\n",
    "Mitigate issues related to varying illumination and general radiometry by first creating a polygon(s) representing the of an area within the AOI that is likely covered with snow year-round using the upper 30th percentile of elevations. The polygon(s) will then be used to stretch the image, assuming the median surface reflectance value within the polygon is equal to that predicted for snow, and that the darkest point in the image has a surface reflectance of 0. Images with no real data values within the AOI or in the polygon(s) will be skipped. "
   ]
  },
  {
   "cell_type": "code",
   "execution_count": null,
   "id": "40156eed",
   "metadata": {
    "scrolled": true,
    "tags": []
   },
   "outputs": [],
   "source": [
    "# -----Read image mosaic file names\n",
    "os.chdir(im_mosaic_path)\n",
    "im_mosaic_fns = glob.glob('*.tif')\n",
    "im_mosaic_fns.sort()\n",
    "\n",
    "# -----Create a polygon(s) of the top 20th percentile elevations within the AOI\n",
    "polygon, im_fn, im = f.create_top_elev_AOI_poly(AOI_UTM, im_mosaic_path, im_mosaic_fns, DEM)\n",
    "# plot\n",
    "if plot_results:\n",
    "    fig, ax = plt.subplots(figsize=(8,8))\n",
    "    ax.imshow(np.dstack([im.data[2], im.data[1], im.data[0]]), \n",
    "               extent=(np.min(im.x), np.max(im.x), np.min(im.y), np.max(im.y)))\n",
    "    AOI_UTM.plot(ax=ax, facecolor='none', edgecolor='black', linewidth=2, label='AOI')\n",
    "    count=0 # count used to only display one polygon in legend\n",
    "    for geom in polygon.geoms:\n",
    "        xs, ys = geom.exterior.xy\n",
    "        if count==0:\n",
    "            ax.plot([x for x in xs], [y for y in ys], color='orange', label='polygon(s)')\n",
    "        else:\n",
    "            ax.plot([x for x in xs], [y for y in ys], color='orange', label='_nolegend_')\n",
    "        count+=1            \n",
    "    ax.set_xlabel('Easting [m]')\n",
    "    ax.set_ylabel('Northing [m]')\n",
    "    ax.set_title(im_fn)\n",
    "    fig.legend(loc='upper right')\n",
    "    fig.tight_layout()\n",
    "    plt.show()\n",
    "    \n",
    "# -----Loop through images\n",
    "for im_mosaic_fn in im_mosaic_fns:\n",
    "    \n",
    "    # load image\n",
    "    print(im_mosaic_fn)\n",
    "    \n",
    "    # adjust radiometry\n",
    "    im_adj_fn = f.adjust_image_radiometry(im_mosaic_fn, im_mosaic_path, polygon, im_adj_path, skip_clipped, plot_results)\n",
    "                     \n",
    "    print('----------')\n",
    "    print(' ')"
   ]
  },
  {
   "cell_type": "markdown",
   "id": "ceb82e08",
   "metadata": {},
   "source": [
    "## 3. Classify SCA"
   ]
  },
  {
   "cell_type": "code",
   "execution_count": null,
   "id": "0694164b",
   "metadata": {
    "scrolled": true,
    "tags": []
   },
   "outputs": [],
   "source": [
    "# -----Read adjusted image file names\n",
    "os.chdir(im_adj_path)\n",
    "im_adj_fns = glob.glob('*.tif')\n",
    "im_adj_fns.sort()\n",
    "\n",
    "# start timer\n",
    "t1 = time.time()\n",
    "\n",
    "# -----Load image classifier and feature columns\n",
    "clf_fn = base_path+'inputs-outputs/PS_classifier_all_sites.sav'\n",
    "clf = pickle.load(open(clf_fn, 'rb'))\n",
    "feature_cols_fn = base_path+'inputs-outputs/PS_feature_cols.pkl'\n",
    "feature_cols = pickle.load(open(feature_cols_fn,'rb'))\n",
    "        \n",
    "# -----Create figure for snow elevations box plot\n",
    "# fig2, ax = plt.subplots(figsize=(16,8))\n",
    "# ax.set_ylabel('Snow elevations [m a.s.l.]')\n",
    "# ax.xaxis.set_major_formatter(dates.DateFormatter('%Y'))\n",
    "\n",
    "# -----Loop through images\n",
    "# image datetimes\n",
    "im_dts = [] \n",
    "# DataFrame to hold stats summary\n",
    "df = pd.DataFrame(columns=('site_name', 'datetime', 'im_elev_min', 'im_elev_max', 'snow_elev_min', 'snow_elev_max', \n",
    "                           'snow_elev_median', 'snow_elev_10th_perc', 'snow_elev_90th_perc'))\n",
    "for im_adj_fn in im_adj_fns:\n",
    "\n",
    "    # extract datetime from image name\n",
    "    im_dt = np.datetime64(im_adj_fn[0:4] + '-' + im_adj_fn[4:6] + '-' + im_adj_fn[6:8]\n",
    "                          + 'T' + im_adj_fn[9:11] + ':00:00')\n",
    "    im_dts = im_dts + [im_dt]\n",
    "\n",
    "    # classify snow\n",
    "    im_classified_fn, im_adj = f.classify_image(im_adj_fn, im_adj_path, clf, feature_cols, crop_to_AOI, AOI_UTM, im_classified_path)  \n",
    "    \n",
    "    # determine snow elevations\n",
    "#     if im_classified_fn is not None:\n",
    "        \n",
    "#         plot_output = True\n",
    "#         im_elev_min, im_elev_max, snow_elev, fig = f.determine_snow_elevs(DEM, im_adj, im_classified_fn, im_classified_path, im_dt, AOI_UTM, plot_output)\n",
    "        \n",
    "#         # calculate and plot stats\n",
    "#         iqr = stats.iqr(snow_elev, rng=(10, 90))\n",
    "#         med = np.median(snow_elev)\n",
    "#         ax.add_patch(Rectangle((im_dt-np.timedelta64(1, 'D'), med-iqr/2), \n",
    "#                                width=2*np.timedelta64(1, 'D'), height=iqr, color='blue'))\n",
    "#         ax.scatter([im_dt, im_dt], [np.min(snow_elev), np.max(snow_elev)], color='blue', s=10)\n",
    "#         ax.scatter(im_dt, med, facecolor='white', edgecolor='black', s=20)\n",
    "\n",
    "#         # save stats in pandas DataFrame\n",
    "#         df_row = pd.DataFrame({'site_name':site_name, 'datetime':im_dt, 'im_elev_min':im_elev_min, 'im_elev_min':im_elev_max, \n",
    "#                                'snow_elev_min':np.min(snow_elev), 'snow_elev_min':np.max(snow_elev), 'snow_elev_median':med,  \n",
    "#                                'snow_elev_10th_perc':med-iqr/2, 'snow_elev_90th_perc':med+iqr/2}, index=[0])\n",
    "#         df = pd.concat([df, df_row], ignore_index=True)\n",
    "\n",
    "#         # save figure\n",
    "#         if save_figures==True:\n",
    "#             fig.savefig(figures_out_path+'PS_'+im_adj_fn[0:15]+'_SCA.png', dpi=200, facecolor='white', edgecolor='none')\n",
    "#             print('figure saved to file')\n",
    "\n",
    "# -----Save figure and data table\n",
    "# Create directory for output figures if it does not exist\n",
    "# if save_figures and os.path.exists(figures_out_path)==False:\n",
    "#     os.mkdir(figures_out_path)\n",
    "#     print('made directory for output figures:' + figures_out_path)\n",
    "# save figures\n",
    "# if plot_output and save_figures:\n",
    "#     fig2.savefig(figures_out_path+site_name+'_snow_elevs.png', dpi=200, facecolor='white', edgecolor='none')\n",
    "#     print('snow elevations figure saved to file')\n",
    "# save classified image stats\n",
    "# if save_outputs:\n",
    "#     df.to_csv(path_or_buf=im_classified_path+site_name+'_snow_elevs_stats.csv', sep=',', na_rep='', header=True)\n",
    "#     print('data table saved to file')\n",
    "\n",
    "# -----Stop timer\n",
    "print('Time elapsed: '+str(np.round((time.time()-t1)/60, 2))+' minutes')\n",
    "\n",
    "# -----Display complete figure 2\n",
    "# fig2"
   ]
  },
  {
   "cell_type": "markdown",
   "id": "30f6d111-259f-4dc3-abd0-ca5231bc7614",
   "metadata": {},
   "source": [
    "## 4. Estimate seasonal snow line and snow line elevations"
   ]
  },
  {
   "cell_type": "code",
   "execution_count": 4,
   "id": "e2c44986-2e4e-43d4-8ff1-eaf267d7e943",
   "metadata": {},
   "outputs": [
    {
     "name": "stderr",
     "output_type": "stream",
     "text": [
      "/Users/raineyaberle/Research/PhD/snow_cover_mapping/snow-cover-mapping/functions/ps_pipeline_utils.py:1453: RuntimeWarning: All-NaN slice encountered\n",
      "  elev_min = np.fix(np.nanmin(DEM_AOI_interp.elevation.data.flatten())/10)*10\n",
      "/Users/raineyaberle/Research/PhD/snow_cover_mapping/snow-cover-mapping/functions/ps_pipeline_utils.py:1454: RuntimeWarning: All-NaN slice encountered\n",
      "  elev_max = np.round(np.nanmax(DEM_AOI_interp.elevation.data.flatten())/10)*10\n"
     ]
    },
    {
     "ename": "ValueError",
     "evalue": "cannot convert float NaN to integer",
     "output_type": "error",
     "traceback": [
      "\u001b[0;31m---------------------------------------------------------------------------\u001b[0m",
      "\u001b[0;31mValueError\u001b[0m                                Traceback (most recent call last)",
      "Input \u001b[0;32mIn [4]\u001b[0m, in \u001b[0;36m<cell line: 21>\u001b[0;34m()\u001b[0m\n\u001b[1;32m     27\u001b[0m im_dts \u001b[38;5;241m=\u001b[39m im_dts \u001b[38;5;241m+\u001b[39m [im_dt] \u001b[38;5;66;03m# save to list\u001b[39;00m\n\u001b[1;32m     29\u001b[0m \u001b[38;5;66;03m# estimate snow line\u001b[39;00m\n\u001b[0;32m---> 30\u001b[0m fig, ax, sl_est, sl_est_elev \u001b[38;5;241m=\u001b[39m \u001b[43mf\u001b[49m\u001b[38;5;241;43m.\u001b[39;49m\u001b[43mdelineate_snow_line\u001b[49m\u001b[43m(\u001b[49m\u001b[43mim_adj_fn\u001b[49m\u001b[43m,\u001b[49m\u001b[43m \u001b[49m\u001b[43mim_adj_path\u001b[49m\u001b[43m,\u001b[49m\u001b[43m \u001b[49m\u001b[43mim_classified_fn\u001b[49m\u001b[43m,\u001b[49m\u001b[43m \u001b[49m\u001b[43mim_classified_path\u001b[49m\u001b[43m,\u001b[49m\u001b[43m \u001b[49m\u001b[43mAOI_UTM\u001b[49m\u001b[43m,\u001b[49m\u001b[43m \u001b[49m\u001b[43mDEM\u001b[49m\u001b[43m)\u001b[49m\n\u001b[1;32m     32\u001b[0m \u001b[38;5;66;03m# calculate median snow line elevation\u001b[39;00m\n\u001b[1;32m     33\u001b[0m sl_est_elev_median \u001b[38;5;241m=\u001b[39m np\u001b[38;5;241m.\u001b[39mnanmedian(sl_est_elev)\n",
      "File \u001b[0;32m~/Research/PhD/snow_cover_mapping/snow-cover-mapping/functions/ps_pipeline_utils.py:1455\u001b[0m, in \u001b[0;36mdelineate_snow_line\u001b[0;34m(im_fn, im_path, im_classified_fn, im_classified_path, AOI, DEM)\u001b[0m\n\u001b[1;32m   1453\u001b[0m elev_min \u001b[38;5;241m=\u001b[39m np\u001b[38;5;241m.\u001b[39mfix(np\u001b[38;5;241m.\u001b[39mnanmin(DEM_AOI_interp\u001b[38;5;241m.\u001b[39melevation\u001b[38;5;241m.\u001b[39mdata\u001b[38;5;241m.\u001b[39mflatten())\u001b[38;5;241m/\u001b[39m\u001b[38;5;241m10\u001b[39m)\u001b[38;5;241m*\u001b[39m\u001b[38;5;241m10\u001b[39m\n\u001b[1;32m   1454\u001b[0m elev_max \u001b[38;5;241m=\u001b[39m np\u001b[38;5;241m.\u001b[39mround(np\u001b[38;5;241m.\u001b[39mnanmax(DEM_AOI_interp\u001b[38;5;241m.\u001b[39melevation\u001b[38;5;241m.\u001b[39mdata\u001b[38;5;241m.\u001b[39mflatten())\u001b[38;5;241m/\u001b[39m\u001b[38;5;241m10\u001b[39m)\u001b[38;5;241m*\u001b[39m\u001b[38;5;241m10\u001b[39m\n\u001b[0;32m-> 1455\u001b[0m bin_edges \u001b[38;5;241m=\u001b[39m np\u001b[38;5;241m.\u001b[39mlinspace(elev_min, elev_max, num\u001b[38;5;241m=\u001b[39m\u001b[38;5;28;43mint\u001b[39;49m\u001b[43m(\u001b[49m\u001b[43m(\u001b[49m\u001b[43melev_max\u001b[49m\u001b[38;5;241;43m-\u001b[39;49m\u001b[43melev_min\u001b[49m\u001b[43m)\u001b[49m\u001b[38;5;241;43m/\u001b[39;49m\u001b[38;5;241;43m10\u001b[39;49m\u001b[43m \u001b[49m\u001b[38;5;241;43m+\u001b[39;49m\u001b[43m \u001b[49m\u001b[38;5;241;43m1\u001b[39;49m\u001b[43m)\u001b[49m)\n\u001b[1;32m   1456\u001b[0m bin_centers \u001b[38;5;241m=\u001b[39m (bin_edges[\u001b[38;5;241m1\u001b[39m:] \u001b[38;5;241m+\u001b[39m bin_edges[\u001b[38;5;241m0\u001b[39m:\u001b[38;5;241m-\u001b[39m\u001b[38;5;241m1\u001b[39m]) \u001b[38;5;241m/\u001b[39m \u001b[38;5;241m2\u001b[39m\n\u001b[1;32m   1458\u001b[0m \u001b[38;5;66;03m# calculate elevation histograms\u001b[39;00m\n",
      "\u001b[0;31mValueError\u001b[0m: cannot convert float NaN to integer"
     ]
    }
   ],
   "source": [
    "# -----Read adjusted image file names\n",
    "os.chdir(im_adj_path)\n",
    "im_adj_fns = glob.glob('*.tif')\n",
    "im_adj_fns.sort()\n",
    "\n",
    "# -----Read classified image file names\n",
    "os.chdir(im_classified_path)\n",
    "im_classified_fns = glob.glob('*.tif')\n",
    "im_classified_fns.sort()\n",
    "\n",
    "# -----Create directory for output figures if it does not exist\n",
    "if save_figures and os.path.exists(figures_out_path)==False:\n",
    "    os.mkdir(figures_out_path)\n",
    "    print('made directory for output figures:' + figures_out_path)\n",
    "\n",
    "# -----Intialize variables\n",
    "sl_est_elev_medians = [] # median snow line elevation estimates\n",
    "im_dts = [] # image datetimes\n",
    "\n",
    "# -----Loop through classified image filenames\n",
    "for im_adj_fn, im_classified_fn in list(zip(im_adj_fns, im_classified_fns)):\n",
    "    \n",
    "    # extract datetime from image file name\n",
    "    im_date = im_adj_fn[0:8]\n",
    "    im_dt = np.datetime64(im_adj_fn[0:4] + '-' + im_adj_fn[4:6] + '-' + im_adj_fn[6:8]\n",
    "                          + 'T' + im_adj_fn[9:11] + ':00:00')\n",
    "    im_dts = im_dts + [im_dt] # save to list\n",
    "    \n",
    "    # estimate snow line\n",
    "    fig, ax, sl_est, sl_est_elev = f.delineate_snow_line(im_adj_fn, im_adj_path, im_classified_fn, im_classified_path, AOI_UTM, DEM)\n",
    "    \n",
    "    # calculate median snow line elevation\n",
    "    sl_est_elev_median = np.nanmedian(sl_est_elev)\n",
    "    sl_est_elev_medians = sl_est_elev_medians + [sl_est_elev_median] # save to list\n",
    "    \n",
    "    plt.show()\n",
    "\n",
    "    # save figure\n",
    "    if save_figures:\n",
    "        fig.savefig(figures_out_path+'PS_' + im_date + '_sl_elevs.png', dpi=200, facecolor='white', edgecolor='none')\n",
    "        print('figure saved to file')\n",
    "        \n",
    "# -----Plot median snow line elevations\n",
    "fig2, ax2 = plt.subplots(figsize=(6,8))\n",
    "ax2.plot(im_dts, sl_est_elev_medians, '.b')\n",
    "ax2.set_xlabel('Image capture date')\n",
    "ax2.set_ylabel('Median snow line elevation [m]')\n",
    "ax2.grid()\n",
    "fig2.suptitle(site_name + ' Glacier snow line elevations')\n",
    "plt.show()\n",
    "\n",
    "# save figure\n",
    "if save_figures:\n",
    "    fig.savefig(figures_out_path + site_name + '_median_sl_elevs.png', dpi=200, facecolor='white', edgecolor='none')\n",
    "    print('figure saved to file')"
   ]
  },
  {
   "cell_type": "markdown",
   "id": "6cdd2cf2",
   "metadata": {},
   "source": [
    "### _Optional:_ Compile individual figures into a .gif and delete individual figures"
   ]
  },
  {
   "cell_type": "code",
   "execution_count": null,
   "id": "7d3818de",
   "metadata": {},
   "outputs": [],
   "source": [
    "from PIL import Image as PIL_Image\n",
    "from IPython.display import Image as IPy_Image\n",
    "\n",
    "# -----Make a .gif of output images\n",
    "os.chdir(figures_out_path)\n",
    "fig_fns = glob.glob('PS_*_SCA.png') # load all output figure file names\n",
    "fig_fns.sort() # sort chronologically\n",
    "# grab figures date range for .gif file name\n",
    "fig_start_date = fig_fns[0][3:-15] # first figure date\n",
    "fig_end_date = fig_fns[-1][3:-15] # final figure date\n",
    "frames = [PIL_Image.open(im) for im in fig_fns]\n",
    "frame_one = frames[0]\n",
    "gif_fn = ('PS_' + fig_start_date[0:8] + '_' + fig_end_date[0:8] + '_SCA.gif' )\n",
    "frame_one.save(figures_out_path + gif_fn, format=\"GIF\", append_images=frames, save_all=True, duration=2000, loop=0)\n",
    "print('GIF saved to file:' + figures_out_path + gif_fn)\n",
    "\n",
    "# -----Display .gif\n",
    "IPy_Image(filename=figures_out_path+gif_fn)\n",
    "\n",
    "# -----Clean up: delete individual figure files\n",
    "files = os.listdir(figures_out_path)\n",
    "for file in files:\n",
    "    if ('PS_' in file) and ('_SCA.png' in file):\n",
    "        os.remove(os.path.join(figures_out_path, file))\n",
    "print('Individual figure files deleted.')"
   ]
  },
  {
   "cell_type": "code",
   "execution_count": null,
   "id": "cb963798-5a3c-485a-b1f7-a4fb2cc81a7f",
   "metadata": {},
   "outputs": [],
   "source": []
  }
 ],
 "metadata": {
  "kernelspec": {
   "display_name": "planet-snow",
   "language": "python",
   "name": "planet-snow"
  },
  "language_info": {
   "codemirror_mode": {
    "name": "ipython",
    "version": 3
   },
   "file_extension": ".py",
   "mimetype": "text/x-python",
   "name": "python",
   "nbconvert_exporter": "python",
   "pygments_lexer": "ipython3",
   "version": "3.9.13"
  },
  "varInspector": {
   "cols": {
    "lenName": 16,
    "lenType": 16,
    "lenVar": 40
   },
   "kernels_config": {
    "python": {
     "delete_cmd_postfix": "",
     "delete_cmd_prefix": "del ",
     "library": "var_list.py",
     "varRefreshCmd": "print(var_dic_list())"
    },
    "r": {
     "delete_cmd_postfix": ") ",
     "delete_cmd_prefix": "rm(",
     "library": "var_list.r",
     "varRefreshCmd": "cat(var_dic_list()) "
    }
   },
   "types_to_exclude": [
    "module",
    "function",
    "builtin_function_or_method",
    "instance",
    "_Feature"
   ],
   "window_display": false
  }
 },
 "nbformat": 4,
 "nbformat_minor": 5
}
