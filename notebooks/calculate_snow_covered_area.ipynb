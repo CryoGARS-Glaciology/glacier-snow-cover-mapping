{
 "cells": [
  {
   "cell_type": "markdown",
   "id": "6ed430d2",
   "metadata": {},
   "source": [
    "## Notebook to classify snow-covered area (SCA) and determine minimum snow elevation in PlanetScope 4-band imagery\n",
    "\n",
    "Rainey Aberle\n",
    "\n",
    "2022\n",
    "\n",
    "__To-Do:__\n",
    "- Extract minimum snow elevation from each SCA map using a DEM\n",
    "\n",
    "### Import packages"
   ]
  },
  {
   "cell_type": "code",
   "execution_count": null,
   "id": "2060f810",
   "metadata": {},
   "outputs": [],
   "source": [
    "import os\n",
    "import glob\n",
    "import numpy as np\n",
    "import geopandas as gpd\n",
    "import rasterio as rio\n",
    "from rasterio.mask import mask\n",
    "from rasterio.plot import show\n",
    "import earthpy.spatial as es\n",
    "import matplotlib\n",
    "import matplotlib.dates as mdates\n",
    "from matplotlib.dates import DateFormatter\n",
    "import matplotlib.pyplot as plt\n",
    "from shapely.geometry import shape\n",
    "import pickle\n",
    "import sys\n",
    "import time"
   ]
  },
  {
   "cell_type": "markdown",
   "id": "77be3e2d",
   "metadata": {},
   "source": [
    "### Define settings and paths in directory"
   ]
  },
  {
   "cell_type": "code",
   "execution_count": null,
   "id": "75ec814c",
   "metadata": {},
   "outputs": [],
   "source": [
    "# -----Define site ID (used to load classifier and in output file names)\n",
    "site_ID = 'WG'\n",
    "\n",
    "# -----Determine whether to save output figures\n",
    "save_figures = True # = True to save output figures\n",
    "crop_to_AOI = True # = True to crop images to AOI before calculating SCA\n",
    "\n",
    "# -----Define desired EPSG\n",
    "epsg = 32606\n",
    "\n",
    "# -----Define paths in directory\n",
    "# base directory (path to \"planet-snow/\")\n",
    "base_path = '/Users/raineyaberle/Research/PhD/planet-snow/'\n",
    "# image directory\n",
    "im_path = base_path+'../study-sites/Wolverine/imagery/Planet/2021-04-20_2021-08-25/adjusted-filtered/'\n",
    "# figures output directory\n",
    "figures_out_path = base_path+'../study-sites/Wolverine/figures/SCA/'\n",
    "# AOI shapefile full path \n",
    "AOI_fn = base_path+'../GIS_data/wolverine_RGI.shp'\n",
    "# DEM tif file full path"
   ]
  },
  {
   "cell_type": "markdown",
   "id": "43f2ce80",
   "metadata": {},
   "source": [
    "### Load files from directory\n",
    "\n",
    "- AOI\n",
    "- PlanetScope images\n",
    "- Image classifier"
   ]
  },
  {
   "cell_type": "code",
   "execution_count": null,
   "id": "b1874ebd",
   "metadata": {},
   "outputs": [],
   "source": [
    "# -----Load Area of Interest (AOI) for image cropping\n",
    "AOI = gpd.read_file(AOI_fn)\n",
    "# Reproject to imagery CRS if necessary\n",
    "AOI = AOI.to_crs(epsg)\n",
    "\n",
    "# -----Load image names from file\n",
    "os.chdir(im_path) # change directory\n",
    "im_names = glob.glob('*.tif') # load all .tif file names\n",
    "im_names.sort() # sort file names by date\n",
    "\n",
    "# -----Load image classifier and feature columns\n",
    "clf_fn = base_path+'inputs-outputs/'+site_ID+'_best_classifier.sav'\n",
    "clf = pickle.load(open(clf_fn, 'rb'))\n",
    "feature_cols_fn = base_path+'inputs-outputs/'+site_ID+'_best_classifier_feature_cols.pkl'\n",
    "feature_cols = pickle.load(open(feature_cols_fn,'rb'))\n",
    "\n",
    "# -----Add path to functions\n",
    "sys.path.insert(1, base_path+'functions/')\n",
    "from classification_utils import crop_images_to_AOI, classify_image, calculate_SCA"
   ]
  },
  {
   "cell_type": "markdown",
   "id": "f4bad6d7",
   "metadata": {},
   "source": [
    "### Classify snow, calculate SCA, determine minimum snow elevation in each image"
   ]
  },
  {
   "cell_type": "code",
   "execution_count": null,
   "id": "cbf0f787",
   "metadata": {
    "scrolled": false
   },
   "outputs": [],
   "source": [
    "# -----Start timer\n",
    "t1 = time.time()\n",
    "\n",
    "# Initialize image dates and SCA\n",
    "im_dts = [] # image datetimes\n",
    "SCA = [] # [m^2]\n",
    "# crop images if previously selected\n",
    "if crop_to_AOI==True:\n",
    "    \n",
    "    # Crop images if previously selected\n",
    "    cropped_im_path = crop_images_to_AOI(im_path, im_names, AOI)\n",
    "    # grab cropped image names\n",
    "    os.chdir(cropped_im_path) # change directory\n",
    "    im_names_crop = glob.glob('*_crop.tif')\n",
    "    im_names_crop.sort() # sort file names by date\n",
    "\n",
    "    # loop through cropped images\n",
    "    for im_name in im_names_crop:\n",
    "\n",
    "        # extract datetime from image name\n",
    "        im_dt = np.datetime64(im_name[0:4] + '-' + im_name[4:6] + '-' + im_name[6:8]\n",
    "                              + ' ' + im_name[9:11] + ':' +im_name[11:13] + ':' + im_name[13:15])\n",
    "        im_dts = im_dts + [im_dt]\n",
    "\n",
    "        # open image\n",
    "        im = rio.open(im_name)\n",
    "\n",
    "        # classify snow\n",
    "        plot_output = True\n",
    "        im_x, im_y, snow, fig = classify_image(im, clf, feature_cols, plot_output)\n",
    "        fig.suptitle(im_dt)\n",
    "        plt.show()\n",
    "        \n",
    "        # calculate SCA [m^2]\n",
    "        SCA = SCA + [calculate_SCA(im, snow)]\n",
    "\n",
    "        # save figure\n",
    "        if save_figures==True:\n",
    "            fig.savefig(figures_out_path+im_name[0:15]+'_SCA.png', dpi=200, facecolor='white', edgecolor='none')\n",
    "            print('figure saved to file')\n",
    "    \n",
    "    # plot SCA\n",
    "    fig = plt.figure(figsize=(8,8))\n",
    "    plt.scatter(im_dts, [x/1e6 for x in SCA], s=10, color='blue')\n",
    "    plt.ylabel('Snow-covered area [km^2]')\n",
    "\n",
    "# -----Stop timer\n",
    "print('Time elapsed: '+str(np.round((t2-time.time())/60, 2))+' minutes')"
   ]
  },
  {
   "cell_type": "code",
   "execution_count": null,
   "id": "8d46e75d",
   "metadata": {},
   "outputs": [],
   "source": []
  }
 ],
 "metadata": {
  "kernelspec": {
   "display_name": "Python 3 (ipykernel)",
   "language": "python",
   "name": "python3"
  },
  "language_info": {
   "codemirror_mode": {
    "name": "ipython",
    "version": 3
   },
   "file_extension": ".py",
   "mimetype": "text/x-python",
   "name": "python",
   "nbconvert_exporter": "python",
   "pygments_lexer": "ipython3",
   "version": "3.10.2"
  },
  "varInspector": {
   "cols": {
    "lenName": 16,
    "lenType": 16,
    "lenVar": 40
   },
   "kernels_config": {
    "python": {
     "delete_cmd_postfix": "",
     "delete_cmd_prefix": "del ",
     "library": "var_list.py",
     "varRefreshCmd": "print(var_dic_list())"
    },
    "r": {
     "delete_cmd_postfix": ") ",
     "delete_cmd_prefix": "rm(",
     "library": "var_list.r",
     "varRefreshCmd": "cat(var_dic_list()) "
    }
   },
   "types_to_exclude": [
    "module",
    "function",
    "builtin_function_or_method",
    "instance",
    "_Feature"
   ],
   "window_display": false
  }
 },
 "nbformat": 4,
 "nbformat_minor": 5
}
