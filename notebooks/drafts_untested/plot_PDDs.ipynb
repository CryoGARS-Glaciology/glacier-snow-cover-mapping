{
 "cells": [
  {
   "cell_type": "markdown",
   "id": "8f918a31-1f29-4793-a9a1-fb848d3defc4",
   "metadata": {},
   "source": [
    "# Plot PDDs for defined study sites"
   ]
  },
  {
   "cell_type": "code",
   "execution_count": null,
   "id": "6a1a7c8d-3987-4f9d-babf-f61dd4d6cd55",
   "metadata": {},
   "outputs": [],
   "source": [
    "import pandas as pd\n",
    "import matplotlib.pyplot as plt\n",
    "import numpy as np\n",
    "import os as os\n",
    "import glob as glob\n",
    "from ast import literal_eval"
   ]
  },
  {
   "cell_type": "code",
   "execution_count": null,
   "id": "199aff23-2228-4479-81c4-d55a97835c57",
   "metadata": {},
   "outputs": [],
   "source": [
    "study_sites_path = '/Users/raineyaberle/Google Drive/My Drive/Research/CryoGARS-Glaciology/Advising/student-research/Alexandra-Friel/snow_cover_mapping_application/study-sites/'\n",
    "out_path = '/Users/raineyaberle/Research/PhD/snow_cover_mapping/snow-cover-mapping/figures/'\n",
    "\n",
    "site_names = ['Wolverine', 'Gulkana', 'LemonCreek', 'SouthCascade', 'Sperry']"
   ]
  },
  {
   "cell_type": "code",
   "execution_count": null,
   "id": "9ff09da2-9012-42db-95ad-414709c3ae24",
   "metadata": {},
   "outputs": [],
   "source": [
    "for site_name in site_names:\n",
    "    \n",
    "    # load ERA-derived data\n",
    "    era_fn = glob.glob(study_sites_path + site_name + '/ERA/*.csv')[0]\n",
    "    era = pd.read_csv(era_fn)\n",
    "    era['Date'] = pd.to_datetime(era['Date'])  \n",
    "    \n",
    "    # plot\n",
    "    fig, ax = plt.subplots(1,1, figsize=(12,6))\n",
    "    ax.plot(era['Date'], era['Cumulative_Positive_Degree_Days'], '.')\n",
    "    ax.grid()\n",
    "    ax.set_ylabel('Cumulative PDDs')\n",
    "    ax.set_title(site_name)\n",
    "    plt.show()\n",
    "    \n",
    "    # save \n",
    "    fig.savefig(out_path + 'cumulative_PDDs_' + site_name + '.png', dpi=200)\n",
    "    print('figure saved to file: ' + out_path + 'cumulative_PDDs_' + site_name + '.png')"
   ]
  },
  {
   "cell_type": "code",
   "execution_count": null,
   "id": "f498ef26-9845-4bef-bd50-77fca7433269",
   "metadata": {},
   "outputs": [],
   "source": []
  }
 ],
 "metadata": {
  "kernelspec": {
   "display_name": "snow-cover-mapping",
   "language": "python",
   "name": "snow-cover-mapping"
  },
  "language_info": {
   "codemirror_mode": {
    "name": "ipython",
    "version": 3
   },
   "file_extension": ".py",
   "mimetype": "text/x-python",
   "name": "python",
   "nbconvert_exporter": "python",
   "pygments_lexer": "ipython3",
   "version": "3.11.3"
  }
 },
 "nbformat": 4,
 "nbformat_minor": 5
}
