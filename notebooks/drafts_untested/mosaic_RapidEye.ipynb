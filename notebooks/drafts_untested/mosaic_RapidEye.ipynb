{
 "cells": [
  {
   "cell_type": "markdown",
   "id": "33f1fd5a-8a70-44de-9cca-e2eaf71c82b4",
   "metadata": {},
   "source": [
    "# Mask and mosaic RapidEye images captured in same hour"
   ]
  },
  {
   "cell_type": "code",
   "execution_count": null,
   "id": "b9ecc76f-8b90-4f0b-9e04-d6348c1a46f7",
   "metadata": {},
   "outputs": [],
   "source": [
    "# -----Paths in directory\n",
    "site_name = 'Wolverine'\n",
    "# path to snow-cover-mapping/ - Make sure you include a \"/\" at the end\n",
    "base_path = '/Users/raineyaberle/Research/PhD/snow_cover_mapping/snow-cover-mapping/'\n",
    "# path to RapidEye imagery\n",
    "im_path = ('/Users/raineyaberle/Google Drive/My Drive/Research/PhD/snow_cover_mapping/study-sites/'\n",
    "           + site_name + '/imagery/RapidEye/raw_images/')\n",
    "# path to folder containing AOI files\n",
    "AOI_path = '/Users/raineyaberle/Google Drive/My Drive/Research/PhD/snow_cover_mapping/study-sites/' + site_name + '/AOIs/'\n",
    "# AOI file name\n",
    "AOI_fn = 'Wolverine_USGS_glacier_outline_2020.shp' \n",
    "# path where image mosaics will be saved\n",
    "out_path = im_path + '../mosaics/'"
   ]
  },
  {
   "cell_type": "code",
   "execution_count": null,
   "id": "88316f15-0618-4f37-a2ba-3794326eec3c",
   "metadata": {},
   "outputs": [],
   "source": [
    "# -----Import packages\n",
    "import os\n",
    "import glob\n",
    "import sys\n",
    "import geopandas as gpd\n",
    "import rioxarray as rxr\n",
    "import matplotlib.pyplot as plt\n",
    "import numpy as np\n",
    "\n",
    "# -----Add path to functions\n",
    "sys.path.insert(1, base_path+'functions/')\n",
    "import pipeline_utils as f\n",
    "\n",
    "# -----Load AOI as gpd.GeoDataFrame\n",
    "AOI = gpd.read_file(AOI_path + AOI_fn)\n",
    "AOI"
   ]
  },
  {
   "cell_type": "code",
   "execution_count": null,
   "id": "be631003-6b24-41f2-a9f8-d50c1a8189e7",
   "metadata": {},
   "outputs": [],
   "source": [
    "# -----Load mask files\n",
    "os.chdir(im_path)\n",
    "im_mask_fns = glob.glob('*udm*.tif')\n",
    "im_mask_fn = im_mask_fns[0]\n",
    "\n",
    "im_mask = rxr.open_rasterio(im_mask_fn)\n",
    "plt.imshow(im_mask.data[0])\n",
    "plt.colorbar()\n",
    "plt.show()"
   ]
  },
  {
   "cell_type": "code",
   "execution_count": null,
   "id": "eba78508-5b3b-4310-937c-83ace42ce060",
   "metadata": {},
   "outputs": [],
   "source": [
    "im_mask_fn"
   ]
  },
  {
   "cell_type": "code",
   "execution_count": null,
   "id": "a70c62ad-f16b-4b0a-8ed5-98d2fc26d2b3",
   "metadata": {
    "scrolled": true,
    "tags": []
   },
   "outputs": [],
   "source": [
    "# -----Load image file names\n",
    "os.chdir(im_path)\n",
    "im_fns = glob.glob('*SR*.tif')\n",
    "im_fns"
   ]
  },
  {
   "cell_type": "code",
   "execution_count": null,
   "id": "751a1d5b-42dc-4af7-9d93-76198a98e5c3",
   "metadata": {},
   "outputs": [],
   "source": [
    "f.planetscope_mosaic_images_by_date(im_path, im_fns, out_path, AOI)"
   ]
  },
  {
   "cell_type": "code",
   "execution_count": null,
   "id": "89784b45-0736-459e-a59a-e30fad29b40c",
   "metadata": {},
   "outputs": [],
   "source": []
  }
 ],
 "metadata": {
  "kernelspec": {
   "display_name": "snow-cover-mapping",
   "language": "python",
   "name": "snow-cover-mapping"
  },
  "language_info": {
   "codemirror_mode": {
    "name": "ipython",
    "version": 3
   },
   "file_extension": ".py",
   "mimetype": "text/x-python",
   "name": "python",
   "nbconvert_exporter": "python",
   "pygments_lexer": "ipython3",
   "version": "3.11.3"
  }
 },
 "nbformat": 4,
 "nbformat_minor": 5
}
