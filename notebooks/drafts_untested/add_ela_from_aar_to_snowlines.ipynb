{
 "cells": [
  {
   "cell_type": "markdown",
   "id": "40ced372-7da9-4715-844a-2b935734e7a2",
   "metadata": {},
   "source": [
    "# Add ELAs from AARs to snowline files"
   ]
  },
  {
   "cell_type": "code",
   "execution_count": 7,
   "id": "73b20c4f-0f2a-4a67-ac5e-296d6ce797d4",
   "metadata": {},
   "outputs": [],
   "source": [
    "import glob\n",
    "import os\n",
    "import numpy as np\n",
    "import pandas as pd\n",
    "import geopandas as gpd\n",
    "import rioxarray as rxr\n",
    "import xarray as xr\n",
    "from tqdm.auto import tqdm\n",
    "import matplotlib.pyplot as plt\n",
    "import ee\n",
    "import sys"
   ]
  },
  {
   "cell_type": "code",
   "execution_count": 8,
   "id": "a36d2139-c0fd-42a3-a020-ac003b6cd4f2",
   "metadata": {},
   "outputs": [],
   "source": [
    "# -----Define paths in directory\n",
    "# path to study-sites\n",
    "study_sites_path = '/Users/raineyaberle/Google Drive/My Drive/Research/CryoGARS-Glaciology/Advising/student-research/Alexandra-Friel/snow_cover_mapping_application/study-sites/'\n",
    "# path to snow-cover-mapping\n",
    "base_path = '/Users/raineyaberle/Research/PhD/snow_cover_mapping/snow-cover-mapping/'\n",
    "# add path to functions\n",
    "sys.path.insert(1, base_path+'functions/')\n",
    "import pipeline_utils as f"
   ]
  },
  {
   "cell_type": "code",
   "execution_count": 12,
   "id": "0afa4cf0-2faa-4129-8d98-19f74537092e",
   "metadata": {},
   "outputs": [],
   "source": [
    "# -----Initialize GEE account\n",
    "try:\n",
    "    ee.Initialize(opt_url='https://earthengine-highvolume.googleapis.com')\n",
    "except: \n",
    "    ee.Authenticate()\n",
    "    ee.Initialize(opt_url='https://earthengine-highvolume.googleapis.com')"
   ]
  },
  {
   "cell_type": "code",
   "execution_count": 46,
   "id": "18840538-cb5a-4af7-b3a4-8d6c635a8a5c",
   "metadata": {
    "scrolled": true,
    "tags": []
   },
   "outputs": [
    {
     "data": {
      "text/plain": [
       "['Blue',\n",
       " 'Boulder',\n",
       " 'Carbon',\n",
       " 'Coleman',\n",
       " 'Easton',\n",
       " 'Emmons',\n",
       " 'Hidden',\n",
       " 'Hoh',\n",
       " 'RGI60-01.00037',\n",
       " 'RGI60-01.00038',\n",
       " 'RGI60-01.00046',\n",
       " 'RGI60-01.00312',\n",
       " 'RGI60-01.00566',\n",
       " 'RGI60-01.00576',\n",
       " 'RGI60-01.01151',\n",
       " 'RGI60-01.01390',\n",
       " 'RGI60-01.01524',\n",
       " 'RGI60-01.01733',\n",
       " 'RGI60-01.03861',\n",
       " 'RGI60-01.04375',\n",
       " 'RGI60-01.06268',\n",
       " 'RGI60-01.06722',\n",
       " 'RGI60-01.08155',\n",
       " 'RGI60-01.08174',\n",
       " 'RGI60-01.08246',\n",
       " 'RGI60-01.08248',\n",
       " 'RGI60-01.08262',\n",
       " 'RGI60-01.08288',\n",
       " 'RGI60-01.08296',\n",
       " 'RGI60-01.08302',\n",
       " 'RGI60-01.08336',\n",
       " 'RGI60-01.08353',\n",
       " 'RGI60-01.08389',\n",
       " 'RGI60-01.08395',\n",
       " 'RGI60-01.08403',\n",
       " 'RGI60-01.08412',\n",
       " 'RGI60-01.08427',\n",
       " 'RGI60-01.09148',\n",
       " 'RGI60-01.09216',\n",
       " 'RGI60-01.09411',\n",
       " 'RGI60-01.09639',\n",
       " 'RGI60-01.10196',\n",
       " 'RGI60-01.10555',\n",
       " 'RGI60-01.10689',\n",
       " 'RGI60-01.10778',\n",
       " 'RGI60-01.10851',\n",
       " 'RGI60-01.10857',\n",
       " 'RGI60-01.11616',\n",
       " 'RGI60-01.11654',\n",
       " 'RGI60-01.11788',\n",
       " 'RGI60-01.12370',\n",
       " 'RGI60-01.12425',\n",
       " 'RGI60-01.12635',\n",
       " 'RGI60-01.13696',\n",
       " 'RGI60-01.14391',\n",
       " 'RGI60-01.14443',\n",
       " 'RGI60-01.14523',\n",
       " 'RGI60-01.14883',\n",
       " 'RGI60-01.15769',\n",
       " 'RGI60-01.15788',\n",
       " 'RGI60-01.16262',\n",
       " 'RGI60-01.16342',\n",
       " 'RGI60-01.17183',\n",
       " 'RGI60-01.17348',\n",
       " 'RGI60-01.17423',\n",
       " 'RGI60-01.17464',\n",
       " 'RGI60-01.17761',\n",
       " 'RGI60-01.17774',\n",
       " 'RGI60-01.17803',\n",
       " 'RGI60-01.17807',\n",
       " 'RGI60-01.19460',\n",
       " 'RGI60-01.19592',\n",
       " 'RGI60-01.19599',\n",
       " 'RGI60-01.19682',\n",
       " 'RGI60-01.19725',\n",
       " 'RGI60-01.19773',\n",
       " 'RGI60-01.19790',\n",
       " 'RGI60-01.19814',\n",
       " 'RGI60-01.19825',\n",
       " 'RGI60-01.20180',\n",
       " 'RGI60-01.20181',\n",
       " 'RGI60-01.20186',\n",
       " 'RGI60-01.20196',\n",
       " 'RGI60-01.20272',\n",
       " 'RGI60-01.20274',\n",
       " 'RGI60-01.20279',\n",
       " 'RGI60-01.20286',\n",
       " 'RGI60-01.20302',\n",
       " 'RGI60-01.20303',\n",
       " 'RGI60-01.20309',\n",
       " 'RGI60-01.20324',\n",
       " 'RGI60-01.20796',\n",
       " 'RGI60-01.21014',\n",
       " 'RGI60-01.22193',\n",
       " 'RGI60-01.22699',\n",
       " 'RGI60-01.23597',\n",
       " 'RGI60-01.23635',\n",
       " 'RGI60-01.23649',\n",
       " 'RGI60-01.23664',\n",
       " 'RGI60-01.26738',\n",
       " 'RGI60-01.26743',\n",
       " 'RGI60-01.27103',\n",
       " 'RGI60-02.00556',\n",
       " 'RGI60-02.01346',\n",
       " 'RGI60-02.01843',\n",
       " 'RGI60-02.02364',\n",
       " 'RGI60-02.02606',\n",
       " 'RGI60-02.03578',\n",
       " 'RGI60-02.03586',\n",
       " 'RGI60-02.03769',\n",
       " 'RGI60-02.04305',\n",
       " 'RGI60-02.04363',\n",
       " 'RGI60-02.04403',\n",
       " 'RGI60-02.04410',\n",
       " 'RGI60-02.05157',\n",
       " 'RGI60-02.05169',\n",
       " 'RGI60-02.06145',\n",
       " 'RGI60-02.06149',\n",
       " 'RGI60-02.06152',\n",
       " 'RGI60-02.06488',\n",
       " 'RGI60-02.06859',\n",
       " 'RGI60-02.06862',\n",
       " 'RGI60-02.06868',\n",
       " 'RGI60-02.07002',\n",
       " 'RGI60-02.07301',\n",
       " 'RGI60-02.09116',\n",
       " 'RGI60-02.09254',\n",
       " 'RGI60-02.09720',\n",
       " 'RGI60-02.09758',\n",
       " 'RGI60-02.10175',\n",
       " 'RGI60-02.10389',\n",
       " 'RGI60-02.12428',\n",
       " 'RGI60-02.12433',\n",
       " 'RGI60-02.12435',\n",
       " 'RGI60-02.12437',\n",
       " 'RGI60-02.12468',\n",
       " 'RGI60-02.12483',\n",
       " 'RGI60-02.14009',\n",
       " 'RGI60-02.14256',\n",
       " 'RGI60-02.17738',\n",
       " 'SitKusa',\n",
       " 'Tahoma',\n",
       " 'Variegated',\n",
       " 'all_aois.csv',\n",
       " 'all_snowlines.csv']"
      ]
     },
     "execution_count": 46,
     "metadata": {},
     "output_type": "execute_result"
    }
   ],
   "source": [
    "# -----Grab list of site names in study_sites_path\n",
    "site_names = sorted(os.listdir(study_sites_path))\n",
    "site_names = [x for x in site_names if not x.startswith('.')]\n",
    "# don't include BGOTUS (already done)\n",
    "bgotus_site_names = ['Wolverine', 'LemonCreek', 'Gulkana', 'SouthCascade', 'Sperry']\n",
    "site_names = [x for x in site_names if x not in bgotus_site_names]\n",
    "site_names"
   ]
  },
  {
   "cell_type": "code",
   "execution_count": null,
   "id": "c61e69f1-2da2-4828-838a-3f0d0138d975",
   "metadata": {
    "scrolled": true,
    "tags": []
   },
   "outputs": [
    {
     "data": {
      "application/vnd.jupyter.widget-view+json": {
       "model_id": "50809f7e5dc941e3b39d8961b594b428",
       "version_major": 2,
       "version_minor": 0
      },
      "text/plain": [
       "  0%|          | 0/129 [00:00<?, ?it/s]"
      ]
     },
     "metadata": {},
     "output_type": "display_data"
    },
    {
     "name": "stdout",
     "output_type": "stream",
     "text": [
      "RGI60-01.01524\n",
      "ArcticDEM coverage over AOI\n",
      "Downloading DEM to /Users/raineyaberle/Google Drive/My Drive/Research/CryoGARS-Glaciology/Advising/student-research/Alexandra-Friel/snow_cover_mapping_application/study-sites/RGI60-01.01524/DEMs/\n"
     ]
    },
    {
     "name": "stderr",
     "output_type": "stream",
     "text": [
      "Consider adjusting `region`, `scale` and/or `dtype` to reduce the RGI60-01.01524_ArcticDEM_clip.tif download size (raw: 3.75 GB).\n"
     ]
    },
    {
     "data": {
      "application/vnd.jupyter.widget-view+json": {
       "model_id": "abedb6b17b694dbd9ba47baf76355c51",
       "version_major": 2,
       "version_minor": 0
      },
      "text/plain": [
       "RGI60-01.01524_ArcticDEM_clip.tif: | | 0.00/3.75G (raw) [  0.0%] in 00:00 (eta:   "
      ]
     },
     "metadata": {},
     "output_type": "display_data"
    },
    {
     "data": {
      "application/vnd.jupyter.widget-view+json": {
       "model_id": "a488ad4800264ad183742d7dae140f71",
       "version_major": 2,
       "version_minor": 0
      },
      "text/plain": [
       "  0%|          | 0/146 [00:00<?, ?it/s]"
      ]
     },
     "metadata": {},
     "output_type": "display_data"
    },
    {
     "name": "stdout",
     "output_type": "stream",
     "text": [
      " \n",
      "RGI60-01.01733\n",
      "ArcticDEM coverage over AOI\n",
      "Downloading DEM to /Users/raineyaberle/Google Drive/My Drive/Research/CryoGARS-Glaciology/Advising/student-research/Alexandra-Friel/snow_cover_mapping_application/study-sites/RGI60-01.01733/DEMs/\n"
     ]
    },
    {
     "name": "stderr",
     "output_type": "stream",
     "text": [
      "Consider adjusting `region`, `scale` and/or `dtype` to reduce the RGI60-01.01733_ArcticDEM_clip.tif download size (raw: 1.21 GB).\n"
     ]
    },
    {
     "data": {
      "application/vnd.jupyter.widget-view+json": {
       "model_id": "7408fcaa75d140deaff444bc668b64d2",
       "version_major": 2,
       "version_minor": 0
      },
      "text/plain": [
       "RGI60-01.01733_ArcticDEM_clip.tif: | | 0.00/1.21G (raw) [  0.0%] in 00:00 (eta:   "
      ]
     },
     "metadata": {},
     "output_type": "display_data"
    },
    {
     "data": {
      "application/vnd.jupyter.widget-view+json": {
       "model_id": "f2b04ca6b75147e691e0edf8b4ed0f50",
       "version_major": 2,
       "version_minor": 0
      },
      "text/plain": [
       "  0%|          | 0/269 [00:00<?, ?it/s]"
      ]
     },
     "metadata": {},
     "output_type": "display_data"
    },
    {
     "name": "stdout",
     "output_type": "stream",
     "text": [
      " \n",
      "RGI60-01.03861\n",
      "RGI60-01.04375\n",
      "RGI60-01.06268\n",
      "RGI60-01.06722\n",
      "RGI60-01.08155\n",
      "RGI60-01.08174\n",
      "RGI60-01.08246\n",
      "ArcticDEM coverage over AOI\n",
      "Downloading DEM to /Users/raineyaberle/Google Drive/My Drive/Research/CryoGARS-Glaciology/Advising/student-research/Alexandra-Friel/snow_cover_mapping_application/study-sites/RGI60-01.08246/DEMs/\n"
     ]
    },
    {
     "data": {
      "application/vnd.jupyter.widget-view+json": {
       "model_id": "673abfb870664d53955b1d05c73327ca",
       "version_major": 2,
       "version_minor": 0
      },
      "text/plain": [
       "RGI60-01.08246_ArcticDEM_clip.tif: | | 0.00/164M (raw) [  0.0%] in 00:00 (eta:    "
      ]
     },
     "metadata": {},
     "output_type": "display_data"
    },
    {
     "data": {
      "application/vnd.jupyter.widget-view+json": {
       "model_id": "f7e13076390a4d349d53eeb90a89f1d3",
       "version_major": 2,
       "version_minor": 0
      },
      "text/plain": [
       "  0%|          | 0/122 [00:00<?, ?it/s]"
      ]
     },
     "metadata": {},
     "output_type": "display_data"
    },
    {
     "name": "stdout",
     "output_type": "stream",
     "text": [
      " \n",
      "RGI60-01.08248\n",
      "ArcticDEM coverage over AOI\n",
      "Downloading DEM to /Users/raineyaberle/Google Drive/My Drive/Research/CryoGARS-Glaciology/Advising/student-research/Alexandra-Friel/snow_cover_mapping_application/study-sites/RGI60-01.08248/DEMs/\n"
     ]
    },
    {
     "data": {
      "application/vnd.jupyter.widget-view+json": {
       "model_id": "f5a8344b436348d3b1bc2ad71816948e",
       "version_major": 2,
       "version_minor": 0
      },
      "text/plain": [
       "RGI60-01.08248_ArcticDEM_clip.tif: | | 0.00/111M (raw) [  0.0%] in 00:00 (eta:    "
      ]
     },
     "metadata": {},
     "output_type": "display_data"
    },
    {
     "data": {
      "application/vnd.jupyter.widget-view+json": {
       "model_id": "4abca5b4c09a4191987d3e48d308f6e3",
       "version_major": 2,
       "version_minor": 0
      },
      "text/plain": [
       "  0%|          | 0/157 [00:00<?, ?it/s]"
      ]
     },
     "metadata": {},
     "output_type": "display_data"
    },
    {
     "name": "stdout",
     "output_type": "stream",
     "text": [
      " \n",
      "RGI60-01.08262\n",
      "RGI60-01.08288\n",
      "ArcticDEM coverage over AOI\n",
      "Downloading DEM to /Users/raineyaberle/Google Drive/My Drive/Research/CryoGARS-Glaciology/Advising/student-research/Alexandra-Friel/snow_cover_mapping_application/study-sites/RGI60-01.08288/DEMs/\n"
     ]
    },
    {
     "data": {
      "application/vnd.jupyter.widget-view+json": {
       "model_id": "b763bdb4376a470f9e5262595c00ad63",
       "version_major": 2,
       "version_minor": 0
      },
      "text/plain": [
       "RGI60-01.08288_ArcticDEM_clip.tif: | | 0.00/638M (raw) [  0.0%] in 00:00 (eta:    "
      ]
     },
     "metadata": {},
     "output_type": "display_data"
    },
    {
     "data": {
      "application/vnd.jupyter.widget-view+json": {
       "model_id": "061801c4481a4d1db53727cb73835278",
       "version_major": 2,
       "version_minor": 0
      },
      "text/plain": [
       "  0%|          | 0/158 [00:00<?, ?it/s]"
      ]
     },
     "metadata": {},
     "output_type": "display_data"
    },
    {
     "name": "stdout",
     "output_type": "stream",
     "text": [
      " \n",
      "RGI60-01.08296\n",
      "ArcticDEM coverage over AOI\n",
      "Downloading DEM to /Users/raineyaberle/Google Drive/My Drive/Research/CryoGARS-Glaciology/Advising/student-research/Alexandra-Friel/snow_cover_mapping_application/study-sites/RGI60-01.08296/DEMs/\n"
     ]
    },
    {
     "data": {
      "application/vnd.jupyter.widget-view+json": {
       "model_id": "636063fcb948470a8eca96320d69d632",
       "version_major": 2,
       "version_minor": 0
      },
      "text/plain": [
       "RGI60-01.08296_ArcticDEM_clip.tif: | | 0.00/761M (raw) [  0.0%] in 00:00 (eta:    "
      ]
     },
     "metadata": {},
     "output_type": "display_data"
    },
    {
     "data": {
      "application/vnd.jupyter.widget-view+json": {
       "model_id": "e0d9813d8eaf47739ad05113dda7591e",
       "version_major": 2,
       "version_minor": 0
      },
      "text/plain": [
       "  0%|          | 0/153 [00:00<?, ?it/s]"
      ]
     },
     "metadata": {},
     "output_type": "display_data"
    },
    {
     "name": "stdout",
     "output_type": "stream",
     "text": [
      " \n",
      "RGI60-01.08302\n",
      "RGI60-01.08336\n",
      "RGI60-01.08353\n",
      "RGI60-01.08389\n",
      "RGI60-01.08395\n",
      "RGI60-01.08403\n",
      "RGI60-01.08412\n",
      "RGI60-01.08427\n",
      "RGI60-01.09148\n",
      "RGI60-01.09216\n",
      "RGI60-01.09411\n",
      "RGI60-01.09639\n",
      "RGI60-01.10196\n",
      "RGI60-01.10555\n",
      "RGI60-01.10689\n",
      "RGI60-01.10778\n",
      "ArcticDEM coverage over AOI\n",
      "Downloading DEM to /Users/raineyaberle/Google Drive/My Drive/Research/CryoGARS-Glaciology/Advising/student-research/Alexandra-Friel/snow_cover_mapping_application/study-sites/RGI60-01.10778/DEMs/\n"
     ]
    },
    {
     "name": "stderr",
     "output_type": "stream",
     "text": [
      "Consider adjusting `region`, `scale` and/or `dtype` to reduce the RGI60-01.10778_ArcticDEM_clip.tif download size (raw: 4.65 GB).\n"
     ]
    },
    {
     "data": {
      "application/vnd.jupyter.widget-view+json": {
       "model_id": "7187dcf72a394c19adc2fe49104087f2",
       "version_major": 2,
       "version_minor": 0
      },
      "text/plain": [
       "RGI60-01.10778_ArcticDEM_clip.tif: | | 0.00/4.65G (raw) [  0.0%] in 00:00 (eta:   "
      ]
     },
     "metadata": {},
     "output_type": "display_data"
    },
    {
     "data": {
      "application/vnd.jupyter.widget-view+json": {
       "model_id": "23912affa972468ea5c224596c638770",
       "version_major": 2,
       "version_minor": 0
      },
      "text/plain": [
       "  0%|          | 0/244 [00:00<?, ?it/s]"
      ]
     },
     "metadata": {},
     "output_type": "display_data"
    },
    {
     "name": "stdout",
     "output_type": "stream",
     "text": [
      " \n",
      "RGI60-01.10851\n",
      "RGI60-01.10857\n",
      "ArcticDEM coverage over AOI\n"
     ]
    },
    {
     "data": {
      "application/vnd.jupyter.widget-view+json": {
       "model_id": "cb55677b9a1b49a887ab73c8f2879d77",
       "version_major": 2,
       "version_minor": 0
      },
      "text/plain": [
       "Downloading:   0%|          | 0.00/6.32M [00:00<?, ?iB/s]"
      ]
     },
     "metadata": {},
     "output_type": "display_data"
    },
    {
     "name": "stdout",
     "output_type": "stream",
     "text": [
      "Downloading DEM to /Users/raineyaberle/Google Drive/My Drive/Research/CryoGARS-Glaciology/Advising/student-research/Alexandra-Friel/snow_cover_mapping_application/study-sites/RGI60-01.10857/DEMs/\n"
     ]
    },
    {
     "data": {
      "application/vnd.jupyter.widget-view+json": {
       "model_id": "89d74277e2934427af6da4c0f5c1c79f",
       "version_major": 2,
       "version_minor": 0
      },
      "text/plain": [
       "RGI60-01.10857_ArcticDEM_clip.tif: | | 0.00/25.4M (raw) [  0.0%] in 00:00 (eta:   "
      ]
     },
     "metadata": {},
     "output_type": "display_data"
    },
    {
     "data": {
      "application/vnd.jupyter.widget-view+json": {
       "model_id": "c4c032fd467e4503a97d6abd6933e664",
       "version_major": 2,
       "version_minor": 0
      },
      "text/plain": [
       "  0%|          | 0/331 [00:00<?, ?it/s]"
      ]
     },
     "metadata": {},
     "output_type": "display_data"
    },
    {
     "name": "stdout",
     "output_type": "stream",
     "text": [
      " \n",
      "RGI60-01.11616\n",
      "ArcticDEM coverage over AOI\n",
      "Downloading DEM to /Users/raineyaberle/Google Drive/My Drive/Research/CryoGARS-Glaciology/Advising/student-research/Alexandra-Friel/snow_cover_mapping_application/study-sites/RGI60-01.11616/DEMs/\n"
     ]
    },
    {
     "data": {
      "application/vnd.jupyter.widget-view+json": {
       "model_id": "aeaf6b1f2ff04a05bcbe27b7bc6320c0",
       "version_major": 2,
       "version_minor": 0
      },
      "text/plain": [
       "RGI60-01.11616_ArcticDEM_clip.tif: | | 0.00/227M (raw) [  0.0%] in 00:00 (eta:    "
      ]
     },
     "metadata": {},
     "output_type": "display_data"
    },
    {
     "data": {
      "application/vnd.jupyter.widget-view+json": {
       "model_id": "0c07bb23a78345a39d490d8b9483fbcd",
       "version_major": 2,
       "version_minor": 0
      },
      "text/plain": [
       "  0%|          | 0/195 [00:00<?, ?it/s]"
      ]
     },
     "metadata": {},
     "output_type": "display_data"
    },
    {
     "name": "stdout",
     "output_type": "stream",
     "text": [
      " \n",
      "RGI60-01.11654\n",
      "ArcticDEM coverage over AOI\n",
      "Downloading DEM to /Users/raineyaberle/Google Drive/My Drive/Research/CryoGARS-Glaciology/Advising/student-research/Alexandra-Friel/snow_cover_mapping_application/study-sites/RGI60-01.11654/DEMs/\n"
     ]
    },
    {
     "data": {
      "application/vnd.jupyter.widget-view+json": {
       "model_id": "282e2c5e897b41449346b8c8394ed6ce",
       "version_major": 2,
       "version_minor": 0
      },
      "text/plain": [
       "RGI60-01.11654_ArcticDEM_clip.tif: | | 0.00/113M (raw) [  0.0%] in 00:00 (eta:    "
      ]
     },
     "metadata": {},
     "output_type": "display_data"
    },
    {
     "data": {
      "application/vnd.jupyter.widget-view+json": {
       "model_id": "6bd593090d974ec7ad693391afbba309",
       "version_major": 2,
       "version_minor": 0
      },
      "text/plain": [
       "  0%|          | 0/207 [00:00<?, ?it/s]"
      ]
     },
     "metadata": {},
     "output_type": "display_data"
    },
    {
     "name": "stdout",
     "output_type": "stream",
     "text": [
      " \n",
      "RGI60-01.11788\n",
      "ArcticDEM coverage over AOI\n",
      "Downloading DEM to /Users/raineyaberle/Google Drive/My Drive/Research/CryoGARS-Glaciology/Advising/student-research/Alexandra-Friel/snow_cover_mapping_application/study-sites/RGI60-01.11788/DEMs/\n"
     ]
    },
    {
     "data": {
      "application/vnd.jupyter.widget-view+json": {
       "model_id": "5de1541120c54e4fba54ba84b63bc048",
       "version_major": 2,
       "version_minor": 0
      },
      "text/plain": [
       "RGI60-01.11788_ArcticDEM_clip.tif: | | 0.00/227M (raw) [  0.0%] in 00:00 (eta:    "
      ]
     },
     "metadata": {},
     "output_type": "display_data"
    },
    {
     "data": {
      "application/vnd.jupyter.widget-view+json": {
       "model_id": "07791212b4584d8595a2d75c89055f4d",
       "version_major": 2,
       "version_minor": 0
      },
      "text/plain": [
       "  0%|          | 0/195 [00:00<?, ?it/s]"
      ]
     },
     "metadata": {},
     "output_type": "display_data"
    },
    {
     "name": "stdout",
     "output_type": "stream",
     "text": [
      " \n",
      "RGI60-01.12370\n",
      "ArcticDEM coverage over AOI\n",
      "Downloading DEM to /Users/raineyaberle/Google Drive/My Drive/Research/CryoGARS-Glaciology/Advising/student-research/Alexandra-Friel/snow_cover_mapping_application/study-sites/RGI60-01.12370/DEMs/\n"
     ]
    },
    {
     "name": "stderr",
     "output_type": "stream",
     "text": [
      "Consider adjusting `region`, `scale` and/or `dtype` to reduce the RGI60-01.12370_ArcticDEM_clip.tif download size (raw: 2.64 GB).\n"
     ]
    },
    {
     "data": {
      "application/vnd.jupyter.widget-view+json": {
       "model_id": "b2889fcec83a4066a4c09fadda6e172f",
       "version_major": 2,
       "version_minor": 0
      },
      "text/plain": [
       "RGI60-01.12370_ArcticDEM_clip.tif: | | 0.00/2.64G (raw) [  0.0%] in 00:00 (eta:   "
      ]
     },
     "metadata": {},
     "output_type": "display_data"
    },
    {
     "data": {
      "application/vnd.jupyter.widget-view+json": {
       "model_id": "315f187fe9694dc797add5829c4a862f",
       "version_major": 2,
       "version_minor": 0
      },
      "text/plain": [
       "  0%|          | 0/283 [00:00<?, ?it/s]"
      ]
     },
     "metadata": {},
     "output_type": "display_data"
    },
    {
     "name": "stdout",
     "output_type": "stream",
     "text": [
      " \n",
      "RGI60-01.12425\n",
      "RGI60-01.12635\n",
      "RGI60-01.13696\n",
      "RGI60-01.14391\n",
      "RGI60-01.14443\n",
      "RGI60-01.14523\n",
      "ArcticDEM coverage over AOI\n",
      "Downloading DEM to /Users/raineyaberle/Google Drive/My Drive/Research/CryoGARS-Glaciology/Advising/student-research/Alexandra-Friel/snow_cover_mapping_application/study-sites/RGI60-01.14523/DEMs/\n"
     ]
    },
    {
     "data": {
      "application/vnd.jupyter.widget-view+json": {
       "model_id": "8fb7d1df951748dbbfa96c2ef1d35099",
       "version_major": 2,
       "version_minor": 0
      },
      "text/plain": [
       "RGI60-01.14523_ArcticDEM_clip.tif: | | 0.00/509M (raw) [  0.0%] in 00:00 (eta:    "
      ]
     },
     "metadata": {},
     "output_type": "display_data"
    },
    {
     "data": {
      "application/vnd.jupyter.widget-view+json": {
       "model_id": "2a52ff81e27043a89e868860948ad7ac",
       "version_major": 2,
       "version_minor": 0
      },
      "text/plain": [
       "  0%|          | 0/274 [00:00<?, ?it/s]"
      ]
     },
     "metadata": {},
     "output_type": "display_data"
    },
    {
     "name": "stdout",
     "output_type": "stream",
     "text": [
      " \n",
      "RGI60-01.14883\n",
      "RGI60-01.15769\n",
      "RGI60-01.15788\n",
      "RGI60-01.16262\n",
      "ArcticDEM coverage over AOI\n",
      "Downloading DEM to /Users/raineyaberle/Google Drive/My Drive/Research/CryoGARS-Glaciology/Advising/student-research/Alexandra-Friel/snow_cover_mapping_application/study-sites/RGI60-01.16262/DEMs/\n"
     ]
    },
    {
     "name": "stderr",
     "output_type": "stream",
     "text": [
      "Consider adjusting `region`, `scale` and/or `dtype` to reduce the RGI60-01.16262_ArcticDEM_clip.tif download size (raw: 1.54 GB).\n"
     ]
    },
    {
     "data": {
      "application/vnd.jupyter.widget-view+json": {
       "model_id": "809fd1d9fba34c31a2f34f6b8d324dba",
       "version_major": 2,
       "version_minor": 0
      },
      "text/plain": [
       "RGI60-01.16262_ArcticDEM_clip.tif: | | 0.00/1.54G (raw) [  0.0%] in 00:00 (eta:   "
      ]
     },
     "metadata": {},
     "output_type": "display_data"
    },
    {
     "data": {
      "application/vnd.jupyter.widget-view+json": {
       "model_id": "15af253f290f4063b94a736554c44d62",
       "version_major": 2,
       "version_minor": 0
      },
      "text/plain": [
       "  0%|          | 0/328 [00:00<?, ?it/s]"
      ]
     },
     "metadata": {},
     "output_type": "display_data"
    },
    {
     "name": "stdout",
     "output_type": "stream",
     "text": [
      " \n",
      "RGI60-01.16342\n",
      "RGI60-01.17183\n",
      "RGI60-01.17348\n",
      "RGI60-01.17423\n",
      "RGI60-01.17464\n",
      "ArcticDEM coverage over AOI\n",
      "Downloading DEM to /Users/raineyaberle/Google Drive/My Drive/Research/CryoGARS-Glaciology/Advising/student-research/Alexandra-Friel/snow_cover_mapping_application/study-sites/RGI60-01.17464/DEMs/\n"
     ]
    },
    {
     "data": {
      "application/vnd.jupyter.widget-view+json": {
       "model_id": "95f9c16e07294c20a4c41329aad887a0",
       "version_major": 2,
       "version_minor": 0
      },
      "text/plain": [
       "RGI60-01.17464_ArcticDEM_clip.tif: | | 0.00/928M (raw) [  0.0%] in 00:00 (eta:    "
      ]
     },
     "metadata": {},
     "output_type": "display_data"
    },
    {
     "data": {
      "application/vnd.jupyter.widget-view+json": {
       "model_id": "891a22b7d76f45559acde42225dc79c0",
       "version_major": 2,
       "version_minor": 0
      },
      "text/plain": [
       "  0%|          | 0/269 [00:00<?, ?it/s]"
      ]
     },
     "metadata": {},
     "output_type": "display_data"
    },
    {
     "name": "stdout",
     "output_type": "stream",
     "text": [
      " \n",
      "RGI60-01.17761\n",
      "RGI60-01.17774\n",
      "RGI60-01.17803\n",
      "RGI60-01.17807\n",
      "RGI60-01.19460\n",
      "RGI60-01.19592\n",
      "RGI60-01.19599\n",
      "ArcticDEM coverage over AOI\n",
      "Downloading DEM to /Users/raineyaberle/Google Drive/My Drive/Research/CryoGARS-Glaciology/Advising/student-research/Alexandra-Friel/snow_cover_mapping_application/study-sites/RGI60-01.19599/DEMs/\n"
     ]
    },
    {
     "data": {
      "application/vnd.jupyter.widget-view+json": {
       "model_id": "8b60650460d9462e8ae5e0c360d4e378",
       "version_major": 2,
       "version_minor": 0
      },
      "text/plain": [
       "RGI60-01.19599_ArcticDEM_clip.tif: | | 0.00/224M (raw) [  0.0%] in 00:00 (eta:    "
      ]
     },
     "metadata": {},
     "output_type": "display_data"
    },
    {
     "data": {
      "application/vnd.jupyter.widget-view+json": {
       "model_id": "4620d3b0dec445a4ba70b379e01214bc",
       "version_major": 2,
       "version_minor": 0
      },
      "text/plain": [
       "  0%|          | 0/310 [00:00<?, ?it/s]"
      ]
     },
     "metadata": {},
     "output_type": "display_data"
    },
    {
     "name": "stdout",
     "output_type": "stream",
     "text": [
      " \n",
      "RGI60-01.19682\n",
      "ArcticDEM coverage over AOI\n",
      "Downloading DEM to /Users/raineyaberle/Google Drive/My Drive/Research/CryoGARS-Glaciology/Advising/student-research/Alexandra-Friel/snow_cover_mapping_application/study-sites/RGI60-01.19682/DEMs/\n"
     ]
    },
    {
     "data": {
      "application/vnd.jupyter.widget-view+json": {
       "model_id": "d229f51b75cf44e3bcce24d9f184f1cb",
       "version_major": 2,
       "version_minor": 0
      },
      "text/plain": [
       "RGI60-01.19682_ArcticDEM_clip.tif: | | 0.00/893M (raw) [  0.0%] in 00:00 (eta:    "
      ]
     },
     "metadata": {},
     "output_type": "display_data"
    },
    {
     "data": {
      "application/vnd.jupyter.widget-view+json": {
       "model_id": "d070ffe1d57e494fbc6897e595cdd117",
       "version_major": 2,
       "version_minor": 0
      },
      "text/plain": [
       "  0%|          | 0/236 [00:00<?, ?it/s]"
      ]
     },
     "metadata": {},
     "output_type": "display_data"
    },
    {
     "name": "stdout",
     "output_type": "stream",
     "text": [
      " \n",
      "RGI60-01.19725\n",
      "RGI60-01.19773\n",
      "RGI60-01.19790\n",
      "ArcticDEM coverage over AOI\n",
      "Downloading DEM to /Users/raineyaberle/Google Drive/My Drive/Research/CryoGARS-Glaciology/Advising/student-research/Alexandra-Friel/snow_cover_mapping_application/study-sites/RGI60-01.19790/DEMs/\n"
     ]
    },
    {
     "data": {
      "application/vnd.jupyter.widget-view+json": {
       "model_id": "cae24fe3faed4f28bea26cb0608cac22",
       "version_major": 2,
       "version_minor": 0
      },
      "text/plain": [
       "RGI60-01.19790_ArcticDEM_clip.tif: | | 0.00/433M (raw) [  0.0%] in 00:00 (eta:    "
      ]
     },
     "metadata": {},
     "output_type": "display_data"
    },
    {
     "data": {
      "application/vnd.jupyter.widget-view+json": {
       "model_id": "37cc464c6ac94ba69bfd38d336c05859",
       "version_major": 2,
       "version_minor": 0
      },
      "text/plain": [
       "  0%|          | 0/262 [00:00<?, ?it/s]"
      ]
     },
     "metadata": {},
     "output_type": "display_data"
    },
    {
     "name": "stdout",
     "output_type": "stream",
     "text": [
      " \n",
      "RGI60-01.19814\n",
      "ArcticDEM coverage over AOI\n",
      "Downloading DEM to /Users/raineyaberle/Google Drive/My Drive/Research/CryoGARS-Glaciology/Advising/student-research/Alexandra-Friel/snow_cover_mapping_application/study-sites/RGI60-01.19814/DEMs/\n"
     ]
    },
    {
     "name": "stderr",
     "output_type": "stream",
     "text": [
      "Consider adjusting `region`, `scale` and/or `dtype` to reduce the RGI60-01.19814_ArcticDEM_clip.tif download size (raw: 2.33 GB).\n"
     ]
    },
    {
     "data": {
      "application/vnd.jupyter.widget-view+json": {
       "model_id": "1c742f644e5d4277882595601d2c15e2",
       "version_major": 2,
       "version_minor": 0
      },
      "text/plain": [
       "RGI60-01.19814_ArcticDEM_clip.tif: | | 0.00/2.33G (raw) [  0.0%] in 00:00 (eta:   "
      ]
     },
     "metadata": {},
     "output_type": "display_data"
    },
    {
     "data": {
      "application/vnd.jupyter.widget-view+json": {
       "model_id": "7d567e43dcfb4b879844bdca32493be9",
       "version_major": 2,
       "version_minor": 0
      },
      "text/plain": [
       "  0%|          | 0/335 [00:00<?, ?it/s]"
      ]
     },
     "metadata": {},
     "output_type": "display_data"
    },
    {
     "name": "stdout",
     "output_type": "stream",
     "text": [
      " \n",
      "RGI60-01.19825\n",
      "ArcticDEM coverage over AOI\n",
      "Downloading DEM to /Users/raineyaberle/Google Drive/My Drive/Research/CryoGARS-Glaciology/Advising/student-research/Alexandra-Friel/snow_cover_mapping_application/study-sites/RGI60-01.19825/DEMs/\n"
     ]
    },
    {
     "name": "stderr",
     "output_type": "stream",
     "text": [
      "Consider adjusting `region`, `scale` and/or `dtype` to reduce the RGI60-01.19825_ArcticDEM_clip.tif download size (raw: 1.54 GB).\n"
     ]
    },
    {
     "data": {
      "application/vnd.jupyter.widget-view+json": {
       "model_id": "061f5cf9aa694cedae912df75616beb7",
       "version_major": 2,
       "version_minor": 0
      },
      "text/plain": [
       "RGI60-01.19825_ArcticDEM_clip.tif: | | 0.00/1.54G (raw) [  0.0%] in 00:00 (eta:   "
      ]
     },
     "metadata": {},
     "output_type": "display_data"
    },
    {
     "data": {
      "application/vnd.jupyter.widget-view+json": {
       "model_id": "e4ef5a02e20c47fba664a15152294faa",
       "version_major": 2,
       "version_minor": 0
      },
      "text/plain": [
       "  0%|          | 0/336 [00:00<?, ?it/s]"
      ]
     },
     "metadata": {},
     "output_type": "display_data"
    }
   ],
   "source": [
    "# iterate over site names\n",
    "for site_name in tqdm(site_names[16:]):\n",
    "    \n",
    "    print(site_name)\n",
    "    \n",
    "    # Load snowline file names\n",
    "    snowlines_path = study_sites_path + site_name + '/imagery/snowlines/'\n",
    "    snowline_fns = [os.path.basename(x) for x in glob.glob(snowlines_path + '*.csv')]\n",
    "    if len(snowline_fns)<1:\n",
    "        continue\n",
    "    \n",
    "    # Load AOI\n",
    "    AOI_path = study_sites_path + site_name + '/AOIs/'\n",
    "    AOI_fn = glob.glob(AOI_path + '*_outline.shp')[0]\n",
    "    AOI = gpd.read_file(AOI_fn)\n",
    "    AOI_WGS = AOI.to_crs('EPSG:4326')\n",
    "    AOI_WGS_centroid = [AOI_WGS.geometry[0].centroid.xy[0][0],\n",
    "                        AOI_WGS.geometry[0].centroid.xy[1][0]]\n",
    "    # grab the optimal UTM zone EPSG code\n",
    "    epsg_UTM = f.convert_wgs_to_utm(AOI_WGS_centroid[0], AOI_WGS_centroid[1])\n",
    "    # reproject AOI to the optimal UTM zone\n",
    "    AOI_UTM = AOI.to_crs('EPSG:'+epsg_UTM)\n",
    "\n",
    "    # Load DEM, clip to AOI\n",
    "    DEM_path = study_sites_path + site_name + '/DEMs/'\n",
    "    # DEM_fn = glob.glob(DEM_path + '*USGS*.tif')[0]\n",
    "    # DEM = rxr.open_rasterio(DEM_fn)\n",
    "    DEM = f.query_gee_for_dem(AOI_UTM, base_path, site_name, DEM_path)   \n",
    "    DEM_clip = DEM.rio.clip(AOI_UTM.geometry, 'EPSG:' + str(epsg_UTM))\n",
    "    # DEM_clip = xr.where(DEM_clip<500, np.nan, DEM_clip)\n",
    "    elevations = np.ravel(DEM_clip.elevation.data)    \n",
    "    \n",
    "    # iterate over snowline files\n",
    "    for snowline_fn in tqdm(snowline_fns):\n",
    "                        \n",
    "        # load snowline\n",
    "        try:\n",
    "            snowline = pd.read_csv(snowlines_path + snowline_fn)\n",
    "        except:\n",
    "            continue\n",
    "            \n",
    "        cols = snowline.columns.tolist()\n",
    "        # if 'ELA_from_AAR_m' in cols:\n",
    "        #     # print('column already exists, skipping...')\n",
    "        #     # print(' ')\n",
    "        #     continue\n",
    "\n",
    "        # calculate ELA from AAR\n",
    "        aar = snowline['AAR'].values[0]\n",
    "        ela_from_aar = np.nanquantile(elevations, 1 - aar)\n",
    "\n",
    "        # add to snowline dataframe\n",
    "        snowline['ELA_from_AAR_m'] = ela_from_aar\n",
    "\n",
    "        # remove any \"Unnamed\" columns\n",
    "        cols = snowline.columns.tolist()\n",
    "        cols = [x for x in cols if \"Unnamed\" not in x]\n",
    "        snowline = snowline[cols]\n",
    "                \n",
    "        # save to file\n",
    "        snowline.to_csv(snowlines_path + snowline_fn, index=False)\n",
    "        \n",
    "    print(' ')\n",
    "                \n",
    "    "
   ]
  },
  {
   "cell_type": "markdown",
   "id": "505fbd37-4f02-4d98-8743-1726d1c6d59c",
   "metadata": {},
   "source": [
    "### Plot snowlines and ELAs from AARs"
   ]
  },
  {
   "cell_type": "code",
   "execution_count": 45,
   "id": "deaa43e9-6d56-4738-91a8-56fafa0c59f8",
   "metadata": {},
   "outputs": [
    {
     "data": {
      "image/png": "[encoded data removed]",
      "text/plain": [
       "<Figure size 1000x600 with 1 Axes>"
      ]
     },
     "metadata": {},
     "output_type": "display_data"
    }
   ],
   "source": [
    "plt.rcParams.update({'font.size':12, 'font.sans-serif':'Arial'})\n",
    "\n",
    "# iterate over site names\n",
    "for site_name in site_names[0:5]:\n",
    "        \n",
    "    # define paths in directory\n",
    "    snowlines_path = study_sites_path + site_name + '/imagery/snowlines/'\n",
    "    \n",
    "    # load snowline and classified image file names\n",
    "    snowline_fns = [os.path.basename(x) for x in glob.glob(snowlines_path + '*.csv')]\n",
    "    \n",
    "    # iterate over snowline files\n",
    "    snowlines = pd.DataFrame()\n",
    "    for snowline_fn in snowline_fns:\n",
    "                \n",
    "        # load snowline\n",
    "        try:\n",
    "            snowline = pd.read_csv(snowlines_path + snowline_fn)\n",
    "            snowlines = pd.concat([snowlines, snowline])\n",
    "        except:\n",
    "            continue\n",
    "    \n",
    "    snowlines.reset_index(drop=True, inplace=True)\n",
    "    snowlines['datetime'] = pd.to_datetime(snowlines['datetime'], format='mixed')\n",
    "    \n",
    "    # plot\n",
    "    fig, ax = plt.subplots(1,1,figsize=(10,6))\n",
    "    ax.plot(snowlines['datetime'], snowlines['snowline_elevs_median_m'], '.m', label='from snowline')\n",
    "    ax.plot(snowlines['datetime'], snowlines['ELA_from_AAR_m'], 'xb', markersize=5, label='from AAR')\n",
    "    ax.grid()\n",
    "    ax.set_title(site_name)\n",
    "    ax.legend(loc='upper left')\n",
    "    ax.set_ylabel('Elevation [m]')\n",
    "    plt.show()\n",
    "    \n",
    "    # fig.savefig('ELAs_' + site_name + '.png')\n",
    "    "
   ]
  },
  {
   "cell_type": "code",
   "execution_count": null,
   "id": "4b48bf8e-dc29-440c-bfb4-d9d3aebfd01a",
   "metadata": {},
   "outputs": [],
   "source": []
  }
 ],
 "metadata": {
  "kernelspec": {
   "display_name": "snow-cover-mapping",
   "language": "python",
   "name": "snow-cover-mapping"
  },
  "language_info": {
   "codemirror_mode": {
    "name": "ipython",
    "version": 3
   },
   "file_extension": ".py",
   "mimetype": "text/x-python",
   "name": "python",
   "nbconvert_exporter": "python",
   "pygments_lexer": "ipython3",
   "version": "3.11.3"
  }
 },
 "nbformat": 4,
 "nbformat_minor": 5
}
