{
 "cells": [
  {
   "cell_type": "markdown",
   "id": "ed5a8533-a6b0-4194-b0ee-96dd633f9747",
   "metadata": {},
   "source": [
    "# Filter snowlines manually by plotting and assessing visually"
   ]
  },
  {
   "cell_type": "code",
   "execution_count": null,
   "id": "4cfbb379-8ccd-4e56-94b6-91952c4679e0",
   "metadata": {},
   "outputs": [],
   "source": [
    "##### MODIFY HERE #####\n",
    "# path to snow-cover-mapping\n",
    "base_path = '/Users/raineyaberle/Research/PhD/snow_cover_mapping/snow-cover-mapping/'\n",
    "# specify site name\n",
    "site_name = 'Wolverine'\n",
    "# path to study site\n",
    "study_site_path = '/Users/raineyaberle/Google Drive/My Drive/Research/PhD/snow_cover_mapping/study-sites/' + site_name + '/'\n",
    "# path where figure files are located\n",
    "figures_out_path = study_site_path + '/figures/' \n",
    "# path to snowline files\n",
    "sl_est_path = study_site_path +'imagery/snowlines/' \n",
    "# path where filtered snowlines will be saved\n",
    "out_path = sl_est_path \n",
    "#######################\n",
    "\n",
    "# -----Determine imagery folders\n",
    "L_im_path = study_site_path + 'imagery/Landsat/'\n",
    "PS_im_path = study_site_path + 'imagery/PlanetScope/mosaics/'\n",
    "S2_SR_im_path = study_site_path + 'imagery/Sentinel-2_SR/'\n",
    "S2_TOA_im_path = study_site_path + 'imagery/Sentinel-2_TOA/'\n",
    "\n",
    "# -----Import packages\n",
    "import matplotlib.pyplot as plt\n",
    "import glob\n",
    "import pandas as pd\n",
    "import numpy as np\n",
    "import pickle\n",
    "import sys\n",
    "import xarray as xr\n",
    "import rioxarray as rxr\n",
    "\n",
    "# -----Add path to functions\n",
    "sys.path.insert(1, base_path+'functions/')\n",
    "import pipeline_utils as f\n",
    "\n",
    "# -----Load dataset dictionary\n",
    "with open(base_path + 'inputs-outputs/datasets_characteristics.pkl', 'rb') as fn:\n",
    "    dataset_dict = pickle.load(fn)"
   ]
  },
  {
   "cell_type": "markdown",
   "id": "0e383b51-f8c3-4fad-930a-28c96dc977f7",
   "metadata": {},
   "source": [
    "## Load and compile snowline CSV files"
   ]
  },
  {
   "cell_type": "code",
   "execution_count": null,
   "id": "e7489c2e-ba9c-4b3a-869a-3bdc39d1f8bf",
   "metadata": {},
   "outputs": [],
   "source": [
    "# -----Compile snowline files\n",
    "sl_est_fns = glob.glob(sl_est_path + '*snowline.csv')\n",
    "# compile all snowline files into one DataFrame\n",
    "sl_est_full = pd.DataFrame()\n",
    "for fn in sl_est_fns:\n",
    "    # read file\n",
    "    if 'csv' in fn:\n",
    "        sl_est = pd.read_csv(fn)\n",
    "    elif 'pkl' in fn:\n",
    "        sl_est = pickle.load(open(fn, 'rb'))\n",
    "    # concatenate to df\n",
    "    sl_est_full = pd.concat([sl_est_full, sl_est])\n",
    "sl_est_full = sl_est_full.sort_values(by=['datetime']).reset_index(drop=True) # renumber, sort by date\n",
    "if 'Unnamed: 0' in list(sl_est_full.columns):\n",
    "    sl_est_full = sl_est_full.drop('Unnamed: 0', axis=1) # remove Unnamed column\n",
    "sl_est_full"
   ]
  },
  {
   "cell_type": "markdown",
   "id": "e2dccea7-6d4f-406d-945c-b23df7ae207a",
   "metadata": {},
   "source": [
    "## Display all snowline coordinates on original input image, determine whether to remove snowline from time series"
   ]
  },
  {
   "cell_type": "code",
   "execution_count": null,
   "id": "889a8e41-8471-49e7-a80a-24bff3b899fb",
   "metadata": {
    "scrolled": true,
    "tags": []
   },
   "outputs": [],
   "source": [
    "checkboxes = f.manual_snowline_filter_plot(sl_est_full, dataset_dict, L_im_path, PS_im_path, S2_SR_im_path, S2_TOA_im_path)"
   ]
  },
  {
   "cell_type": "markdown",
   "id": "326110dd-8bc3-4e69-8fc5-beb46483c2ab",
   "metadata": {},
   "source": [
    "## Grab user input, plot and save filtered snowlines CSV to file"
   ]
  },
  {
   "cell_type": "code",
   "execution_count": null,
   "id": "5aa83172-e856-45b8-bcd9-02ee4026edfb",
   "metadata": {
    "tags": []
   },
   "outputs": [],
   "source": [
    "# -----Grab user inputs from checkboxes\n",
    "values = np.array([x.value for x in checkboxes])\n",
    "num_filt =len(np.argwhere(values==True))\n",
    "\n",
    "# -----Filter snowlines based on user input\n",
    "print(str(num_filt) + ' images selected to remove from time series.')\n",
    "proceed = input('Proceed? (Y/N)')\n",
    "if proceed=='Y':\n",
    "    # reformat datetime column for plotting\n",
    "    sl_est_full['datetime'] = sl_est_full['datetime'].astype('datetime64[ns]')\n",
    "    # remove rows where values == True\n",
    "    sl_est_full_filt = sl_est_full.iloc[values==False,:]\n",
    "    # save removed rows for plotting\n",
    "    sl_est_full_removed = sl_est_full.iloc[values==True,:]\n",
    "    # plot\n",
    "    fig = plt.figure(figsize=(10,6))\n",
    "    plt.plot(sl_est_full_removed['datetime'], sl_est_full_removed['snowlines_elevs_median_m'], \n",
    "             'x', markersize=4, color='#969696', label='Removed points')\n",
    "    plt.plot(sl_est_full_filt['datetime'], sl_est_full_filt['snowlines_elevs_median_m'], \n",
    "             '.k', markersize=8, label='Filtered timeseries')\n",
    "    plt.title(site_name)\n",
    "    plt.xlabel('Date')\n",
    "    plt.ylabel('Median snowline elevation [m]')\n",
    "    plt.legend(loc='best')\n",
    "    plt.grid()\n",
    "    plt.show()\n",
    "    \n",
    "    # -----Save figure\n",
    "    min_date = str(np.nanmin(sl_est_full['datetime']))[0:10].replace('-','')\n",
    "    max_date = str(np.nanmax(sl_est_full['datetime']))[0:10].replace('-','')\n",
    "    fig_fn = figures_out_path + min_date + '_'+ max_date + '_' + site_name + '_filtered_snowlines_manual.png'\n",
    "    fig.savefig(fig_fn, dpi=300, facecolor='w')\n",
    "    print('figure saved to file: ' + fig_fn)\n",
    "\n",
    "    # -----Save filtered snowline time series\n",
    "    sl_fn = min_date + '_' + max_date + '_' + site_name + '_filtered_snowlines_manual.csv'\n",
    "    sl_est_full_filt.to_csv(out_path + sl_fn)\n",
    "    print('filtered snowlines saved to file: ' + out_path + sl_fn)\n",
    "    \n",
    "else:\n",
    "    print('Not proceeding...')"
   ]
  }
 ],
 "metadata": {
  "kernelspec": {
   "display_name": "snow-cover-mapping",
   "language": "python",
   "name": "snow-cover-mapping"
  },
  "language_info": {
   "codemirror_mode": {
    "name": "ipython",
    "version": 3
   },
   "file_extension": ".py",
   "mimetype": "text/x-python",
   "name": "python",
   "nbconvert_exporter": "python",
   "pygments_lexer": "ipython3",
   "version": "3.11.3"
  }
 },
 "nbformat": 4,
 "nbformat_minor": 5
}
