{
 "cells": [
  {
   "cell_type": "code",
   "execution_count": null,
   "id": "01f9fb76-36dc-43b7-ac05-8aea88a35ebb",
   "metadata": {},
   "outputs": [],
   "source": [
    "import matplotlib.pyplot as plt\n",
    "import rioxarray as rxr\n",
    "import numpy as np\n",
    "import glob\n",
    "import os"
   ]
  },
  {
   "cell_type": "code",
   "execution_count": null,
   "id": "7e66e23b-d677-41cf-ad58-6fb89121dec8",
   "metadata": {},
   "outputs": [],
   "source": [
    "im_path = '/Users/raineyaberle/Research/PhD/snow_cover_mapping/study-sites/LemonCreek/imagery/PlanetScope/mosaics/'\n",
    "im_adj_path = im_path + '../adjusted-filtered/'\n",
    "os.chdir(im_adj_path)\n",
    "im_adj_fns = glob.glob('*.tif')\n",
    "im_adj_fns = sorted(im_adj_fns)\n",
    "\n",
    "for im_adj_fn in im_adj_fns:\n",
    "    \n",
    "    date = im_adj_fn[0:11]\n",
    "    os.chdir(im_path)\n",
    "    im_fn = glob.glob(date+'*.tif')\n",
    "    if im_fn:\n",
    "        im = rxr.open_rasterio(im_path + im_fn[0])\n",
    "        im = im.where(im!=-9999)\n",
    "        im = im / 1e4\n",
    "        im_adj = rxr.open_rasterio(im_adj_path + im_adj_fn)\n",
    "        im_adj = im_adj.where(im_adj!=-9999)\n",
    "        im_adj = im_adj / 1e4\n",
    "        \n",
    "        fig, ax = plt.subplots(2, 2, figsize=(14,8), gridspec_kw={'height_ratios': [4, 1]})\n",
    "        ax = ax.flatten()\n",
    "        plt.rcParams.update({'font.size': 12, 'font.serif': 'Arial'})\n",
    "        ax[0].imshow(np.dstack([im.data[2], im.data[1], im.data[0]]), aspect='auto',\n",
    "                   extent=(np.min(im.x.data)/1e3, np.max(im.x.data)/1e3, \n",
    "                           np.min(im.y.data)/1e3, np.max(im.y.data)/1e3))\n",
    "        ax[0].set_xlabel('Easting [km]')\n",
    "        ax[0].set_ylabel('Northing [km]')\n",
    "        ax[0].set_title('Raw image')\n",
    "        ax[1].imshow(np.dstack([im_adj.data[2], im_adj.data[1], im_adj.data[0]]), aspect='auto',\n",
    "                     extent=(np.min(im_adj.x.data)/1e3, np.max(im_adj.x.data)/1e3, \n",
    "                             np.min(im_adj.y.data)/1e3, np.max(im_adj.y.data)/1e3))\n",
    "        ax[1].set_xlabel('Easting [km]')\n",
    "        ax[1].set_title('Adjusted image')\n",
    "        ax[2].hist(im.data[0].flatten(), color='blue', histtype='step', bins=100, label='blue')\n",
    "        ax[2].hist(im.data[1].flatten(), color='green', histtype='step', bins=100, label='green')\n",
    "        ax[2].hist(im.data[2].flatten(), color='red', histtype='step', bins=100, label='red')\n",
    "        ax[2].hist(im.data[3].flatten(), color='brown', histtype='step', linewidth=2, bins=100, label='NIR')\n",
    "        ax[2].set_xlabel('Surface reflectance')\n",
    "        ax[2].set_ylabel('Pixel counts')\n",
    "        ax[2].grid()\n",
    "        ax[2].legend(loc='best')\n",
    "        ax[3].hist(im_adj.data[0].flatten(), color='blue', histtype='step', bins=100, label='blue')\n",
    "        ax[3].hist(im_adj.data[1].flatten(), color='green', histtype='step', bins=100, label='green')\n",
    "        ax[3].hist(im_adj.data[2].flatten(), color='red', histtype='step', bins=100, label='red')\n",
    "        ax[3].hist(im_adj.data[3].flatten(), color='brown', histtype='step', linewidth=2, bins=100, label='NIR')\n",
    "        ax[3].set_xlabel('Surface reflectance')\n",
    "        ax[3].grid()\n",
    "        ax[3].legend(loc='best')\n",
    "        fig.suptitle(date)\n",
    "        fig.tight_layout()\n",
    "        plt.show()\n"
   ]
  },
  {
   "cell_type": "code",
   "execution_count": null,
   "id": "5f18ba53-dfad-4c16-9a4a-877ba03cad6c",
   "metadata": {},
   "outputs": [],
   "source": []
  }
 ],
 "metadata": {
  "kernelspec": {
   "display_name": "planet-snow",
   "language": "python",
   "name": "planet-snow"
  },
  "language_info": {
   "codemirror_mode": {
    "name": "ipython",
    "version": 3
   },
   "file_extension": ".py",
   "mimetype": "text/x-python",
   "name": "python",
   "nbconvert_exporter": "python",
   "pygments_lexer": "ipython3",
   "version": "3.9.13"
  }
 },
 "nbformat": 4,
 "nbformat_minor": 5
}
