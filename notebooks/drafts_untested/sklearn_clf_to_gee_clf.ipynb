{
 "cells": [
  {
   "cell_type": "markdown",
   "id": "d14e39a0-476b-485a-b69d-0322826dd59c",
   "metadata": {},
   "source": [
    "# Convert sklearn classifiers to GEE classifiers using geemap\n",
    "\n",
    "Adapted from [geemap documentation](https://geemap.org/notebooks/46_local_rf_training/)"
   ]
  },
  {
   "cell_type": "code",
   "execution_count": null,
   "id": "19dd4220-bf95-468c-a44b-28390a4db201",
   "metadata": {},
   "outputs": [],
   "source": [
    "import ee\n",
    "import geemap\n",
    "import pandas as pd\n",
    "from geemap import ml\n",
    "import json\n",
    "from joblib import dump, load\n",
    "import sklearn\n",
    "\n",
    "\n",
    "base_path = '/Users/raineyaberle/Research/PhD/snow_cover_mapping/snow-cover-mapping/'"
   ]
  },
  {
   "cell_type": "code",
   "execution_count": null,
   "id": "3cfec079-1a44-4f5b-8a8f-4d596574797e",
   "metadata": {},
   "outputs": [],
   "source": [
    "ee.Initialize()"
   ]
  },
  {
   "cell_type": "code",
   "execution_count": null,
   "id": "97a0d275-0358-4186-8ff3-f5fafb0bff5d",
   "metadata": {},
   "outputs": [],
   "source": [
    "def determine_model_type(model):\n",
    "    if type(clf)==sklearn.svm._classes.SVC:\n",
    "        print('SVC')\n",
    "    elif "
   ]
  },
  {
   "cell_type": "code",
   "execution_count": null,
   "id": "f25e6b39-9147-47b9-9632-6b13eff53b44",
   "metadata": {},
   "outputs": [],
   "source": [
    "# -----Sentinel-2 TOA\n",
    "# Load trained classifier and feature columns\n",
    "clf_fn = base_path+'inputs-outputs/Sentinel-2_TOA_classifier_all_sites.joblib'\n",
    "clf = load(clf_fn)\n",
    "feature_cols_fn = base_path+'inputs-outputs/Sentinel-2_TOA_feature_columns.json'\n",
    "feature_cols = json.load(open(feature_cols_fn))"
   ]
  },
  {
   "cell_type": "code",
   "execution_count": null,
   "id": "2dd5dde0-3d5c-438b-889f-80e16dd128ab",
   "metadata": {},
   "outputs": [],
   "source": [
    "determine_model_type(clf)"
   ]
  },
  {
   "cell_type": "code",
   "execution_count": null,
   "id": "34098966-841f-4595-8540-b8ceae1759c2",
   "metadata": {},
   "outputs": [],
   "source": [
    "clf.n_features_in_"
   ]
  },
  {
   "cell_type": "code",
   "execution_count": null,
   "id": "d7741ce1-af9d-4cd2-8a73-efbb981fd836",
   "metadata": {},
   "outputs": [],
   "source": [
    "clf.get_params()"
   ]
  },
  {
   "cell_type": "code",
   "execution_count": null,
   "id": "d73ac059-7976-4c4d-85c1-c5d5d4944354",
   "metadata": {},
   "outputs": [],
   "source": [
    "clf_ee = ee.Classifier.libsvm(decisionProcedure = 'Voting',\n",
    "                              svmType = 'C_SVC',\n",
    "                              kernelType = clf.get_params()['kernel'].upper(),\n",
    "                              shrinking = clf.get_params()['shrinking'],\n",
    "                              # degree = clf.get_params()['degree'],\n",
    "                              gamma = clf.get_params()['gamma'],\n",
    "                              # coef0 = clf.get_params()['coef0'],\n",
    "                              cost = clf.get_params()['C']\n",
    "                              )\n",
    "\n",
    "clf_ee.features = {'type': 'FeatureCollection',\n",
    "                      'columns': {'B1': 'Integer<0, 65535>',\n",
    "                       'B11': 'Integer<0, 65535>',\n",
    "                       'B12': 'Integer<0, 65535>',\n",
    "                       'B2': 'Integer<0, 65535>',\n",
    "                       'B3': 'Integer<0, 65535>',\n",
    "                       'B4': 'Integer<0, 65535>',\n",
    "                       'B5': 'Integer<0, 65535>',\n",
    "                       'B6': 'Integer<0, 65535>',\n",
    "                       'B7': 'Integer<0, 65535>',\n",
    "                       'B8': 'Integer<0, 65535>',\n",
    "                       'B8A': 'Integer<0, 65535>',\n",
    "                       'B9': 'Integer<0, 65535>',\n",
    "                       'lc': 'Short<0, 255>'}\n",
    "                  }\n",
    "\n",
    "# clf_ee = ee.Classifier.libsvm({'decisionProcedure': 'Voting', \n",
    "#                                'svmType': 'C',\n",
    "#                                'kernelType': clf.get_params()['kernel'].upper(),\n",
    "#                                'shrinking': True,\n",
    "#                                'degree': clf.get_params()['degree'],\n",
    "#                                'gamma': clf.get_params()['gamma'],\n",
    "#                                'coef0': clf.get_params()['coef0'],\n",
    "#                                'cost': clf.get_params()['C']\n",
    "#                               })\n",
    "clf_ee"
   ]
  },
  {
   "cell_type": "code",
   "execution_count": null,
   "id": "c75d1e71-28b5-4ce6-af45-79e47867315c",
   "metadata": {},
   "outputs": [],
   "source": [
    "im_ee = ee.Image('COPERNICUS/S2_HARMONIZED/20210725T183921_20210725T184402_T11UQP')\n",
    "im_ee.classify(clf_ee).getInfo()"
   ]
  },
  {
   "cell_type": "code",
   "execution_count": null,
   "id": "c14335bc-9d1f-4bbd-9416-83167f43d1dc",
   "metadata": {},
   "outputs": [],
   "source": [
    "# -----Sentinel-2 SR\n",
    "# Load trained classifier and feature columns\n",
    "clf_fn = base_path+'inputs-outputs/Sentinel-2_SR_classifier_all_sites.joblib'\n",
    "clf = load(clf_fn)\n",
    "feature_cols_fn = base_path+'inputs-outputs/Sentinel-2_SR_feature_columns.json'\n",
    "feature_cols = json.load(open(feature_cols_fn))\n",
    "\n",
    "clf"
   ]
  },
  {
   "cell_type": "code",
   "execution_count": null,
   "id": "7590daed-3979-4485-a131-2136b0928efc",
   "metadata": {},
   "outputs": [],
   "source": [
    "# -----Landsat\n",
    "# Load trained classifier and feature columns\n",
    "clf_fn = base_path+'inputs-outputs/Landsat_classifier_all_sites.joblib'\n",
    "clf = load(clf_fn)\n",
    "feature_cols_fn = base_path+'inputs-outputs/Landsat_feature_columns.json'\n",
    "feature_cols = json.load(open(feature_cols_fn))\n",
    "clf"
   ]
  },
  {
   "cell_type": "code",
   "execution_count": null,
   "id": "f5fbecb0-9f1c-4243-bcd0-396aab87a636",
   "metadata": {},
   "outputs": [],
   "source": []
  }
 ],
 "metadata": {
  "kernelspec": {
   "display_name": "snow-cover-mapping",
   "language": "python",
   "name": "snow-cover-mapping"
  },
  "language_info": {
   "codemirror_mode": {
    "name": "ipython",
    "version": 3
   },
   "file_extension": ".py",
   "mimetype": "text/x-python",
   "name": "python",
   "nbconvert_exporter": "python",
   "pygments_lexer": "ipython3",
   "version": "3.11.3"
  }
 },
 "nbformat": 4,
 "nbformat_minor": 5
}
