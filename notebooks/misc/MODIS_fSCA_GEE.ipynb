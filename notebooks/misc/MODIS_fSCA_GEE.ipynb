{
 "cells": [
  {
   "cell_type": "markdown",
   "id": "120b84c3",
   "metadata": {},
   "source": [
    "## Notebook to download fractional snow-covered area (fSCA) products from MODIS over a pre-defined Area of Interest (AOI) and time period through the Google Earth Engine (GEE) data repository\n",
    "\n",
    "Rainey Aberle\n",
    "\n",
    "Last edited: July 2022\n",
    "\n",
    "### Requirements:\n",
    "- __GEE account__: Sign up for your free account [HERE](https://earthengine.google.com/new_signup/). Once you have an account, you will be asked to authorize your GEE account for use within this notebook in Step 3 below. \n",
    "- __AOI shapefile__: define the path in your local directory to the AOI `.shp` file in Step 2 below. "
   ]
  },
  {
   "cell_type": "markdown",
   "id": "e6e54658",
   "metadata": {},
   "source": [
    "### 1. Import packages"
   ]
  },
  {
   "cell_type": "code",
   "execution_count": null,
   "id": "6666d987",
   "metadata": {},
   "outputs": [],
   "source": [
    "import ee\n",
    "import geemap\n",
    "import geopandas as gpd\n",
    "import os\n",
    "import rasterio as rio"
   ]
  },
  {
   "cell_type": "markdown",
   "id": "2a8d95f0",
   "metadata": {},
   "source": [
    "### 2. Set file locations and search settings (MODIFY THIS SECTION)\n",
    "\n",
    "_MODIS specifications (see more info [here](https://lpdaac.usgs.gov/data/get-started-data/collection-overview/missions/modis-overview/#:~:text=It%20has%20a%20viewing%20swath,500%20m%2C%20and%201%2C000%20m.))_\n",
    "- Temporal coverage: Terra = 1999-12-18 to present, Aqua = 2002-05-04 to present\n",
    "- Spatial coverage: Global"
   ]
  },
  {
   "cell_type": "code",
   "execution_count": null,
   "id": "b9c6ceba",
   "metadata": {},
   "outputs": [],
   "source": [
    "# -----Set path to output folder for image downloads and figures\n",
    "images_out_path = '/Users/raineyaberle/Research/PhD/Planet_snow_cover/study-sites/Wolverine/imagery/MODIS/'\n",
    "figures_out_path = images_out_path+'../../figures/'\n",
    "\n",
    "# -----Set path to Area of Interest (AOI) shapefile\n",
    "# include full path to file\n",
    "AOI_fn = '/Users/raineyaberle/Research/PhD/GIS_data/RGI_outlines/Wolverine_RGI.shp' \n",
    "\n",
    "# -----Set temporal filters\n",
    "# Start and end dates\n",
    "# Format: 'YYYY-MM-DD'\n",
    "start_date = '2016-01-01'\n",
    "end_date = '2016-12-01'\n",
    "# Calendar months to include in search (e.g., January = 1, December = 12)\n",
    "# To include all months, set as: start_month = 1, end_month = 12\n",
    "start_month = 4\n",
    "end_month = 10\n",
    "\n",
    "# -----Add spatial buffer to AOI\n",
    "# buffer the area around the AOI for cropping. For no buffer, set to 0. \n",
    "buffer = 1000 # [m]"
   ]
  },
  {
   "cell_type": "markdown",
   "id": "7ff6270a",
   "metadata": {},
   "source": [
    "### 2. Authenticate and initialize GEE\n",
    "\n",
    "__Note:__ The first time you run the following cell, you will be asked to authenticate your GEE account for use in this notebook. This will send you to an external web page, where you will walk through the GEE authentication workflow and copy an authentication code back in this notebook when prompted. "
   ]
  },
  {
   "cell_type": "code",
   "execution_count": null,
   "id": "1d7226d5",
   "metadata": {},
   "outputs": [],
   "source": [
    "try:\n",
    "    ee.Initialize()\n",
    "except: \n",
    "    ee.Authenticate()\n",
    "    ee.Initialize()"
   ]
  },
  {
   "cell_type": "markdown",
   "id": "75b4caef",
   "metadata": {},
   "source": [
    "### 3. Conduct search for MODIS fSCA data products"
   ]
  },
  {
   "cell_type": "code",
   "execution_count": null,
   "id": "a94a2889",
   "metadata": {},
   "outputs": [],
   "source": [
    "# -----Load AOI from file and reformat for clipping\n",
    "# read as gpd.DataFrame\n",
    "AOI = gpd.read_file(AOI_fn) \n",
    "# reproject AOI to WGS 84 for compatibility\n",
    "AOI_WGS = AOI.to_crs(4326)\n",
    "# reformat AOI_UTM bounding box as ee.Geometry for clipping\n",
    "AOI_WGS_bb_ee = ee.Geometry({\"type\": \"Polygon\",\"coordinates\":\n",
    "                             [[[AOI_WGS.geometry.bounds.minx[0], AOI_WGS.geometry.bounds.miny[0]],\n",
    "                               [AOI_WGS.geometry.bounds.maxx[0], AOI_WGS.geometry.bounds.miny[0]],\n",
    "                               [AOI_WGS.geometry.bounds.maxx[0], AOI_WGS.geometry.bounds.maxy[0]],\n",
    "                               [AOI_WGS.geometry.bounds.minx[0], AOI_WGS.geometry.bounds.maxy[0]],\n",
    "                               [AOI_WGS.geometry.bounds.minx[0], AOI_WGS.geometry.bounds.miny[0]]]\n",
    "                             ]}).buffer(buffer) \n",
    "\n",
    "# -----Query GEE for Terra and Aqua fSCA image collections\n",
    "Terra_fSCA = (ee.ImageCollection(\"MODIS/006/MOD10A1\")\n",
    "              .filterBounds(AOI_WGS_bb_ee) # spatial filter\n",
    "              .filterDate(start_date, end_date) # date filter\n",
    "              .filter(ee.Filter.calendarRange(start_month, end_month, 'month'))) # calendar month filter\n",
    "Aqua_fSCA = (ee.ImageCollection(\"MODIS/006/MYD10A1\")\n",
    "              .filterBounds(AOI_WGS_bb_ee) # spatial filter\n",
    "              .filterDate(start_date, end_date) # date filter\n",
    "              .filter(ee.Filter.calendarRange(start_month, end_month, 'month'))) # calendar month filter\n",
    "# print number of images in each collection\n",
    "print(str(Terra_fSCA.size().getInfo()) + ' Terra fSCA images found.')\n",
    "print(str(Aqua_fSCA.size().getInfo())  + ' Aqua fSCA images found.')\n",
    "\n",
    "# -----Clip image collections to AOI\n",
    "def clip_image_to_AOI(im, AOI=AOI_WGS_bb_ee):\n",
    "    return im.clip(AOI)\n",
    "Terra_fSCA_clipped = Terra_fSCA.map(clip_image_to_AOI)\n",
    "Aqua_fSCA_clipped = Aqua_fSCA.map(clip_image_to_AOI)\n",
    "\n",
    "# -----Display first image in each collection \n",
    "# define visualization parameters for snow cover images\n",
    "snow_cover_vis = {'min': 0.0, 'max': 100.0, 'palette': ['white', 'blue']} \n",
    "# create GEE map and display\n",
    "Map = geemap.Map(basemap='HYBRID')\n",
    "Map.addLayerControl()\n",
    "Map.addLayer(AOI_WGS_bb_ee, {'color': 'dd3497'}, 'AOI')\n",
    "Map.addLayer(Terra_fSCA_clipped.first().select('NDSI_Snow_Cover'), snow_cover_vis, 'Terra fSCA')\n",
    "Map.addLayer(Aqua_fSCA_clipped.first().select('NDSI_Snow_Cover'), snow_cover_vis, 'Aqua fSCA')\n",
    "Map.centerObject(AOI_WGS_bb_ee, zoom=11)\n",
    "Map"
   ]
  },
  {
   "cell_type": "markdown",
   "id": "028add84",
   "metadata": {},
   "source": [
    "### 5. Download image collections to file"
   ]
  },
  {
   "cell_type": "code",
   "execution_count": null,
   "id": "c7c38169",
   "metadata": {},
   "outputs": [],
   "source": [
    "# Export with WGS84 projection\n",
    "crs='EPSG:4326' \n",
    "scale=500 # default scale [m]\n",
    "# Terra\n",
    "print('Downloading Terra fSCA images...')\n",
    "Terra_fSCA_out_path = images_out_path + 'Terra_fSCA/'\n",
    "geemap.ee_export_image_collection(Terra_fSCA_clipped, Terra_fSCA_out_path, crs=crs, scale=scale)\n",
    "# Aqua\n",
    "print('Aqua Terra fSCA images...')\n",
    "Aqua_fSCA_out_path = images_out_path + 'Aqua_fSCA/'\n",
    "geemap.ee_export_image_collection(Aqua_fSCA_clipped, Aqua_fSCA_out_path, crs=crs, scale=scale)"
   ]
  },
  {
   "cell_type": "markdown",
   "id": "0e6d6341",
   "metadata": {},
   "source": [
    "### _Optional:_ Create figures of the resulting image collections and compile into a .gif"
   ]
  },
  {
   "cell_type": "code",
   "execution_count": null,
   "id": "47481766",
   "metadata": {},
   "outputs": [],
   "source": [
    "import os\n",
    "import glob\n",
    "import matplotlib.pyplot as plt\n",
    "\n",
    "# -----Plot Aqua and Terra fSCA images captured the same day, save as .png files\n",
    "# grab image file names\n",
    "os.chdir(Terra_fSCA_out_path) # change directory\n",
    "Terra_fSCA_fns = glob.glob('*.tif') # grab file names for all .tifs\n",
    "os.chdir(Aqua_fSCA_out_path) # change directory\n",
    "Aqua_fSCA_fns = glob.glob('*.tif') # grab file names for all .tifs\n",
    "# determine unique image dates\n",
    "fns = Terra_fSCA_fns + Aqua_fSCA_fns\n",
    "fns_unique = list(set(fns))\n",
    "fns_unique.sort() # sort chronologically\n",
    "# reproject AOI to WGS84\n",
    "AOI_rpj = AOI.to_crs(crs)\n",
    "# loop through unique image dates\n",
    "for fn in fns_unique:\n",
    "    # set up figure\n",
    "    fig, (ax1, ax2) = plt.subplots(1, 2, figsize=(16,8))\n",
    "    plt.rcParams.update({'font.size':14, 'font.sans-serif':'Arial'})\n",
    "    # load and plot Terra fSCA image\n",
    "    if os.path.exists(Terra_fSCA_out_path + fn):\n",
    "        # open file\n",
    "        im = rio.open(Terra_fSCA_out_path + fn)\n",
    "        # load fSCA band\n",
    "        fSCA = im.read(1)\n",
    "        # define coordinates grid\n",
    "        im_x = np.linspace(im.bounds.left, im.bounds.right, num=np.shape(fSCA)[1])\n",
    "        im_y = np.linspace(im.bounds.top, im.bounds.bottom, num=np.shape(fSCA)[0])\n",
    "        ax1.imshow(fSCA, cmap='Blues', clim=(0,100),\n",
    "                   extent=(np.min(im_x), np.max(im_x), np.min(im_y), np.max(im_y)))\n",
    "        AOI_rpj.plot(ax=ax1, facecolor='none', edgecolor='white', label='AOI')\n",
    "        ax1.grid()\n",
    "        # define axis ticks\n",
    "        xticks = np.linspace(np.round(im_x[0], 3), np.round(im_x[-1], 3), num=5)\n",
    "        yticks = np.linspace(np.round(im_y[0], 3), np.round(im_y[-1], 3), num=5)\n",
    "        ax1.set_xticks(xticks)\n",
    "        ax1.set_yticks(yticks)\n",
    "        ax1.set_title('Terra')\n",
    "    # load and plot Aqua fSCA image\n",
    "    if os.path.exists(Aqua_fSCA_out_path + fn):\n",
    "        # open file\n",
    "        im = rio.open(Aqua_fSCA_out_path + fn)\n",
    "        # load fSCA band\n",
    "        fSCA = im.read(1)\n",
    "        # define coordinates grid\n",
    "        im_x = np.linspace(im.bounds.left, im.bounds.right, num=np.shape(fSCA)[1])\n",
    "        im_y = np.linspace(im.bounds.top, im.bounds.bottom, num=np.shape(fSCA)[0])\n",
    "        plot_Aqua = ax2.imshow(fSCA, cmap='Blues', clim=(0,100),\n",
    "                   extent=(np.min(im_x), np.max(im_x), np.min(im_y), np.max(im_y)))\n",
    "        AOI_rpj.plot(ax=ax2, facecolor='none', edgecolor='white', label='AOI')\n",
    "        ax2.grid()\n",
    "        # define axis ticks\n",
    "        xticks = np.linspace(np.round(im_x[0], 3), np.round(im_x[-1], 3), num=5)\n",
    "        yticks = np.linspace(np.round(im_y[0], 3), np.round(im_y[-1], 3), num=5)\n",
    "        ax2.set_xticks(xticks)\n",
    "        ax2.set_yticks(yticks)\n",
    "        ax2.set_title('Aqua')\n",
    "    fig.colorbar(plot_Aqua, ax=ax2, shrink=0.5, label='fSCA [%]')\n",
    "    fig.suptitle(fn[0:4]+'-'+fn[5:7]+'-'+fn[8:10])\n",
    "    fig.tight_layout()\n",
    "    plt.show()\n",
    "    fig_fn = fn[:-4]+'_MODIS_fSCA.png'\n",
    "    # make directory for figures if it doesn't exist\n",
    "    if os.path.exists(figures_out_path)==False:\n",
    "        os.mkdir(figures_out_path)\n",
    "        print('Made directory for output figures: ' + figures_out_path)\n",
    "    fig.savefig(figures_out_path + fig_fn, dpi=150, facecolor='white')\n",
    "    print('Figure saved to file: ' + figures_out_path + fig_fn)"
   ]
  },
  {
   "cell_type": "code",
   "execution_count": null,
   "id": "f5e2c2e3",
   "metadata": {},
   "outputs": [],
   "source": [
    "from PIL import Image as PIL_Image\n",
    "from IPython.display import Image as IPy_Image\n",
    "\n",
    "# -----Make a .gif of output images\n",
    "os.chdir(figures_out_path)\n",
    "fig_fns = glob.glob('*MODIS_fSCA.png') # load all output figure file names\n",
    "fig_fns.sort() # sort chronologically\n",
    "# grab figures date range for .gif file name\n",
    "fig_start_date = fig_fns[0][:-4] # first figure date\n",
    "fig_end_date = fig_fns[-1][:-4] # final figure date\n",
    "frames = [PIL_Image.open(im) for im in fig_fns]\n",
    "frame_one = frames[0]\n",
    "gif_fn = (fig_start_date[0:4] + fig_start_date[5:7] + fig_start_date[8:10] + '_' + \n",
    "         fig_end_date[0:4] + fig_end_date[5:7] + fig_end_date[8:10] + \n",
    "          '_MODIS_fSCA.gif' )\n",
    "frame_one.save(figures_out_path + gif_fn, format=\"GIF\", append_images=frames, save_all=True, duration=1000, loop=0)\n",
    "print('GIF saved to file:' + figures_out_path + gif_fn)\n",
    "\n",
    "# -----Display .gif\n",
    "IPy_Image(filename=figures_out_path+gif_fn)"
   ]
  },
  {
   "cell_type": "code",
   "execution_count": null,
   "id": "fd0cf940",
   "metadata": {},
   "outputs": [],
   "source": [
    "# -----Clean up: delete individual figure files\n",
    "files = os.listdir(figures_out_path)\n",
    "for item in files:\n",
    "    if item.endswith(\"MODIS_fSCA.png\"):\n",
    "        os.remove(os.path.join(figures_out_path, item))\n",
    "print('Individual figure files deleted.')"
   ]
  }
 ],
 "metadata": {
  "kernelspec": {
   "display_name": "planet-snow",
   "language": "python",
   "name": "planet-snow"
  },
  "language_info": {
   "codemirror_mode": {
    "name": "ipython",
    "version": 3
   },
   "file_extension": ".py",
   "mimetype": "text/x-python",
   "name": "python",
   "nbconvert_exporter": "python",
   "pygments_lexer": "ipython3",
   "version": "3.9.13"
  },
  "varInspector": {
   "cols": {
    "lenName": 16,
    "lenType": 16,
    "lenVar": 40
   },
   "kernels_config": {
    "python": {
     "delete_cmd_postfix": "",
     "delete_cmd_prefix": "del ",
     "library": "var_list.py",
     "varRefreshCmd": "print(var_dic_list())"
    },
    "r": {
     "delete_cmd_postfix": ") ",
     "delete_cmd_prefix": "rm(",
     "library": "var_list.r",
     "varRefreshCmd": "cat(var_dic_list()) "
    }
   },
   "types_to_exclude": [
    "module",
    "function",
    "builtin_function_or_method",
    "instance",
    "_Feature"
   ],
   "window_display": false
  }
 },
 "nbformat": 4,
 "nbformat_minor": 5
}
