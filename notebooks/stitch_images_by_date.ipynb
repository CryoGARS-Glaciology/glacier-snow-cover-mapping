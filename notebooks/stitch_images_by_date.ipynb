{
 "cells": [
  {
   "cell_type": "markdown",
   "metadata": {},
   "source": [
    "## Notebook to mosaic images captured within one minute of each other\n",
    "\n",
    "Jukes Liu & Rainey Aberle\n",
    "\n",
    "January 2022"
   ]
  },
  {
   "cell_type": "code",
   "execution_count": null,
   "metadata": {},
   "outputs": [],
   "source": [
    "import os\n",
    "import rasterio as rio\n",
    "import numpy as np\n",
    "import glob\n",
    "import subprocess\n",
    "from osgeo import gdal\n",
    "import matplotlib.pyplot as plt"
   ]
  },
  {
   "cell_type": "code",
   "execution_count": null,
   "metadata": {},
   "outputs": [],
   "source": [
    "# -----Path to images\n",
    "site_name = 'Sperry'\n",
    "base_path = '/Users/raineyaberle/Research/PhD/Planet_snow_cover/planet-snow/'\n",
    "im_path = base_path+'../study-sites/'+site_name+'/imagery/PlanetScope/2016-2021/PSScene4Band/'\n",
    "\n",
    "# -----Path for output images\n",
    "out_path = im_path+'../../stitched/'\n",
    "\n",
    "# -----Image file extension for mosaicing\n",
    "ext = 'SR_clip'"
   ]
  },
  {
   "cell_type": "markdown",
   "metadata": {},
   "source": [
    "### Mosaic image files"
   ]
  },
  {
   "cell_type": "code",
   "execution_count": null,
   "metadata": {},
   "outputs": [],
   "source": [
    "# -----Create output directory if it does not already exist\n",
    "if os.path.isdir(out_path)==0:\n",
    "    os.mkdir(out_path)\n",
    "    print(out_path+' directory made')\n",
    "\n",
    "# -----Load file names with proper extension\n",
    "os.chdir(im_path)\n",
    "im_names = glob.glob('*'+ext+'*')\n",
    "im_names.sort() \n",
    "    \n",
    "# ----Grab all unique scenes (images captured within the same hour)\n",
    "uniquescenes = [] \n",
    "for scene in im_names:\n",
    "    date = scene[0:11]\n",
    "    uniquescenes.append(date)\n",
    "uniquescenes = list(set(uniquescenes))\n",
    "uniquescenes.sort() # sort chronologically\n",
    "uniquescenes"
   ]
  },
  {
   "cell_type": "code",
   "execution_count": null,
   "metadata": {},
   "outputs": [],
   "source": [
    "# -----Loop through unique scenes\n",
    "for scene in uniquescenes:\n",
    "    filepaths = [] # files from the same hour to mosaic together\n",
    "    for file in im_names: # check all files\n",
    "        if (scene in file): # if they match the scene date \n",
    "            filepaths.append(im_path + file) # add the path to the file\n",
    "    \n",
    "    # construct the gdal_merge command\n",
    "    cmd = 'gdal_merge.py -v '\n",
    "\n",
    "    # add input files to command\n",
    "    for filepath in filepaths:\n",
    "        cmd += filepath+' '\n",
    "    \n",
    "    # define the out path with correct extension\n",
    "    if ext == 'DN_udm.tif':\n",
    "        out = os.path.join(out_path, scene + \"_DN_mask.tif\")\n",
    "    elif ext == 'udm2.tif':\n",
    "        out = os.path.join(out_path, scene + \"_mask.tif\")\n",
    "    else:\n",
    "        out = os.path.join(out_path, scene + \".tif\")\n",
    "\n",
    "    cmd += '-o '+out\n",
    "\n",
    "    # run the command \n",
    "    p = subprocess.run(cmd, shell=True, capture_output=True) \n",
    "    print(p)"
   ]
  },
  {
   "cell_type": "code",
   "execution_count": null,
   "metadata": {},
   "outputs": [],
   "source": [
    "# -----Print files in outpath to verify\n",
    "os.chdir(out_path)\n",
    "out_path_files = glob.glob('*.tif') # grab all files in out_path\n",
    "out_path_files.sort() # sort by date\n",
    "out_path_files # print"
   ]
  },
  {
   "cell_type": "code",
   "execution_count": null,
   "metadata": {
    "scrolled": false
   },
   "outputs": [],
   "source": [
    "# -----Plot image mosaics to preview\n",
    "for im_name in out_path_files:\n",
    "    im = rio.open(im_name)\n",
    "    b = im.read(1)\n",
    "    g = im.read(2)\n",
    "    r = im.read(3)\n",
    "    if np.nanmean(b)>1e3:\n",
    "        im_scalar = 10000\n",
    "        b = b / im_scalar\n",
    "        g = g / im_scalar\n",
    "        r = r / im_scalar\n",
    "    plt.title(im_name[0:11])\n",
    "    plt.imshow(np.dstack([r,g,b]))\n",
    "    plt.show()"
   ]
  },
  {
   "cell_type": "markdown",
   "metadata": {},
   "source": [
    "### Done!"
   ]
  }
 ],
 "metadata": {
  "kernelspec": {
   "display_name": "Python 3 (ipykernel)",
   "language": "python",
   "name": "python3"
  },
  "language_info": {
   "codemirror_mode": {
    "name": "ipython",
    "version": 3
   },
   "file_extension": ".py",
   "mimetype": "text/x-python",
   "name": "python",
   "nbconvert_exporter": "python",
   "pygments_lexer": "ipython3",
   "version": "3.9.13"
  },
  "varInspector": {
   "cols": {
    "lenName": 16,
    "lenType": 16,
    "lenVar": 40
   },
   "kernels_config": {
    "python": {
     "delete_cmd_postfix": "",
     "delete_cmd_prefix": "del ",
     "library": "var_list.py",
     "varRefreshCmd": "print(var_dic_list())"
    },
    "r": {
     "delete_cmd_postfix": ") ",
     "delete_cmd_prefix": "rm(",
     "library": "var_list.r",
     "varRefreshCmd": "cat(var_dic_list()) "
    }
   },
   "types_to_exclude": [
    "module",
    "function",
    "builtin_function_or_method",
    "instance",
    "_Feature"
   ],
   "window_display": false
  }
 },
 "nbformat": 4,
 "nbformat_minor": 4
}
