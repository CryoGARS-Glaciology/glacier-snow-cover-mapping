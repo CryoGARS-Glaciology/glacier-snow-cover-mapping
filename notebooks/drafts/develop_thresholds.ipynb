{
 "cells": [
  {
   "cell_type": "markdown",
   "id": "c53b019d",
   "metadata": {},
   "source": [
    "### Notebook to develop threshold for modified NDSI (MNDSI) for identifying snow in PlanetScope 4-band imagery\n",
    "Rainey Aberle\n",
    "\n",
    "December 2021\n",
    "\n",
    "### Import packages"
   ]
  },
  {
   "cell_type": "code",
   "execution_count": null,
   "id": "3837b29f",
   "metadata": {
    "scrolled": true
   },
   "outputs": [],
   "source": [
    "import os\n",
    "import glob\n",
    "import numpy as np\n",
    "import rasterio as rio\n",
    "from rasterio.plot import show\n",
    "import geopandas as gpd\n",
    "import earthpy.spatial as es\n",
    "import matplotlib.pyplot as plt\n",
    "import matplotlib"
   ]
  },
  {
   "cell_type": "markdown",
   "id": "2794212f",
   "metadata": {},
   "source": [
    "### Define paths to directories"
   ]
  },
  {
   "cell_type": "code",
   "execution_count": null,
   "id": "791e0eb1",
   "metadata": {
    "scrolled": true
   },
   "outputs": [],
   "source": [
    "# base directory\n",
    "base_path = '/Users/raineyaberle/Research/PhD/planet-snow/'\n",
    "# image directory\n",
    "im_path = base_path+'../study-sites/Wolverine/imagery/Planet/2021-04-20_2021-08-25/adjusted-filtered/'\n",
    "# output folder\n",
    "out_path = im_path+'../SCA/'"
   ]
  },
  {
   "cell_type": "markdown",
   "id": "feef04c4",
   "metadata": {},
   "source": [
    "### Load Area of Interest (AOI), snowline, and transect shapefiles"
   ]
  },
  {
   "cell_type": "code",
   "execution_count": null,
   "id": "105961c1",
   "metadata": {
    "scrolled": true
   },
   "outputs": [],
   "source": [
    "# Define EPSG code\n",
    "epsg = 32606\n",
    "\n",
    "# Load shapefile\n",
    "# fn = base_path+'../study-sites/Wolverine/digitized-snowline-picks/wolverine_RGI.shp'\n",
    "# AOI = gpd.read_file(fn)\n",
    "# # Reproject to imagery CRS if necessary\n",
    "# AOI = AOI.to_crs(epsg)\n",
    "# # print info\n",
    "# print('AOI CRS -',AOI.crs)\n",
    "\n",
    "# Snowline\n",
    "sl_fn = base_path+'../study-sites/Wolverine/digitized_snowline_picks/20210821_snowline.shp'\n",
    "sl = gpd.read_file(sl_fn) # snowline\n",
    "# Reproject to imagery CRS if necessary\n",
    "sl = sl.to_crs(epsg)\n",
    "# print info\n",
    "print('Snowline CRS -',sl.crs)\n",
    "\n",
    "# Transect \n",
    "ts_fn = base_path+'../study-sites/Wolverine/digitized_snowline_picks/transect.shp'\n",
    "ts = gpd.read_file(ts_fn) # snowline\n",
    "# reproject to imagery CRS if necessary\n",
    "ts = ts.to_crs(32606)\n",
    "# extract transect points from geometry\n",
    "ts_pts = [i for i in ts.geometry]\n",
    "ts_x,ts_y = ts_pts[0].coords.xy\n",
    "ts_x = np.array([x for x in ts_x])\n",
    "ts_y = np.array([y for y in ts_y])\n",
    "ts_coords = np.dstack((ts_x,ts_y)).tolist()\n",
    "# print information\n",
    "print('Transect CRS -',ts.crs)"
   ]
  },
  {
   "cell_type": "markdown",
   "id": "b54057ea",
   "metadata": {},
   "source": [
    "### Plot MNDSI along transect for each image\n",
    "\n",
    "$ MNDSI = \\frac{\\rho_G - \\rho_{NIR}}{\\rho_G + \\rho_{NIR}} $"
   ]
  },
  {
   "cell_type": "code",
   "execution_count": null,
   "id": "2009bf84",
   "metadata": {
    "scrolled": false
   },
   "outputs": [],
   "source": [
    "# ignore warnings\n",
    "import warnings\n",
    "warnings.filterwarnings('ignore')\n",
    "\n",
    "# -----Grab image names\n",
    "os.chdir(im_path) # change directory\n",
    "im_names = glob.glob('*.tif')\n",
    "im_names.sort() # sort file names by date\n",
    "\n",
    "# -----Set up figures\n",
    "fig1, ax1 = plt.subplots(1,1,figsize=(8,8))\n",
    "plt.rcParams.update({'font.size': 12, 'font.sans-serif': 'Arial'})\n",
    "ax1.set_xlabel('Easting [km]')\n",
    "ax1.set_ylabel('Northing [m]')\n",
    "fig2, ax2 = plt.subplots(1,1, figsize=(10,5))\n",
    "plt.rcParams.update({'font.size': 12, 'font.sans-serif': 'Arial'})\n",
    "ax2.set_xlabel('Easting [km]')\n",
    "ax2.set_ylabel('NDSI')\n",
    "ax2.grid()\n",
    "fig3, ((ax3, ax4), (ax5, ax6)) = plt.subplots(2,2,figsize=(12,10))\n",
    "plt.rcParams.update({'font.size': 12, 'font.sans-serif': 'Arial'})\n",
    "ax3.set_ylabel('Blue')\n",
    "ax3.grid()\n",
    "ax4.set_ylabel('Green')\n",
    "ax4.grid()\n",
    "ax5.set_xlabel('Northing [km]')\n",
    "ax5.set_ylabel('Red')\n",
    "ax5.grid()\n",
    "ax6.set_xlabel('Northing [km]')\n",
    "ax6.set_ylabel('NIR')\n",
    "ax6.grid()\n",
    "# color scheme for plotting lines in loop\n",
    "colors = plt.cm.viridis(np.linspace(0,1,len(im_names)))  \n",
    "\n",
    "# -----Loop through images\n",
    "dates = []\n",
    "i = 0 # index for color plotting\n",
    "for im_name in im_names:\n",
    "        \n",
    "    # open image\n",
    "    im = rio.open(im_name)\n",
    "\n",
    "    # extract date from image name\n",
    "    date = im_name[0:4] + '-' + im_name[4:6] + '-' + im_name[6:8]\n",
    "    dates = dates + [np.datetime64(date)]\n",
    "\n",
    "    # define bands \n",
    "    b = im.read(1).astype(float) \n",
    "    g = im.read(2).astype(float) \n",
    "    r = im.read(3).astype(float) \n",
    "    nir = im.read(4).astype(float) \n",
    "    # compute MNDSI\n",
    "    mndsi = es.normalized_diff(r, nir) \n",
    "    \n",
    "    # define coordinates grid\n",
    "    x = np.linspace(im.bounds.left, im.bounds.right, num=np.shape(b)[1])\n",
    "    y = np.linspace(im.bounds.top, im.bounds.bottom, num=np.shape(b)[0])\n",
    "\n",
    "    # sample raster values at transect coordinates\n",
    "    ts_rv = [x for x in im.sample(ts_coords[0])]\n",
    "    # calculate MNDSI at points\n",
    "    ts_blue = np.empty((1,np.shape(ts_rv)[0]))\n",
    "    ts_green = np.empty((1,np.shape(ts_rv)[0]))\n",
    "    ts_red = np.empty((1,np.shape(ts_rv)[0]))\n",
    "    ts_nir = np.empty((1,np.shape(ts_rv)[0]))\n",
    "    ts_mndsi = np.empty((1,np.shape(ts_rv)[0]))\n",
    "    j = 0\n",
    "    for s in ts_rv:\n",
    "        ts_blue[0,j] = s[0].astype(float)\n",
    "        ts_green[0,j] = s[1].astype(float)\n",
    "        ts_red[0,j] = s[2].astype(float)\n",
    "        ts_nir[0,j] = s[3].astype(float)\n",
    "        ts_mndsi[0,j] = es.normalized_diff(s[2].astype(float), s[3].astype(float))\n",
    "        j+=1\n",
    "        \n",
    "    # plot first image and transect points\n",
    "    if i==len(im_names)-1:\n",
    "        IM = ax1.imshow(mndsi, extent=(np.min(x)/1000, np.max(x)/1000, np.min(y)/1000, np.max(y)/1000),\n",
    "                  vmin=-1, vmax=1, cmap='Greys')\n",
    "        ax1.scatter(ts_x/1000, ts_y/1000, color='orange')\n",
    "        \n",
    "    # plot values \n",
    "    ax2.plot(ts_y[ts_blue[0]>0]/1000, ts_mndsi[ts_blue>0], label=date, color=colors[i])\n",
    "    ax3.plot(ts_y[ts_blue[0]>0]/1000, ts_blue[ts_blue>0], label=date, color=colors[i])\n",
    "    ax4.plot(ts_y[ts_blue[0]>0]/1000, ts_green[ts_blue>0], label=date, color=colors[i])\n",
    "    ax5.plot(ts_y[ts_blue[0]>0]/1000, ts_red[ts_blue>0], label=date, color=colors[i])\n",
    "    ax6.plot(ts_y[ts_blue[0]>0]/1000, ts_nir[ts_blue>0], label=date, color=colors[i])\n",
    "\n",
    "    # increase counter\n",
    "    i+=1 \n",
    "\n",
    "# ax2.legend(loc=(1.04,0.0))\n",
    "ax2.grid()\n",
    "plt.colorbar(IM, ax=ax1)\n",
    "plt.show()"
   ]
  },
  {
   "cell_type": "markdown",
   "id": "fa527fa8",
   "metadata": {},
   "source": [
    "### Identify snow by adjusting thresholds"
   ]
  },
  {
   "cell_type": "code",
   "execution_count": null,
   "id": "f09dab5c",
   "metadata": {
    "scrolled": false
   },
   "outputs": [],
   "source": [
    "# Determine thresholds\n",
    "mndsi_thresh = [0, 0.16]\n",
    "r_thresh = 0.6\n",
    "\n",
    "# threshold MNDSI to determine snow cover\n",
    "snow = np.where((mndsi > np.min(mndsi_thresh)) & (mndsi < np.max(mndsi_thresh)) & (r > r_thresh),1,np.nan)\n",
    "\n",
    "# plot \n",
    "fig3, (ax1, ax2) = plt.subplots(1,2,figsize=(12,8))\n",
    "plt.rcParams.update({'font.size': 14, 'font.sans-serif': 'Arial'})\n",
    "# RGB image\n",
    "ax1.imshow(np.dstack([r, g, b]), extent=(np.min(x)/1000, np.max(x)/1000, np.min(y)/1000, np.max(y)/1000))\n",
    "ax1.scatter(ts_x/1000, ts_y/1000, s=10, color='orange')\n",
    "ax1.set_xlabel('Easting [km]')\n",
    "ax1.set_ylabel('Northing [km]')\n",
    "# MNDSI and snow\n",
    "IM = ax2.imshow(mndsi, extent=(np.min(x)/1000, np.max(x)/1000, np.min(y)/1000, np.max(y)/1000), \n",
    "           vmin=mndsi_thresh[0], vmax=mndsi_thresh[1], cmap='Greys')\n",
    "ax2.scatter(ts_x/1000, ts_y/1000, s=10, color='orange')\n",
    "ax2.imshow(snow, extent=(np.min(x)/1000, np.max(x)/1000, np.min(y)/1000, np.max(y)/1000), cmap='cool')\n",
    "ax2.set_xlabel('Easting [km]')\n",
    "fig3.colorbar(IM, ax=ax2, shrink=0.5)\n",
    "plt.suptitle(im_name[0:4]+'-'+im_name[4:6]+'-'+im_name[6:8])\n",
    "\n",
    "# MNDSI and red values along transect\n",
    "fig4, ax1 = plt.subplots(1,1, figsize=(12,5))\n",
    "ax1.set_xlim(np.min(ts_y)-200, np.max(ts_y)+200)\n",
    "rect1=matplotlib.patches.Rectangle((ax1.get_xlim()[0], np.min(mndsi_thresh)),\n",
    "                                  ax1.get_xlim()[1] - ax1.get_xlim()[0], \n",
    "                                  np.max(mndsi_thresh) - np.min(mndsi_thresh), \n",
    "                                  fill=True, color=\"blue\", alpha=0.5, label='MNDSI threshold')\n",
    "rect2=matplotlib.patches.Rectangle((ax1.get_xlim()[0], np.min(r_thresh)),\n",
    "                                  ax1.get_xlim()[1] - ax1.get_xlim()[0], \n",
    "                                  np.max(r_thresh) - np.min(mndsi_thresh), \n",
    "                                  fill=True, color=\"brown\", alpha=0.5, label='MNDSI threshold')\n",
    "plt.gca().add_patch(rect1)\n",
    "plt.gca().add_patch(rect2)\n",
    "ax1.scatter(ts_y, ts_mndsi, color='blue', label='MNDSI')\n",
    "ax1.scatter(ts_y, ts_red, color='brown', label='Red')\n",
    "ax1.set_xlabel('Northing [m]')\n",
    "ax1.set_ylabel('MNDSI')\n",
    "ax1.legend()\n",
    "#ax1.set_ylim(-0.5,0.5)\n",
    "ax1.grid()\n",
    "plt.show()"
   ]
  }
 ],
 "metadata": {
  "kernelspec": {
   "display_name": "Python 3 (ipykernel)",
   "language": "python",
   "name": "python3"
  },
  "language_info": {
   "codemirror_mode": {
    "name": "ipython",
    "version": 3
   },
   "file_extension": ".py",
   "mimetype": "text/x-python",
   "name": "python",
   "nbconvert_exporter": "python",
   "pygments_lexer": "ipython3",
   "version": "3.10.2"
  },
  "varInspector": {
   "cols": {
    "lenName": 16,
    "lenType": 16,
    "lenVar": 40
   },
   "kernels_config": {
    "python": {
     "delete_cmd_postfix": "",
     "delete_cmd_prefix": "del ",
     "library": "var_list.py",
     "varRefreshCmd": "print(var_dic_list())"
    },
    "r": {
     "delete_cmd_postfix": ") ",
     "delete_cmd_prefix": "rm(",
     "library": "var_list.r",
     "varRefreshCmd": "cat(var_dic_list()) "
    }
   },
   "types_to_exclude": [
    "module",
    "function",
    "builtin_function_or_method",
    "instance",
    "_Feature"
   ],
   "window_display": false
  }
 },
 "nbformat": 4,
 "nbformat_minor": 5
}
