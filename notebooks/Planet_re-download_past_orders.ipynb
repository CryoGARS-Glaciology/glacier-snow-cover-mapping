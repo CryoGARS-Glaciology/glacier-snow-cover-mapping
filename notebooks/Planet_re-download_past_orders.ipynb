{
 "cells": [
  {
   "cell_type": "markdown",
   "id": "f2e053c9-3d03-4cf4-a8d5-1700f6a2674f",
   "metadata": {},
   "source": [
    "# Re-download previous Planet orders to file using the order ID"
   ]
  },
  {
   "cell_type": "code",
   "execution_count": null,
   "id": "29cd0335-9abf-4a97-9534-16468d2f2cef",
   "metadata": {},
   "outputs": [],
   "source": [
    "# -----Define where to download items\n",
    "out_path = '/Users/raineyaberle/Google Drive/My Drive/Research/PhD/write-ups/CH1_snow_cover_mapping_methods_manuscript/Aberle_et_al_dataset_submission/SouthCascade/imagery/PlanetScope/' \n",
    "\n",
    "# -----Import packages\n",
    "import os\n",
    "from getpass import getpass\n",
    "from planet import Auth, Session, OrdersClient, reporting\n",
    "import requests\n",
    "from requests.auth import HTTPBasicAuth\n",
    "import json\n",
    "import pandas as pd\n",
    "from pathlib import Path"
   ]
  },
  {
   "cell_type": "markdown",
   "id": "0ea53afa-1d3f-454c-9d94-d0be4d05581e",
   "metadata": {},
   "source": [
    "### Authenticate Planet account\n",
    "\n",
    "Requires your Planet API Key. To find your API Key, Login to your account at [planet.com](https://www.planet.com/) and go to \"My Settings\". \n",
    "\n",
    "If output is `<Repsonse [200]>`, authentication was successful. "
   ]
  },
  {
   "cell_type": "code",
   "execution_count": null,
   "id": "ef5c8a78-b072-4ba2-ace2-52dc1e631756",
   "metadata": {},
   "outputs": [],
   "source": [
    "# set API key as environment variable\n",
    "API_key = getpass('Enter Planet API Key, then press Enter:')\n",
    "os.environ['PL_API_KEY'] = API_key\n",
    "\n",
    "# Setup the API Key stored as the `PL_API_KEY` environment variable\n",
    "PLANET_API_KEY = os.getenv('PL_API_KEY')\n",
    "\n",
    "# Orders URL\n",
    "orders_url = 'https://api.planet.com/compute/ops/orders/v2'\n",
    "\n",
    "# Authorize\n",
    "auth = HTTPBasicAuth(PLANET_API_KEY, '')\n",
    "response = requests.get(orders_url, auth=auth)\n",
    "response"
   ]
  },
  {
   "cell_type": "markdown",
   "id": "4310f13f-1332-41bf-ad9c-1fd563e15c91",
   "metadata": {},
   "source": [
    "### View list of previous Planet orders"
   ]
  },
  {
   "cell_type": "code",
   "execution_count": null,
   "id": "09fef96e-867a-4047-abce-6d27ca4ddba0",
   "metadata": {},
   "outputs": [],
   "source": [
    "# grab list of orders from orders_url\n",
    "orders = json.loads(response.text)['orders']\n",
    "# initialize dataframe for saving order characteristics\n",
    "orders_df = pd.DataFrame() \n",
    "# loop through orders\n",
    "for order in orders:\n",
    "    # compile order characteristics in dataframe\n",
    "    order_df = pd.DataFrame({'Name': [order['name']],\n",
    "                             'ID': [order['id']],\n",
    "                             'Created on': [order['created_on']],\n",
    "                             'Item type': [order['products'][0]['item_type']],\n",
    "                             'Product bundle': [order['products'][0]['product_bundle']],\n",
    "                             'Number of images': len(order['products'][0]['item_ids']),\n",
    "                             'Last message': [order['last_message']]\n",
    "                            })\n",
    "    # concatenate to full dataframe\n",
    "    orders_df = pd.concat([orders_df, order_df])\n",
    "    \n",
    "orders_df.reset_index(drop=True, inplace=True)\n",
    "orders_df"
   ]
  },
  {
   "cell_type": "markdown",
   "id": "40755858-05a6-4e5e-acc4-e9e6fcbf8148",
   "metadata": {},
   "source": [
    "### Select the ID of the order you want to download using the table above.\n",
    "\n",
    "Orders can also be viewed on your Planet account in the Orders tab. "
   ]
  },
  {
   "cell_type": "code",
   "execution_count": null,
   "id": "b60d85b9-43c1-40e0-bf3a-201f1a86334a",
   "metadata": {},
   "outputs": [],
   "source": [
    "order_id = input('Enter order ID:')\n",
    "order_id"
   ]
  },
  {
   "cell_type": "markdown",
   "id": "f5e99d2b-f2ea-4651-9d13-be2a85312015",
   "metadata": {},
   "source": [
    "### Download all items in the order to out_path\n",
    "\n",
    "This may take a few minutes... be patient. :) You should see files being added in your `out_path`."
   ]
  },
  {
   "cell_type": "code",
   "execution_count": null,
   "id": "c56bd117-640d-4f6f-bdbf-7b5a33b369b5",
   "metadata": {},
   "outputs": [],
   "source": [
    "async def download_order():\n",
    "    async with Session(auth=auth) as sess:\n",
    "        cl = OrdersClient(sess)\n",
    "        await cl.download_order(order_id, directory=Path(out_path))\n",
    "        \n",
    "# remember: \"await\" to run the thing\n",
    "await download_order()"
   ]
  },
  {
   "cell_type": "markdown",
   "id": "5348e1d4-4287-465b-a205-e3a4cd5a628f",
   "metadata": {},
   "source": [
    "### _Fin!_"
   ]
  }
 ],
 "metadata": {
  "kernelspec": {
   "display_name": "snow-cover-mapping",
   "language": "python",
   "name": "snow-cover-mapping"
  },
  "language_info": {
   "codemirror_mode": {
    "name": "ipython",
    "version": 3
   },
   "file_extension": ".py",
   "mimetype": "text/x-python",
   "name": "python",
   "nbconvert_exporter": "python",
   "pygments_lexer": "ipython3",
   "version": "3.11.5"
  }
 },
 "nbformat": 4,
 "nbformat_minor": 5
}
