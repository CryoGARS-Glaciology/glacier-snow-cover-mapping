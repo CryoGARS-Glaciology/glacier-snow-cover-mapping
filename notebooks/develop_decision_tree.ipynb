{
 "cells": [
  {
   "cell_type": "markdown",
   "id": "c53b019d",
   "metadata": {},
   "source": [
    "## Notebook to develop decision tree for identifying snow in PlanetScope 4-band imagery\n",
    "Rainey Aberle\n",
    "\n",
    "### Import packages"
   ]
  },
  {
   "cell_type": "code",
   "execution_count": null,
   "id": "3837b29f",
   "metadata": {
    "scrolled": false
   },
   "outputs": [],
   "source": [
    "import os\n",
    "import glob\n",
    "import numpy as np\n",
    "import rasterio as rio\n",
    "import geopandas as gpd\n",
    "from sklearn.tree import DecisionTreeClassifier, export_text, plot_tree \n",
    "from sklearn.model_selection import train_test_split \n",
    "from sklearn import metrics \n",
    "import matplotlib.pyplot as plt\n",
    "import matplotlib"
   ]
  },
  {
   "cell_type": "markdown",
   "id": "2794212f",
   "metadata": {},
   "source": [
    "### Define paths to directories"
   ]
  },
  {
   "cell_type": "code",
   "execution_count": null,
   "id": "791e0eb1",
   "metadata": {
    "scrolled": false
   },
   "outputs": [],
   "source": [
    "# base directory\n",
    "base_path = '/Users/raineyaberle/Research/PhD/study-sites/Wolverine/'\n",
    "# image directory\n",
    "im_path = base_path+'imagery/Planet/2021-04-20_2021-08-25/adjusted-radiometry/'\n",
    "# output folder\n",
    "out_path = base_path+'../../planet-snow/figures/'"
   ]
  },
  {
   "cell_type": "markdown",
   "id": "feef04c4",
   "metadata": {},
   "source": [
    "### Load image and snow/non-snow classified points"
   ]
  },
  {
   "cell_type": "code",
   "execution_count": null,
   "id": "105961c1",
   "metadata": {
    "scrolled": false
   },
   "outputs": [],
   "source": [
    "# Define EPSG code\n",
    "epsg = 32606\n",
    "\n",
    "# Load image\n",
    "im_fn = im_path+'20210815_202055_60_2459_3B_AnalyticMS_SR_clip_PSB.SD_adj.tif'\n",
    "im = rio.open(im_fn)\n",
    "# read bands\n",
    "b = im.read(1).astype(float)\n",
    "r = im.read(2).astype(float)\n",
    "g = im.read(3).astype(float)\n",
    "nir = im.read(4).astype(float)\n",
    "# define coordinates grid\n",
    "im_x = np.linspace(im.bounds.left, im.bounds.right, num=np.shape(b)[1])\n",
    "im_y = np.linspace(im.bounds.top, im.bounds.bottom, num=np.shape(b)[0])\n",
    "print('Image CRS:',im.crs)\n",
    "\n",
    "# Load snow training points\n",
    "train_snow_pts_fn = base_path+'classified-points/snow_points.shp'\n",
    "train_snow_pts = gpd.read_file(train_snow_pts_fn)\n",
    "# Reproject to image CRS\n",
    "train_snow_pts = train_snow_pts.to_crs(epsg)\n",
    "print('Snow points CRS:', train_snow_pts.crs)\n",
    "\n",
    "# Load non-snow points\n",
    "train_non_snow_pts_fn = base_path+'classified-points/non_snow_points.shp'\n",
    "train_non_snow_pts = gpd.read_file(train_non_snow_pts_fn)\n",
    "# Reproject to image CRS\n",
    "train_non_snow_pts = train_non_snow_pts.to_crs(epsg)\n",
    "print('Non-snow points CRS:', train_non_snow_pts.crs)\n",
    "\n",
    "# Plot\n",
    "fig, ax1 = plt.subplots(1, 1, figsize=(12,12))\n",
    "plt.rcParams.update({'font.size': 14, 'font.sans-serif': 'Arial'})\n",
    "ax1.imshow(np.dstack([r, g, b]), \n",
    "           extent=(np.min(im_x), np.max(im_x), np.min(im_y), np.max(im_y)))\n",
    "train_snow_pts.plot(ax=ax1, markersize=15, color='cyan', label='snow')\n",
    "train_non_snow_pts.plot(ax=ax1, markersize=15, color='red', label='non-snow')\n",
    "ax1.legend(loc='lower right')\n",
    "ax1.set_xlabel('Easting [m]')\n",
    "ax1.set_ylabel('Northing [m]')\n",
    "plt.show()"
   ]
  },
  {
   "cell_type": "markdown",
   "id": "a3e87403",
   "metadata": {},
   "source": [
    "### Add 'snow' classification column, merge snow and non-snow points, and sample band values at points"
   ]
  },
  {
   "cell_type": "code",
   "execution_count": null,
   "id": "9b929942",
   "metadata": {
    "scrolled": false
   },
   "outputs": [],
   "source": [
    "# -----Add snow classification column\n",
    "train_snow_pts['snow'] = 1\n",
    "train_non_snow_pts['snow'] = 0\n",
    "\n",
    "# -----Merge snow and non-snow points\n",
    "train_pts = train_snow_pts.append(train_non_snow_pts, ignore_index=True)\n",
    "# Add coords column\n",
    "train_pts['coords'] = [(pt.bounds[0], pt.bounds[1]) for pt in train_pts['geometry']]\n",
    "# remove \"id\" and \"geometry\" columns\n",
    "train_pts = train_pts.drop(columns=['id', 'geometry'])\n",
    "\n",
    "# -----Sample band values at points\n",
    "train_pts['blue'] = [x[0] for x in im.sample(train_pts['coords'])]\n",
    "train_pts['green'] = [x[1] for x in im.sample(train_pts['coords'])]\n",
    "train_pts['red'] = [x[2] for x in im.sample(train_pts['coords'])]\n",
    "train_pts['NIR'] = [x[3] for x in im.sample(train_pts['coords'])]\n",
    "\n",
    "print(train_pts)"
   ]
  },
  {
   "cell_type": "markdown",
   "id": "9be3cc6b",
   "metadata": {
    "scrolled": true
   },
   "source": [
    "### Set up decision tree classifier\n",
    "\n",
    "Adapted from the [SciKit Learn Decision Tree documentation](https://scikit-learn.org/stable/modules/tree.html)."
   ]
  },
  {
   "cell_type": "code",
   "execution_count": null,
   "id": "b2940d4f",
   "metadata": {},
   "outputs": [],
   "source": [
    "# -----Split dataset into features (band values) and target variable (snow)\n",
    "feature_cols = ['blue', 'green', 'red', 'NIR']\n",
    "X = train_pts[feature_cols] # features\n",
    "y = train_pts['snow'] # target variable\n",
    "\n",
    "# # -----Split dataset into training set and test set\n",
    "X_train, X_test, y_train, y_test = train_test_split(X, y, test_size=0.2, random_state=1) # 80% training and 20% test\n",
    "\n",
    "# -----Create Decision Tree classifer object\n",
    "dtree = DecisionTreeClassifier()\n",
    "\n",
    "# -----Train Decision Tree Classifer\n",
    "dtree = dtree.fit(X_train, y_train)\n",
    "\n",
    "# -----Predict the response for test dataset\n",
    "y_pred = dtree.predict(X_test)\n",
    "\n",
    "# -----Show Decision Tree classifier\n",
    "tree_text = export_text(dtree, feature_names=feature_cols)\n",
    "print(tree_text)\n",
    "plt.figure(figsize=(10,10))\n",
    "plot_tree(dtree)\n",
    "plt.show()\n",
    "\n",
    "# -----Model Accuracy, how often is the classifier correct?\n",
    "print(\"Accuracy:\",metrics.accuracy_score(y_test, y_pred))"
   ]
  },
  {
   "cell_type": "markdown",
   "id": "be05f267",
   "metadata": {},
   "source": [
    "### Apply to full image"
   ]
  },
  {
   "cell_type": "code",
   "execution_count": null,
   "id": "0979323b",
   "metadata": {},
   "outputs": [],
   "source": [
    "# -----Save band values in GeoDataFrame\n",
    "im_x_mesh, im_y_mesh = np.meshgrid(im_x, im_y)\n",
    "pts = gpd.GeoDataFrame()\n",
    "pts['x'] = im_x_mesh[~np.isnan(b)].flatten()\n",
    "pts['y'] = im_y_mesh[~np.isnan(b)].flatten()\n",
    "pts['blue'] = b[~np.isnan(b)].flatten()\n",
    "pts['green'] = g[~np.isnan(g)].flatten()\n",
    "pts['red'] = r[~np.isnan(r)].flatten()\n",
    "pts['NIR'] = nir[~np.isnan(nir)].flatten()\n",
    "\n",
    "# -----Predict snow classification using band values\n",
    "pts['snow_pred'] = dtree.predict(pts[feature_cols])\n",
    "print(pts)\n",
    "\n",
    "# -----Plot results\n",
    "# extract snow prediction and coordinates\n",
    "snow_pred, x, y = np.array(pts['snow_pred']), np.array(pts['x']), np.array(pts['y'])\n",
    "fig, ax1 = plt.subplots(1, 1, figsize=(10,10))\n",
    "plt.rcParams.update({'font.size': 14, 'font.sans-serif': 'Arial'})\n",
    "ax1.imshow(np.dstack([r, g, b]), \n",
    "           extent=(np.min(im_x), np.max(im_x), np.min(im_y), np.max(im_y)))\n",
    "ax1.set_xlabel('Easting [m]')\n",
    "ax1.set_ylabel('Northing [m]')\n",
    "ax1.scatter(x[snow_pred==1], y[snow_pred==1], s=0.1, color='cyan', label='snow')\n",
    "# ax1.scatter(x[snow_pred==0], y[snow_pred==0], s=0.5, color='brown', label='non-snow')\n",
    "ax1.legend(loc='lower right')\n",
    "ax1.set_ylabel('Northing [m]')\n",
    "plt.show()"
   ]
  },
  {
   "cell_type": "markdown",
   "id": "a7ffeace",
   "metadata": {},
   "source": [
    "### Apply to other images"
   ]
  },
  {
   "cell_type": "code",
   "execution_count": null,
   "id": "73071540",
   "metadata": {},
   "outputs": [],
   "source": [
    "# -----Load Planet image file names from directory\n",
    "# ims = os.chdir(im_path) # change directory\n",
    "# im_names = glob.glob('*SR_clip.tif') # load all .tif file names\n",
    "# im_names.sort() # sort file names by date\n",
    "\n",
    "# # -----Loop through images\n",
    "# for im_name in im_names:\n",
    "    "
   ]
  },
  {
   "cell_type": "code",
   "execution_count": null,
   "id": "13c4094a",
   "metadata": {},
   "outputs": [],
   "source": []
  }
 ],
 "metadata": {
  "kernelspec": {
   "display_name": "Python 3 (ipykernel)",
   "language": "python",
   "name": "python3"
  },
  "language_info": {
   "codemirror_mode": {
    "name": "ipython",
    "version": 3
   },
   "file_extension": ".py",
   "mimetype": "text/x-python",
   "name": "python",
   "nbconvert_exporter": "python",
   "pygments_lexer": "ipython3",
   "version": "3.10.2"
  },
  "varInspector": {
   "cols": {
    "lenName": 16,
    "lenType": 16,
    "lenVar": 40
   },
   "kernels_config": {
    "python": {
     "delete_cmd_postfix": "",
     "delete_cmd_prefix": "del ",
     "library": "var_list.py",
     "varRefreshCmd": "print(var_dic_list())"
    },
    "r": {
     "delete_cmd_postfix": ") ",
     "delete_cmd_prefix": "rm(",
     "library": "var_list.r",
     "varRefreshCmd": "cat(var_dic_list()) "
    }
   },
   "types_to_exclude": [
    "module",
    "function",
    "builtin_function_or_method",
    "instance",
    "_Feature"
   ],
   "window_display": false
  }
 },
 "nbformat": 4,
 "nbformat_minor": 5
}
