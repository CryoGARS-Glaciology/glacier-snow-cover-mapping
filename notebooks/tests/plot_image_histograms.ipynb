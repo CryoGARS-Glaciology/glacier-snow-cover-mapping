{
 "cells": [
  {
   "cell_type": "markdown",
   "id": "c5a92d41",
   "metadata": {},
   "source": [
    "# Notebook to plot Planet images and band histograms\n",
    "\n",
    "Rainey Aberle\n",
    "\n",
    "Spring 2022"
   ]
  },
  {
   "cell_type": "code",
   "execution_count": null,
   "id": "bd7f2533",
   "metadata": {},
   "outputs": [],
   "source": [
    "import os\n",
    "import glob\n",
    "import numpy as np\n",
    "import rasterio as rio\n",
    "import matplotlib.pyplot as plt\n",
    "\n",
    "# path to Planet images\n",
    "im_path = '/Users/raineyaberle/Research/PhD/Planet_snow_cover/study-sites/Gulkana/imagery/PlanetScope/adjusted-filtered/'\n",
    "# output path (if saving figures)\n",
    "out_path = im_path+'im_histograms/'\n",
    "# determine whether to save output figures\n",
    "save_figures = False # = True to save figures to out_path"
   ]
  },
  {
   "cell_type": "code",
   "execution_count": null,
   "id": "69a27a5b",
   "metadata": {
    "scrolled": false
   },
   "outputs": [],
   "source": [
    "# -----Grab image file names\n",
    "os.chdir(im_path) # change directory\n",
    "im_names = glob.glob('*.tif') # load all .tif file names\n",
    "im_names.sort() # sort file names by date\n",
    "\n",
    "# -----Loop through images\n",
    "for im_name in im_names:\n",
    "    \n",
    "    # load images\n",
    "    im = rio.open(im_name)\n",
    "    \n",
    "    # load bands (blue, green, red, near infrared)\n",
    "    b = im.read(1).astype(float) \n",
    "    g = im.read(2).astype(float)  \n",
    "    r = im.read(3).astype(float) \n",
    "    nir = im.read(4).astype(float) \n",
    "    if np.nanmean(b) > 1e3:\n",
    "        im_scalar = 10000\n",
    "        b = b / im_scalar\n",
    "        g = g / im_scalar\n",
    "        r = r / im_scalar\n",
    "        nir = nir / im_scalar\n",
    "    # replace no data values with NaN\n",
    "    b[b==0] = np.nan\n",
    "    g[g==0] = np.nan\n",
    "    r[r==0] = np.nan\n",
    "    nir[nir==0] = np.nan\n",
    "        \n",
    "    # define grid\n",
    "    im_x = np.linspace(im.bounds.left, im.bounds.right, num=np.shape(b)[1])\n",
    "    im_y = np.linspace(im.bounds.top, im.bounds.bottom, num=np.shape(b)[0])\n",
    "    \n",
    "    # plot RGB image and band histograms\n",
    "    fig, (ax1, ax2) = plt.subplots(1, 2, figsize=(10,6), gridspec_kw={'height_ratios': [1]})\n",
    "    plt.rcParams.update({'font.size': 12, 'font.serif': 'Arial'})\n",
    "    ax1.imshow(np.dstack([r, g, b]), aspect='auto',\n",
    "               extent=(np.min(im_x)/1000, np.max(im_x/1000), np.min(im_y)/1000, np.max(im_y)/1000))\n",
    "    ax1.set_xlabel('Easting [km]')\n",
    "    ax1.set_ylabel('Northing [km]')\n",
    "    ax2.hist(b.flatten(), color='blue', histtype='step', bins=100, label='blue')\n",
    "    ax2.hist(g.flatten(), color='green', histtype='step', bins=100, label='green')\n",
    "    ax2.hist(r.flatten(), color='red', histtype='step', bins=100, label='red')\n",
    "    ax2.hist(nir.flatten(), color='brown', histtype='step', linewidth=2, bins=100, label='NIR')\n",
    "    ax2.set_xlabel('Surface reflectance')\n",
    "    ax2.set_ylabel('Pixel counts')\n",
    "    ax2.grid()\n",
    "    ax2.legend(loc='right')\n",
    "    fig.suptitle(im_name)\n",
    "    fig.tight_layout()\n",
    "    plt.show()\n",
    "    \n",
    "    # save figure to file\n",
    "    if save_figures:\n",
    "        fn = im_name[0:-4]+'_hist.png'\n",
    "        fig.savefig(out_path+fn)\n",
    "        print('figure saved to file')"
   ]
  },
  {
   "cell_type": "code",
   "execution_count": null,
   "id": "4f1c697a",
   "metadata": {},
   "outputs": [],
   "source": []
  }
 ],
 "metadata": {
  "kernelspec": {
   "display_name": "Python 3 (ipykernel)",
   "language": "python",
   "name": "python3"
  },
  "language_info": {
   "codemirror_mode": {
    "name": "ipython",
    "version": 3
   },
   "file_extension": ".py",
   "mimetype": "text/x-python",
   "name": "python",
   "nbconvert_exporter": "python",
   "pygments_lexer": "ipython3",
   "version": "3.9.13"
  },
  "varInspector": {
   "cols": {
    "lenName": 16,
    "lenType": 16,
    "lenVar": 40
   },
   "kernels_config": {
    "python": {
     "delete_cmd_postfix": "",
     "delete_cmd_prefix": "del ",
     "library": "var_list.py",
     "varRefreshCmd": "print(var_dic_list())"
    },
    "r": {
     "delete_cmd_postfix": ") ",
     "delete_cmd_prefix": "rm(",
     "library": "var_list.r",
     "varRefreshCmd": "cat(var_dic_list()) "
    }
   },
   "types_to_exclude": [
    "module",
    "function",
    "builtin_function_or_method",
    "instance",
    "_Feature"
   ],
   "window_display": false
  }
 },
 "nbformat": 4,
 "nbformat_minor": 5
}
