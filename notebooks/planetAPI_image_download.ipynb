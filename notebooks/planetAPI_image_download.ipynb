{
 "cells": [
  {
   "cell_type": "markdown",
   "metadata": {},
   "source": [
    "## Notebook to bulk download Planet imagery through the API\n",
    "Rainey Aberle, Fall 2021\n",
    "\n",
    "Modified from [Planet Developers API Tutorial](https://developers.planet.com/docs/apis/data/) and Planet Labs GitHub Repository: [planetlabs/notebooks/jupyter-notebooks/orders/](https://github.com/planetlabs/notebooks/tree/master/jupyter-notebooks/orders)\n",
    "\n",
    "\n",
    "__To-Do:__\n",
    "- View image footprints before downloading.  \n",
    "- Implement percent AOI coverage filter for image search"
   ]
  },
  {
   "cell_type": "code",
   "execution_count": null,
   "metadata": {},
   "outputs": [],
   "source": [
    "# -----Define paths in directory\n",
    "# path to planet-snow/\n",
    "base_path = '/Users/raineyaberle/Research/PhD/Planet_snow_cover/planet-snow/' \n",
    "# path for saving image downloads\n",
    "out_path = base_path+'../study-sites/Gulkana/imagery/'"
   ]
  },
  {
   "cell_type": "code",
   "execution_count": null,
   "metadata": {},
   "outputs": [],
   "source": [
    "import os\n",
    "import json\n",
    "import requests\n",
    "from requests.auth import HTTPBasicAuth\n",
    "from getpass import getpass\n",
    "import geopandas as gpd\n",
    "from shapely import geometry as sgeom\n",
    "import rasterio as rio\n",
    "import numpy as np\n",
    "import matplotlib.pyplot as plt\n",
    "import sys\n",
    "# add path to functions\n",
    "sys.path.insert(1, base_path+'functions/')\n",
    "import orders\n",
    "from IPython.display import Image"
   ]
  },
  {
   "cell_type": "markdown",
   "metadata": {},
   "source": [
    "### Define filters for image search"
   ]
  },
  {
   "cell_type": "code",
   "execution_count": null,
   "metadata": {},
   "outputs": [],
   "source": [
    "# ----------Area of Interest (AOI)----------\n",
    "#### OPTION 1: Use geojson.io to create a polygon\n",
    "#    - Type geojson.io into a new browser\n",
    "#    - Draw a RECTANGULAR polygon over your AOI  \n",
    "#    - Copy only the geometry below\n",
    "# AOI_box = {\n",
    "#         \"type\": \"Polygon\",\n",
    "#         \"coordinates\": [\n",
    "#           [\n",
    "#             [\n",
    "#               -148.96774291992188,\n",
    "#               60.366355109034046\n",
    "#             ],\n",
    "#             [\n",
    "#               -148.84963989257812,\n",
    "#               60.366355109034046\n",
    "#             ],\n",
    "#             [\n",
    "#               -148.84963989257812,\n",
    "#               60.440285056170616\n",
    "#             ],\n",
    "#             [\n",
    "#               -148.96774291992188,\n",
    "#               60.440285056170616\n",
    "#             ],\n",
    "#             [\n",
    "#               -148.96774291992188,\n",
    "#               60.366355109034046\n",
    "#             ]\n",
    "#           ]\n",
    "#         ]\n",
    "#       }"
   ]
  },
  {
   "cell_type": "code",
   "execution_count": null,
   "metadata": {},
   "outputs": [],
   "source": [
    "#### OPTION 2: Import an existing shapefile\n",
    "\n",
    "# Name of your file\n",
    "# If your shapefile is not currently in this directory, you need to include the full file path in 'file_name' below\n",
    "AOI_fn = base_path+'../../GIS_data/RGI_outlines/Gulkana_RGI.shp'\n",
    "\n",
    "# Read in the shapefile\n",
    "AOI = gpd.read_file(AOI_fn)\n",
    "\n",
    "# Reproject shapefile to WGS84 if necessary\n",
    "AOI = AOI.to_crs(4326)\n",
    "# Reproject to UTM\n",
    "AOI_UTM = AOI.to_crs(32606)\n",
    "\n",
    "# File extension index (we don't want the .shp extension in the next line)\n",
    "i = AOI_fn.index('.shp')\n",
    "\n",
    "# Convert AOI to geoJSON format and adjust polygon to a rectangular shape \n",
    "# Planet only excepts a bounding BOX as a spatial filter, \n",
    "# so we need to convert our AOI to a box (if it is not already). \n",
    "AOI_box = {u'type': u'Polygon',\n",
    "            u'coordinates': [[\n",
    "               [AOI.bounds.minx[0],AOI.bounds.miny[0]],\n",
    "               [AOI.bounds.maxx[0],AOI.bounds.miny[0]],\n",
    "               [AOI.bounds.maxx[0],AOI.bounds.maxy[0]],\n",
    "               [AOI.bounds.minx[0],AOI.bounds.maxy[0]],\n",
    "               [AOI.bounds.minx[0],AOI.bounds.miny[0]]\n",
    "            ]]\n",
    "          }\n",
    "AOI_box_UTM = {u'type': u'Polygon',\n",
    "            u'coordinates': [[\n",
    "               [AOI_UTM.bounds.minx[0],AOI_UTM.bounds.miny[0]],\n",
    "               [AOI_UTM.bounds.maxx[0],AOI_UTM.bounds.miny[0]],\n",
    "               [AOI_UTM.bounds.maxx[0],AOI_UTM.bounds.maxy[0]],\n",
    "               [AOI_UTM.bounds.minx[0],AOI_UTM.bounds.maxy[0]],\n",
    "               [AOI_UTM.bounds.minx[0],AOI_UTM.bounds.miny[0]]\n",
    "            ]]\n",
    "          }"
   ]
  },
  {
   "cell_type": "code",
   "execution_count": null,
   "metadata": {},
   "outputs": [],
   "source": [
    "# Convert AOI geojson to a rasterio Shape for Quick Search function\n",
    "AOI_box_shape = sgeom.shape(AOI_box)\n",
    "AOI_box_UTM_shape = sgeom.shape(AOI_box_UTM)\n",
    "\n",
    "# plot\n",
    "fig, ax1 = plt.subplots(1, 1, figsize=(8,8))\n",
    "AOI.plot(ax=ax1) # AOI\n",
    "ax1.plot(*AOI_box_shape.exterior.xy) # AOI box\n",
    "ax1.set_title('AOI and bounding box')\n",
    "plt.show()"
   ]
  },
  {
   "cell_type": "code",
   "execution_count": null,
   "metadata": {},
   "outputs": [],
   "source": [
    "# ----------Date Range----------\n",
    "# Format: 'YYYY-MM-DD'\n",
    "start_date = '2016-04-01'\n",
    "end_date = '2016-10-31'\n",
    "\n",
    "# ----------Cloud Cover Filter----------\n",
    "# Format: decimal (e.g., 50% max cloud cover = 0.5)\n",
    "max_cloud_cover = 0.2\n",
    "\n",
    "# ----------Area Coverage----------\n",
    "# Format: decimal (e.g., 50% min AOI bounding box area coverage = 0.5)\n",
    "min_area_coverage = 0.6\n",
    "\n",
    "# ----------Item Type----------\n",
    "# See here for possible image (\"item\") types:\n",
    "# https://developers.planet.com/docs/apis/data/items-assets/\n",
    "item_type = \"PSScene4Band\"\n",
    "\n",
    "# ----------Asset Type----------\n",
    "# Each Item Type has a number of asset types to choose from.\n",
    "# Use the Item Type link above click on your Item Type to view the available Asset Types\n",
    "asset_type = \"analytic_sr\"\n",
    "\n",
    "# ----------AOI clipping----------\n",
    "# Would you like to clip images to the AOI (True/False)?\n",
    "# This greatly speeds up the ordering and downloading process.\n",
    "clip_AOI = True\n",
    "\n",
    "# ----------Harmonization----------\n",
    "# option to harmonize PlanetScope imagery to Sentinel-2\n",
    "harmonize = False # = True to harmonize"
   ]
  },
  {
   "cell_type": "markdown",
   "metadata": {},
   "source": [
    "### Authentication via basic HTTP\n",
    "\n",
    "Requires your Planet API Key. To find your API Key, Login to your account at [planet.com](https://www.planet.com/) and go to 'My Settings'. "
   ]
  },
  {
   "cell_type": "code",
   "execution_count": null,
   "metadata": {},
   "outputs": [],
   "source": [
    "# set API key as environment variable\n",
    "print('Enter Planet API key:')\n",
    "API_key = getpass()\n",
    "os.environ['PL_API_KEY'] = API_key\n",
    "\n",
    "# Setup the API Key stored as the `PL_API_KEY` environment variable\n",
    "PLANET_API_KEY = os.getenv('PL_API_KEY')\n",
    "\n",
    "# Orders URL\n",
    "orders_url = 'https://api.planet.com/compute/ops/orders/v2'\n",
    "\n",
    "# Authorize\n",
    "auth = HTTPBasicAuth(PLANET_API_KEY, '')\n",
    "response = requests.get(orders_url, auth=auth)\n",
    "response"
   ]
  },
  {
   "cell_type": "markdown",
   "metadata": {},
   "source": [
    "### Compile filters to create a Quick Search request\n",
    "\n",
    "Use Quick Search first to grab image IDs before ordering"
   ]
  },
  {
   "cell_type": "code",
   "execution_count": null,
   "metadata": {},
   "outputs": [],
   "source": [
    "# -----Create request\n",
    "QS_request = orders.build_QS_request(AOI_box_shape, max_cloud_cover, start_date, end_date, \n",
    "                        item_type, asset_type)\n",
    "\n",
    "# -----Planet API Quick Search using created request\n",
    "# fire off the POST request\n",
    "QS_result = \\\n",
    "  requests.post(\n",
    "    'https://api.planet.com/data/v1/quick-search',\n",
    "    auth=HTTPBasicAuth(PLANET_API_KEY, ''),\n",
    "    json=QS_request)\n",
    "# Print resulting image IDs\n",
    "im_ids = [feature['id'] for feature in QS_result.json()['features']]\n",
    "print(len(im_ids),'images found')"
   ]
  },
  {
   "cell_type": "code",
   "execution_count": null,
   "metadata": {},
   "outputs": [],
   "source": [
    "# -----Filter images by area coverage\n",
    "if min_area_coverage < 1.0:\n",
    "    items = orders.search_pl_api(QS_request, limit=1000)\n",
    "    # cache the overlaps as a list so we don't have to refetch items\n",
    "    overlaps = list(orders.get_overlap_shapes_utm(items, AOI_box_shape))\n",
    "    print(len(overlaps))\n",
    "\n",
    "# display(orders.calculate_coverage(overlaps, (6,3), AOI_box_UTM_shape.bounds))"
   ]
  },
  {
   "cell_type": "code",
   "execution_count": null,
   "metadata": {},
   "outputs": [],
   "source": [
    "# def filter_by_coverage(overlaps, bounds):\n",
    "#     im_ids_filtered = []\n",
    "    \n",
    "#     # get dimensions of coverage raster\n",
    "#     mminx, mminy, mmaxx, mmaxy = bounds\n",
    "\n",
    "#     y_count, x_count = dimensions\n",
    "    \n",
    "    \n",
    "# AOI_box_UTM_shape.bounds"
   ]
  },
  {
   "cell_type": "markdown",
   "metadata": {},
   "source": [
    "### Place order and poll for success\n",
    "\n",
    "- This section places the order and outputs the status of the order every ~10 sec. if successful. This can take a few minutes... \n",
    "- Wait until it outputs `success` to proceed to the next section. It will stop after 30 loops, so try proceeding to the next section if it finishes running and does not output `success`.\n",
    "- If you are ordering a LOT of images, consider narrowing your date range to download less images at a time. "
   ]
  },
  {
   "cell_type": "code",
   "execution_count": null,
   "metadata": {},
   "outputs": [],
   "source": [
    "# build new request\n",
    "request = orders.build_request_itemIDs(AOI_box, clip_AOI, harmonize, im_ids, item_type, asset_type)\n",
    "\n",
    "# place order\n",
    "order_url = orders.place_order(orders_url, request, auth)\n",
    "\n",
    "# poll for success\n",
    "orders.poll_for_success(order_url, auth)"
   ]
  },
  {
   "cell_type": "markdown",
   "metadata": {},
   "source": [
    "### View Results\n",
    "\n",
    "Print all files to be downloaded from order"
   ]
  },
  {
   "cell_type": "code",
   "execution_count": null,
   "metadata": {},
   "outputs": [],
   "source": [
    "r = requests.get(order_url, auth=auth)\n",
    "response = r.json()\n",
    "results = response['_links']['results']\n",
    "\n",
    "[r['name'] for r in results]"
   ]
  },
  {
   "cell_type": "markdown",
   "metadata": {},
   "source": [
    "### Download each asset individually"
   ]
  },
  {
   "cell_type": "code",
   "execution_count": null,
   "metadata": {},
   "outputs": [],
   "source": [
    "# download images!\n",
    "orders.download_results(results, out_path)"
   ]
  },
  {
   "cell_type": "markdown",
   "metadata": {},
   "source": [
    "### Visualize downloaded images"
   ]
  },
  {
   "cell_type": "code",
   "execution_count": null,
   "metadata": {},
   "outputs": [],
   "source": [
    "# define helpful functions for visualizing downloaded imagery\n",
    "# def show_rgb(img_file):\n",
    "#     with rio.open(img_file) as src:\n",
    "#         b,g,r,n = src.read()\n",
    "\n",
    "#     rgb = np.stack((r,g,b), axis=0)\n",
    "#     show(rgb/rgb.max())\n",
    "    \n",
    "# def show_gray(img_file):\n",
    "#     with rio.open(img_file) as src:\n",
    "#         g = src.read(1)\n",
    "#     show(g/g.max())\n",
    "    \n",
    "# # Replace this path with your image file path\n",
    "# img_file = out_folder+'2021-04-20_2021-08-25/PSScene4Band/20211007_202318_88_245c_3B_AnalyticMS_clip.tif'\n",
    "# show_rgb(img_file)"
   ]
  }
 ],
 "metadata": {
  "kernelspec": {
   "display_name": "Python 3 (ipykernel)",
   "language": "python",
   "name": "python3"
  },
  "language_info": {
   "codemirror_mode": {
    "name": "ipython",
    "version": 3
   },
   "file_extension": ".py",
   "mimetype": "text/x-python",
   "name": "python",
   "nbconvert_exporter": "python",
   "pygments_lexer": "ipython3",
   "version": "3.9.13"
  },
  "varInspector": {
   "cols": {
    "lenName": 16,
    "lenType": 16,
    "lenVar": 40
   },
   "kernels_config": {
    "python": {
     "delete_cmd_postfix": "",
     "delete_cmd_prefix": "del ",
     "library": "var_list.py",
     "varRefreshCmd": "print(var_dic_list())"
    },
    "r": {
     "delete_cmd_postfix": ") ",
     "delete_cmd_prefix": "rm(",
     "library": "var_list.r",
     "varRefreshCmd": "cat(var_dic_list()) "
    }
   },
   "types_to_exclude": [
    "module",
    "function",
    "builtin_function_or_method",
    "instance",
    "_Feature"
   ],
   "window_display": false
  }
 },
 "nbformat": 4,
 "nbformat_minor": 4
}
