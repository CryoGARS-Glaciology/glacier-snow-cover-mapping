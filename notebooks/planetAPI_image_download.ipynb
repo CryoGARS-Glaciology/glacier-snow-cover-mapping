{
 "cells": [
  {
   "cell_type": "markdown",
   "metadata": {},
   "source": [
    "## Notebook to bulk download PlanetScope imagery through the API\n",
    "Rainey Aberle, Fall 2021\n",
    "\n",
    "Modified from [Planet Developers API Tutorial](https://developers.planet.com/docs/apis/data/) and Planet Labs GitHub Repository: [planetlabs/notebooks/jupyter-notebooks/orders/](https://github.com/planetlabs/notebooks/tree/master/jupyter-notebooks/orders)\n",
    "\n",
    "\n",
    "__To-Do:__\n",
    "- View image footprints before downloading.  \n",
    "- Implement percent AOI coverage filter for image search"
   ]
  },
  {
   "cell_type": "markdown",
   "metadata": {},
   "source": [
    "### 1. Define paths in directory and setup filters for image search (MODIFY THIS SECTION)"
   ]
  },
  {
   "cell_type": "code",
   "execution_count": null,
   "metadata": {},
   "outputs": [],
   "source": [
    "# -----Define paths in directory\n",
    "# path to planet-snow/\n",
    "base_path = '/Users/raineyaberle/Research/PhD/Planet_snow_cover/planet-snow/' \n",
    "# path for saving image downloads\n",
    "out_path = base_path+'../study-sites/Sperry/imagery/PlanetScope/'\n",
    "\n",
    "# -----Area of Interest (AOI)\n",
    "# Name of your polygon shapefile\n",
    "# If your shapefile is not currently in this directory, you need to include the full file path in 'file_name' below\n",
    "AOI_fn = base_path+'../../GIS_data/RGI_outlines/Sperry_RGI.shp'\n",
    "\n",
    "# ----------Date Range----------\n",
    "# Format: 'YYYY-MM-DD'\n",
    "start_date = '2021-05-01'\n",
    "end_date = '2021-10-31'\n",
    "\n",
    "# ----------Cloud Cover Filter----------\n",
    "# Format: decimal (e.g., 50% max cloud cover = 0.5)\n",
    "max_cloud_cover = 0.2\n",
    "\n",
    "# ----------Area Coverage (NOT CURRENTLY WORKING)---------- \n",
    "# Format: decimal (e.g., 50% min AOI bounding box area coverage = 0.5)\n",
    "# min_area_coverage = 0.6\n",
    "\n",
    "# ----------Item Type----------\n",
    "# See here for possible image (\"item\") types:\n",
    "# https://developers.planet.com/docs/apis/data/items-assets/\n",
    "item_type = \"PSScene4Band\"\n",
    "\n",
    "# ----------Asset Type----------\n",
    "# Each Item Type has a number of asset types to choose from.\n",
    "# Use the Item Type link above click on your Item Type to view the available Asset Types\n",
    "asset_type = \"analytic_sr\"\n",
    "\n",
    "# ----------AOI clipping----------\n",
    "# Would you like to clip images to the AOI (True/False)?\n",
    "# This greatly speeds up the ordering and downloading process.\n",
    "clip_to_AOI = True\n",
    "\n",
    "# ----------Harmonization----------\n",
    "# option to harmonize PlanetScope imagery to Sentinel-2\n",
    "harmonize = False # = True to harmonize"
   ]
  },
  {
   "cell_type": "code",
   "execution_count": null,
   "metadata": {},
   "outputs": [],
   "source": [
    "# -----Import packages\n",
    "import os\n",
    "import json\n",
    "import requests\n",
    "from requests.auth import HTTPBasicAuth\n",
    "from getpass import getpass\n",
    "import geopandas as gpd\n",
    "from shapely import geometry as sgeom\n",
    "import rasterio as rio\n",
    "import numpy as np\n",
    "import matplotlib.pyplot as plt\n",
    "import sys\n",
    "# add path to functions\n",
    "sys.path.insert(1, base_path+'functions/')\n",
    "import orders_utils as orders\n",
    "from IPython.display import Image"
   ]
  },
  {
   "cell_type": "markdown",
   "metadata": {},
   "source": [
    "### 2. Reformat AOI for querying"
   ]
  },
  {
   "cell_type": "code",
   "execution_count": null,
   "metadata": {},
   "outputs": [],
   "source": [
    "# -----Read in the shapefile\n",
    "AOI = gpd.read_file(AOI_fn)\n",
    "# Reproject to WGS84 if necessary\n",
    "AOI = AOI.to_crs(4326)\n",
    "\n",
    "# -----Convert AOI bounding box to geoJSON format\n",
    "# Planet only excepts a bounding box as a spatial filter, \n",
    "# so we need to convert our AOI to a box (if it is not already). \n",
    "AOI_box = {u'type': u'Polygon',\n",
    "            u'coordinates': [[\n",
    "               [AOI.bounds.minx[0],AOI.bounds.miny[0]],\n",
    "               [AOI.bounds.maxx[0],AOI.bounds.miny[0]],\n",
    "               [AOI.bounds.maxx[0],AOI.bounds.maxy[0]],\n",
    "               [AOI.bounds.minx[0],AOI.bounds.maxy[0]],\n",
    "               [AOI.bounds.minx[0],AOI.bounds.miny[0]]\n",
    "            ]]\n",
    "          }\n",
    "# Convert AOI geojson to a rasterio Shape for Quick Search function\n",
    "AOI_box_shape = sgeom.shape(AOI_box)\n",
    "\n",
    "# -----Plot AOI and bounding box\n",
    "fig, ax1 = plt.subplots(1, 1, figsize=(8,8))\n",
    "AOI.plot(ax=ax1) # AOI\n",
    "ax1.plot(*AOI_box_shape.exterior.xy) # AOI box\n",
    "ax1.set_title('AOI and bounding box')\n",
    "plt.show()"
   ]
  },
  {
   "cell_type": "markdown",
   "metadata": {},
   "source": [
    "### 3. Authentication via basic HTTP\n",
    "\n",
    "Requires your Planet API Key. To find your API Key, Login to your account at [planet.com](https://www.planet.com/) and go to 'My Settings'. "
   ]
  },
  {
   "cell_type": "code",
   "execution_count": null,
   "metadata": {},
   "outputs": [],
   "source": [
    "# set API key as environment variable\n",
    "print('Enter Planet API key:')\n",
    "API_key = getpass()\n",
    "os.environ['PL_API_KEY'] = API_key\n",
    "\n",
    "# Setup the API Key stored as the `PL_API_KEY` environment variable\n",
    "PLANET_API_KEY = os.getenv('PL_API_KEY')\n",
    "\n",
    "# Orders URL\n",
    "orders_url = 'https://api.planet.com/compute/ops/orders/v2'\n",
    "\n",
    "# Authorize\n",
    "auth = HTTPBasicAuth(PLANET_API_KEY, '')\n",
    "response = requests.get(orders_url, auth=auth)\n",
    "response"
   ]
  },
  {
   "cell_type": "markdown",
   "metadata": {},
   "source": [
    "### 4. Compile filters to create a Quick Search request\n",
    "\n",
    "Use Quick Search first to grab image IDs before ordering"
   ]
  },
  {
   "cell_type": "code",
   "execution_count": null,
   "metadata": {},
   "outputs": [],
   "source": [
    "# -----Create request\n",
    "QS_request = orders.build_QS_request(AOI_box_shape, max_cloud_cover, start_date, end_date, \n",
    "                        item_type, asset_type)\n",
    "\n",
    "# -----Planet API Quick Search using created request\n",
    "# fire off the POST request\n",
    "QS_result = \\\n",
    "  requests.post(\n",
    "    'https://api.planet.com/data/v1/quick-search',\n",
    "    auth=HTTPBasicAuth(PLANET_API_KEY, ''),\n",
    "    json=QS_request)\n",
    "# Print resulting image IDs\n",
    "im_ids = [feature['id'] for feature in QS_result.json()['features']]\n",
    "im_ids.sort()\n",
    "print(len(im_ids),'images found')"
   ]
  },
  {
   "cell_type": "code",
   "execution_count": null,
   "metadata": {},
   "outputs": [],
   "source": [
    "# -----Filter images by area coverage (NOT WORKING)\n",
    "# if min_area_coverage < 1.0:\n",
    "#     items = orders.search_pl_api(QS_request, limit=1000)\n",
    "#     # cache the overlaps as a list so we don't have to refetch items\n",
    "#     overlaps = list(orders.get_overlap_shapes_utm(items, AOI_box_shape))\n",
    "#     print(len(overlaps))\n",
    "\n",
    "# display(orders.calculate_coverage(overlaps, (6,3), AOI_box_UTM_shape.bounds))\n",
    "\n",
    "# def filter_by_coverage(overlaps, bounds):\n",
    "#     im_ids_filtered = []\n",
    "    \n",
    "#     # get dimensions of coverage raster\n",
    "#     mminx, mminy, mmaxx, mmaxy = bounds\n",
    "\n",
    "#     y_count, x_count = dimensions\n",
    "    \n",
    "    \n",
    "# AOI_box_UTM_shape.bounds"
   ]
  },
  {
   "cell_type": "markdown",
   "metadata": {},
   "source": [
    "### 5. Place order and poll for success\n",
    "\n",
    "- This section places the order and outputs the status of the order every ~10 sec. if successful. This can take a few minutes... \n",
    "- Wait until it outputs `success` to proceed to the next section. It will stop after 30 loops, so try rerunning the 'Poll for success' cell until seeing `success`.\n",
    "- If you are ordering a LOT of images, consider narrowing your date range to download less images at a time. "
   ]
  },
  {
   "cell_type": "code",
   "execution_count": null,
   "metadata": {},
   "outputs": [],
   "source": [
    "# -----Build new request\n",
    "request = orders.build_request_itemIDs(AOI_box, clip_to_AOI, harmonize, im_ids, item_type, asset_type)\n",
    "\n",
    "# -----Place order\n",
    "order_url = orders.place_order(orders_url, request, auth)"
   ]
  },
  {
   "cell_type": "code",
   "execution_count": null,
   "metadata": {},
   "outputs": [],
   "source": [
    "# -----Poll for success\n",
    "# Rerun this cell until it outputs \"success\"\n",
    "orders.poll_for_success(order_url, auth)"
   ]
  },
  {
   "cell_type": "code",
   "execution_count": null,
   "metadata": {},
   "outputs": [],
   "source": [
    "# -----View results\n",
    "r = requests.get(order_url, auth=auth)\n",
    "response = r.json()\n",
    "results = response['_links']['results']\n",
    "# print all files to be downloaded from order\n",
    "[r['name'] for r in results]"
   ]
  },
  {
   "cell_type": "markdown",
   "metadata": {},
   "source": [
    "### 6. Download each asset individually"
   ]
  },
  {
   "cell_type": "code",
   "execution_count": null,
   "metadata": {},
   "outputs": [],
   "source": [
    "orders.download_results(results, out_path)"
   ]
  },
  {
   "cell_type": "markdown",
   "metadata": {},
   "source": [
    "### _Optional:_ Plot downloaded images"
   ]
  },
  {
   "cell_type": "code",
   "execution_count": null,
   "metadata": {},
   "outputs": [],
   "source": [
    "import glob \n",
    "\n",
    "# -----Grab output image file names\n",
    "# set image output folder\n",
    "im_path = out_path + '2020/PSScene4Band/'\n",
    "# change directory to im_path\n",
    "os.chdir(im_path) \n",
    "# grab image file names\n",
    "im_fns = glob.glob('*_SR_*.tif')\n",
    "\n",
    "# -----Loop through files\n",
    "for im_fn in im_fns:\n",
    "    \n",
    "    # open image\n",
    "    im = rio.open(im_fn)\n",
    "    \n",
    "    # read bands\n",
    "    b = im.read(1).astype(float) / 10000\n",
    "    r = im.read(2).astype(float) / 10000\n",
    "    g = im.read(3).astype(float) / 10000\n",
    "    nir = im.read(4).astype(float) / 10000\n",
    "    \n",
    "    # plot\n",
    "    fig, ax = plt.subplots(1, 1, figsize=(6,6))\n",
    "    ax.imshow(np.dstack([r, g, b]))\n",
    "    ax.set_title(im_fn[0:8])\n",
    "    plt.show()"
   ]
  }
 ],
 "metadata": {
  "kernelspec": {
   "display_name": "Python 3 (ipykernel)",
   "language": "python",
   "name": "python3"
  },
  "language_info": {
   "codemirror_mode": {
    "name": "ipython",
    "version": 3
   },
   "file_extension": ".py",
   "mimetype": "text/x-python",
   "name": "python",
   "nbconvert_exporter": "python",
   "pygments_lexer": "ipython3",
   "version": "3.9.13"
  },
  "varInspector": {
   "cols": {
    "lenName": 16,
    "lenType": 16,
    "lenVar": 40
   },
   "kernels_config": {
    "python": {
     "delete_cmd_postfix": "",
     "delete_cmd_prefix": "del ",
     "library": "var_list.py",
     "varRefreshCmd": "print(var_dic_list())"
    },
    "r": {
     "delete_cmd_postfix": ") ",
     "delete_cmd_prefix": "rm(",
     "library": "var_list.r",
     "varRefreshCmd": "cat(var_dic_list()) "
    }
   },
   "types_to_exclude": [
    "module",
    "function",
    "builtin_function_or_method",
    "instance",
    "_Feature"
   ],
   "window_display": false
  }
 },
 "nbformat": 4,
 "nbformat_minor": 4
}
