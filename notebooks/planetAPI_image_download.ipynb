{
 "cells": [
  {
   "cell_type": "markdown",
   "metadata": {},
   "source": [
    "## Notebook to bulk download Planet imagery through the API\n",
    "Rainey Aberle, Fall 2021\n",
    "\n",
    "Modified from [Planet Developers API Tutorial](https://developers.planet.com/docs/apis/data/) and Planet Labs GitHub Repository: [planetlabs/notebooks/jupyter-notebooks/orders/](https://github.com/planetlabs/notebooks/tree/master/jupyter-notebooks/orders)\n",
    "\n",
    "\n",
    "__To-Do:__\n",
    "- View image footprints before downloading.  \n",
    "- Implement percent AOI coverage filter for image search"
   ]
  },
  {
   "cell_type": "code",
   "execution_count": 1,
   "metadata": {},
   "outputs": [],
   "source": [
    "# -----Define paths in directory\n",
    "# path to planet-snow/\n",
    "base_path = '/Users/raineyaberle/Research/PhD/planet-snow/' \n",
    "# path for saving image downloads\n",
    "out_path = base_path+'../study-sites/Gulkana/imagery/'"
   ]
  },
  {
   "cell_type": "code",
   "execution_count": 2,
   "metadata": {},
   "outputs": [],
   "source": [
    "import os\n",
    "import json\n",
    "import requests\n",
    "from requests.auth import HTTPBasicAuth\n",
    "import time\n",
    "import datetime\n",
    "from getpass import getpass\n",
    "import geopandas as gpd\n",
    "from pathlib import Path\n",
    "from shapely import geometry as sgeom\n",
    "import rasterio as rio\n",
    "import numpy as np\n",
    "from planet import api\n",
    "from planet.api import filters\n",
    "import sys\n",
    "# add path to functions\n",
    "sys.path.insert(1, base_path+'functions/')\n",
    "import orders"
   ]
  },
  {
   "cell_type": "markdown",
   "metadata": {},
   "source": [
    "### Define filters for image search"
   ]
  },
  {
   "cell_type": "code",
   "execution_count": 3,
   "metadata": {},
   "outputs": [],
   "source": [
    "# ----------Area of Interest (AOI)----------\n",
    "#### OPTION 1: Use geojson.io to create a polygon\n",
    "#    - Type geojson.io into a new browser page\n",
    "#    - Draw a RECTANGULAR polygon over your AOI  \n",
    "#    - Copy only the geometry below\n",
    "# AOI_box = {\n",
    "#         \"type\": \"Polygon\",\n",
    "#         \"coordinates\": [\n",
    "#           [\n",
    "#             [\n",
    "#               -148.96774291992188,\n",
    "#               60.366355109034046\n",
    "#             ],\n",
    "#             [\n",
    "#               -148.84963989257812,\n",
    "#               60.366355109034046\n",
    "#             ],\n",
    "#             [\n",
    "#               -148.84963989257812,\n",
    "#               60.440285056170616\n",
    "#             ],\n",
    "#             [\n",
    "#               -148.96774291992188,\n",
    "#               60.440285056170616\n",
    "#             ],\n",
    "#             [\n",
    "#               -148.96774291992188,\n",
    "#               60.366355109034046\n",
    "#             ]\n",
    "#           ]\n",
    "#         ]\n",
    "#       }\n",
    "# AOI_box"
   ]
  },
  {
   "cell_type": "code",
   "execution_count": 4,
   "metadata": {},
   "outputs": [
    {
     "name": "stdout",
     "output_type": "stream",
     "text": [
      "POLYGON ((-145.50033398 63.24991222600005, -145.345221689 63.24991222600005, -145.345221689 63.30161320100007, -145.50033398 63.30161320100007, -145.50033398 63.24991222600005))\n"
     ]
    },
    {
     "data": {
      "image/svg+xml": [
       "<svg xmlns=\"http://www.w3.org/2000/svg\" xmlns:xlink=\"http://www.w3.org/1999/xlink\" width=\"100.0\" height=\"100.0\" viewBox=\"-145.50653847163997 63.24370773436005 0.16752127428000563 0.06410995828001376\" preserveAspectRatio=\"xMinYMin meet\"><g transform=\"matrix(1,0,0,-1,0,126.55152542700012)\"><path fill-rule=\"evenodd\" fill=\"#66cc99\" stroke=\"#555555\" stroke-width=\"0.0033504254856001124\" opacity=\"0.6\" d=\"M -145.50033397999997,63.24991222600005 L -145.34522168899997,63.24991222600005 L -145.34522168899997,63.301613201000066 L -145.50033397999997,63.301613201000066 L -145.50033397999997,63.24991222600005 z\" /></g></svg>"
      ],
      "text/plain": [
       "<shapely.geometry.polygon.Polygon at 0x7f9f4081dc70>"
      ]
     },
     "execution_count": 4,
     "metadata": {},
     "output_type": "execute_result"
    }
   ],
   "source": [
    "#### OPTION 2: Import an existing shapefile\n",
    "\n",
    "# Name of your file\n",
    "# If your shapefile is not currently in this directory, you need to include the full file path in 'file_name' below\n",
    "AOI_fn = base_path+'../GIS_data/Gulkana_RGI.shp'\n",
    "\n",
    "# Read in the shapefile\n",
    "AOI = gpd.read_file(AOI_fn)\n",
    "\n",
    "# Reproject shapefile to WGS84 if necessary\n",
    "AOI = AOI.to_crs(4326)\n",
    "# Reproject to UTM\n",
    "AOI_UTM = AOI.to_crs(32606)\n",
    "\n",
    "# File extension index (we don't want the .shp extension in the next line)\n",
    "i = AOI_fn.index('.shp')\n",
    "\n",
    "# Convert AOI to geoJSON format and adjust polygon to a rectangular shape \n",
    "# Planet only excepts a bounding BOX as a spatial filter, \n",
    "# so we need to convert our AOI to a box (if it is not already). \n",
    "AOI_box = {u'geometry':\n",
    "           {u'type': u'Polygon',\n",
    "            u'coordinates': [[\n",
    "               [AOI.bounds.minx[0],AOI.bounds.miny[0]],\n",
    "               [AOI.bounds.maxx[0],AOI.bounds.miny[0]],\n",
    "               [AOI.bounds.maxx[0],AOI.bounds.maxy[0]],\n",
    "               [AOI.bounds.minx[0],AOI.bounds.maxy[0]],\n",
    "               [AOI.bounds.minx[0],AOI.bounds.miny[0]]\n",
    "            ]]\n",
    "           }\n",
    "          }\n",
    "\n",
    "# Convert geojson to a rasterio Shape\n",
    "AOI_shape = sgeom.shape(AOI_box['geometry'])\n",
    "print(AOI_shape)\n",
    "AOI_shape"
   ]
  },
  {
   "cell_type": "code",
   "execution_count": 5,
   "metadata": {},
   "outputs": [],
   "source": [
    "# ----------Date Range----------\n",
    "# Format: datetime.datetime(year=YYYY, month=MM, day=DD)\n",
    "start_date = '2022-04-01'\n",
    "end_date = '2022-10-01'\n",
    "\n",
    "# ----------Cloud Cover Filter----------\n",
    "# Format: percentage (e.g., 50% max cloud cover = 50)\n",
    "max_cloud_cover = 20\n",
    "\n",
    "# ----------Area Coverage----------\n",
    "# Format: percentage (e.g., 50% min AOI area coverage = 50)\n",
    "area_coverage = 60\n",
    "\n",
    "# ----------Item Type----------\n",
    "# See here for possible image (\"item\") types:\n",
    "# https://developers.planet.com/docs/apis/data/items-assets/\n",
    "item_type = \"PSScene4Band\"\n",
    "\n",
    "# ----------Asset Type----------\n",
    "# Each Item Type has a number of asset types to choose from.\n",
    "# Use the Item Type link above click on your Item Type to view the available Asset Types\n",
    "asset_type = \"analytic_sr\"\n",
    "\n",
    "# ----------AOI clipping----------\n",
    "# Would you like to clip images to the AOI (True/False)?\n",
    "# This greatly speeds up the ordering and downloading process.\n",
    "clip_AOI = True\n",
    "\n",
    "# ----------Harmonization----------\n",
    "# option to harmonize PlanetScope imagery to Sentinel-2\n",
    "harmonize = False # = True to harmonize"
   ]
  },
  {
   "cell_type": "markdown",
   "metadata": {},
   "source": [
    "### Authentication via basic HTTP"
   ]
  },
  {
   "cell_type": "code",
   "execution_count": 6,
   "metadata": {},
   "outputs": [
    {
     "name": "stdout",
     "output_type": "stream",
     "text": [
      "Enter Planet API key:\n",
      "········\n"
     ]
    },
    {
     "data": {
      "text/plain": [
       "<Response [200]>"
      ]
     },
     "execution_count": 6,
     "metadata": {},
     "output_type": "execute_result"
    }
   ],
   "source": [
    "# set API key as environment variable\n",
    "print('Enter Planet API key:')\n",
    "API_key = getpass()\n",
    "os.environ['PL_API_KEY'] = API_key\n",
    "\n",
    "# Setup the API Key stored as the `PL_API_KEY` environment variable\n",
    "PLANET_API_KEY = os.getenv('PL_API_KEY')\n",
    "\n",
    "# Orders URL\n",
    "orders_url = 'https://api.planet.com/compute/ops/orders/v2'\n",
    "\n",
    "# Authorize\n",
    "auth = HTTPBasicAuth(PLANET_API_KEY, '')\n",
    "response = requests.get(orders_url, auth=auth)\n",
    "response"
   ]
  },
  {
   "cell_type": "markdown",
   "metadata": {},
   "source": [
    "### Compile, create request, and search the Planet API"
   ]
  },
  {
   "cell_type": "code",
   "execution_count": 7,
   "metadata": {},
   "outputs": [
    {
     "name": "stdout",
     "output_type": "stream",
     "text": [
      "['20220515_205745_34_2426', '20220515_205950_47_2424', '20220515_205952_77_2424', '20220511_205247_76_2414', '20220512_205446_31_2274', '20220513_205657_99_2402', '20220513_205655_71_2402', '20220511_205718_04_2254', '20220511_205715_57_2254', '20220509_210212_55_2407', '20220509_200555_42_2457', '20220509_200557_71_2457', '20220506_201253_27_2435', '20220506_201250_97_2435', '20220502_205142_68_227b', '20220502_205144_99_227b', '20220426_204508_47_2438', '20220424_201149_69_2465', '20220424_201151_99_2465', '20220424_205146_49_227b', '20220424_205144_01_227b', '20220423_201348_83_242d', '20220422_200859_56_2453', '20220419_210055_35_2414', '20220420_210128_07_2403', '20220412_201131_33_2463', '20220412_201129_03_2463', '20220415_205306_97_2403', '20220414_202112_31_225a', '20220413_214718_25_1058', '20220413_203957_28_24a5', '20220413_214719_75_1058', '20220411_202932_84_2251', '20220410_201216_04_2421', '20220410_201218_33_2421', '20220408_200613_12_2435', '20220408_200610_82_2435', '20220405_205500_24_2402', '20220405_200726_54_2430', '20220404_205959_49_240a', '20220403_205847_03_2416', '20220402_201624_11_2465', '20220402_201001_41_2445', '20220402_201003_71_2445', '20220401_210204_32_2407', '20220401_203349_22_2233', '20220401_203347_01_2233']\n"
     ]
    }
   ],
   "source": [
    "# -----Create request\n",
    "QS_request = orders.build_request(AOI_shape, max_cloud_cover, start_date, end_date, \n",
    "                        item_type, asset_type)\n",
    "\n",
    "# -----Planet API Quick Search using created request\n",
    "# fire off the POST request\n",
    "QS_result = \\\n",
    "  requests.post(\n",
    "    'https://api.planet.com/data/v1/quick-search',\n",
    "    auth=HTTPBasicAuth(PLANET_API_KEY, ''),\n",
    "    json=QS_request)\n",
    "# Print resulting image IDs\n",
    "im_ids = [feature['id'] for feature in QS_result.json()['features']]\n",
    "print(im_ids)\n",
    "\n",
    "# -----Check area coverage\n",
    "# items = orders.search_pl_api(QS_request, limit=500)\n",
    "# # print([item['geometry'] for item in items])\n",
    "# # cache the overlaps as a list so we don't have to refetch items\n",
    "# overlaps = list(orders.get_overlap_shapes_utm(items, AOI_shape))\n",
    "# print(len(overlaps))"
   ]
  },
  {
   "cell_type": "markdown",
   "metadata": {},
   "source": [
    "### Place Order"
   ]
  },
  {
   "cell_type": "code",
   "execution_count": 8,
   "metadata": {},
   "outputs": [
    {
     "name": "stdout",
     "output_type": "stream",
     "text": [
      "{'name': 'simple order', 'products': [{'item_ids': ['20220515_205745_34_2426', '20220515_205950_47_2424', '20220515_205952_77_2424', '20220511_205247_76_2414', '20220512_205446_31_2274', '20220513_205657_99_2402', '20220513_205655_71_2402', '20220511_205718_04_2254', '20220511_205715_57_2254', '20220509_210212_55_2407', '20220509_200555_42_2457', '20220509_200557_71_2457', '20220506_201253_27_2435', '20220506_201250_97_2435', '20220502_205142_68_227b', '20220502_205144_99_227b', '20220426_204508_47_2438', '20220424_201149_69_2465', '20220424_201151_99_2465', '20220424_205146_49_227b', '20220424_205144_01_227b', '20220423_201348_83_242d', '20220422_200859_56_2453', '20220419_210055_35_2414', '20220420_210128_07_2403', '20220412_201131_33_2463', '20220412_201129_03_2463', '20220415_205306_97_2403', '20220414_202112_31_225a', '20220413_214718_25_1058', '20220413_203957_28_24a5', '20220413_214719_75_1058', '20220411_202932_84_2251', '20220410_201216_04_2421', '20220410_201218_33_2421', '20220408_200613_12_2435', '20220408_200610_82_2435', '20220405_205500_24_2402', '20220405_200726_54_2430', '20220404_205959_49_240a', '20220403_205847_03_2416', '20220402_201624_11_2465', '20220402_201001_41_2445', '20220402_201003_71_2445', '20220401_210204_32_2407', '20220401_203349_22_2233', '20220401_203347_01_2233'], 'item_type': 'PSScene4Band', 'product_bundle': 'analytic_sr'}], 'tools': [{'clip': {'aoi': {'geometry': {'type': 'Polygon', 'coordinates': [[[-145.50033397999997, 63.24991222600005], [-145.34522168899997, 63.24991222600005], [-145.34522168899997, 63.301613201000066], [-145.50033397999997, 63.301613201000066], [-145.50033397999997, 63.24991222600005]]]}}}}]}\n",
      "<Response [400]>\n"
     ]
    },
    {
     "ename": "KeyError",
     "evalue": "'id'",
     "output_type": "error",
     "traceback": [
      "\u001b[0;31m---------------------------------------------------------------------------\u001b[0m",
      "\u001b[0;31mKeyError\u001b[0m                                  Traceback (most recent call last)",
      "Input \u001b[0;32mIn [8]\u001b[0m, in \u001b[0;36m<cell line: 6>\u001b[0;34m()\u001b[0m\n\u001b[1;32m      3\u001b[0m \u001b[38;5;28mprint\u001b[39m(request)\n\u001b[1;32m      5\u001b[0m \u001b[38;5;66;03m# place order\u001b[39;00m\n\u001b[0;32m----> 6\u001b[0m order_url \u001b[38;5;241m=\u001b[39m \u001b[43morders\u001b[49m\u001b[38;5;241;43m.\u001b[39;49m\u001b[43mplace_order\u001b[49m\u001b[43m(\u001b[49m\u001b[43morders_url\u001b[49m\u001b[43m,\u001b[49m\u001b[43m \u001b[49m\u001b[43mrequest\u001b[49m\u001b[43m,\u001b[49m\u001b[43m \u001b[49m\u001b[43mauth\u001b[49m\u001b[43m)\u001b[49m\n",
      "File \u001b[0;32m~/Research/PhD/planet-snow/functions/orders.py:118\u001b[0m, in \u001b[0;36mplace_order\u001b[0;34m(orders_url, search_request, auth)\u001b[0m\n\u001b[1;32m    116\u001b[0m response \u001b[38;5;241m=\u001b[39m requests\u001b[38;5;241m.\u001b[39mpost(orders_url, data\u001b[38;5;241m=\u001b[39mjson\u001b[38;5;241m.\u001b[39mdumps(search_request), auth\u001b[38;5;241m=\u001b[39mauth, headers\u001b[38;5;241m=\u001b[39mheaders)\n\u001b[1;32m    117\u001b[0m \u001b[38;5;28mprint\u001b[39m(response)\n\u001b[0;32m--> 118\u001b[0m order_id \u001b[38;5;241m=\u001b[39m \u001b[43mresponse\u001b[49m\u001b[38;5;241;43m.\u001b[39;49m\u001b[43mjson\u001b[49m\u001b[43m(\u001b[49m\u001b[43m)\u001b[49m\u001b[43m[\u001b[49m\u001b[38;5;124;43m'\u001b[39;49m\u001b[38;5;124;43mid\u001b[39;49m\u001b[38;5;124;43m'\u001b[39;49m\u001b[43m]\u001b[49m\n\u001b[1;32m    119\u001b[0m \u001b[38;5;28mprint\u001b[39m(order_id)\n\u001b[1;32m    120\u001b[0m order_url \u001b[38;5;241m=\u001b[39m orders_url \u001b[38;5;241m+\u001b[39m \u001b[38;5;124m'\u001b[39m\u001b[38;5;124m/\u001b[39m\u001b[38;5;124m'\u001b[39m \u001b[38;5;241m+\u001b[39m order_id\n",
      "\u001b[0;31mKeyError\u001b[0m: 'id'"
     ]
    }
   ],
   "source": [
    "# build new request\n",
    "request = orders.build_request_itemIDs(AOI_box, clip_AOI, harmonize, im_ids, item_type, asset_type)\n",
    "print(request)\n",
    "\n",
    "# place order\n",
    "order_url = orders.place_order(orders_url, request, auth)"
   ]
  },
  {
   "cell_type": "markdown",
   "metadata": {},
   "source": [
    "### Poll for Order Success\n",
    "- This section outputs the status of the order every ~10 sec. This will take a few minutes... \n",
    "- Wait until it outputs `success` to proceed to the next section. It will stop after 30 loops, so try proceeding to the next section if it finishes running and does not output `success`.\n",
    "- If you are ordering a LOT of images, consider narrowing your date range to download less images at a time. "
   ]
  },
  {
   "cell_type": "code",
   "execution_count": null,
   "metadata": {},
   "outputs": [],
   "source": [
    "# def poll_for_success(order_url, auth, num_loops=30):\n",
    "#     count = 0\n",
    "#     while(count < num_loops):\n",
    "#         count += 1\n",
    "#         r = requests.get(order_url, auth=auth)\n",
    "#         response = r.json()\n",
    "#         state = response['state']\n",
    "#         print(state)\n",
    "#         end_states = ['success', 'failed', 'partial']\n",
    "#         if state in end_states:\n",
    "#             break\n",
    "#         time.sleep(10)\n",
    "        \n",
    "# poll_for_success(order_url, auth)"
   ]
  },
  {
   "cell_type": "markdown",
   "metadata": {},
   "source": [
    "### View Results"
   ]
  },
  {
   "cell_type": "code",
   "execution_count": null,
   "metadata": {},
   "outputs": [],
   "source": [
    "# r = requests.get(order_url, auth=auth)\n",
    "# response = r.json()\n",
    "# results = response['_links']['results']\n",
    "\n",
    "# [r['name'] for r in results]"
   ]
  },
  {
   "cell_type": "markdown",
   "metadata": {},
   "source": [
    "### Download each asset individually"
   ]
  },
  {
   "cell_type": "code",
   "execution_count": null,
   "metadata": {},
   "outputs": [],
   "source": [
    "# # make directory for images using image dates\n",
    "# out_im_path = outpath+start_date+'_'+end_date\n",
    "# if os.path.isdir(stitch_path)==0:\n",
    "#     os.mkdir(stitch_path)\n",
    "#     print(stitch_path+' directory made')\n",
    "\n",
    "# # define function to download results\n",
    "# def download_results(results, overwrite=False):\n",
    "#     results_urls = [r['location'] for r in results]\n",
    "#     results_names = [r['name'] for r in results]\n",
    "#     print('{} items to download'.format(len(results_urls)))\n",
    "    \n",
    "#     for url, name in zip(results_urls, results_names):\n",
    "#         path = Path(os.path.join(out_folder,name)) #pathlib.Path(os.path.join('data', name))\n",
    "        \n",
    "#         if overwrite or not path.exists():\n",
    "#             print('downloading {} to {}'.format(name, path))\n",
    "#             r = requests.get(url, allow_redirects=True)\n",
    "#             path.parent.mkdir(parents=True, exist_ok=True)\n",
    "#             open(path, 'wb').write(r.content)\n",
    "#         else:\n",
    "#             print('{} already exists, skipping {}'.format(path, name))\n",
    "            \n",
    "# # download images!\n",
    "# download_results(results)"
   ]
  },
  {
   "cell_type": "markdown",
   "metadata": {},
   "source": [
    "### Visualize downloaded images"
   ]
  },
  {
   "cell_type": "code",
   "execution_count": null,
   "metadata": {},
   "outputs": [],
   "source": [
    "# define helpful functions for visualizing downloaded imagery\n",
    "# def show_rgb(img_file):\n",
    "#     with rio.open(img_file) as src:\n",
    "#         b,g,r,n = src.read()\n",
    "\n",
    "#     rgb = np.stack((r,g,b), axis=0)\n",
    "#     show(rgb/rgb.max())\n",
    "    \n",
    "# def show_gray(img_file):\n",
    "#     with rio.open(img_file) as src:\n",
    "#         g = src.read(1)\n",
    "#     show(g/g.max())\n",
    "    \n",
    "# # Replace this path with your image file path\n",
    "# img_file = out_folder+'2021-04-20_2021-08-25/PSScene4Band/20211007_202318_88_245c_3B_AnalyticMS_clip.tif'\n",
    "# show_rgb(img_file)"
   ]
  },
  {
   "cell_type": "markdown",
   "metadata": {},
   "source": [
    "## You did it!\n",
    "\n",
    "<div>\n",
    "<img src=\"../inputs/sandy-cheeks.jpeg\" width=\"400\"/>\n",
    "</div>"
   ]
  },
  {
   "cell_type": "code",
   "execution_count": null,
   "metadata": {},
   "outputs": [],
   "source": []
  }
 ],
 "metadata": {
  "kernelspec": {
   "display_name": "Python 3",
   "language": "python",
   "name": "python3"
  },
  "language_info": {
   "codemirror_mode": {
    "name": "ipython",
    "version": 3
   },
   "file_extension": ".py",
   "mimetype": "text/x-python",
   "name": "python",
   "nbconvert_exporter": "python",
   "pygments_lexer": "ipython3",
   "version": "3.8.5"
  },
  "varInspector": {
   "cols": {
    "lenName": 16,
    "lenType": 16,
    "lenVar": 40
   },
   "kernels_config": {
    "python": {
     "delete_cmd_postfix": "",
     "delete_cmd_prefix": "del ",
     "library": "var_list.py",
     "varRefreshCmd": "print(var_dic_list())"
    },
    "r": {
     "delete_cmd_postfix": ") ",
     "delete_cmd_prefix": "rm(",
     "library": "var_list.r",
     "varRefreshCmd": "cat(var_dic_list()) "
    }
   },
   "types_to_exclude": [
    "module",
    "function",
    "builtin_function_or_method",
    "instance",
    "_Feature"
   ],
   "window_display": false
  }
 },
 "nbformat": 4,
 "nbformat_minor": 4
}
