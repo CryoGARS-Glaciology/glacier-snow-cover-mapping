{
 "cells": [
  {
   "cell_type": "code",
   "execution_count": 2,
   "id": "0124b5eb-92df-42b8-be8c-80e9e9beddcc",
   "metadata": {},
   "outputs": [
    {
     "ename": "NameError",
     "evalue": "name 'base_path' is not defined",
     "output_type": "error",
     "traceback": [
      "\u001b[0;31m---------------------------------------------------------------------------\u001b[0m",
      "\u001b[0;31mNameError\u001b[0m                                 Traceback (most recent call last)",
      "Cell \u001b[0;32mIn[2], line 20\u001b[0m\n\u001b[1;32m     17\u001b[0m \u001b[38;5;28;01mfrom\u001b[39;00m \u001b[38;5;21;01mshapely\u001b[39;00m\u001b[38;5;21;01m.\u001b[39;00m\u001b[38;5;21;01mgeometry\u001b[39;00m \u001b[38;5;28;01mimport\u001b[39;00m MultiPolygon, Polygon\n\u001b[1;32m     19\u001b[0m \u001b[38;5;66;03m# -----Add path to functions\u001b[39;00m\n\u001b[0;32m---> 20\u001b[0m sys\u001b[38;5;241m.\u001b[39mpath\u001b[38;5;241m.\u001b[39minsert(\u001b[38;5;241m1\u001b[39m, \u001b[43mbase_path\u001b[49m\u001b[38;5;241m+\u001b[39m\u001b[38;5;124m'\u001b[39m\u001b[38;5;124mfunctions/\u001b[39m\u001b[38;5;124m'\u001b[39m)\n\u001b[1;32m     21\u001b[0m \u001b[38;5;28;01mimport\u001b[39;00m \u001b[38;5;21;01mpipeline_utils\u001b[39;00m \u001b[38;5;28;01mas\u001b[39;00m \u001b[38;5;21;01mf\u001b[39;00m\n",
      "\u001b[0;31mNameError\u001b[0m: name 'base_path' is not defined"
     ]
    }
   ],
   "source": [
    "# -----Import packages\n",
    "import xarray as xr\n",
    "import os\n",
    "import numpy as np\n",
    "import glob\n",
    "from matplotlib import pyplot as plt, dates\n",
    "import matplotlib\n",
    "import rasterio as rio\n",
    "import geopandas as gpd\n",
    "import pandas as pd\n",
    "import sys\n",
    "import ee\n",
    "import geedim as gd\n",
    "import json\n",
    "from tqdm.auto import tqdm\n",
    "from joblib import dump, load\n",
    "from shapely.geometry import MultiPolygon, Polygon"
   ]
  },
  {
   "cell_type": "code",
   "execution_count": 20,
   "id": "8675ecca-1321-4d2c-803a-d68cced8a6d4",
   "metadata": {
    "scrolled": true,
    "tags": []
   },
   "outputs": [
    {
     "data": {
      "text/plain": [
       "['Blue',\n",
       " 'Boulder',\n",
       " 'Carbon',\n",
       " 'Coleman',\n",
       " 'Easton',\n",
       " 'Emmons',\n",
       " 'Hidden',\n",
       " 'Hoh',\n",
       " 'RGI60-01.00037',\n",
       " 'RGI60-01.00038',\n",
       " 'RGI60-01.00046',\n",
       " 'RGI60-01.00312',\n",
       " 'RGI60-01.00566',\n",
       " 'RGI60-01.00576',\n",
       " 'RGI60-01.01151',\n",
       " 'RGI60-01.01390',\n",
       " 'RGI60-01.01524',\n",
       " 'RGI60-01.01733',\n",
       " 'RGI60-01.03861',\n",
       " 'RGI60-01.04375',\n",
       " 'RGI60-01.06268',\n",
       " 'RGI60-01.06722',\n",
       " 'RGI60-01.08155',\n",
       " 'RGI60-01.08174',\n",
       " 'RGI60-01.08246',\n",
       " 'RGI60-01.08248',\n",
       " 'RGI60-01.08262',\n",
       " 'RGI60-01.08288',\n",
       " 'RGI60-01.08296',\n",
       " 'RGI60-01.08302',\n",
       " 'RGI60-01.08336',\n",
       " 'RGI60-01.08353',\n",
       " 'RGI60-01.08389',\n",
       " 'RGI60-01.08395',\n",
       " 'RGI60-01.08403',\n",
       " 'RGI60-01.08412',\n",
       " 'RGI60-01.08427',\n",
       " 'RGI60-01.09148',\n",
       " 'RGI60-01.09216',\n",
       " 'RGI60-01.09411',\n",
       " 'RGI60-01.09639',\n",
       " 'RGI60-01.10196',\n",
       " 'RGI60-01.10555',\n",
       " 'RGI60-01.10689',\n",
       " 'RGI60-01.10778',\n",
       " 'RGI60-01.10851',\n",
       " 'RGI60-01.10857',\n",
       " 'RGI60-01.11616',\n",
       " 'RGI60-01.11654',\n",
       " 'RGI60-01.11788',\n",
       " 'RGI60-01.12370',\n",
       " 'RGI60-01.12425',\n",
       " 'RGI60-01.12635',\n",
       " 'RGI60-01.13696',\n",
       " 'RGI60-01.14391',\n",
       " 'RGI60-01.14443',\n",
       " 'RGI60-01.14523',\n",
       " 'RGI60-01.14883',\n",
       " 'RGI60-01.15769',\n",
       " 'RGI60-01.15788',\n",
       " 'RGI60-01.16262',\n",
       " 'RGI60-01.16342',\n",
       " 'RGI60-01.17183',\n",
       " 'RGI60-01.17348',\n",
       " 'RGI60-01.17423',\n",
       " 'RGI60-01.17464',\n",
       " 'RGI60-01.17761',\n",
       " 'RGI60-01.17774',\n",
       " 'RGI60-01.17803',\n",
       " 'RGI60-01.17807',\n",
       " 'RGI60-01.19460',\n",
       " 'RGI60-01.19592',\n",
       " 'RGI60-01.19599',\n",
       " 'RGI60-01.19682',\n",
       " 'RGI60-01.19725',\n",
       " 'RGI60-01.19773',\n",
       " 'RGI60-01.19790',\n",
       " 'RGI60-01.19814',\n",
       " 'RGI60-01.19825',\n",
       " 'RGI60-01.20180',\n",
       " 'RGI60-01.20181',\n",
       " 'RGI60-01.20186',\n",
       " 'RGI60-01.20196',\n",
       " 'RGI60-01.20272',\n",
       " 'RGI60-01.20274',\n",
       " 'RGI60-01.20279',\n",
       " 'RGI60-01.20286',\n",
       " 'RGI60-01.20302',\n",
       " 'RGI60-01.20303',\n",
       " 'RGI60-01.20309',\n",
       " 'RGI60-01.20324',\n",
       " 'RGI60-01.20796',\n",
       " 'RGI60-01.21014',\n",
       " 'RGI60-01.22193',\n",
       " 'RGI60-01.22699',\n",
       " 'RGI60-01.23597',\n",
       " 'RGI60-01.23635',\n",
       " 'RGI60-01.23649',\n",
       " 'RGI60-01.23664',\n",
       " 'RGI60-01.26738',\n",
       " 'RGI60-01.26743',\n",
       " 'RGI60-01.27103',\n",
       " 'RGI60-02.00556',\n",
       " 'RGI60-02.01346',\n",
       " 'RGI60-02.01843',\n",
       " 'RGI60-02.02364',\n",
       " 'RGI60-02.02606',\n",
       " 'RGI60-02.03578',\n",
       " 'RGI60-02.03586',\n",
       " 'RGI60-02.03769',\n",
       " 'RGI60-02.04305',\n",
       " 'RGI60-02.04363',\n",
       " 'RGI60-02.04403',\n",
       " 'RGI60-02.04410',\n",
       " 'RGI60-02.05157',\n",
       " 'RGI60-02.05169',\n",
       " 'RGI60-02.06145',\n",
       " 'RGI60-02.06149',\n",
       " 'RGI60-02.06152',\n",
       " 'RGI60-02.06488',\n",
       " 'RGI60-02.06859',\n",
       " 'RGI60-02.06862',\n",
       " 'RGI60-02.06868',\n",
       " 'RGI60-02.07002',\n",
       " 'RGI60-02.07301',\n",
       " 'RGI60-02.09116',\n",
       " 'RGI60-02.09254',\n",
       " 'RGI60-02.09720',\n",
       " 'RGI60-02.09758',\n",
       " 'RGI60-02.10175',\n",
       " 'RGI60-02.10389',\n",
       " 'RGI60-02.12428',\n",
       " 'RGI60-02.12433',\n",
       " 'RGI60-02.12435',\n",
       " 'RGI60-02.12437',\n",
       " 'RGI60-02.12468',\n",
       " 'RGI60-02.12483',\n",
       " 'RGI60-02.14009',\n",
       " 'RGI60-02.14256',\n",
       " 'RGI60-02.17738',\n",
       " 'SitKusa',\n",
       " 'Tahoma',\n",
       " 'Variegated']"
      ]
     },
     "execution_count": 20,
     "metadata": {},
     "output_type": "execute_result"
    }
   ],
   "source": [
    "# path to snow-cover-mapping/ - Make sure you include a \"/\" at the end\n",
    "base_path = '/Users/raineyaberle/Research/PhD/snow_cover_mapping/snow-cover-mapping/'\n",
    "\n",
    "# add path to functions\n",
    "sys.path.insert(1, base_path+'functions/')\n",
    "import pipeline_utils as f\n",
    "\n",
    "study_sites_path = '/Users/raineyaberle/Google Drive/My Drive/Research/CryoGARS-Glaciology/Advising/student-research/Alexandra-Friel/snow_cover_mapping_application/study-sites/'\n",
    "site_names =[x for x in sorted(os.listdir(study_sites_path)) if (not x.startswith('.')) and ('csv' not in x)]\n",
    "bgotus_site_names = ['Wolverine', 'Gulkana', 'LemonCreek', 'SouthCascade', 'Sperry']\n",
    "site_names = [x for x in site_names if x not in bgotus_site_names]\n",
    "site_names"
   ]
  },
  {
   "cell_type": "code",
   "execution_count": 17,
   "id": "c3252834-b2be-491f-aed4-fa5672c4330a",
   "metadata": {},
   "outputs": [],
   "source": [
    "ee.Initialize()"
   ]
  },
  {
   "cell_type": "code",
   "execution_count": 28,
   "id": "0d534e11-08a9-4492-a276-4a70a5572cd1",
   "metadata": {
    "scrolled": true,
    "tags": []
   },
   "outputs": [
    {
     "data": {
      "application/vnd.jupyter.widget-view+json": {
       "model_id": "10886af9584c4dd09c3951501b5fc3b4",
       "version_major": 2,
       "version_minor": 0
      },
      "text/plain": [
       "  0%|          | 0/81 [00:00<?, ?it/s]"
      ]
     },
     "metadata": {},
     "output_type": "display_data"
    },
    {
     "name": "stdout",
     "output_type": "stream",
     "text": [
      "RGI60-01.17183\n",
      "removed old DEM file\n",
      "Optimal UTM CRS = EPSG:32607\n",
      "ArcticDEM coverage over AOI\n",
      "Downloading DEM to /Users/raineyaberle/Google Drive/My Drive/Research/CryoGARS-Glaciology/Advising/student-research/Alexandra-Friel/snow_cover_mapping_application/study-sites/RGI60-01.17183/AOIs/../DEMs/\n"
     ]
    },
    {
     "name": "stderr",
     "output_type": "stream",
     "text": [
      "Consider adjusting `region`, `scale` and/or `dtype` to reduce the RGI60-01.17183_ArcticDEM_clip.tif download size (raw: 11.73 GB).\n"
     ]
    },
    {
     "data": {
      "application/vnd.jupyter.widget-view+json": {
       "model_id": "95d29d1bf1914dff8dcc495e1262284d",
       "version_major": 2,
       "version_minor": 0
      },
      "text/plain": [
       "RGI60-01.17183_ArcticDEM_clip.tif: | | 0.00/11.7G (raw) [  0.0%] in 00"
      ]
     },
     "metadata": {},
     "output_type": "display_data"
    },
    {
     "name": "stdout",
     "output_type": "stream",
     "text": [
      "Transforming elevations from the ellipsoid to the geoid...\n",
      "DEM re-saved with elevations referenced to the EGM96 geoid.\n",
      " \n",
      "RGI60-01.17348\n",
      "No snowlines yet, continuing...\n",
      " \n",
      "RGI60-01.17423\n",
      "No snowlines yet, continuing...\n",
      " \n",
      "RGI60-01.17464\n",
      "removed old DEM file\n",
      "Optimal UTM CRS = EPSG:32607\n",
      "ArcticDEM coverage over AOI\n",
      "Downloading DEM to /Users/raineyaberle/Google Drive/My Drive/Research/CryoGARS-Glaciology/Advising/student-research/Alexandra-Friel/snow_cover_mapping_application/study-sites/RGI60-01.17464/AOIs/../DEMs/\n"
     ]
    },
    {
     "name": "stderr",
     "output_type": "stream",
     "text": [
      "Consider adjusting `region`, `scale` and/or `dtype` to reduce the RGI60-01.17464_ArcticDEM_clip.tif download size (raw: 1.48 GB).\n"
     ]
    },
    {
     "data": {
      "application/vnd.jupyter.widget-view+json": {
       "model_id": "ff0a6ed058084de1aad09650d0045793",
       "version_major": 2,
       "version_minor": 0
      },
      "text/plain": [
       "RGI60-01.17464_ArcticDEM_clip.tif: | | 0.00/1.48G (raw) [  0.0%] in 00"
      ]
     },
     "metadata": {},
     "output_type": "display_data"
    },
    {
     "name": "stdout",
     "output_type": "stream",
     "text": [
      "Transforming elevations from the ellipsoid to the geoid...\n",
      "DEM re-saved with elevations referenced to the EGM96 geoid.\n",
      " \n",
      "RGI60-01.17761\n",
      "removed old DEM file\n",
      "Optimal UTM CRS = EPSG:32605\n",
      "ArcticDEM coverage over AOI\n",
      "Downloading DEM to /Users/raineyaberle/Google Drive/My Drive/Research/CryoGARS-Glaciology/Advising/student-research/Alexandra-Friel/snow_cover_mapping_application/study-sites/RGI60-01.17761/AOIs/../DEMs/\n"
     ]
    },
    {
     "name": "stderr",
     "output_type": "stream",
     "text": [
      "Consider adjusting `region`, `scale` and/or `dtype` to reduce the RGI60-01.17761_ArcticDEM_clip.tif download size (raw: 3.89 GB).\n"
     ]
    },
    {
     "data": {
      "application/vnd.jupyter.widget-view+json": {
       "model_id": "ab892534045c42fe854c879d7871e0cc",
       "version_major": 2,
       "version_minor": 0
      },
      "text/plain": [
       "RGI60-01.17761_ArcticDEM_clip.tif: | | 0.00/3.89G (raw) [  0.0%] in 00"
      ]
     },
     "metadata": {},
     "output_type": "display_data"
    },
    {
     "name": "stdout",
     "output_type": "stream",
     "text": [
      "Transforming elevations from the ellipsoid to the geoid...\n",
      "DEM re-saved with elevations referenced to the EGM96 geoid.\n",
      " \n",
      "RGI60-01.17774\n",
      "removed old DEM file\n",
      "Optimal UTM CRS = EPSG:32605\n",
      "ArcticDEM coverage over AOI\n",
      "Downloading DEM to /Users/raineyaberle/Google Drive/My Drive/Research/CryoGARS-Glaciology/Advising/student-research/Alexandra-Friel/snow_cover_mapping_application/study-sites/RGI60-01.17774/AOIs/../DEMs/\n"
     ]
    },
    {
     "name": "stderr",
     "output_type": "stream",
     "text": [
      "Consider adjusting `region`, `scale` and/or `dtype` to reduce the RGI60-01.17774_ArcticDEM_clip.tif download size (raw: 1.95 GB).\n"
     ]
    },
    {
     "data": {
      "application/vnd.jupyter.widget-view+json": {
       "model_id": "20922bc451974271a0bd57c41cc61ce7",
       "version_major": 2,
       "version_minor": 0
      },
      "text/plain": [
       "RGI60-01.17774_ArcticDEM_clip.tif: | | 0.00/1.95G (raw) [  0.0%] in 00"
      ]
     },
     "metadata": {},
     "output_type": "display_data"
    },
    {
     "name": "stdout",
     "output_type": "stream",
     "text": [
      "Transforming elevations from the ellipsoid to the geoid...\n",
      "DEM re-saved with elevations referenced to the EGM96 geoid.\n",
      " \n",
      "RGI60-01.17803\n",
      "removed old DEM file\n",
      "Optimal UTM CRS = EPSG:32606\n",
      "ArcticDEM coverage over AOI\n",
      "Downloading DEM to /Users/raineyaberle/Google Drive/My Drive/Research/CryoGARS-Glaciology/Advising/student-research/Alexandra-Friel/snow_cover_mapping_application/study-sites/RGI60-01.17803/AOIs/../DEMs/\n"
     ]
    },
    {
     "name": "stderr",
     "output_type": "stream",
     "text": [
      "Consider adjusting `region`, `scale` and/or `dtype` to reduce the RGI60-01.17803_ArcticDEM_clip.tif download size (raw: 2.38 GB).\n"
     ]
    },
    {
     "data": {
      "application/vnd.jupyter.widget-view+json": {
       "model_id": "6b8a5aa0daa5498f8814356290c204aa",
       "version_major": 2,
       "version_minor": 0
      },
      "text/plain": [
       "RGI60-01.17803_ArcticDEM_clip.tif: | | 0.00/2.38G (raw) [  0.0%] in 00"
      ]
     },
     "metadata": {},
     "output_type": "display_data"
    },
    {
     "name": "stdout",
     "output_type": "stream",
     "text": [
      "Transforming elevations from the ellipsoid to the geoid...\n",
      "DEM re-saved with elevations referenced to the EGM96 geoid.\n",
      " \n",
      "RGI60-01.17807\n",
      "removed old DEM file\n",
      "Optimal UTM CRS = EPSG:32606\n",
      "ArcticDEM coverage over AOI\n",
      "Downloading DEM to /Users/raineyaberle/Google Drive/My Drive/Research/CryoGARS-Glaciology/Advising/student-research/Alexandra-Friel/snow_cover_mapping_application/study-sites/RGI60-01.17807/AOIs/../DEMs/\n"
     ]
    },
    {
     "name": "stderr",
     "output_type": "stream",
     "text": [
      "Consider adjusting `region`, `scale` and/or `dtype` to reduce the RGI60-01.17807_ArcticDEM_clip.tif download size (raw: 1.33 GB).\n"
     ]
    },
    {
     "data": {
      "application/vnd.jupyter.widget-view+json": {
       "model_id": "2eca7361ad064f69aa95be6e3ab72793",
       "version_major": 2,
       "version_minor": 0
      },
      "text/plain": [
       "RGI60-01.17807_ArcticDEM_clip.tif: | | 0.00/1.33G (raw) [  0.0%] in 00"
      ]
     },
     "metadata": {},
     "output_type": "display_data"
    },
    {
     "name": "stdout",
     "output_type": "stream",
     "text": [
      "Transforming elevations from the ellipsoid to the geoid...\n",
      "DEM re-saved with elevations referenced to the EGM96 geoid.\n",
      " \n",
      "RGI60-01.19460\n",
      "removed old DEM file\n",
      "Optimal UTM CRS = EPSG:32605\n",
      "ArcticDEM coverage over AOI\n",
      "Downloading DEM to /Users/raineyaberle/Google Drive/My Drive/Research/CryoGARS-Glaciology/Advising/student-research/Alexandra-Friel/snow_cover_mapping_application/study-sites/RGI60-01.19460/AOIs/../DEMs/\n"
     ]
    },
    {
     "name": "stderr",
     "output_type": "stream",
     "text": [
      "Consider adjusting `region`, `scale` and/or `dtype` to reduce the RGI60-01.19460_ArcticDEM_clip.tif download size (raw: 2.03 GB).\n"
     ]
    },
    {
     "data": {
      "application/vnd.jupyter.widget-view+json": {
       "model_id": "01436024210c4a6b99c354a9766c412c",
       "version_major": 2,
       "version_minor": 0
      },
      "text/plain": [
       "RGI60-01.19460_ArcticDEM_clip.tif: | | 0.00/2.03G (raw) [  0.0%] in 00"
      ]
     },
     "metadata": {},
     "output_type": "display_data"
    },
    {
     "name": "stdout",
     "output_type": "stream",
     "text": [
      "Transforming elevations from the ellipsoid to the geoid...\n",
      "DEM re-saved with elevations referenced to the EGM96 geoid.\n",
      " \n",
      "RGI60-01.19592\n",
      "removed old DEM file\n",
      "Optimal UTM CRS = EPSG:32605\n",
      "ArcticDEM coverage over AOI\n",
      "Downloading DEM to /Users/raineyaberle/Google Drive/My Drive/Research/CryoGARS-Glaciology/Advising/student-research/Alexandra-Friel/snow_cover_mapping_application/study-sites/RGI60-01.19592/AOIs/../DEMs/\n"
     ]
    },
    {
     "data": {
      "application/vnd.jupyter.widget-view+json": {
       "model_id": "c1e7035d50284b20afe5adcfe8cc45c4",
       "version_major": 2,
       "version_minor": 0
      },
      "text/plain": [
       "RGI60-01.19592_ArcticDEM_clip.tif: | | 0.00/252M (raw) [  0.0%] in 00:"
      ]
     },
     "metadata": {},
     "output_type": "display_data"
    },
    {
     "name": "stdout",
     "output_type": "stream",
     "text": [
      "Transforming elevations from the ellipsoid to the geoid...\n",
      "DEM re-saved with elevations referenced to the EGM96 geoid.\n",
      " \n",
      "RGI60-01.19599\n",
      "removed old DEM file\n",
      "Optimal UTM CRS = EPSG:32605\n",
      "ArcticDEM coverage over AOI\n",
      "Downloading DEM to /Users/raineyaberle/Google Drive/My Drive/Research/CryoGARS-Glaciology/Advising/student-research/Alexandra-Friel/snow_cover_mapping_application/study-sites/RGI60-01.19599/AOIs/../DEMs/\n"
     ]
    },
    {
     "data": {
      "application/vnd.jupyter.widget-view+json": {
       "model_id": "847e228b9b114c918fb37540e27ddb38",
       "version_major": 2,
       "version_minor": 0
      },
      "text/plain": [
       "RGI60-01.19599_ArcticDEM_clip.tif: | | 0.00/247M (raw) [  0.0%] in 00:"
      ]
     },
     "metadata": {},
     "output_type": "display_data"
    },
    {
     "name": "stdout",
     "output_type": "stream",
     "text": [
      "Transforming elevations from the ellipsoid to the geoid...\n",
      "DEM re-saved with elevations referenced to the EGM96 geoid.\n",
      " \n",
      "RGI60-01.19682\n",
      "removed old DEM file\n",
      "Optimal UTM CRS = EPSG:32605\n",
      "ArcticDEM coverage over AOI\n",
      "Downloading DEM to /Users/raineyaberle/Google Drive/My Drive/Research/CryoGARS-Glaciology/Advising/student-research/Alexandra-Friel/snow_cover_mapping_application/study-sites/RGI60-01.19682/AOIs/../DEMs/\n"
     ]
    },
    {
     "name": "stderr",
     "output_type": "stream",
     "text": [
      "Consider adjusting `region`, `scale` and/or `dtype` to reduce the RGI60-01.19682_ArcticDEM_clip.tif download size (raw: 1.04 GB).\n"
     ]
    },
    {
     "data": {
      "application/vnd.jupyter.widget-view+json": {
       "model_id": "9773a3b4eaf6440e8abd1d966f6a0c8f",
       "version_major": 2,
       "version_minor": 0
      },
      "text/plain": [
       "RGI60-01.19682_ArcticDEM_clip.tif: | | 0.00/1.04G (raw) [  0.0%] in 00"
      ]
     },
     "metadata": {},
     "output_type": "display_data"
    },
    {
     "name": "stdout",
     "output_type": "stream",
     "text": [
      "Transforming elevations from the ellipsoid to the geoid...\n",
      "DEM re-saved with elevations referenced to the EGM96 geoid.\n",
      " \n",
      "RGI60-01.19725\n",
      "removed old DEM file\n",
      "Optimal UTM CRS = EPSG:32605\n",
      "ArcticDEM coverage over AOI\n",
      "Downloading DEM to /Users/raineyaberle/Google Drive/My Drive/Research/CryoGARS-Glaciology/Advising/student-research/Alexandra-Friel/snow_cover_mapping_application/study-sites/RGI60-01.19725/AOIs/../DEMs/\n"
     ]
    },
    {
     "name": "stderr",
     "output_type": "stream",
     "text": [
      "Consider adjusting `region`, `scale` and/or `dtype` to reduce the RGI60-01.19725_ArcticDEM_clip.tif download size (raw: 1.34 GB).\n"
     ]
    },
    {
     "data": {
      "application/vnd.jupyter.widget-view+json": {
       "model_id": "73960d77004849ffae7809d0829d8a28",
       "version_major": 2,
       "version_minor": 0
      },
      "text/plain": [
       "RGI60-01.19725_ArcticDEM_clip.tif: | | 0.00/1.34G (raw) [  0.0%] in 00"
      ]
     },
     "metadata": {},
     "output_type": "display_data"
    },
    {
     "name": "stdout",
     "output_type": "stream",
     "text": [
      "Transforming elevations from the ellipsoid to the geoid...\n",
      "DEM re-saved with elevations referenced to the EGM96 geoid.\n",
      " \n",
      "RGI60-01.19773\n",
      "removed old DEM file\n",
      "Optimal UTM CRS = EPSG:32605\n",
      "ArcticDEM coverage over AOI\n",
      "Downloading DEM to /Users/raineyaberle/Google Drive/My Drive/Research/CryoGARS-Glaciology/Advising/student-research/Alexandra-Friel/snow_cover_mapping_application/study-sites/RGI60-01.19773/AOIs/../DEMs/\n"
     ]
    },
    {
     "data": {
      "application/vnd.jupyter.widget-view+json": {
       "model_id": "02c04ffc28224cfa8eb09356f406b641",
       "version_major": 2,
       "version_minor": 0
      },
      "text/plain": [
       "RGI60-01.19773_ArcticDEM_clip.tif: | | 0.00/704M (raw) [  0.0%] in 00:"
      ]
     },
     "metadata": {},
     "output_type": "display_data"
    },
    {
     "name": "stdout",
     "output_type": "stream",
     "text": [
      "Transforming elevations from the ellipsoid to the geoid...\n",
      "DEM re-saved with elevations referenced to the EGM96 geoid.\n",
      " \n",
      "RGI60-01.19790\n",
      "removed old DEM file\n",
      "Optimal UTM CRS = EPSG:32605\n",
      "ArcticDEM coverage over AOI\n",
      "Downloading DEM to /Users/raineyaberle/Google Drive/My Drive/Research/CryoGARS-Glaciology/Advising/student-research/Alexandra-Friel/snow_cover_mapping_application/study-sites/RGI60-01.19790/AOIs/../DEMs/\n"
     ]
    },
    {
     "data": {
      "application/vnd.jupyter.widget-view+json": {
       "model_id": "297432aecedc4701a8c3923cb697f447",
       "version_major": 2,
       "version_minor": 0
      },
      "text/plain": [
       "RGI60-01.19790_ArcticDEM_clip.tif: | | 0.00/504M (raw) [  0.0%] in 00:"
      ]
     },
     "metadata": {},
     "output_type": "display_data"
    },
    {
     "name": "stdout",
     "output_type": "stream",
     "text": [
      "Transforming elevations from the ellipsoid to the geoid...\n",
      "DEM re-saved with elevations referenced to the EGM96 geoid.\n",
      " \n",
      "RGI60-01.19814\n",
      "removed old DEM file\n",
      "Optimal UTM CRS = EPSG:32605\n",
      "ArcticDEM coverage over AOI\n",
      "Downloading DEM to /Users/raineyaberle/Google Drive/My Drive/Research/CryoGARS-Glaciology/Advising/student-research/Alexandra-Friel/snow_cover_mapping_application/study-sites/RGI60-01.19814/AOIs/../DEMs/\n"
     ]
    },
    {
     "name": "stderr",
     "output_type": "stream",
     "text": [
      "Consider adjusting `region`, `scale` and/or `dtype` to reduce the RGI60-01.19814_ArcticDEM_clip.tif download size (raw: 2.44 GB).\n"
     ]
    },
    {
     "data": {
      "application/vnd.jupyter.widget-view+json": {
       "model_id": "f01aef2befa947c9b2d6d0a7843e07a2",
       "version_major": 2,
       "version_minor": 0
      },
      "text/plain": [
       "RGI60-01.19814_ArcticDEM_clip.tif: | | 0.00/2.44G (raw) [  0.0%] in 00"
      ]
     },
     "metadata": {},
     "output_type": "display_data"
    },
    {
     "name": "stdout",
     "output_type": "stream",
     "text": [
      "Transforming elevations from the ellipsoid to the geoid...\n",
      "DEM re-saved with elevations referenced to the EGM96 geoid.\n",
      " \n",
      "RGI60-01.19825\n",
      "removed old DEM file\n",
      "Optimal UTM CRS = EPSG:32605\n",
      "ArcticDEM coverage over AOI\n",
      "Downloading DEM to /Users/raineyaberle/Google Drive/My Drive/Research/CryoGARS-Glaciology/Advising/student-research/Alexandra-Friel/snow_cover_mapping_application/study-sites/RGI60-01.19825/AOIs/../DEMs/\n"
     ]
    },
    {
     "name": "stderr",
     "output_type": "stream",
     "text": [
      "Consider adjusting `region`, `scale` and/or `dtype` to reduce the RGI60-01.19825_ArcticDEM_clip.tif download size (raw: 1.80 GB).\n"
     ]
    },
    {
     "data": {
      "application/vnd.jupyter.widget-view+json": {
       "model_id": "f5d162c397d4451e93173117f9dcfb99",
       "version_major": 2,
       "version_minor": 0
      },
      "text/plain": [
       "RGI60-01.19825_ArcticDEM_clip.tif: | | 0.00/1.80G (raw) [  0.0%] in 00"
      ]
     },
     "metadata": {},
     "output_type": "display_data"
    },
    {
     "name": "stdout",
     "output_type": "stream",
     "text": [
      "Transforming elevations from the ellipsoid to the geoid...\n",
      "DEM re-saved with elevations referenced to the EGM96 geoid.\n",
      " \n",
      "RGI60-01.20180\n",
      "removed old DEM file\n",
      "Optimal UTM CRS = EPSG:32605\n",
      "ArcticDEM coverage over AOI\n",
      "Downloading DEM to /Users/raineyaberle/Google Drive/My Drive/Research/CryoGARS-Glaciology/Advising/student-research/Alexandra-Friel/snow_cover_mapping_application/study-sites/RGI60-01.20180/AOIs/../DEMs/\n"
     ]
    },
    {
     "data": {
      "application/vnd.jupyter.widget-view+json": {
       "model_id": "bceee8c8fc754547a75bd48c3cd91f72",
       "version_major": 2,
       "version_minor": 0
      },
      "text/plain": [
       "RGI60-01.20180_ArcticDEM_clip.tif: | | 0.00/288M (raw) [  0.0%] in 00:"
      ]
     },
     "metadata": {},
     "output_type": "display_data"
    },
    {
     "name": "stdout",
     "output_type": "stream",
     "text": [
      "Transforming elevations from the ellipsoid to the geoid...\n",
      "DEM re-saved with elevations referenced to the EGM96 geoid.\n",
      " \n",
      "RGI60-01.20181\n",
      "removed old DEM file\n",
      "Optimal UTM CRS = EPSG:32605\n",
      "ArcticDEM coverage over AOI\n",
      "Downloading DEM to /Users/raineyaberle/Google Drive/My Drive/Research/CryoGARS-Glaciology/Advising/student-research/Alexandra-Friel/snow_cover_mapping_application/study-sites/RGI60-01.20181/AOIs/../DEMs/\n"
     ]
    },
    {
     "data": {
      "application/vnd.jupyter.widget-view+json": {
       "model_id": "3f991e91796049e198da8e20fbfc307f",
       "version_major": 2,
       "version_minor": 0
      },
      "text/plain": [
       "RGI60-01.20181_ArcticDEM_clip.tif: | | 0.00/110M (raw) [  0.0%] in 00:"
      ]
     },
     "metadata": {},
     "output_type": "display_data"
    },
    {
     "name": "stdout",
     "output_type": "stream",
     "text": [
      "Transforming elevations from the ellipsoid to the geoid...\n",
      "DEM re-saved with elevations referenced to the EGM96 geoid.\n",
      " \n",
      "RGI60-01.20186\n",
      "removed old DEM file\n",
      "Optimal UTM CRS = EPSG:32605\n",
      "ArcticDEM coverage over AOI\n",
      "Downloading DEM to /Users/raineyaberle/Google Drive/My Drive/Research/CryoGARS-Glaciology/Advising/student-research/Alexandra-Friel/snow_cover_mapping_application/study-sites/RGI60-01.20186/AOIs/../DEMs/\n"
     ]
    },
    {
     "data": {
      "application/vnd.jupyter.widget-view+json": {
       "model_id": "884c3c1a73324da09caa91bb197cd5e1",
       "version_major": 2,
       "version_minor": 0
      },
      "text/plain": [
       "RGI60-01.20186_ArcticDEM_clip.tif: | | 0.00/211M (raw) [  0.0%] in 00:"
      ]
     },
     "metadata": {},
     "output_type": "display_data"
    },
    {
     "name": "stdout",
     "output_type": "stream",
     "text": [
      "Transforming elevations from the ellipsoid to the geoid...\n",
      "DEM re-saved with elevations referenced to the EGM96 geoid.\n",
      " \n",
      "RGI60-01.20196\n",
      "removed old DEM file\n",
      "Optimal UTM CRS = EPSG:32605\n",
      "ArcticDEM coverage over AOI\n",
      "Downloading DEM to /Users/raineyaberle/Google Drive/My Drive/Research/CryoGARS-Glaciology/Advising/student-research/Alexandra-Friel/snow_cover_mapping_application/study-sites/RGI60-01.20196/AOIs/../DEMs/\n"
     ]
    },
    {
     "data": {
      "application/vnd.jupyter.widget-view+json": {
       "model_id": "93d3a8818d3f4a0aa78513804d041ff1",
       "version_major": 2,
       "version_minor": 0
      },
      "text/plain": [
       "RGI60-01.20196_ArcticDEM_clip.tif: | | 0.00/329M (raw) [  0.0%] in 00:"
      ]
     },
     "metadata": {},
     "output_type": "display_data"
    },
    {
     "name": "stdout",
     "output_type": "stream",
     "text": [
      "Transforming elevations from the ellipsoid to the geoid...\n",
      "DEM re-saved with elevations referenced to the EGM96 geoid.\n",
      " \n",
      "RGI60-01.20272\n",
      "removed old DEM file\n",
      "Optimal UTM CRS = EPSG:32605\n",
      "ArcticDEM coverage over AOI\n",
      "Downloading DEM to /Users/raineyaberle/Google Drive/My Drive/Research/CryoGARS-Glaciology/Advising/student-research/Alexandra-Friel/snow_cover_mapping_application/study-sites/RGI60-01.20272/AOIs/../DEMs/\n"
     ]
    },
    {
     "data": {
      "application/vnd.jupyter.widget-view+json": {
       "model_id": "3bed06fe91b642708523be73ca5c31ea",
       "version_major": 2,
       "version_minor": 0
      },
      "text/plain": [
       "RGI60-01.20272_ArcticDEM_clip.tif: | | 0.00/270M (raw) [  0.0%] in 00:"
      ]
     },
     "metadata": {},
     "output_type": "display_data"
    },
    {
     "name": "stdout",
     "output_type": "stream",
     "text": [
      "Transforming elevations from the ellipsoid to the geoid...\n",
      "DEM re-saved with elevations referenced to the EGM96 geoid.\n",
      " \n",
      "RGI60-01.20274\n",
      "removed old DEM file\n",
      "Optimal UTM CRS = EPSG:32605\n",
      "ArcticDEM coverage over AOI\n",
      "Downloading DEM to /Users/raineyaberle/Google Drive/My Drive/Research/CryoGARS-Glaciology/Advising/student-research/Alexandra-Friel/snow_cover_mapping_application/study-sites/RGI60-01.20274/AOIs/../DEMs/\n"
     ]
    },
    {
     "data": {
      "application/vnd.jupyter.widget-view+json": {
       "model_id": "bb1915b8561741b087b00b856b15e20a",
       "version_major": 2,
       "version_minor": 0
      },
      "text/plain": [
       "RGI60-01.20274_ArcticDEM_clip.tif: | | 0.00/523M (raw) [  0.0%] in 00:"
      ]
     },
     "metadata": {},
     "output_type": "display_data"
    },
    {
     "name": "stdout",
     "output_type": "stream",
     "text": [
      "Transforming elevations from the ellipsoid to the geoid...\n",
      "DEM re-saved with elevations referenced to the EGM96 geoid.\n",
      " \n",
      "RGI60-01.20279\n",
      "removed old DEM file\n",
      "Optimal UTM CRS = EPSG:32605\n",
      "ArcticDEM coverage over AOI\n",
      "Downloading DEM to /Users/raineyaberle/Google Drive/My Drive/Research/CryoGARS-Glaciology/Advising/student-research/Alexandra-Friel/snow_cover_mapping_application/study-sites/RGI60-01.20279/AOIs/../DEMs/\n"
     ]
    },
    {
     "data": {
      "application/vnd.jupyter.widget-view+json": {
       "model_id": "8326cac425e64f60aef81fe061f39a3a",
       "version_major": 2,
       "version_minor": 0
      },
      "text/plain": [
       "RGI60-01.20279_ArcticDEM_clip.tif: | | 0.00/159M (raw) [  0.0%] in 00:"
      ]
     },
     "metadata": {},
     "output_type": "display_data"
    },
    {
     "name": "stdout",
     "output_type": "stream",
     "text": [
      "Transforming elevations from the ellipsoid to the geoid...\n",
      "DEM re-saved with elevations referenced to the EGM96 geoid.\n",
      " \n",
      "RGI60-01.20286\n",
      "removed old DEM file\n",
      "Optimal UTM CRS = EPSG:32605\n",
      "ArcticDEM coverage over AOI\n",
      "Downloading DEM to /Users/raineyaberle/Google Drive/My Drive/Research/CryoGARS-Glaciology/Advising/student-research/Alexandra-Friel/snow_cover_mapping_application/study-sites/RGI60-01.20286/AOIs/../DEMs/\n"
     ]
    },
    {
     "data": {
      "application/vnd.jupyter.widget-view+json": {
       "model_id": "a7fe1defcce242a4a148b8255b3e8fa1",
       "version_major": 2,
       "version_minor": 0
      },
      "text/plain": [
       "RGI60-01.20286_ArcticDEM_clip.tif: | | 0.00/206M (raw) [  0.0%] in 00:"
      ]
     },
     "metadata": {},
     "output_type": "display_data"
    },
    {
     "name": "stdout",
     "output_type": "stream",
     "text": [
      "Transforming elevations from the ellipsoid to the geoid...\n",
      "DEM re-saved with elevations referenced to the EGM96 geoid.\n",
      " \n",
      "RGI60-01.20302\n",
      "removed old DEM file\n",
      "Optimal UTM CRS = EPSG:32605\n",
      "ArcticDEM coverage over AOI\n",
      "Downloading DEM to /Users/raineyaberle/Google Drive/My Drive/Research/CryoGARS-Glaciology/Advising/student-research/Alexandra-Friel/snow_cover_mapping_application/study-sites/RGI60-01.20302/AOIs/../DEMs/\n"
     ]
    },
    {
     "data": {
      "application/vnd.jupyter.widget-view+json": {
       "model_id": "080db8be048c4a858555a4d2a4e74034",
       "version_major": 2,
       "version_minor": 0
      },
      "text/plain": [
       "RGI60-01.20302_ArcticDEM_clip.tif: | | 0.00/173M (raw) [  0.0%] in 00:"
      ]
     },
     "metadata": {},
     "output_type": "display_data"
    },
    {
     "name": "stdout",
     "output_type": "stream",
     "text": [
      "Transforming elevations from the ellipsoid to the geoid...\n",
      "DEM re-saved with elevations referenced to the EGM96 geoid.\n",
      " \n",
      "RGI60-01.20303\n",
      "removed old DEM file\n",
      "Optimal UTM CRS = EPSG:32605\n",
      "ArcticDEM coverage over AOI\n",
      "Downloading DEM to /Users/raineyaberle/Google Drive/My Drive/Research/CryoGARS-Glaciology/Advising/student-research/Alexandra-Friel/snow_cover_mapping_application/study-sites/RGI60-01.20303/AOIs/../DEMs/\n"
     ]
    },
    {
     "data": {
      "application/vnd.jupyter.widget-view+json": {
       "model_id": "518f35e65cec462fb78824c483701ae5",
       "version_major": 2,
       "version_minor": 0
      },
      "text/plain": [
       "RGI60-01.20303_ArcticDEM_clip.tif: | | 0.00/128M (raw) [  0.0%] in 00:"
      ]
     },
     "metadata": {},
     "output_type": "display_data"
    },
    {
     "name": "stdout",
     "output_type": "stream",
     "text": [
      "Transforming elevations from the ellipsoid to the geoid...\n",
      "DEM re-saved with elevations referenced to the EGM96 geoid.\n",
      " \n",
      "RGI60-01.20309\n",
      "removed old DEM file\n",
      "Optimal UTM CRS = EPSG:32605\n",
      "ArcticDEM coverage over AOI\n",
      "Downloading DEM to /Users/raineyaberle/Google Drive/My Drive/Research/CryoGARS-Glaciology/Advising/student-research/Alexandra-Friel/snow_cover_mapping_application/study-sites/RGI60-01.20309/AOIs/../DEMs/\n"
     ]
    },
    {
     "data": {
      "application/vnd.jupyter.widget-view+json": {
       "model_id": "9804d22d989a4b91b118d9cb2a624f7f",
       "version_major": 2,
       "version_minor": 0
      },
      "text/plain": [
       "RGI60-01.20309_ArcticDEM_clip.tif: | | 0.00/211M (raw) [  0.0%] in 00:"
      ]
     },
     "metadata": {},
     "output_type": "display_data"
    },
    {
     "name": "stdout",
     "output_type": "stream",
     "text": [
      "Transforming elevations from the ellipsoid to the geoid...\n",
      "DEM re-saved with elevations referenced to the EGM96 geoid.\n",
      " \n",
      "RGI60-01.20324\n",
      "removed old DEM file\n",
      "Optimal UTM CRS = EPSG:32605\n",
      "ArcticDEM coverage over AOI\n",
      "Downloading DEM to /Users/raineyaberle/Google Drive/My Drive/Research/CryoGARS-Glaciology/Advising/student-research/Alexandra-Friel/snow_cover_mapping_application/study-sites/RGI60-01.20324/AOIs/../DEMs/\n"
     ]
    },
    {
     "data": {
      "application/vnd.jupyter.widget-view+json": {
       "model_id": "34017dcd039f4d269aabef65836c417e",
       "version_major": 2,
       "version_minor": 0
      },
      "text/plain": [
       "RGI60-01.20324_ArcticDEM_clip.tif: | | 0.00/186M (raw) [  0.0%] in 00:"
      ]
     },
     "metadata": {},
     "output_type": "display_data"
    },
    {
     "name": "stdout",
     "output_type": "stream",
     "text": [
      "Transforming elevations from the ellipsoid to the geoid...\n",
      "DEM re-saved with elevations referenced to the EGM96 geoid.\n",
      " \n",
      "RGI60-01.20796\n",
      "removed old DEM file\n",
      "Optimal UTM CRS = EPSG:32608\n",
      "ArcticDEM coverage over AOI\n",
      "Downloading DEM to /Users/raineyaberle/Google Drive/My Drive/Research/CryoGARS-Glaciology/Advising/student-research/Alexandra-Friel/snow_cover_mapping_application/study-sites/RGI60-01.20796/AOIs/../DEMs/\n"
     ]
    },
    {
     "name": "stderr",
     "output_type": "stream",
     "text": [
      "Consider adjusting `region`, `scale` and/or `dtype` to reduce the RGI60-01.20796_ArcticDEM_clip.tif download size (raw: 5.92 GB).\n"
     ]
    },
    {
     "data": {
      "application/vnd.jupyter.widget-view+json": {
       "model_id": "3bb8bf7cab82445f9c6548d6b5aa28be",
       "version_major": 2,
       "version_minor": 0
      },
      "text/plain": [
       "RGI60-01.20796_ArcticDEM_clip.tif: | | 0.00/5.92G (raw) [  0.0%] in 00"
      ]
     },
     "metadata": {},
     "output_type": "display_data"
    },
    {
     "name": "stdout",
     "output_type": "stream",
     "text": [
      "Transforming elevations from the ellipsoid to the geoid...\n",
      "DEM re-saved with elevations referenced to the EGM96 geoid.\n",
      " \n",
      "RGI60-01.21014\n",
      "removed old DEM file\n",
      "Optimal UTM CRS = EPSG:32608\n",
      "ArcticDEM coverage over AOI\n",
      "Downloading DEM to /Users/raineyaberle/Google Drive/My Drive/Research/CryoGARS-Glaciology/Advising/student-research/Alexandra-Friel/snow_cover_mapping_application/study-sites/RGI60-01.21014/AOIs/../DEMs/\n"
     ]
    },
    {
     "name": "stderr",
     "output_type": "stream",
     "text": [
      "Consider adjusting `region`, `scale` and/or `dtype` to reduce the RGI60-01.21014_ArcticDEM_clip.tif download size (raw: 5.80 GB).\n"
     ]
    },
    {
     "data": {
      "application/vnd.jupyter.widget-view+json": {
       "model_id": "e26dd9b5a5dc439b98c896a8c44bb132",
       "version_major": 2,
       "version_minor": 0
      },
      "text/plain": [
       "RGI60-01.21014_ArcticDEM_clip.tif: | | 0.00/5.80G (raw) [  0.0%] in 00"
      ]
     },
     "metadata": {},
     "output_type": "display_data"
    },
    {
     "name": "stdout",
     "output_type": "stream",
     "text": [
      "Transforming elevations from the ellipsoid to the geoid...\n",
      "DEM re-saved with elevations referenced to the EGM96 geoid.\n",
      " \n",
      "RGI60-01.22193\n",
      "No snowlines yet, continuing...\n",
      " \n",
      "RGI60-01.22699\n",
      "removed old DEM file\n",
      "Optimal UTM CRS = EPSG:32608\n",
      "ArcticDEM coverage over AOI\n",
      "Downloading DEM to /Users/raineyaberle/Google Drive/My Drive/Research/CryoGARS-Glaciology/Advising/student-research/Alexandra-Friel/snow_cover_mapping_application/study-sites/RGI60-01.22699/AOIs/../DEMs/\n"
     ]
    },
    {
     "name": "stderr",
     "output_type": "stream",
     "text": [
      "Consider adjusting `region`, `scale` and/or `dtype` to reduce the RGI60-01.22699_ArcticDEM_clip.tif download size (raw: 3.48 GB).\n"
     ]
    },
    {
     "data": {
      "application/vnd.jupyter.widget-view+json": {
       "model_id": "a7cf4a61e7fc455b8cd62142bbcd5a73",
       "version_major": 2,
       "version_minor": 0
      },
      "text/plain": [
       "RGI60-01.22699_ArcticDEM_clip.tif: | | 0.00/3.48G (raw) [  0.0%] in 00"
      ]
     },
     "metadata": {},
     "output_type": "display_data"
    },
    {
     "name": "stdout",
     "output_type": "stream",
     "text": [
      "Transforming elevations from the ellipsoid to the geoid...\n",
      "DEM re-saved with elevations referenced to the EGM96 geoid.\n",
      " \n",
      "RGI60-01.23597\n",
      "removed old DEM file\n",
      "Optimal UTM CRS = EPSG:32606\n",
      "ArcticDEM coverage over AOI\n",
      "Downloading DEM to /Users/raineyaberle/Google Drive/My Drive/Research/CryoGARS-Glaciology/Advising/student-research/Alexandra-Friel/snow_cover_mapping_application/study-sites/RGI60-01.23597/AOIs/../DEMs/\n"
     ]
    },
    {
     "data": {
      "application/vnd.jupyter.widget-view+json": {
       "model_id": "0ddcaa836e7c4c45a6f58c6a28a3d3b3",
       "version_major": 2,
       "version_minor": 0
      },
      "text/plain": [
       "RGI60-01.23597_ArcticDEM_clip.tif: | | 0.00/113M (raw) [  0.0%] in 00:"
      ]
     },
     "metadata": {},
     "output_type": "display_data"
    },
    {
     "name": "stdout",
     "output_type": "stream",
     "text": [
      "Transforming elevations from the ellipsoid to the geoid...\n",
      "DEM re-saved with elevations referenced to the EGM96 geoid.\n",
      " \n",
      "RGI60-01.23635\n",
      "removed old DEM file\n",
      "Optimal UTM CRS = EPSG:32606\n",
      "ArcticDEM coverage over AOI\n",
      "Downloading DEM to /Users/raineyaberle/Google Drive/My Drive/Research/CryoGARS-Glaciology/Advising/student-research/Alexandra-Friel/snow_cover_mapping_application/study-sites/RGI60-01.23635/AOIs/../DEMs/\n"
     ]
    },
    {
     "name": "stderr",
     "output_type": "stream",
     "text": [
      "Consider adjusting `region`, `scale` and/or `dtype` to reduce the RGI60-01.23635_ArcticDEM_clip.tif download size (raw: 1.35 GB).\n"
     ]
    },
    {
     "data": {
      "application/vnd.jupyter.widget-view+json": {
       "model_id": "a827201d560847488470854e6d6a4b00",
       "version_major": 2,
       "version_minor": 0
      },
      "text/plain": [
       "RGI60-01.23635_ArcticDEM_clip.tif: | | 0.00/1.35G (raw) [  0.0%] in 00"
      ]
     },
     "metadata": {},
     "output_type": "display_data"
    },
    {
     "name": "stdout",
     "output_type": "stream",
     "text": [
      "Transforming elevations from the ellipsoid to the geoid...\n",
      "DEM re-saved with elevations referenced to the EGM96 geoid.\n",
      " \n",
      "RGI60-01.23649\n",
      "removed old DEM file\n",
      "Optimal UTM CRS = EPSG:32607\n",
      "ArcticDEM coverage over AOI\n",
      "Downloading DEM to /Users/raineyaberle/Google Drive/My Drive/Research/CryoGARS-Glaciology/Advising/student-research/Alexandra-Friel/snow_cover_mapping_application/study-sites/RGI60-01.23649/AOIs/../DEMs/\n"
     ]
    },
    {
     "name": "stderr",
     "output_type": "stream",
     "text": [
      "Consider adjusting `region`, `scale` and/or `dtype` to reduce the RGI60-01.23649_ArcticDEM_clip.tif download size (raw: 9.67 GB).\n"
     ]
    },
    {
     "data": {
      "application/vnd.jupyter.widget-view+json": {
       "model_id": "7e25cef8942c4c7496646966f557568b",
       "version_major": 2,
       "version_minor": 0
      },
      "text/plain": [
       "RGI60-01.23649_ArcticDEM_clip.tif: | | 0.00/9.67G (raw) [  0.0%] in 00"
      ]
     },
     "metadata": {},
     "output_type": "display_data"
    },
    {
     "name": "stdout",
     "output_type": "stream",
     "text": [
      "Transforming elevations from the ellipsoid to the geoid...\n",
      "DEM re-saved with elevations referenced to the EGM96 geoid.\n",
      " \n",
      "RGI60-01.23664\n",
      "removed old DEM file\n",
      "Optimal UTM CRS = EPSG:32608\n",
      "ArcticDEM coverage over AOI\n",
      "Downloading DEM to /Users/raineyaberle/Google Drive/My Drive/Research/CryoGARS-Glaciology/Advising/student-research/Alexandra-Friel/snow_cover_mapping_application/study-sites/RGI60-01.23664/AOIs/../DEMs/\n"
     ]
    },
    {
     "data": {
      "application/vnd.jupyter.widget-view+json": {
       "model_id": "f87c88065908438db34ef1fcda015e1a",
       "version_major": 2,
       "version_minor": 0
      },
      "text/plain": [
       "RGI60-01.23664_ArcticDEM_clip.tif: | | 0.00/912M (raw) [  0.0%] in 00:"
      ]
     },
     "metadata": {},
     "output_type": "display_data"
    },
    {
     "name": "stdout",
     "output_type": "stream",
     "text": [
      "Transforming elevations from the ellipsoid to the geoid...\n",
      "DEM re-saved with elevations referenced to the EGM96 geoid.\n",
      " \n",
      "RGI60-01.26738\n",
      "removed old DEM file\n",
      "Optimal UTM CRS = EPSG:32607\n",
      "ArcticDEM coverage over AOI\n",
      "Downloading DEM to /Users/raineyaberle/Google Drive/My Drive/Research/CryoGARS-Glaciology/Advising/student-research/Alexandra-Friel/snow_cover_mapping_application/study-sites/RGI60-01.26738/AOIs/../DEMs/\n"
     ]
    },
    {
     "name": "stderr",
     "output_type": "stream",
     "text": [
      "Consider adjusting `region`, `scale` and/or `dtype` to reduce the RGI60-01.26738_ArcticDEM_clip.tif download size (raw: 13.38 GB).\n"
     ]
    },
    {
     "data": {
      "application/vnd.jupyter.widget-view+json": {
       "model_id": "3cfd6be3f0554b3c883731d1fda7ddb6",
       "version_major": 2,
       "version_minor": 0
      },
      "text/plain": [
       "RGI60-01.26738_ArcticDEM_clip.tif: | | 0.00/13.4G (raw) [  0.0%] in 00"
      ]
     },
     "metadata": {},
     "output_type": "display_data"
    },
    {
     "name": "stdout",
     "output_type": "stream",
     "text": [
      "Transforming elevations from the ellipsoid to the geoid...\n",
      "DEM re-saved with elevations referenced to the EGM96 geoid.\n",
      " \n",
      "RGI60-01.26743\n",
      "removed old DEM file\n",
      "Optimal UTM CRS = EPSG:32606\n",
      "ArcticDEM coverage over AOI\n",
      "Downloading DEM to /Users/raineyaberle/Google Drive/My Drive/Research/CryoGARS-Glaciology/Advising/student-research/Alexandra-Friel/snow_cover_mapping_application/study-sites/RGI60-01.26743/AOIs/../DEMs/\n"
     ]
    },
    {
     "data": {
      "application/vnd.jupyter.widget-view+json": {
       "model_id": "d37564ebed23497790a7de304d47e6ea",
       "version_major": 2,
       "version_minor": 0
      },
      "text/plain": [
       "RGI60-01.26743_ArcticDEM_clip.tif: | | 0.00/659M (raw) [  0.0%] in 00:"
      ]
     },
     "metadata": {},
     "output_type": "display_data"
    },
    {
     "name": "stdout",
     "output_type": "stream",
     "text": [
      "Transforming elevations from the ellipsoid to the geoid...\n",
      "DEM re-saved with elevations referenced to the EGM96 geoid.\n",
      " \n",
      "RGI60-01.27103\n",
      "removed old DEM file\n",
      "Optimal UTM CRS = EPSG:32608\n",
      "ArcticDEM coverage over AOI\n",
      "Downloading DEM to /Users/raineyaberle/Google Drive/My Drive/Research/CryoGARS-Glaciology/Advising/student-research/Alexandra-Friel/snow_cover_mapping_application/study-sites/RGI60-01.27103/AOIs/../DEMs/\n"
     ]
    },
    {
     "name": "stderr",
     "output_type": "stream",
     "text": [
      "Consider adjusting `region`, `scale` and/or `dtype` to reduce the RGI60-01.27103_ArcticDEM_clip.tif download size (raw: 1.61 GB).\n"
     ]
    },
    {
     "data": {
      "application/vnd.jupyter.widget-view+json": {
       "model_id": "1a802a22acf942fe87dfbb55f5b7282f",
       "version_major": 2,
       "version_minor": 0
      },
      "text/plain": [
       "RGI60-01.27103_ArcticDEM_clip.tif: | | 0.00/1.61G (raw) [  0.0%] in 00"
      ]
     },
     "metadata": {},
     "output_type": "display_data"
    },
    {
     "name": "stdout",
     "output_type": "stream",
     "text": [
      "Transforming elevations from the ellipsoid to the geoid...\n",
      "DEM re-saved with elevations referenced to the EGM96 geoid.\n",
      " \n",
      "RGI60-02.00556\n",
      "removed old DEM file\n",
      "Optimal UTM CRS = EPSG:32610\n",
      "No ArcticDEM coverage, using NASADEM\n",
      "Downloading DEM to /Users/raineyaberle/Google Drive/My Drive/Research/CryoGARS-Glaciology/Advising/student-research/Alexandra-Friel/snow_cover_mapping_application/study-sites/RGI60-02.00556/AOIs/../DEMs/\n"
     ]
    },
    {
     "data": {
      "application/vnd.jupyter.widget-view+json": {
       "model_id": "99ca9b13e64043bb8681965364dbd819",
       "version_major": 2,
       "version_minor": 0
      },
      "text/plain": [
       "RGI60-02.00556_NASADEM_clip.tif: | | 0.00/474k (raw) [  0.0%] in 00:00"
      ]
     },
     "metadata": {},
     "output_type": "display_data"
    },
    {
     "name": "stdout",
     "output_type": "stream",
     "text": [
      " \n",
      "RGI60-02.01346\n",
      "removed old DEM file\n",
      "Optimal UTM CRS = EPSG:32610\n",
      "No ArcticDEM coverage, using NASADEM\n",
      "Downloading DEM to /Users/raineyaberle/Google Drive/My Drive/Research/CryoGARS-Glaciology/Advising/student-research/Alexandra-Friel/snow_cover_mapping_application/study-sites/RGI60-02.01346/AOIs/../DEMs/\n"
     ]
    },
    {
     "data": {
      "application/vnd.jupyter.widget-view+json": {
       "model_id": "902d71e2ca57443b8b710c48b3497b78",
       "version_major": 2,
       "version_minor": 0
      },
      "text/plain": [
       "RGI60-02.01346_NASADEM_clip.tif: | | 0.00/2.56M (raw) [  0.0%] in 00:0"
      ]
     },
     "metadata": {},
     "output_type": "display_data"
    },
    {
     "name": "stdout",
     "output_type": "stream",
     "text": [
      " \n",
      "RGI60-02.01843\n",
      "removed old DEM file\n",
      "Optimal UTM CRS = EPSG:32610\n",
      "No ArcticDEM coverage, using NASADEM\n",
      "Downloading DEM to /Users/raineyaberle/Google Drive/My Drive/Research/CryoGARS-Glaciology/Advising/student-research/Alexandra-Friel/snow_cover_mapping_application/study-sites/RGI60-02.01843/AOIs/../DEMs/\n"
     ]
    },
    {
     "data": {
      "application/vnd.jupyter.widget-view+json": {
       "model_id": "ea4b278b95fe446093fcddb0ad76a34a",
       "version_major": 2,
       "version_minor": 0
      },
      "text/plain": [
       "RGI60-02.01843_NASADEM_clip.tif: | | 0.00/422k (raw) [  0.0%] in 00:00"
      ]
     },
     "metadata": {},
     "output_type": "display_data"
    },
    {
     "name": "stdout",
     "output_type": "stream",
     "text": [
      " \n",
      "RGI60-02.02364\n",
      "removed old DEM file\n",
      "Optimal UTM CRS = EPSG:32610\n",
      "No ArcticDEM coverage, using NASADEM\n",
      "Downloading DEM to /Users/raineyaberle/Google Drive/My Drive/Research/CryoGARS-Glaciology/Advising/student-research/Alexandra-Friel/snow_cover_mapping_application/study-sites/RGI60-02.02364/AOIs/../DEMs/\n"
     ]
    },
    {
     "data": {
      "application/vnd.jupyter.widget-view+json": {
       "model_id": "ced9a8a29d3c4592897752ba58cf78f4",
       "version_major": 2,
       "version_minor": 0
      },
      "text/plain": [
       "RGI60-02.02364_NASADEM_clip.tif: | | 0.00/1.04M (raw) [  0.0%] in 00:0"
      ]
     },
     "metadata": {},
     "output_type": "display_data"
    },
    {
     "name": "stdout",
     "output_type": "stream",
     "text": [
      " \n",
      "RGI60-02.02606\n",
      "removed old DEM file\n",
      "Optimal UTM CRS = EPSG:32610\n",
      "No ArcticDEM coverage, using NASADEM\n",
      "Downloading DEM to /Users/raineyaberle/Google Drive/My Drive/Research/CryoGARS-Glaciology/Advising/student-research/Alexandra-Friel/snow_cover_mapping_application/study-sites/RGI60-02.02606/AOIs/../DEMs/\n"
     ]
    },
    {
     "data": {
      "application/vnd.jupyter.widget-view+json": {
       "model_id": "de50ef9698c54fe28e66bbc027c1e6e0",
       "version_major": 2,
       "version_minor": 0
      },
      "text/plain": [
       "RGI60-02.02606_NASADEM_clip.tif: | | 0.00/3.20M (raw) [  0.0%] in 00:0"
      ]
     },
     "metadata": {},
     "output_type": "display_data"
    },
    {
     "name": "stdout",
     "output_type": "stream",
     "text": [
      " \n",
      "RGI60-02.03578\n",
      "removed old DEM file\n",
      "Optimal UTM CRS = EPSG:32610\n",
      "No ArcticDEM coverage, using NASADEM\n",
      "Downloading DEM to /Users/raineyaberle/Google Drive/My Drive/Research/CryoGARS-Glaciology/Advising/student-research/Alexandra-Friel/snow_cover_mapping_application/study-sites/RGI60-02.03578/AOIs/../DEMs/\n"
     ]
    },
    {
     "data": {
      "application/vnd.jupyter.widget-view+json": {
       "model_id": "f04b2eb38ebf4943b880e4a7e9e4c325",
       "version_major": 2,
       "version_minor": 0
      },
      "text/plain": [
       "RGI60-02.03578_NASADEM_clip.tif: | | 0.00/5.28M (raw) [  0.0%] in 00:0"
      ]
     },
     "metadata": {},
     "output_type": "display_data"
    },
    {
     "name": "stderr",
     "output_type": "stream",
     "text": [
      "ERROR 1: _TIFFVSetField:/vsimem/decompress_0x7fbabc9fdd20.tif: Bad value 3 for \"ExtraSamples\" tag\n",
      "ERROR 1: _TIFFVSetField:/vsimem/decompress_0x7fbabc9fdcd0.tif: Bad value 3 for \"ExtraSamples\" tag\n",
      "ERROR 1: _TIFFVSetField:/vsimem/decompress_0x7fbabc9fdc58.tif: Bad value 3 for \"ExtraSamples\" tag\n",
      "ERROR 1: _TIFFVSetField:/vsimem/decompress_0x7fbabc9fdc80.tif: Bad value 3 for \"ExtraSamples\" tag\n",
      "ERROR 1: _TIFFVSetField:/vsimem/decompress_0x7fbabc9fdc08.tif: Bad value 3 for \"ExtraSamples\" tag\n",
      "ERROR 1: _TIFFVSetField:/vsimem/decompress_0x7fbabc9fdcf8.tif: Bad value 3 for \"ExtraSamples\" tag\n",
      "ERROR 1: _TIFFVSetField:/vsimem/decompress_0x7fbabc9fdb40.tif: Bad value 3 for \"ExtraSamples\" tag\n",
      "ERROR 1: _TIFFVSetField:/vsimem/decompress_0x7fbabc9fdb68.tif: Bad value 3 for \"ExtraSamples\" tag\n",
      "ERROR 1: _TIFFVSetField:/vsimem/decompress_0x7fbabc9fdc30.tif: Bad value 3 for \"ExtraSamples\" tag\n",
      "ERROR 1: _TIFFVSetField:/vsimem/decompress_0x7fbabc9fdb90.tif: Bad value 3 for \"ExtraSamples\" tag\n",
      "ERROR 1: _TIFFVSetField:/vsimem/decompress_0x7fbabc9fdaf0.tif: Bad value 3 for \"ExtraSamples\" tag\n",
      "ERROR 1: _TIFFVSetField:/vsimem/decompress_0x7fbabc9fdbb8.tif: Bad value 3 for \"ExtraSamples\" tag\n",
      "ERROR 1: _TIFFVSetField:/vsimem/decompress_0x7fbabc9fdbe0.tif: Bad value 3 for \"ExtraSamples\" tag\n",
      "ERROR 1: _TIFFVSetField:/vsimem/decompress_0x7fbabc9fdb18.tif: Bad value 3 for \"ExtraSamples\" tag\n",
      "ERROR 1: _TIFFVSetField:/vsimem/decompress_0x7fbabc9fdca8.tif: Bad value 3 for \"ExtraSamples\" tag\n",
      "ERROR 1: _TIFFVSetField:/vsimem/decompress_0x7fbabcbb4f28.tif: Bad value 3 for \"ExtraSamples\" tag\n",
      "ERROR 1: _TIFFVSetField:/vsimem/decompress_0x7fbabcbb4ff0.tif: Bad value 3 for \"ExtraSamples\" tag\n",
      "ERROR 1: _TIFFVSetField:/vsimem/decompress_0x7fbabcbb4f78.tif: Bad value 3 for \"ExtraSamples\" tag\n",
      "ERROR 1: _TIFFVSetField:/vsimem/decompress_0x7fbabcbb4f00.tif: Bad value 3 for \"ExtraSamples\" tag\n",
      "ERROR 1: _TIFFVSetField:/vsimem/decompress_0x7fbabcbb4f50.tif: Bad value 3 for \"ExtraSamples\" tag\n",
      "ERROR 1: _TIFFVSetField:/vsimem/decompress_0x7fbabcbb4fc8.tif: Bad value 3 for \"ExtraSamples\" tag\n",
      "ERROR 1: _TIFFVSetField:/vsimem/decompress_0x7fbabcbb4ed8.tif: Bad value 3 for \"ExtraSamples\" tag\n",
      "ERROR 1: _TIFFVSetField:/vsimem/decompress_0x7fbabcbb4e10.tif: Bad value 3 for \"ExtraSamples\" tag\n",
      "ERROR 1: _TIFFVSetField:/vsimem/decompress_0x7fbabcbb4eb0.tif: Bad value 3 for \"ExtraSamples\" tag\n",
      "ERROR 1: _TIFFVSetField:/vsimem/decompress_0x7fbabcbb4e38.tif: Bad value 3 for \"ExtraSamples\" tag\n",
      "ERROR 1: _TIFFVSetField:/vsimem/decompress_0x7fbabcbb4fa0.tif: Bad value 3 for \"ExtraSamples\" tag\n",
      "ERROR 1: _TIFFVSetField:/vsimem/decompress_0x7fbabcbb4dc0.tif: Bad value 3 for \"ExtraSamples\" tag\n",
      "ERROR 1: _TIFFVSetField:/vsimem/decompress_0x7fbabcbb4e60.tif: Bad value 3 for \"ExtraSamples\" tag\n",
      "ERROR 1: _TIFFVSetField:/vsimem/decompress_0x7fbabcbb4de8.tif: Bad value 3 for \"ExtraSamples\" tag\n",
      "ERROR 1: _TIFFVSetField:/vsimem/decompress_0x7fbabcbb4e88.tif: Bad value 3 for \"ExtraSamples\" tag\n",
      "ERROR 1: _TIFFVSetField:/vsimem/decompress_0x7fcdadb1c510.tif: Bad value 3 for \"ExtraSamples\" tag\n",
      "ERROR 1: _TIFFVSetField:/vsimem/decompress_0x7fcdadb1c538.tif: Bad value 3 for \"ExtraSamples\" tag\n",
      "ERROR 1: _TIFFVSetField:/vsimem/decompress_0x7fcdadb1c600.tif: Bad value 3 for \"ExtraSamples\" tag\n",
      "ERROR 1: _TIFFVSetField:/vsimem/decompress_0x7fcdadb1c5b0.tif: Bad value 3 for \"ExtraSamples\" tag\n",
      "ERROR 1: _TIFFVSetField:/vsimem/decompress_0x7fcdadb1c650.tif: Bad value 3 for \"ExtraSamples\" tag\n",
      "ERROR 1: _TIFFVSetField:/vsimem/decompress_0x7fcdadb1c5d8.tif: Bad value 3 for \"ExtraSamples\" tag\n",
      "ERROR 1: _TIFFVSetField:/vsimem/decompress_0x7fcdadb1c560.tif: Bad value 3 for \"ExtraSamples\" tag\n",
      "ERROR 1: _TIFFVSetField:/vsimem/decompress_0x7fcdadb1c6a0.tif: Bad value 3 for \"ExtraSamples\" tag\n",
      "ERROR 1: _TIFFVSetField:/vsimem/decompress_0x7fcdadb1c628.tif: Bad value 3 for \"ExtraSamples\" tag\n",
      "ERROR 1: _TIFFVSetField:/vsimem/decompress_0x7fcdadb1c588.tif: Bad value 3 for \"ExtraSamples\" tag\n",
      "ERROR 1: _TIFFVSetField:/vsimem/decompress_0x7fcdadb1c678.tif: Bad value 3 for \"ExtraSamples\" tag\n",
      "ERROR 1: _TIFFVSetField:/vsimem/decompress_0x7fcdadb1c740.tif: Bad value 3 for \"ExtraSamples\" tag\n",
      "ERROR 1: _TIFFVSetField:/vsimem/decompress_0x7fcdadb1c6f0.tif: Bad value 3 for \"ExtraSamples\" tag\n",
      "ERROR 1: _TIFFVSetField:/vsimem/decompress_0x7fcdadb1c718.tif: Bad value 3 for \"ExtraSamples\" tag\n",
      "ERROR 1: _TIFFVSetField:/vsimem/decompress_0x7fcdadb1c6c8.tif: Bad value 3 for \"ExtraSamples\" tag\n",
      "ERROR 1: _TIFFVSetField:/vsimem/decompress_0x7fbabcbb4fa0.tif: Bad value 3 for \"ExtraSamples\" tag\n",
      "ERROR 1: _TIFFVSetField:/vsimem/decompress_0x7fbabcbb4f50.tif: Bad value 3 for \"ExtraSamples\" tag\n",
      "ERROR 1: _TIFFVSetField:/vsimem/decompress_0x7fbabcbb4f28.tif: Bad value 3 for \"ExtraSamples\" tag\n",
      "ERROR 1: _TIFFVSetField:/vsimem/decompress_0x7fbabcbb4ff0.tif: Bad value 3 for \"ExtraSamples\" tag\n",
      "ERROR 1: _TIFFVSetField:/vsimem/decompress_0x7fbabcbb4f00.tif: Bad value 3 for \"ExtraSamples\" tag\n",
      "ERROR 1: _TIFFVSetField:/vsimem/decompress_0x7fbabcbb4e88.tif: Bad value 3 for \"ExtraSamples\" tag\n",
      "ERROR 1: _TIFFVSetField:/vsimem/decompress_0x7fbabcbb4e38.tif: Bad value 3 for \"ExtraSamples\" tag\n",
      "ERROR 1: _TIFFVSetField:/vsimem/decompress_0x7fbabcbb4e10.tif: Bad value 3 for \"ExtraSamples\" tag\n",
      "ERROR 1: _TIFFVSetField:/vsimem/decompress_0x7fbabcbb4e60.tif: Bad value 3 for \"ExtraSamples\" tag\n",
      "ERROR 1: _TIFFVSetField:/vsimem/decompress_0x7fbabcbb4dc0.tif: Bad value 3 for \"ExtraSamples\" tag\n",
      "ERROR 1: _TIFFVSetField:/vsimem/decompress_0x7fbabcbb4de8.tif: Bad value 3 for \"ExtraSamples\" tag\n",
      "ERROR 1: _TIFFVSetField:/vsimem/decompress_0x7fbabcbb4f78.tif: Bad value 3 for \"ExtraSamples\" tag\n",
      "ERROR 1: _TIFFVSetField:/vsimem/decompress_0x7fbabcbb4eb0.tif: Bad value 3 for \"ExtraSamples\" tag\n",
      "ERROR 1: _TIFFVSetField:/vsimem/decompress_0x7fbabcbb4fc8.tif: Bad value 3 for \"ExtraSamples\" tag\n",
      "ERROR 1: _TIFFVSetField:/vsimem/decompress_0x7fbabcbb4ed8.tif: Bad value 3 for \"ExtraSamples\" tag\n",
      "ERROR 1: _TIFFVSetField:/vsimem/decompress_0x7fbabcbb4e60.tif: Bad value 3 for \"ExtraSamples\" tag\n",
      "ERROR 1: _TIFFVSetField:/vsimem/decompress_0x7fbabcbb4e88.tif: Bad value 3 for \"ExtraSamples\" tag\n",
      "ERROR 1: _TIFFVSetField:/vsimem/decompress_0x7fbabcbb4e10.tif: Bad value 3 for \"ExtraSamples\" tag\n",
      "ERROR 1: _TIFFVSetField:/vsimem/decompress_0x7fbabcbb4dc0.tif: Bad value 3 for \"ExtraSamples\" tag\n",
      "ERROR 1: _TIFFVSetField:/vsimem/decompress_0x7fbabcbb4eb0.tif: Bad value 3 for \"ExtraSamples\" tag\n",
      "ERROR 1: _TIFFVSetField:/vsimem/decompress_0x7fbabcbb4de8.tif: Bad value 3 for \"ExtraSamples\" tag\n",
      "ERROR 1: _TIFFVSetField:/vsimem/decompress_0x7fbabcbb4e38.tif: Bad value 3 for \"ExtraSamples\" tag\n",
      "ERROR 1: _TIFFVSetField:/vsimem/decompress_0x7fbabcbb4f78.tif: Bad value 3 for \"ExtraSamples\" tag\n",
      "ERROR 1: _TIFFVSetField:/vsimem/decompress_0x7fbabcbb4fa0.tif: Bad value 3 for \"ExtraSamples\" tag\n",
      "ERROR 1: _TIFFVSetField:/vsimem/decompress_0x7fbabcbb4fc8.tif: Bad value 3 for \"ExtraSamples\" tag\n",
      "ERROR 1: _TIFFVSetField:/vsimem/decompress_0x7fbabcbb4f28.tif: Bad value 3 for \"ExtraSamples\" tag\n",
      "ERROR 1: _TIFFVSetField:/vsimem/decompress_0x7fbabcbb4ff0.tif: Bad value 3 for \"ExtraSamples\" tag\n",
      "ERROR 1: _TIFFVSetField:/vsimem/decompress_0x7fbabcbb4f00.tif: Bad value 3 for \"ExtraSamples\" tag\n",
      "ERROR 1: _TIFFVSetField:/vsimem/decompress_0x7fbabcbb4f50.tif: Bad value 3 for \"ExtraSamples\" tag\n",
      "ERROR 1: _TIFFVSetField:/vsimem/decompress_0x7fbabcbb4ed8.tif: Bad value 3 for \"ExtraSamples\" tag\n",
      "ERROR 1: _TIFFVSetField:/vsimem/decompress_0x7fcdeda17e88.tif: Bad value 3 for \"ExtraSamples\" tag\n",
      "ERROR 1: _TIFFVSetField:/vsimem/decompress_0x7fcdeda17f50.tif: Bad value 3 for \"ExtraSamples\" tag\n",
      "ERROR 1: _TIFFVSetField:/vsimem/decompress_0x7fcdeda17e38.tif: Bad value 3 for \"ExtraSamples\" tag\n",
      "ERROR 1: _TIFFVSetField:/vsimem/decompress_0x7fcdeda17ed8.tif: Bad value 3 for \"ExtraSamples\" tag\n",
      "ERROR 1: _TIFFVSetField:/vsimem/decompress_0x7fcdeda17eb0.tif: Bad value 3 for \"ExtraSamples\" tag\n",
      "ERROR 1: _TIFFVSetField:/vsimem/decompress_0x7fcdeda17f00.tif: Bad value 3 for \"ExtraSamples\" tag\n",
      "ERROR 1: _TIFFVSetField:/vsimem/decompress_0x7fcdeda17f28.tif: Bad value 3 for \"ExtraSamples\" tag\n",
      "ERROR 1: _TIFFVSetField:/vsimem/decompress_0x7fcdeda17d20.tif: Bad value 3 for \"ExtraSamples\" tag\n",
      "ERROR 1: _TIFFVSetField:/vsimem/decompress_0x7fcdeda17de8.tif: Bad value 3 for \"ExtraSamples\" tag\n",
      "ERROR 1: _TIFFVSetField:/vsimem/decompress_0x7fcdeda17e60.tif: Bad value 3 for \"ExtraSamples\" tag\n",
      "ERROR 1: _TIFFVSetField:/vsimem/decompress_0x7fcdeda17e10.tif: Bad value 3 for \"ExtraSamples\" tag\n",
      "ERROR 1: _TIFFVSetField:/vsimem/decompress_0x7fcdeda17dc0.tif: Bad value 3 for \"ExtraSamples\" tag\n",
      "ERROR 1: _TIFFVSetField:/vsimem/decompress_0x7fcdeda17d70.tif: Bad value 3 for \"ExtraSamples\" tag\n",
      "ERROR 1: _TIFFVSetField:/vsimem/decompress_0x7fcdeda17d48.tif: Bad value 3 for \"ExtraSamples\" tag\n",
      "ERROR 1: _TIFFVSetField:/vsimem/decompress_0x7fcdeda17d98.tif: Bad value 3 for \"ExtraSamples\" tag\n",
      "ERROR 1: _TIFFVSetField:/vsimem/decompress_0x7fba9fc4ebf8.tif: Bad value 3 for \"ExtraSamples\" tag\n",
      "ERROR 1: _TIFFVSetField:/vsimem/decompress_0x7fba9fc4ec20.tif: Bad value 3 for \"ExtraSamples\" tag\n",
      "ERROR 1: _TIFFVSetField:/vsimem/decompress_0x7fba9fc4ecc0.tif: Bad value 3 for \"ExtraSamples\" tag\n",
      "ERROR 1: _TIFFVSetField:/vsimem/decompress_0x7fba9fc4eba8.tif: Bad value 3 for \"ExtraSamples\" tag\n",
      "ERROR 1: _TIFFVSetField:/vsimem/decompress_0x7fba9fc4ec70.tif: Bad value 3 for \"ExtraSamples\" tag\n",
      "ERROR 1: _TIFFVSetField:/vsimem/decompress_0x7fba9fc4ebd0.tif: Bad value 3 for \"ExtraSamples\" tag\n",
      "ERROR 1: _TIFFVSetField:/vsimem/decompress_0x7fba9fc4ec98.tif: Bad value 3 for \"ExtraSamples\" tag\n",
      "ERROR 1: _TIFFVSetField:/vsimem/decompress_0x7fba9fc4edb0.tif: Bad value 3 for \"ExtraSamples\" tag\n",
      "ERROR 1: _TIFFVSetField:/vsimem/decompress_0x7fba9fc4ece8.tif: Bad value 3 for \"ExtraSamples\" tag\n",
      "ERROR 1: _TIFFVSetField:/vsimem/decompress_0x7fba9fc4ec48.tif: Bad value 3 for \"ExtraSamples\" tag\n",
      "ERROR 1: _TIFFVSetField:/vsimem/decompress_0x7fba9fc4eb80.tif: Bad value 3 for \"ExtraSamples\" tag\n",
      "ERROR 1: _TIFFVSetField:/vsimem/decompress_0x7fba9fc4ed88.tif: Bad value 3 for \"ExtraSamples\" tag\n",
      "ERROR 1: _TIFFVSetField:/vsimem/decompress_0x7fba9fc4ed60.tif: Bad value 3 for \"ExtraSamples\" tag\n",
      "ERROR 1: _TIFFVSetField:/vsimem/decompress_0x7fba9fc4ed38.tif: Bad value 3 for \"ExtraSamples\" tag\n",
      "ERROR 1: _TIFFVSetField:/vsimem/decompress_0x7fba9fc4ed10.tif: Bad value 3 for \"ExtraSamples\" tag\n",
      "ERROR 1: _TIFFVSetField:/vsimem/decompress_0x7fcdcd5b5fd0.tif: Bad value 3 for \"ExtraSamples\" tag\n",
      "ERROR 1: _TIFFVSetField:/vsimem/decompress_0x7fcdcd5b5ff8.tif: Bad value 3 for \"ExtraSamples\" tag\n",
      "ERROR 1: _TIFFVSetField:/vsimem/decompress_0x7fcdcd5b60c0.tif: Bad value 3 for \"ExtraSamples\" tag\n",
      "ERROR 1: _TIFFVSetField:/vsimem/decompress_0x7fcdcd5b6020.tif: Bad value 3 for \"ExtraSamples\" tag\n",
      "ERROR 1: _TIFFVSetField:/vsimem/decompress_0x7fcdcd5b6098.tif: Bad value 3 for \"ExtraSamples\" tag\n",
      "ERROR 1: _TIFFVSetField:/vsimem/decompress_0x7fcdcd5b5fa8.tif: Bad value 3 for \"ExtraSamples\" tag\n",
      "ERROR 1: _TIFFVSetField:/vsimem/decompress_0x7fcdcd5b6070.tif: Bad value 3 for \"ExtraSamples\" tag\n",
      "ERROR 1: _TIFFVSetField:/vsimem/decompress_0x7fcdcd5b5ee0.tif: Bad value 3 for \"ExtraSamples\" tag\n",
      "ERROR 1: _TIFFVSetField:/vsimem/decompress_0x7fcdcd5b5f30.tif: Bad value 3 for \"ExtraSamples\" tag\n",
      "ERROR 1: _TIFFVSetField:/vsimem/decompress_0x7fcdcd5b5e90.tif: Bad value 3 for \"ExtraSamples\" tag\n",
      "ERROR 1: _TIFFVSetField:/vsimem/decompress_0x7fcdcd5b5f80.tif: Bad value 3 for \"ExtraSamples\" tag\n",
      "ERROR 1: _TIFFVSetField:/vsimem/decompress_0x7fcdcd5b6048.tif: Bad value 3 for \"ExtraSamples\" tag\n",
      "ERROR 1: _TIFFVSetField:/vsimem/decompress_0x7fcdcd5b5f58.tif: Bad value 3 for \"ExtraSamples\" tag\n",
      "ERROR 1: _TIFFVSetField:/vsimem/decompress_0x7fcdcd5b5f08.tif: Bad value 3 for \"ExtraSamples\" tag\n",
      "ERROR 1: _TIFFVSetField:/vsimem/decompress_0x7fcdcd5b5eb8.tif: Bad value 3 for \"ExtraSamples\" tag\n"
     ]
    },
    {
     "name": "stdout",
     "output_type": "stream",
     "text": [
      " \n",
      "RGI60-02.03586\n",
      "removed old DEM file\n",
      "Optimal UTM CRS = EPSG:32610\n",
      "No ArcticDEM coverage, using NASADEM\n",
      "Downloading DEM to /Users/raineyaberle/Google Drive/My Drive/Research/CryoGARS-Glaciology/Advising/student-research/Alexandra-Friel/snow_cover_mapping_application/study-sites/RGI60-02.03586/AOIs/../DEMs/\n"
     ]
    },
    {
     "data": {
      "application/vnd.jupyter.widget-view+json": {
       "model_id": "1f4f3d8c3201426fbb000cb826e56fad",
       "version_major": 2,
       "version_minor": 0
      },
      "text/plain": [
       "RGI60-02.03586_NASADEM_clip.tif: | | 0.00/5.02M (raw) [  0.0%] in 00:0"
      ]
     },
     "metadata": {},
     "output_type": "display_data"
    },
    {
     "name": "stderr",
     "output_type": "stream",
     "text": [
      "ERROR 1: _TIFFVSetField:/vsimem/decompress_0x7fce2cf8a440.tif: Bad value 3 for \"ExtraSamples\" tag\n",
      "ERROR 1: _TIFFVSetField:/vsimem/decompress_0x7fce2cf8a468.tif: Bad value 3 for \"ExtraSamples\" tag\n",
      "ERROR 1: _TIFFVSetField:/vsimem/decompress_0x7fce2cf8a350.tif: Bad value 3 for \"ExtraSamples\" tag\n",
      "ERROR 1: _TIFFVSetField:/vsimem/decompress_0x7fce2cf8a378.tif: Bad value 3 for \"ExtraSamples\" tag\n",
      "ERROR 1: _TIFFVSetField:/vsimem/decompress_0x7fce2cf8a3a0.tif: Bad value 3 for \"ExtraSamples\" tag\n",
      "ERROR 1: _TIFFVSetField:/vsimem/decompress_0x7fce2cf8a4b8.tif: Bad value 3 for \"ExtraSamples\" tag\n",
      "ERROR 1: _TIFFVSetField:/vsimem/decompress_0x7fce2cf8a4e0.tif: Bad value 3 for \"ExtraSamples\" tag\n",
      "ERROR 1: _TIFFVSetField:/vsimem/decompress_0x7fce2cf8a2d8.tif: Bad value 3 for \"ExtraSamples\" tag\n",
      "ERROR 1: _TIFFVSetField:/vsimem/decompress_0x7fce2cf8a3c8.tif: Bad value 3 for \"ExtraSamples\" tag\n",
      "ERROR 1: _TIFFVSetField:/vsimem/decompress_0x7fce2cf8a300.tif: Bad value 3 for \"ExtraSamples\" tag\n",
      "ERROR 1: _TIFFVSetField:/vsimem/decompress_0x7fce2cf8a418.tif: Bad value 3 for \"ExtraSamples\" tag\n",
      "ERROR 1: _TIFFVSetField:/vsimem/decompress_0x7fce2cf8a2b0.tif: Bad value 3 for \"ExtraSamples\" tag\n",
      "ERROR 1: _TIFFVSetField:/vsimem/decompress_0x7fce2cf8a3f0.tif: Bad value 3 for \"ExtraSamples\" tag\n",
      "ERROR 1: _TIFFVSetField:/vsimem/decompress_0x7fce2cf8a490.tif: Bad value 3 for \"ExtraSamples\" tag\n",
      "ERROR 1: _TIFFVSetField:/vsimem/decompress_0x7fce2cf8a328.tif: Bad value 3 for \"ExtraSamples\" tag\n",
      "ERROR 1: _TIFFVSetField:/vsimem/decompress_0x7fcdadb1c718.tif: Bad value 3 for \"ExtraSamples\" tag\n",
      "ERROR 1: _TIFFVSetField:/vsimem/decompress_0x7fcdadb1c740.tif: Bad value 3 for \"ExtraSamples\" tag\n",
      "ERROR 1: _TIFFVSetField:/vsimem/decompress_0x7fcdadb1c6c8.tif: Bad value 3 for \"ExtraSamples\" tag\n",
      "ERROR 1: _TIFFVSetField:/vsimem/decompress_0x7fcdadb1c6f0.tif: Bad value 3 for \"ExtraSamples\" tag\n",
      "ERROR 1: _TIFFVSetField:/vsimem/decompress_0x7fcdadb1c5b0.tif: Bad value 3 for \"ExtraSamples\" tag\n",
      "ERROR 1: _TIFFVSetField:/vsimem/decompress_0x7fcdadb1c5d8.tif: Bad value 3 for \"ExtraSamples\" tag\n",
      "ERROR 1: _TIFFVSetField:/vsimem/decompress_0x7fcdadb1c600.tif: Bad value 3 for \"ExtraSamples\" tag\n",
      "ERROR 1: _TIFFVSetField:/vsimem/decompress_0x7fcdadb1c588.tif: Bad value 3 for \"ExtraSamples\" tag\n",
      "ERROR 1: _TIFFVSetField:/vsimem/decompress_0x7fcdadb1c6a0.tif: Bad value 3 for \"ExtraSamples\" tag\n",
      "ERROR 1: _TIFFVSetField:/vsimem/decompress_0x7fcdadb1c628.tif: Bad value 3 for \"ExtraSamples\" tag\n",
      "ERROR 1: _TIFFVSetField:/vsimem/decompress_0x7fcdadb1c560.tif: Bad value 3 for \"ExtraSamples\" tag\n",
      "ERROR 1: _TIFFVSetField:/vsimem/decompress_0x7fcdadb1c650.tif: Bad value 3 for \"ExtraSamples\" tag\n",
      "ERROR 1: _TIFFVSetField:/vsimem/decompress_0x7fcdadb1c510.tif: Bad value 3 for \"ExtraSamples\" tag\n",
      "ERROR 1: _TIFFVSetField:/vsimem/decompress_0x7fcdadb1c538.tif: Bad value 3 for \"ExtraSamples\" tag\n",
      "ERROR 1: _TIFFVSetField:/vsimem/decompress_0x7fcdadb1c678.tif: Bad value 3 for \"ExtraSamples\" tag\n",
      "ERROR 1: _TIFFVSetField:/vsimem/decompress_0x7fce2cf8a4e0.tif: Bad value 3 for \"ExtraSamples\" tag\n",
      "ERROR 1: _TIFFVSetField:/vsimem/decompress_0x7fce2cf8a490.tif: Bad value 3 for \"ExtraSamples\" tag\n",
      "ERROR 1: _TIFFVSetField:/vsimem/decompress_0x7fce2cf8a418.tif: Bad value 3 for \"ExtraSamples\" tag\n",
      "ERROR 1: _TIFFVSetField:/vsimem/decompress_0x7fce2cf8a3c8.tif: Bad value 3 for \"ExtraSamples\" tag\n",
      "ERROR 1: _TIFFVSetField:/vsimem/decompress_0x7fce2cf8a468.tif: Bad value 3 for \"ExtraSamples\" tag\n",
      "ERROR 1: _TIFFVSetField:/vsimem/decompress_0x7fce2cf8a3a0.tif: Bad value 3 for \"ExtraSamples\" tag\n",
      "ERROR 1: _TIFFVSetField:/vsimem/decompress_0x7fce2cf8a328.tif: Bad value 3 for \"ExtraSamples\" tag\n",
      "ERROR 1: _TIFFVSetField:/vsimem/decompress_0x7fce2cf8a440.tif: Bad value 3 for \"ExtraSamples\" tag\n",
      "ERROR 1: _TIFFVSetField:/vsimem/decompress_0x7fce2cf8a378.tif: Bad value 3 for \"ExtraSamples\" tag\n",
      "ERROR 1: _TIFFVSetField:/vsimem/decompress_0x7fce2cf8a300.tif: Bad value 3 for \"ExtraSamples\" tag\n",
      "ERROR 1: _TIFFVSetField:/vsimem/decompress_0x7fce2cf8a3f0.tif: Bad value 3 for \"ExtraSamples\" tag\n",
      "ERROR 1: _TIFFVSetField:/vsimem/decompress_0x7fce2cf8a350.tif: Bad value 3 for \"ExtraSamples\" tag\n",
      "ERROR 1: _TIFFVSetField:/vsimem/decompress_0x7fce2cf8a4b8.tif: Bad value 3 for \"ExtraSamples\" tag\n",
      "ERROR 1: _TIFFVSetField:/vsimem/decompress_0x7fce2cf8a2d8.tif: Bad value 3 for \"ExtraSamples\" tag\n",
      "ERROR 1: _TIFFVSetField:/vsimem/decompress_0x7fce2cf8a2b0.tif: Bad value 3 for \"ExtraSamples\" tag\n",
      "ERROR 1: _TIFFVSetField:/vsimem/decompress_0x7fbabcbfe7b8.tif: Bad value 3 for \"ExtraSamples\" tag\n",
      "ERROR 1: _TIFFVSetField:/vsimem/decompress_0x7fbabcbfe830.tif: Bad value 3 for \"ExtraSamples\" tag\n",
      "ERROR 1: _TIFFVSetField:/vsimem/decompress_0x7fbabcbfe790.tif: Bad value 3 for \"ExtraSamples\" tag\n",
      "ERROR 1: _TIFFVSetField:/vsimem/decompress_0x7fbabcbfe768.tif: Bad value 3 for \"ExtraSamples\" tag\n",
      "ERROR 1: _TIFFVSetField:/vsimem/decompress_0x7fbabcbfe718.tif: Bad value 3 for \"ExtraSamples\" tag\n",
      "ERROR 1: _TIFFVSetField:/vsimem/decompress_0x7fbabcbfe740.tif: Bad value 3 for \"ExtraSamples\" tag\n",
      "ERROR 1: _TIFFVSetField:/vsimem/decompress_0x7fbabcbfe6a0.tif: Bad value 3 for \"ExtraSamples\" tag\n",
      "ERROR 1: _TIFFVSetField:/vsimem/decompress_0x7fbabcbfe7e0.tif: Bad value 3 for \"ExtraSamples\" tag\n",
      "ERROR 1: _TIFFVSetField:/vsimem/decompress_0x7fbabcbfe808.tif: Bad value 3 for \"ExtraSamples\" tag\n",
      "ERROR 1: _TIFFVSetField:/vsimem/decompress_0x7fbabcbfe650.tif: Bad value 3 for \"ExtraSamples\" tag\n",
      "ERROR 1: _TIFFVSetField:/vsimem/decompress_0x7fbabcbfe678.tif: Bad value 3 for \"ExtraSamples\" tag\n",
      "ERROR 1: _TIFFVSetField:/vsimem/decompress_0x7fbabcbfe6c8.tif: Bad value 3 for \"ExtraSamples\" tag\n",
      "ERROR 1: _TIFFVSetField:/vsimem/decompress_0x7fbabcbfe6f0.tif: Bad value 3 for \"ExtraSamples\" tag\n",
      "ERROR 1: _TIFFVSetField:/vsimem/decompress_0x7fbabcbfe628.tif: Bad value 3 for \"ExtraSamples\" tag\n",
      "ERROR 1: _TIFFVSetField:/vsimem/decompress_0x7fbabcbfe600.tif: Bad value 3 for \"ExtraSamples\" tag\n",
      "ERROR 1: _TIFFVSetField:/vsimem/decompress_0x7fcdadb1c560.tif: Bad value 3 for \"ExtraSamples\" tag\n",
      "ERROR 1: _TIFFVSetField:/vsimem/decompress_0x7fcdadb1c5d8.tif: Bad value 3 for \"ExtraSamples\" tag\n",
      "ERROR 1: _TIFFVSetField:/vsimem/decompress_0x7fcdadb1c678.tif: Bad value 3 for \"ExtraSamples\" tag\n",
      "ERROR 1: _TIFFVSetField:/vsimem/decompress_0x7fcdadb1c600.tif: Bad value 3 for \"ExtraSamples\" tag\n",
      "ERROR 1: _TIFFVSetField:/vsimem/decompress_0x7fcdadb1c740.tif: Bad value 3 for \"ExtraSamples\" tag\n",
      "ERROR 1: _TIFFVSetField:/vsimem/decompress_0x7fcdadb1c6a0.tif: Bad value 3 for \"ExtraSamples\" tag\n",
      "ERROR 1: _TIFFVSetField:/vsimem/decompress_0x7fcdadb1c628.tif: Bad value 3 for \"ExtraSamples\" tag\n",
      "ERROR 1: _TIFFVSetField:/vsimem/decompress_0x7fcdadb1c588.tif: Bad value 3 for \"ExtraSamples\" tag\n",
      "ERROR 1: _TIFFVSetField:/vsimem/decompress_0x7fcdadb1c538.tif: Bad value 3 for \"ExtraSamples\" tag\n",
      "ERROR 1: _TIFFVSetField:/vsimem/decompress_0x7fcdadb1c718.tif: Bad value 3 for \"ExtraSamples\" tag\n",
      "ERROR 1: _TIFFVSetField:/vsimem/decompress_0x7fcdadb1c6f0.tif: Bad value 3 for \"ExtraSamples\" tag\n",
      "ERROR 1: _TIFFVSetField:/vsimem/decompress_0x7fcdadb1c6c8.tif: Bad value 3 for \"ExtraSamples\" tag\n",
      "ERROR 1: _TIFFVSetField:/vsimem/decompress_0x7fcdadb1c650.tif: Bad value 3 for \"ExtraSamples\" tag\n",
      "ERROR 1: _TIFFVSetField:/vsimem/decompress_0x7fcdadb1c510.tif: Bad value 3 for \"ExtraSamples\" tag\n",
      "ERROR 1: _TIFFVSetField:/vsimem/decompress_0x7fcdadb1c5b0.tif: Bad value 3 for \"ExtraSamples\" tag\n",
      "ERROR 1: _TIFFVSetField:/vsimem/decompress_0x7fba9fc4ec48.tif: Bad value 3 for \"ExtraSamples\" tag\n",
      "ERROR 1: _TIFFVSetField:/vsimem/decompress_0x7fba9fc4edb0.tif: Bad value 3 for \"ExtraSamples\" tag\n",
      "ERROR 1: _TIFFVSetField:/vsimem/decompress_0x7fba9fc4ed88.tif: Bad value 3 for \"ExtraSamples\" tag\n",
      "ERROR 1: _TIFFVSetField:/vsimem/decompress_0x7fba9fc4ed60.tif: Bad value 3 for \"ExtraSamples\" tag\n",
      "ERROR 1: _TIFFVSetField:/vsimem/decompress_0x7fba9fc4ec70.tif: Bad value 3 for \"ExtraSamples\" tag\n",
      "ERROR 1: _TIFFVSetField:/vsimem/decompress_0x7fba9fc4ed38.tif: Bad value 3 for \"ExtraSamples\" tag\n",
      "ERROR 1: _TIFFVSetField:/vsimem/decompress_0x7fba9fc4eb80.tif: Bad value 3 for \"ExtraSamples\" tag\n",
      "ERROR 1: _TIFFVSetField:/vsimem/decompress_0x7fba9fc4ebf8.tif: Bad value 3 for \"ExtraSamples\" tag\n",
      "ERROR 1: _TIFFVSetField:/vsimem/decompress_0x7fba9fc4eba8.tif: Bad value 3 for \"ExtraSamples\" tag\n",
      "ERROR 1: _TIFFVSetField:/vsimem/decompress_0x7fba9fc4ec98.tif: Bad value 3 for \"ExtraSamples\" tag\n",
      "ERROR 1: _TIFFVSetField:/vsimem/decompress_0x7fba9fc4ece8.tif: Bad value 3 for \"ExtraSamples\" tag\n",
      "ERROR 1: _TIFFVSetField:/vsimem/decompress_0x7fba9fc4ecc0.tif: Bad value 3 for \"ExtraSamples\" tag\n",
      "ERROR 1: _TIFFVSetField:/vsimem/decompress_0x7fba9fc4ebd0.tif: Bad value 3 for \"ExtraSamples\" tag\n",
      "ERROR 1: _TIFFVSetField:/vsimem/decompress_0x7fba9fc4ed10.tif: Bad value 3 for \"ExtraSamples\" tag\n",
      "ERROR 1: _TIFFVSetField:/vsimem/decompress_0x7fba9fc4ec20.tif: Bad value 3 for \"ExtraSamples\" tag\n",
      "ERROR 1: _TIFFVSetField:/vsimem/decompress_0x7fba9fc4ebf8.tif: Bad value 3 for \"ExtraSamples\" tag\n",
      "ERROR 1: _TIFFVSetField:/vsimem/decompress_0x7fba9fc4ec20.tif: Bad value 3 for \"ExtraSamples\" tag\n",
      "ERROR 1: _TIFFVSetField:/vsimem/decompress_0x7fba9fc4ec70.tif: Bad value 3 for \"ExtraSamples\" tag\n",
      "ERROR 1: _TIFFVSetField:/vsimem/decompress_0x7fba9fc4ece8.tif: Bad value 3 for \"ExtraSamples\" tag\n",
      "ERROR 1: _TIFFVSetField:/vsimem/decompress_0x7fba9fc4ebd0.tif: Bad value 3 for \"ExtraSamples\" tag\n",
      "ERROR 1: _TIFFVSetField:/vsimem/decompress_0x7fba9fc4ec48.tif: Bad value 3 for \"ExtraSamples\" tag\n",
      "ERROR 1: _TIFFVSetField:/vsimem/decompress_0x7fba9fc4ec98.tif: Bad value 3 for \"ExtraSamples\" tag\n",
      "ERROR 1: _TIFFVSetField:/vsimem/decompress_0x7fba9fc4eba8.tif: Bad value 3 for \"ExtraSamples\" tag\n",
      "ERROR 1: _TIFFVSetField:/vsimem/decompress_0x7fba9fc4ed88.tif: Bad value 3 for \"ExtraSamples\" tag\n",
      "ERROR 1: _TIFFVSetField:/vsimem/decompress_0x7fba9fc4edb0.tif: Bad value 3 for \"ExtraSamples\" tag\n",
      "ERROR 1: _TIFFVSetField:/vsimem/decompress_0x7fba9fc4ed38.tif: Bad value 3 for \"ExtraSamples\" tag\n",
      "ERROR 1: _TIFFVSetField:/vsimem/decompress_0x7fba9fc4ed10.tif: Bad value 3 for \"ExtraSamples\" tag\n",
      "ERROR 1: _TIFFVSetField:/vsimem/decompress_0x7fba9fc4ed60.tif: Bad value 3 for \"ExtraSamples\" tag\n",
      "ERROR 1: _TIFFVSetField:/vsimem/decompress_0x7fba9fc4ecc0.tif: Bad value 3 for \"ExtraSamples\" tag\n",
      "ERROR 1: _TIFFVSetField:/vsimem/decompress_0x7fba9fc4eb80.tif: Bad value 3 for \"ExtraSamples\" tag\n",
      "ERROR 1: _TIFFVSetField:/vsimem/decompress_0x7fce2cf8a378.tif: Bad value 3 for \"ExtraSamples\" tag\n",
      "ERROR 1: _TIFFVSetField:/vsimem/decompress_0x7fce2cf8a350.tif: Bad value 3 for \"ExtraSamples\" tag\n",
      "ERROR 1: _TIFFVSetField:/vsimem/decompress_0x7fce2cf8a4e0.tif: Bad value 3 for \"ExtraSamples\" tag\n",
      "ERROR 1: _TIFFVSetField:/vsimem/decompress_0x7fce2cf8a4b8.tif: Bad value 3 for \"ExtraSamples\" tag\n",
      "ERROR 1: _TIFFVSetField:/vsimem/decompress_0x7fce2cf8a3a0.tif: Bad value 3 for \"ExtraSamples\" tag\n",
      "ERROR 1: _TIFFVSetField:/vsimem/decompress_0x7fce2cf8a490.tif: Bad value 3 for \"ExtraSamples\" tag\n",
      "ERROR 1: _TIFFVSetField:/vsimem/decompress_0x7fce2cf8a418.tif: Bad value 3 for \"ExtraSamples\" tag\n",
      "ERROR 1: _TIFFVSetField:/vsimem/decompress_0x7fce2cf8a328.tif: Bad value 3 for \"ExtraSamples\" tag\n",
      "ERROR 1: _TIFFVSetField:/vsimem/decompress_0x7fce2cf8a3c8.tif: Bad value 3 for \"ExtraSamples\" tag\n",
      "ERROR 1: _TIFFVSetField:/vsimem/decompress_0x7fce2cf8a468.tif: Bad value 3 for \"ExtraSamples\" tag\n",
      "ERROR 1: _TIFFVSetField:/vsimem/decompress_0x7fce2cf8a2b0.tif: Bad value 3 for \"ExtraSamples\" tag\n",
      "ERROR 1: _TIFFVSetField:/vsimem/decompress_0x7fce2cf8a2d8.tif: Bad value 3 for \"ExtraSamples\" tag\n",
      "ERROR 1: _TIFFVSetField:/vsimem/decompress_0x7fce2cf8a300.tif: Bad value 3 for \"ExtraSamples\" tag\n",
      "ERROR 1: _TIFFVSetField:/vsimem/decompress_0x7fce2cf8a440.tif: Bad value 3 for \"ExtraSamples\" tag\n",
      "ERROR 1: _TIFFVSetField:/vsimem/decompress_0x7fce2cf8a3f0.tif: Bad value 3 for \"ExtraSamples\" tag\n"
     ]
    },
    {
     "name": "stdout",
     "output_type": "stream",
     "text": [
      " \n",
      "RGI60-02.03769\n",
      "removed old DEM file\n",
      "Optimal UTM CRS = EPSG:32610\n",
      "No ArcticDEM coverage, using NASADEM\n",
      "Downloading DEM to /Users/raineyaberle/Google Drive/My Drive/Research/CryoGARS-Glaciology/Advising/student-research/Alexandra-Friel/snow_cover_mapping_application/study-sites/RGI60-02.03769/AOIs/../DEMs/\n"
     ]
    },
    {
     "data": {
      "application/vnd.jupyter.widget-view+json": {
       "model_id": "f9a7b1d257614f73a032a59c811507ac",
       "version_major": 2,
       "version_minor": 0
      },
      "text/plain": [
       "RGI60-02.03769_NASADEM_clip.tif: | | 0.00/395k (raw) [  0.0%] in 00:00"
      ]
     },
     "metadata": {},
     "output_type": "display_data"
    },
    {
     "name": "stdout",
     "output_type": "stream",
     "text": [
      " \n",
      "RGI60-02.04305\n",
      "removed old DEM file\n",
      "Optimal UTM CRS = EPSG:32610\n",
      "No ArcticDEM coverage, using NASADEM\n",
      "Downloading DEM to /Users/raineyaberle/Google Drive/My Drive/Research/CryoGARS-Glaciology/Advising/student-research/Alexandra-Friel/snow_cover_mapping_application/study-sites/RGI60-02.04305/AOIs/../DEMs/\n"
     ]
    },
    {
     "data": {
      "application/vnd.jupyter.widget-view+json": {
       "model_id": "5b340a7ae5fb4ca18117a3fdf3456cf0",
       "version_major": 2,
       "version_minor": 0
      },
      "text/plain": [
       "RGI60-02.04305_NASADEM_clip.tif: | | 0.00/561k (raw) [  0.0%] in 00:00"
      ]
     },
     "metadata": {},
     "output_type": "display_data"
    },
    {
     "name": "stdout",
     "output_type": "stream",
     "text": [
      " \n",
      "RGI60-02.04363\n",
      "removed old DEM file\n",
      "Optimal UTM CRS = EPSG:32610\n",
      "No ArcticDEM coverage, using NASADEM\n",
      "Downloading DEM to /Users/raineyaberle/Google Drive/My Drive/Research/CryoGARS-Glaciology/Advising/student-research/Alexandra-Friel/snow_cover_mapping_application/study-sites/RGI60-02.04363/AOIs/../DEMs/\n"
     ]
    },
    {
     "data": {
      "application/vnd.jupyter.widget-view+json": {
       "model_id": "6574e9b72d4f4d248e043a409d5a821a",
       "version_major": 2,
       "version_minor": 0
      },
      "text/plain": [
       "RGI60-02.04363_NASADEM_clip.tif: | | 0.00/2.39M (raw) [  0.0%] in 00:0"
      ]
     },
     "metadata": {},
     "output_type": "display_data"
    },
    {
     "name": "stdout",
     "output_type": "stream",
     "text": [
      " \n",
      "RGI60-02.04403\n",
      "removed old DEM file\n",
      "Optimal UTM CRS = EPSG:32610\n",
      "No ArcticDEM coverage, using NASADEM\n",
      "Downloading DEM to /Users/raineyaberle/Google Drive/My Drive/Research/CryoGARS-Glaciology/Advising/student-research/Alexandra-Friel/snow_cover_mapping_application/study-sites/RGI60-02.04403/AOIs/../DEMs/\n"
     ]
    },
    {
     "data": {
      "application/vnd.jupyter.widget-view+json": {
       "model_id": "b5983d4ccfad4803a5fb4e107665a525",
       "version_major": 2,
       "version_minor": 0
      },
      "text/plain": [
       "RGI60-02.04403_NASADEM_clip.tif: | | 0.00/2.65M (raw) [  0.0%] in 00:0"
      ]
     },
     "metadata": {},
     "output_type": "display_data"
    },
    {
     "name": "stdout",
     "output_type": "stream",
     "text": [
      " \n",
      "RGI60-02.04410\n",
      "removed old DEM file\n",
      "Optimal UTM CRS = EPSG:32610\n",
      "No ArcticDEM coverage, using NASADEM\n",
      "Downloading DEM to /Users/raineyaberle/Google Drive/My Drive/Research/CryoGARS-Glaciology/Advising/student-research/Alexandra-Friel/snow_cover_mapping_application/study-sites/RGI60-02.04410/AOIs/../DEMs/\n"
     ]
    },
    {
     "data": {
      "application/vnd.jupyter.widget-view+json": {
       "model_id": "912b445ee88045eeaf97660f8a396e8e",
       "version_major": 2,
       "version_minor": 0
      },
      "text/plain": [
       "RGI60-02.04410_NASADEM_clip.tif: | | 0.00/1.25M (raw) [  0.0%] in 00:0"
      ]
     },
     "metadata": {},
     "output_type": "display_data"
    },
    {
     "name": "stdout",
     "output_type": "stream",
     "text": [
      " \n",
      "RGI60-02.05157\n",
      "No snowlines yet, continuing...\n",
      " \n",
      "RGI60-02.05169\n",
      "removed old DEM file\n",
      "Optimal UTM CRS = EPSG:32609\n",
      "No ArcticDEM coverage, using NASADEM\n",
      "Downloading DEM to /Users/raineyaberle/Google Drive/My Drive/Research/CryoGARS-Glaciology/Advising/student-research/Alexandra-Friel/snow_cover_mapping_application/study-sites/RGI60-02.05169/AOIs/../DEMs/\n"
     ]
    },
    {
     "data": {
      "application/vnd.jupyter.widget-view+json": {
       "model_id": "77b9d9bd9eaf46749daf21ff3677ce59",
       "version_major": 2,
       "version_minor": 0
      },
      "text/plain": [
       "RGI60-02.05169_NASADEM_clip.tif: | | 0.00/2.55M (raw) [  0.0%] in 00:0"
      ]
     },
     "metadata": {},
     "output_type": "display_data"
    },
    {
     "name": "stdout",
     "output_type": "stream",
     "text": [
      " \n",
      "RGI60-02.06145\n",
      "removed old DEM file\n",
      "Optimal UTM CRS = EPSG:32611\n",
      "No ArcticDEM coverage, using NASADEM\n",
      "Downloading DEM to /Users/raineyaberle/Google Drive/My Drive/Research/CryoGARS-Glaciology/Advising/student-research/Alexandra-Friel/snow_cover_mapping_application/study-sites/RGI60-02.06145/AOIs/../DEMs/\n"
     ]
    },
    {
     "data": {
      "application/vnd.jupyter.widget-view+json": {
       "model_id": "efd56819747442c584c291738b2e046a",
       "version_major": 2,
       "version_minor": 0
      },
      "text/plain": [
       "RGI60-02.06145_NASADEM_clip.tif: | | 0.00/583k (raw) [  0.0%] in 00:00"
      ]
     },
     "metadata": {},
     "output_type": "display_data"
    },
    {
     "name": "stdout",
     "output_type": "stream",
     "text": [
      " \n",
      "RGI60-02.06149\n",
      "removed old DEM file\n",
      "Optimal UTM CRS = EPSG:32611\n",
      "No ArcticDEM coverage, using NASADEM\n",
      "Downloading DEM to /Users/raineyaberle/Google Drive/My Drive/Research/CryoGARS-Glaciology/Advising/student-research/Alexandra-Friel/snow_cover_mapping_application/study-sites/RGI60-02.06149/AOIs/../DEMs/\n"
     ]
    },
    {
     "data": {
      "application/vnd.jupyter.widget-view+json": {
       "model_id": "7ee838dcf35a498a9e91cc0d504405e2",
       "version_major": 2,
       "version_minor": 0
      },
      "text/plain": [
       "RGI60-02.06149_NASADEM_clip.tif: | | 0.00/780k (raw) [  0.0%] in 00:00"
      ]
     },
     "metadata": {},
     "output_type": "display_data"
    },
    {
     "name": "stdout",
     "output_type": "stream",
     "text": [
      " \n",
      "RGI60-02.06152\n",
      "removed old DEM file\n",
      "Optimal UTM CRS = EPSG:32611\n",
      "No ArcticDEM coverage, using NASADEM\n",
      "Downloading DEM to /Users/raineyaberle/Google Drive/My Drive/Research/CryoGARS-Glaciology/Advising/student-research/Alexandra-Friel/snow_cover_mapping_application/study-sites/RGI60-02.06152/AOIs/../DEMs/\n"
     ]
    },
    {
     "data": {
      "application/vnd.jupyter.widget-view+json": {
       "model_id": "f81f4338428141e48750c3355390d410",
       "version_major": 2,
       "version_minor": 0
      },
      "text/plain": [
       "RGI60-02.06152_NASADEM_clip.tif: | | 0.00/1.12M (raw) [  0.0%] in 00:0"
      ]
     },
     "metadata": {},
     "output_type": "display_data"
    },
    {
     "name": "stdout",
     "output_type": "stream",
     "text": [
      " \n",
      "RGI60-02.06488\n",
      "removed old DEM file\n",
      "Optimal UTM CRS = EPSG:32609\n",
      "No ArcticDEM coverage, using NASADEM\n",
      "Downloading DEM to /Users/raineyaberle/Google Drive/My Drive/Research/CryoGARS-Glaciology/Advising/student-research/Alexandra-Friel/snow_cover_mapping_application/study-sites/RGI60-02.06488/AOIs/../DEMs/\n"
     ]
    },
    {
     "data": {
      "application/vnd.jupyter.widget-view+json": {
       "model_id": "9ce604ca9db641acad2b95b0448decf7",
       "version_major": 2,
       "version_minor": 0
      },
      "text/plain": [
       "RGI60-02.06488_NASADEM_clip.tif: | | 0.00/2.22M (raw) [  0.0%] in 00:0"
      ]
     },
     "metadata": {},
     "output_type": "display_data"
    },
    {
     "name": "stdout",
     "output_type": "stream",
     "text": [
      " \n",
      "RGI60-02.06859\n",
      "No snowlines yet, continuing...\n",
      " \n",
      "RGI60-02.06862\n",
      "removed old DEM file\n",
      "Optimal UTM CRS = EPSG:32611\n",
      "No ArcticDEM coverage, using NASADEM\n",
      "Downloading DEM to /Users/raineyaberle/Google Drive/My Drive/Research/CryoGARS-Glaciology/Advising/student-research/Alexandra-Friel/snow_cover_mapping_application/study-sites/RGI60-02.06862/AOIs/../DEMs/\n"
     ]
    },
    {
     "data": {
      "application/vnd.jupyter.widget-view+json": {
       "model_id": "306043edbf55465bab822f50140ab3b3",
       "version_major": 2,
       "version_minor": 0
      },
      "text/plain": [
       "RGI60-02.06862_NASADEM_clip.tif: | | 0.00/1.31M (raw) [  0.0%] in 00:0"
      ]
     },
     "metadata": {},
     "output_type": "display_data"
    },
    {
     "name": "stdout",
     "output_type": "stream",
     "text": [
      " \n",
      "RGI60-02.06868\n",
      "removed old DEM file\n",
      "Optimal UTM CRS = EPSG:32611\n",
      "No ArcticDEM coverage, using NASADEM\n",
      "Downloading DEM to /Users/raineyaberle/Google Drive/My Drive/Research/CryoGARS-Glaciology/Advising/student-research/Alexandra-Friel/snow_cover_mapping_application/study-sites/RGI60-02.06868/AOIs/../DEMs/\n"
     ]
    },
    {
     "data": {
      "application/vnd.jupyter.widget-view+json": {
       "model_id": "45dd0969fa5549428861fd472767769b",
       "version_major": 2,
       "version_minor": 0
      },
      "text/plain": [
       "RGI60-02.06868_NASADEM_clip.tif: | | 0.00/665k (raw) [  0.0%] in 00:00"
      ]
     },
     "metadata": {},
     "output_type": "display_data"
    },
    {
     "name": "stdout",
     "output_type": "stream",
     "text": [
      " \n",
      "RGI60-02.07002\n",
      "removed old DEM file\n",
      "Optimal UTM CRS = EPSG:32611\n",
      "No ArcticDEM coverage, using NASADEM\n",
      "Downloading DEM to /Users/raineyaberle/Google Drive/My Drive/Research/CryoGARS-Glaciology/Advising/student-research/Alexandra-Friel/snow_cover_mapping_application/study-sites/RGI60-02.07002/AOIs/../DEMs/\n"
     ]
    },
    {
     "data": {
      "application/vnd.jupyter.widget-view+json": {
       "model_id": "7fd6506da88d4380af46d4ffdeddbc9a",
       "version_major": 2,
       "version_minor": 0
      },
      "text/plain": [
       "RGI60-02.07002_NASADEM_clip.tif: | | 0.00/1.37M (raw) [  0.0%] in 00:0"
      ]
     },
     "metadata": {},
     "output_type": "display_data"
    },
    {
     "name": "stdout",
     "output_type": "stream",
     "text": [
      " \n",
      "RGI60-02.07301\n",
      "removed old DEM file\n",
      "Optimal UTM CRS = EPSG:32611\n",
      "No ArcticDEM coverage, using NASADEM\n",
      "Downloading DEM to /Users/raineyaberle/Google Drive/My Drive/Research/CryoGARS-Glaciology/Advising/student-research/Alexandra-Friel/snow_cover_mapping_application/study-sites/RGI60-02.07301/AOIs/../DEMs/\n"
     ]
    },
    {
     "data": {
      "application/vnd.jupyter.widget-view+json": {
       "model_id": "5535ec5657084f37a3743f4f89315876",
       "version_major": 2,
       "version_minor": 0
      },
      "text/plain": [
       "RGI60-02.07301_NASADEM_clip.tif: | | 0.00/943k (raw) [  0.0%] in 00:00"
      ]
     },
     "metadata": {},
     "output_type": "display_data"
    },
    {
     "name": "stdout",
     "output_type": "stream",
     "text": [
      " \n",
      "RGI60-02.09116\n",
      "removed old DEM file\n",
      "Optimal UTM CRS = EPSG:32611\n",
      "No ArcticDEM coverage, using NASADEM\n",
      "Downloading DEM to /Users/raineyaberle/Google Drive/My Drive/Research/CryoGARS-Glaciology/Advising/student-research/Alexandra-Friel/snow_cover_mapping_application/study-sites/RGI60-02.09116/AOIs/../DEMs/\n"
     ]
    },
    {
     "data": {
      "application/vnd.jupyter.widget-view+json": {
       "model_id": "c7a8a28b4e7d4827aa24e5ed11065fb7",
       "version_major": 2,
       "version_minor": 0
      },
      "text/plain": [
       "RGI60-02.09116_NASADEM_clip.tif: | | 0.00/650k (raw) [  0.0%] in 00:00"
      ]
     },
     "metadata": {},
     "output_type": "display_data"
    },
    {
     "name": "stdout",
     "output_type": "stream",
     "text": [
      " \n",
      "RGI60-02.09254\n",
      "removed old DEM file\n",
      "Optimal UTM CRS = EPSG:32611\n",
      "No ArcticDEM coverage, using NASADEM\n",
      "Downloading DEM to /Users/raineyaberle/Google Drive/My Drive/Research/CryoGARS-Glaciology/Advising/student-research/Alexandra-Friel/snow_cover_mapping_application/study-sites/RGI60-02.09254/AOIs/../DEMs/\n"
     ]
    },
    {
     "data": {
      "application/vnd.jupyter.widget-view+json": {
       "model_id": "2488fd8f3aa5421aba8f26e61badbf8d",
       "version_major": 2,
       "version_minor": 0
      },
      "text/plain": [
       "RGI60-02.09254_NASADEM_clip.tif: | | 0.00/656k (raw) [  0.0%] in 00:00"
      ]
     },
     "metadata": {},
     "output_type": "display_data"
    },
    {
     "name": "stdout",
     "output_type": "stream",
     "text": [
      " \n",
      "RGI60-02.09720\n",
      "removed old DEM file\n",
      "Optimal UTM CRS = EPSG:32611\n",
      "No ArcticDEM coverage, using NASADEM\n",
      "Downloading DEM to /Users/raineyaberle/Google Drive/My Drive/Research/CryoGARS-Glaciology/Advising/student-research/Alexandra-Friel/snow_cover_mapping_application/study-sites/RGI60-02.09720/AOIs/../DEMs/\n"
     ]
    },
    {
     "data": {
      "application/vnd.jupyter.widget-view+json": {
       "model_id": "d44cd80e5c1d4aac9fb2bfafbd1d5491",
       "version_major": 2,
       "version_minor": 0
      },
      "text/plain": [
       "RGI60-02.09720_NASADEM_clip.tif: | | 0.00/1.39M (raw) [  0.0%] in 00:0"
      ]
     },
     "metadata": {},
     "output_type": "display_data"
    },
    {
     "name": "stdout",
     "output_type": "stream",
     "text": [
      " \n",
      "RGI60-02.09758\n",
      "removed old DEM file\n",
      "Optimal UTM CRS = EPSG:32609\n",
      "No ArcticDEM coverage, using NASADEM\n",
      "Downloading DEM to /Users/raineyaberle/Google Drive/My Drive/Research/CryoGARS-Glaciology/Advising/student-research/Alexandra-Friel/snow_cover_mapping_application/study-sites/RGI60-02.09758/AOIs/../DEMs/\n"
     ]
    },
    {
     "data": {
      "application/vnd.jupyter.widget-view+json": {
       "model_id": "fb70d67b7e464af589cbac696d6aa9dd",
       "version_major": 2,
       "version_minor": 0
      },
      "text/plain": [
       "RGI60-02.09758_NASADEM_clip.tif: | | 0.00/480k (raw) [  0.0%] in 00:00"
      ]
     },
     "metadata": {},
     "output_type": "display_data"
    },
    {
     "name": "stdout",
     "output_type": "stream",
     "text": [
      " \n",
      "RGI60-02.10175\n",
      "removed old DEM file\n",
      "Optimal UTM CRS = EPSG:32609\n",
      "No ArcticDEM coverage, using NASADEM\n",
      "Downloading DEM to /Users/raineyaberle/Google Drive/My Drive/Research/CryoGARS-Glaciology/Advising/student-research/Alexandra-Friel/snow_cover_mapping_application/study-sites/RGI60-02.10175/AOIs/../DEMs/\n"
     ]
    },
    {
     "data": {
      "application/vnd.jupyter.widget-view+json": {
       "model_id": "701fdf5ebc874d5f8bcb92bac16cbaf2",
       "version_major": 2,
       "version_minor": 0
      },
      "text/plain": [
       "RGI60-02.10175_NASADEM_clip.tif: | | 0.00/646k (raw) [  0.0%] in 00:00"
      ]
     },
     "metadata": {},
     "output_type": "display_data"
    },
    {
     "name": "stdout",
     "output_type": "stream",
     "text": [
      " \n",
      "RGI60-02.10389\n",
      "removed old DEM file\n",
      "Optimal UTM CRS = EPSG:32609\n",
      "No ArcticDEM coverage, using NASADEM\n",
      "Downloading DEM to /Users/raineyaberle/Google Drive/My Drive/Research/CryoGARS-Glaciology/Advising/student-research/Alexandra-Friel/snow_cover_mapping_application/study-sites/RGI60-02.10389/AOIs/../DEMs/\n"
     ]
    },
    {
     "data": {
      "application/vnd.jupyter.widget-view+json": {
       "model_id": "48e899ead28a40bca6bb76bcf520ec45",
       "version_major": 2,
       "version_minor": 0
      },
      "text/plain": [
       "RGI60-02.10389_NASADEM_clip.tif: | | 0.00/597k (raw) [  0.0%] in 00:00"
      ]
     },
     "metadata": {},
     "output_type": "display_data"
    },
    {
     "name": "stdout",
     "output_type": "stream",
     "text": [
      " \n",
      "RGI60-02.12428\n",
      "removed old DEM file\n",
      "Optimal UTM CRS = EPSG:32610\n",
      "No ArcticDEM coverage, using NASADEM\n",
      "Downloading DEM to /Users/raineyaberle/Google Drive/My Drive/Research/CryoGARS-Glaciology/Advising/student-research/Alexandra-Friel/snow_cover_mapping_application/study-sites/RGI60-02.12428/AOIs/../DEMs/\n"
     ]
    },
    {
     "data": {
      "application/vnd.jupyter.widget-view+json": {
       "model_id": "39490746467746a4b54bf917837a9fc2",
       "version_major": 2,
       "version_minor": 0
      },
      "text/plain": [
       "RGI60-02.12428_NASADEM_clip.tif: | | 0.00/6.80M (raw) [  0.0%] in 00:0"
      ]
     },
     "metadata": {},
     "output_type": "display_data"
    },
    {
     "name": "stderr",
     "output_type": "stream",
     "text": [
      "ERROR 1: _TIFFVSetField:/vsimem/decompress_0x7fce6dbee6d0.tif: Bad value 3 for \"ExtraSamples\" tag\n",
      "ERROR 1: _TIFFVSetField:/vsimem/decompress_0x7fce6dbee680.tif: Bad value 3 for \"ExtraSamples\" tag\n",
      "ERROR 1: _TIFFVSetField:/vsimem/decompress_0x7fce6dbee658.tif: Bad value 3 for \"ExtraSamples\" tag\n",
      "ERROR 1: _TIFFVSetField:/vsimem/decompress_0x7fce6dbee608.tif: Bad value 3 for \"ExtraSamples\" tag\n",
      "ERROR 1: _TIFFVSetField:/vsimem/decompress_0x7fce6dbee6a8.tif: Bad value 3 for \"ExtraSamples\" tag\n",
      "ERROR 1: _TIFFVSetField:/vsimem/decompress_0x7fce6dbee5e0.tif: Bad value 3 for \"ExtraSamples\" tag\n",
      "ERROR 1: _TIFFVSetField:/vsimem/decompress_0x7fce6dbee590.tif: Bad value 3 for \"ExtraSamples\" tag\n",
      "ERROR 1: _TIFFVSetField:/vsimem/decompress_0x7fce6dbee540.tif: Bad value 3 for \"ExtraSamples\" tag\n",
      "ERROR 1: _TIFFVSetField:/vsimem/decompress_0x7fce6dbee630.tif: Bad value 3 for \"ExtraSamples\" tag\n",
      "ERROR 1: _TIFFVSetField:/vsimem/decompress_0x7fce6dbee4a0.tif: Bad value 3 for \"ExtraSamples\" tag\n",
      "ERROR 1: _TIFFVSetField:/vsimem/decompress_0x7fce6dbee518.tif: Bad value 3 for \"ExtraSamples\" tag\n",
      "ERROR 1: _TIFFVSetField:/vsimem/decompress_0x7fce6dbee4f0.tif: Bad value 3 for \"ExtraSamples\" tag\n",
      "ERROR 1: _TIFFVSetField:/vsimem/decompress_0x7fce6dbee568.tif: Bad value 3 for \"ExtraSamples\" tag\n",
      "ERROR 1: _TIFFVSetField:/vsimem/decompress_0x7fce6dbee4c8.tif: Bad value 3 for \"ExtraSamples\" tag\n",
      "ERROR 1: _TIFFVSetField:/vsimem/decompress_0x7fce6dbee5b8.tif: Bad value 3 for \"ExtraSamples\" tag\n",
      "ERROR 1: _TIFFVSetField:/vsimem/decompress_0x7fbabcbfb408.tif: Bad value 3 for \"ExtraSamples\" tag\n",
      "ERROR 1: _TIFFVSetField:/vsimem/decompress_0x7fbabcbfb4d0.tif: Bad value 3 for \"ExtraSamples\" tag\n",
      "ERROR 1: _TIFFVSetField:/vsimem/decompress_0x7fbabcbfb430.tif: Bad value 3 for \"ExtraSamples\" tag\n",
      "ERROR 1: _TIFFVSetField:/vsimem/decompress_0x7fbabcbfb4a8.tif: Bad value 3 for \"ExtraSamples\" tag\n",
      "ERROR 1: _TIFFVSetField:/vsimem/decompress_0x7fbabcbfb458.tif: Bad value 3 for \"ExtraSamples\" tag\n",
      "ERROR 1: _TIFFVSetField:/vsimem/decompress_0x7fbabcbfb3e0.tif: Bad value 3 for \"ExtraSamples\" tag\n",
      "ERROR 1: _TIFFVSetField:/vsimem/decompress_0x7fbabcbfb368.tif: Bad value 3 for \"ExtraSamples\" tag\n",
      "ERROR 1: _TIFFVSetField:/vsimem/decompress_0x7fbabcbfb2f0.tif: Bad value 3 for \"ExtraSamples\" tag\n",
      "ERROR 1: _TIFFVSetField:/vsimem/decompress_0x7fbabcbfb340.tif: Bad value 3 for \"ExtraSamples\" tag\n",
      "ERROR 1: _TIFFVSetField:/vsimem/decompress_0x7fbabcbfb2a0.tif: Bad value 3 for \"ExtraSamples\" tag\n",
      "ERROR 1: _TIFFVSetField:/vsimem/decompress_0x7fbabcbfb3b8.tif: Bad value 3 for \"ExtraSamples\" tag\n",
      "ERROR 1: _TIFFVSetField:/vsimem/decompress_0x7fbabcbfb318.tif: Bad value 3 for \"ExtraSamples\" tag\n",
      "ERROR 1: _TIFFVSetField:/vsimem/decompress_0x7fbabcbfb2c8.tif: Bad value 3 for \"ExtraSamples\" tag\n",
      "ERROR 1: _TIFFVSetField:/vsimem/decompress_0x7fbabcbfb390.tif: Bad value 3 for \"ExtraSamples\" tag\n",
      "ERROR 1: _TIFFVSetField:/vsimem/decompress_0x7fbabcbfb480.tif: Bad value 3 for \"ExtraSamples\" tag\n",
      "ERROR 1: _TIFFVSetField:/vsimem/decompress_0x7fcdadbc7250.tif: Bad value 3 for \"ExtraSamples\" tag\n",
      "ERROR 1: _TIFFVSetField:/vsimem/decompress_0x7fcdadbc72c8.tif: Bad value 3 for \"ExtraSamples\" tag\n",
      "ERROR 1: _TIFFVSetField:/vsimem/decompress_0x7fcdadbc72a0.tif: Bad value 3 for \"ExtraSamples\" tag\n",
      "ERROR 1: _TIFFVSetField:/vsimem/decompress_0x7fcdadbc73e0.tif: Bad value 3 for \"ExtraSamples\" tag\n",
      "ERROR 1: _TIFFVSetField:/vsimem/decompress_0x7fcdadbc7200.tif: Bad value 3 for \"ExtraSamples\" tag\n",
      "ERROR 1: _TIFFVSetField:/vsimem/decompress_0x7fcdadbc72f0.tif: Bad value 3 for \"ExtraSamples\" tag\n",
      "ERROR 1: _TIFFVSetField:/vsimem/decompress_0x7fcdadbc7278.tif: Bad value 3 for \"ExtraSamples\" tag\n",
      "ERROR 1: _TIFFVSetField:/vsimem/decompress_0x7fcdadbc73b8.tif: Bad value 3 for \"ExtraSamples\" tag\n",
      "ERROR 1: _TIFFVSetField:/vsimem/decompress_0x7fcdadbc7390.tif: Bad value 3 for \"ExtraSamples\" tag\n",
      "ERROR 1: _TIFFVSetField:/vsimem/decompress_0x7fcdadbc71d8.tif: Bad value 3 for \"ExtraSamples\" tag\n",
      "ERROR 1: _TIFFVSetField:/vsimem/decompress_0x7fcdadbc7228.tif: Bad value 3 for \"ExtraSamples\" tag\n",
      "ERROR 1: _TIFFVSetField:/vsimem/decompress_0x7fcdadbc7318.tif: Bad value 3 for \"ExtraSamples\" tag\n",
      "ERROR 1: _TIFFVSetField:/vsimem/decompress_0x7fcdadbc7368.tif: Bad value 3 for \"ExtraSamples\" tag\n",
      "ERROR 1: _TIFFVSetField:/vsimem/decompress_0x7fcdadbc7340.tif: Bad value 3 for \"ExtraSamples\" tag\n",
      "ERROR 1: _TIFFVSetField:/vsimem/decompress_0x7fcdadbc71b0.tif: Bad value 3 for \"ExtraSamples\" tag\n",
      "ERROR 1: _TIFFVSetField:/vsimem/decompress_0x7fbabcbfb4a8.tif: Bad value 3 for \"ExtraSamples\" tag\n",
      "ERROR 1: _TIFFVSetField:/vsimem/decompress_0x7fbabcbfb430.tif: Bad value 3 for \"ExtraSamples\" tag\n",
      "ERROR 1: _TIFFVSetField:/vsimem/decompress_0x7fbabcbfb480.tif: Bad value 3 for \"ExtraSamples\" tag\n",
      "ERROR 1: _TIFFVSetField:/vsimem/decompress_0x7fbabcbfb408.tif: Bad value 3 for \"ExtraSamples\" tag\n",
      "ERROR 1: _TIFFVSetField:/vsimem/decompress_0x7fbabcbfb390.tif: Bad value 3 for \"ExtraSamples\" tag\n",
      "ERROR 1: _TIFFVSetField:/vsimem/decompress_0x7fbabcbfb368.tif: Bad value 3 for \"ExtraSamples\" tag\n",
      "ERROR 1: _TIFFVSetField:/vsimem/decompress_0x7fbabcbfb2f0.tif: Bad value 3 for \"ExtraSamples\" tag\n",
      "ERROR 1: _TIFFVSetField:/vsimem/decompress_0x7fbabcbfb458.tif: Bad value 3 for \"ExtraSamples\" tag\n",
      "ERROR 1: _TIFFVSetField:/vsimem/decompress_0x7fbabcbfb340.tif: Bad value 3 for \"ExtraSamples\" tag\n",
      "ERROR 1: _TIFFVSetField:/vsimem/decompress_0x7fbabcbfb3e0.tif: Bad value 3 for \"ExtraSamples\" tag\n",
      "ERROR 1: _TIFFVSetField:/vsimem/decompress_0x7fbabcbfb2c8.tif: Bad value 3 for \"ExtraSamples\" tag\n",
      "ERROR 1: _TIFFVSetField:/vsimem/decompress_0x7fbabcbfb3b8.tif: Bad value 3 for \"ExtraSamples\" tag\n",
      "ERROR 1: _TIFFVSetField:/vsimem/decompress_0x7fbabcbfb2a0.tif: Bad value 3 for \"ExtraSamples\" tag\n",
      "ERROR 1: _TIFFVSetField:/vsimem/decompress_0x7fbabcbfb4d0.tif: Bad value 3 for \"ExtraSamples\" tag\n",
      "ERROR 1: _TIFFVSetField:/vsimem/decompress_0x7fbabcbfb318.tif: Bad value 3 for \"ExtraSamples\" tag\n",
      "ERROR 1: _TIFFVSetField:/vsimem/decompress_0x7fcdadbc72c8.tif: Bad value 3 for \"ExtraSamples\" tag\n",
      "ERROR 1: _TIFFVSetField:/vsimem/decompress_0x7fcdadbc7340.tif: Bad value 3 for \"ExtraSamples\" tag\n",
      "ERROR 1: _TIFFVSetField:/vsimem/decompress_0x7fcdadbc7390.tif: Bad value 3 for \"ExtraSamples\" tag\n",
      "ERROR 1: _TIFFVSetField:/vsimem/decompress_0x7fcdadbc72f0.tif: Bad value 3 for \"ExtraSamples\" tag\n",
      "ERROR 1: _TIFFVSetField:/vsimem/decompress_0x7fcdadbc7200.tif: Bad value 3 for \"ExtraSamples\" tag\n",
      "ERROR 1: _TIFFVSetField:/vsimem/decompress_0x7fcdadbc7368.tif: Bad value 3 for \"ExtraSamples\" tag\n",
      "ERROR 1: _TIFFVSetField:/vsimem/decompress_0x7fcdadbc7318.tif: Bad value 3 for \"ExtraSamples\" tag\n",
      "ERROR 1: _TIFFVSetField:/vsimem/decompress_0x7fcdadbc73b8.tif: Bad value 3 for \"ExtraSamples\" tag\n",
      "ERROR 1: _TIFFVSetField:/vsimem/decompress_0x7fcdadbc7228.tif: Bad value 3 for \"ExtraSamples\" tag\n",
      "ERROR 1: _TIFFVSetField:/vsimem/decompress_0x7fcdadbc7278.tif: Bad value 3 for \"ExtraSamples\" tag\n",
      "ERROR 1: _TIFFVSetField:/vsimem/decompress_0x7fcdadbc73e0.tif: Bad value 3 for \"ExtraSamples\" tag\n",
      "ERROR 1: _TIFFVSetField:/vsimem/decompress_0x7fcdadbc7250.tif: Bad value 3 for \"ExtraSamples\" tag\n",
      "ERROR 1: _TIFFVSetField:/vsimem/decompress_0x7fcdadbc72a0.tif: Bad value 3 for \"ExtraSamples\" tag\n",
      "ERROR 1: _TIFFVSetField:/vsimem/decompress_0x7fcdadbc71d8.tif: Bad value 3 for \"ExtraSamples\" tag\n",
      "ERROR 1: _TIFFVSetField:/vsimem/decompress_0x7fcdadbc71b0.tif: Bad value 3 for \"ExtraSamples\" tag\n",
      "ERROR 1: _TIFFVSetField:/vsimem/decompress_0x7fcdeda12ff8.tif: Bad value 3 for \"ExtraSamples\" tag\n",
      "ERROR 1: _TIFFVSetField:/vsimem/decompress_0x7fcdeda12f58.tif: Bad value 3 for \"ExtraSamples\" tag\n",
      "ERROR 1: _TIFFVSetField:/vsimem/decompress_0x7fcdeda130e8.tif: Bad value 3 for \"ExtraSamples\" tag\n",
      "ERROR 1: _TIFFVSetField:/vsimem/decompress_0x7fcdeda13098.tif: Bad value 3 for \"ExtraSamples\" tag\n",
      "ERROR 1: _TIFFVSetField:/vsimem/decompress_0x7fcdeda13048.tif: Bad value 3 for \"ExtraSamples\" tag\n",
      "ERROR 1: _TIFFVSetField:/vsimem/decompress_0x7fcdeda13070.tif: Bad value 3 for \"ExtraSamples\" tag\n",
      "ERROR 1: _TIFFVSetField:/vsimem/decompress_0x7fcdeda12fa8.tif: Bad value 3 for \"ExtraSamples\" tag\n",
      "ERROR 1: _TIFFVSetField:/vsimem/decompress_0x7fcdeda12f80.tif: Bad value 3 for \"ExtraSamples\" tag\n",
      "ERROR 1: _TIFFVSetField:/vsimem/decompress_0x7fcdeda12fd0.tif: Bad value 3 for \"ExtraSamples\" tag\n",
      "ERROR 1: _TIFFVSetField:/vsimem/decompress_0x7fcdeda130c0.tif: Bad value 3 for \"ExtraSamples\" tag\n",
      "ERROR 1: _TIFFVSetField:/vsimem/decompress_0x7fcdeda13020.tif: Bad value 3 for \"ExtraSamples\" tag\n",
      "ERROR 1: _TIFFVSetField:/vsimem/decompress_0x7fcdeda13110.tif: Bad value 3 for \"ExtraSamples\" tag\n",
      "ERROR 1: _TIFFVSetField:/vsimem/decompress_0x7fcdeda12f30.tif: Bad value 3 for \"ExtraSamples\" tag\n",
      "ERROR 1: _TIFFVSetField:/vsimem/decompress_0x7fcdeda12f08.tif: Bad value 3 for \"ExtraSamples\" tag\n",
      "ERROR 1: _TIFFVSetField:/vsimem/decompress_0x7fcdeda12ee0.tif: Bad value 3 for \"ExtraSamples\" tag\n",
      "ERROR 1: _TIFFVSetField:/vsimem/decompress_0x7fcdcd5b5f30.tif: Bad value 3 for \"ExtraSamples\" tag\n",
      "ERROR 1: _TIFFVSetField:/vsimem/decompress_0x7fcdcd5b5f08.tif: Bad value 3 for \"ExtraSamples\" tag\n",
      "ERROR 1: _TIFFVSetField:/vsimem/decompress_0x7fcdcd5b6098.tif: Bad value 3 for \"ExtraSamples\" tag\n",
      "ERROR 1: _TIFFVSetField:/vsimem/decompress_0x7fcdcd5b6048.tif: Bad value 3 for \"ExtraSamples\" tag\n",
      "ERROR 1: _TIFFVSetField:/vsimem/decompress_0x7fcdcd5b6070.tif: Bad value 3 for \"ExtraSamples\" tag\n",
      "ERROR 1: _TIFFVSetField:/vsimem/decompress_0x7fcdcd5b5ff8.tif: Bad value 3 for \"ExtraSamples\" tag\n",
      "ERROR 1: _TIFFVSetField:/vsimem/decompress_0x7fcdcd5b5ee0.tif: Bad value 3 for \"ExtraSamples\" tag\n",
      "ERROR 1: _TIFFVSetField:/vsimem/decompress_0x7fcdcd5b5f58.tif: Bad value 3 for \"ExtraSamples\" tag\n",
      "ERROR 1: _TIFFVSetField:/vsimem/decompress_0x7fcdcd5b5fd0.tif: Bad value 3 for \"ExtraSamples\" tag\n",
      "ERROR 1: _TIFFVSetField:/vsimem/decompress_0x7fcdcd5b5eb8.tif: Bad value 3 for \"ExtraSamples\" tag\n",
      "ERROR 1: _TIFFVSetField:/vsimem/decompress_0x7fcdcd5b60c0.tif: Bad value 3 for \"ExtraSamples\" tag\n",
      "ERROR 1: _TIFFVSetField:/vsimem/decompress_0x7fcdcd5b6020.tif: Bad value 3 for \"ExtraSamples\" tag\n",
      "ERROR 1: _TIFFVSetField:/vsimem/decompress_0x7fcdcd5b5fa8.tif: Bad value 3 for \"ExtraSamples\" tag\n",
      "ERROR 1: _TIFFVSetField:/vsimem/decompress_0x7fcdcd5b5e90.tif: Bad value 3 for \"ExtraSamples\" tag\n",
      "ERROR 1: _TIFFVSetField:/vsimem/decompress_0x7fcdcd5b5f80.tif: Bad value 3 for \"ExtraSamples\" tag\n",
      "ERROR 1: _TIFFVSetField:/vsimem/decompress_0x7fbabcbfb3b8.tif: Bad value 3 for \"ExtraSamples\" tag\n",
      "ERROR 1: _TIFFVSetField:/vsimem/decompress_0x7fbabcbfb4a8.tif: Bad value 3 for \"ExtraSamples\" tag\n",
      "ERROR 1: _TIFFVSetField:/vsimem/decompress_0x7fbabcbfb4d0.tif: Bad value 3 for \"ExtraSamples\" tag\n",
      "ERROR 1: _TIFFVSetField:/vsimem/decompress_0x7fbabcbfb408.tif: Bad value 3 for \"ExtraSamples\" tag\n",
      "ERROR 1: _TIFFVSetField:/vsimem/decompress_0x7fbabcbfb3e0.tif: Bad value 3 for \"ExtraSamples\" tag\n",
      "ERROR 1: _TIFFVSetField:/vsimem/decompress_0x7fbabcbfb390.tif: Bad value 3 for \"ExtraSamples\" tag\n",
      "ERROR 1: _TIFFVSetField:/vsimem/decompress_0x7fbabcbfb2c8.tif: Bad value 3 for \"ExtraSamples\" tag\n",
      "ERROR 1: _TIFFVSetField:/vsimem/decompress_0x7fbabcbfb430.tif: Bad value 3 for \"ExtraSamples\" tag\n",
      "ERROR 1: _TIFFVSetField:/vsimem/decompress_0x7fbabcbfb480.tif: Bad value 3 for \"ExtraSamples\" tag\n",
      "ERROR 1: _TIFFVSetField:/vsimem/decompress_0x7fbabcbfb368.tif: Bad value 3 for \"ExtraSamples\" tag\n",
      "ERROR 1: _TIFFVSetField:/vsimem/decompress_0x7fbabcbfb318.tif: Bad value 3 for \"ExtraSamples\" tag\n",
      "ERROR 1: _TIFFVSetField:/vsimem/decompress_0x7fbabcbfb2f0.tif: Bad value 3 for \"ExtraSamples\" tag\n",
      "ERROR 1: _TIFFVSetField:/vsimem/decompress_0x7fbabcbfb458.tif: Bad value 3 for \"ExtraSamples\" tag\n",
      "ERROR 1: _TIFFVSetField:/vsimem/decompress_0x7fbabcbfb340.tif: Bad value 3 for \"ExtraSamples\" tag\n",
      "ERROR 1: _TIFFVSetField:/vsimem/decompress_0x7fbabcbfb2a0.tif: Bad value 3 for \"ExtraSamples\" tag\n"
     ]
    },
    {
     "name": "stdout",
     "output_type": "stream",
     "text": [
      " \n",
      "RGI60-02.12433\n",
      "removed old DEM file\n",
      "Optimal UTM CRS = EPSG:32611\n",
      "No ArcticDEM coverage, using NASADEM\n",
      "Downloading DEM to /Users/raineyaberle/Google Drive/My Drive/Research/CryoGARS-Glaciology/Advising/student-research/Alexandra-Friel/snow_cover_mapping_application/study-sites/RGI60-02.12433/AOIs/../DEMs/\n"
     ]
    },
    {
     "data": {
      "application/vnd.jupyter.widget-view+json": {
       "model_id": "f8f998208a0d464e99c5ea428aafa9be",
       "version_major": 2,
       "version_minor": 0
      },
      "text/plain": [
       "RGI60-02.12433_NASADEM_clip.tif: | | 0.00/320k (raw) [  0.0%] in 00:00"
      ]
     },
     "metadata": {},
     "output_type": "display_data"
    },
    {
     "name": "stdout",
     "output_type": "stream",
     "text": [
      " \n",
      "RGI60-02.12435\n",
      "removed old DEM file\n",
      "Optimal UTM CRS = EPSG:32611\n",
      "No ArcticDEM coverage, using NASADEM\n",
      "Downloading DEM to /Users/raineyaberle/Google Drive/My Drive/Research/CryoGARS-Glaciology/Advising/student-research/Alexandra-Friel/snow_cover_mapping_application/study-sites/RGI60-02.12435/AOIs/../DEMs/\n"
     ]
    },
    {
     "data": {
      "application/vnd.jupyter.widget-view+json": {
       "model_id": "0c743fa0424840269788a947aa370a7c",
       "version_major": 2,
       "version_minor": 0
      },
      "text/plain": [
       "RGI60-02.12435_NASADEM_clip.tif: | | 0.00/1.46M (raw) [  0.0%] in 00:0"
      ]
     },
     "metadata": {},
     "output_type": "display_data"
    },
    {
     "name": "stdout",
     "output_type": "stream",
     "text": [
      " \n",
      "RGI60-02.12437\n",
      "removed old DEM file\n",
      "Optimal UTM CRS = EPSG:32611\n",
      "No ArcticDEM coverage, using NASADEM\n",
      "Downloading DEM to /Users/raineyaberle/Google Drive/My Drive/Research/CryoGARS-Glaciology/Advising/student-research/Alexandra-Friel/snow_cover_mapping_application/study-sites/RGI60-02.12437/AOIs/../DEMs/\n"
     ]
    },
    {
     "data": {
      "application/vnd.jupyter.widget-view+json": {
       "model_id": "19917fe9e3f148488614142fecc3f0da",
       "version_major": 2,
       "version_minor": 0
      },
      "text/plain": [
       "RGI60-02.12437_NASADEM_clip.tif: | | 0.00/1.46M (raw) [  0.0%] in 00:0"
      ]
     },
     "metadata": {},
     "output_type": "display_data"
    },
    {
     "name": "stdout",
     "output_type": "stream",
     "text": [
      " \n",
      "RGI60-02.12468\n",
      "removed old DEM file\n",
      "Optimal UTM CRS = EPSG:32609\n",
      "ArcticDEM coverage over AOI\n",
      "Downloading DEM to /Users/raineyaberle/Google Drive/My Drive/Research/CryoGARS-Glaciology/Advising/student-research/Alexandra-Friel/snow_cover_mapping_application/study-sites/RGI60-02.12468/AOIs/../DEMs/\n"
     ]
    },
    {
     "data": {
      "application/vnd.jupyter.widget-view+json": {
       "model_id": "c869ea1eef4a48da84f130c3db0be16b",
       "version_major": 2,
       "version_minor": 0
      },
      "text/plain": [
       "RGI60-02.12468_ArcticDEM_clip.tif: | | 0.00/234M (raw) [  0.0%] in 00:"
      ]
     },
     "metadata": {},
     "output_type": "display_data"
    },
    {
     "name": "stdout",
     "output_type": "stream",
     "text": [
      "Transforming elevations from the ellipsoid to the geoid...\n",
      "DEM re-saved with elevations referenced to the EGM96 geoid.\n",
      " \n",
      "RGI60-02.12483\n",
      "removed old DEM file\n",
      "Optimal UTM CRS = EPSG:32609\n",
      "ArcticDEM coverage over AOI\n",
      "Downloading DEM to /Users/raineyaberle/Google Drive/My Drive/Research/CryoGARS-Glaciology/Advising/student-research/Alexandra-Friel/snow_cover_mapping_application/study-sites/RGI60-02.12483/AOIs/../DEMs/\n"
     ]
    },
    {
     "data": {
      "application/vnd.jupyter.widget-view+json": {
       "model_id": "b0a3d6cce612441a838ec323a351a091",
       "version_major": 2,
       "version_minor": 0
      },
      "text/plain": [
       "RGI60-02.12483_ArcticDEM_clip.tif: | | 0.00/394M (raw) [  0.0%] in 00:"
      ]
     },
     "metadata": {},
     "output_type": "display_data"
    },
    {
     "name": "stdout",
     "output_type": "stream",
     "text": [
      "Transforming elevations from the ellipsoid to the geoid...\n",
      "DEM re-saved with elevations referenced to the EGM96 geoid.\n",
      " \n",
      "RGI60-02.14009\n",
      "removed old DEM file\n",
      "Optimal UTM CRS = EPSG:32610\n",
      "No ArcticDEM coverage, using NASADEM\n",
      "Downloading DEM to /Users/raineyaberle/Google Drive/My Drive/Research/CryoGARS-Glaciology/Advising/student-research/Alexandra-Friel/snow_cover_mapping_application/study-sites/RGI60-02.14009/AOIs/../DEMs/\n"
     ]
    },
    {
     "data": {
      "application/vnd.jupyter.widget-view+json": {
       "model_id": "46bb31571501478cb8b90d484a56da45",
       "version_major": 2,
       "version_minor": 0
      },
      "text/plain": [
       "RGI60-02.14009_NASADEM_clip.tif: | | 0.00/308k (raw) [  0.0%] in 00:00"
      ]
     },
     "metadata": {},
     "output_type": "display_data"
    },
    {
     "name": "stdout",
     "output_type": "stream",
     "text": [
      " \n",
      "RGI60-02.14256\n",
      "removed old DEM file\n",
      "Optimal UTM CRS = EPSG:32610\n",
      "No ArcticDEM coverage, using NASADEM\n",
      "Downloading DEM to /Users/raineyaberle/Google Drive/My Drive/Research/CryoGARS-Glaciology/Advising/student-research/Alexandra-Friel/snow_cover_mapping_application/study-sites/RGI60-02.14256/AOIs/../DEMs/\n"
     ]
    },
    {
     "data": {
      "application/vnd.jupyter.widget-view+json": {
       "model_id": "d3483ae4bacc470588990f3842d677f6",
       "version_major": 2,
       "version_minor": 0
      },
      "text/plain": [
       "RGI60-02.14256_NASADEM_clip.tif: | | 0.00/663k (raw) [  0.0%] in 00:00"
      ]
     },
     "metadata": {},
     "output_type": "display_data"
    },
    {
     "name": "stdout",
     "output_type": "stream",
     "text": [
      " \n",
      "RGI60-02.17738\n",
      "removed old DEM file\n",
      "Optimal UTM CRS = EPSG:32610\n",
      "No ArcticDEM coverage, using NASADEM\n",
      "Downloading DEM to /Users/raineyaberle/Google Drive/My Drive/Research/CryoGARS-Glaciology/Advising/student-research/Alexandra-Friel/snow_cover_mapping_application/study-sites/RGI60-02.17738/AOIs/../DEMs/\n"
     ]
    },
    {
     "data": {
      "application/vnd.jupyter.widget-view+json": {
       "model_id": "4bd4a53971ee4963a11e12e8b34fb940",
       "version_major": 2,
       "version_minor": 0
      },
      "text/plain": [
       "RGI60-02.17738_NASADEM_clip.tif: | | 0.00/454k (raw) [  0.0%] in 00:00"
      ]
     },
     "metadata": {},
     "output_type": "display_data"
    },
    {
     "name": "stdout",
     "output_type": "stream",
     "text": [
      " \n",
      "SitKusa\n",
      "removed old DEM file\n",
      "Optimal UTM CRS = EPSG:32607\n",
      "ArcticDEM coverage over AOI\n",
      "Downloading DEM to /Users/raineyaberle/Google Drive/My Drive/Research/CryoGARS-Glaciology/Advising/student-research/Alexandra-Friel/snow_cover_mapping_application/study-sites/SitKusa/AOIs/../DEMs/\n"
     ]
    },
    {
     "name": "stderr",
     "output_type": "stream",
     "text": [
      "Consider adjusting `region`, `scale` and/or `dtype` to reduce the SitKusa_ArcticDEM_clip.tif download size (raw: 2.70 GB).\n"
     ]
    },
    {
     "data": {
      "application/vnd.jupyter.widget-view+json": {
       "model_id": "b6f781aa37c848d7a3144cc433d0fe7d",
       "version_major": 2,
       "version_minor": 0
      },
      "text/plain": [
       "SitKusa_ArcticDEM_clip.tif: | | 0.00/2.70G (raw) [  0.0%] in 00:00 (et"
      ]
     },
     "metadata": {},
     "output_type": "display_data"
    },
    {
     "name": "stdout",
     "output_type": "stream",
     "text": [
      "Transforming elevations from the ellipsoid to the geoid...\n",
      "DEM re-saved with elevations referenced to the EGM96 geoid.\n",
      " \n",
      "Tahoma\n",
      "No snowlines yet, continuing...\n",
      " \n",
      "Variegated\n",
      "No snowlines yet, continuing...\n",
      " \n"
     ]
    }
   ],
   "source": [
    "for site_name in tqdm(site_names[30+23+9:]):\n",
    "    \n",
    "    print(site_name)\n",
    "    \n",
    "    # check if snowlines have been delineated yet\n",
    "    if len(glob.glob(study_sites_path + site_name + '/imagery/snowlines/*.csv'))<1:\n",
    "        print('No snowlines yet, continuing...')\n",
    "        print(' ')\n",
    "        continue\n",
    "    \n",
    "    # path to folder containing AOI files\n",
    "    AOI_path = '/Users/raineyaberle/Google Drive/My Drive/Research/CryoGARS-Glaciology/Advising/student-research/Alexandra-Friel/snow_cover_mapping_application/study-sites/' + site_name + '/AOIs/'\n",
    "    # AOI file name\n",
    "    AOI_fn = os.path.basename(glob.glob(AOI_path + site_name + '*_outline.shp')[0])\n",
    "    # path to folder containing DEM raster file\n",
    "    # Note: set DEM_fn=None if you want to use the ArcticDEM or NASADEM via Google Earth Engine\n",
    "    DEM_path = AOI_path + '../DEMs/'\n",
    "    # DEM file name\n",
    "    DEM_fn = None \n",
    "    \n",
    "    if len(glob.glob(DEM_path + '*ArcticDEM*.tif')) > 0:\n",
    "        [os.remove(x) for x in glob.glob(DEM_path + '*ArcticDEM*.tif')]\n",
    "    elif len(glob.glob(DEM_path + '*NASADEM*.tif')) > 0:\n",
    "        [os.remove(x) for x in glob.glob(DEM_path + '*NASADEM*.tif')]\n",
    "    print('removed old DEM file')\n",
    "        \n",
    "    # -----Load AOI as gpd.GeoDataFrame\n",
    "    AOI = gpd.read_file(AOI_path + AOI_fn)\n",
    "    # reproject the AOI to WGS to solve for the optimal UTM zone\n",
    "    AOI_WGS = AOI.to_crs('EPSG:4326')\n",
    "    AOI_WGS_centroid = [AOI_WGS.geometry[0].centroid.xy[0][0],\n",
    "                        AOI_WGS.geometry[0].centroid.xy[1][0]]\n",
    "    # grab the optimal UTM zone EPSG code\n",
    "    epsg_UTM = f.convert_wgs_to_utm(AOI_WGS_centroid[0], AOI_WGS_centroid[1])\n",
    "    print('Optimal UTM CRS = EPSG:' + str(epsg_UTM))\n",
    "    # reproject AOI to the optimal UTM zone\n",
    "    AOI_UTM = AOI.to_crs('EPSG:'+epsg_UTM)\n",
    "\n",
    "    # -----Load DEM as Xarray DataSet\n",
    "    if DEM_fn is None:\n",
    "        # query GEE for DEM\n",
    "        DEM = f.query_gee_for_dem(AOI_UTM, base_path, site_name, DEM_path)\n",
    "    else:\n",
    "        # load DEM as xarray DataSet\n",
    "        DEM = xr.open_dataset(DEM_path + DEM_fn)\n",
    "        DEM = DEM.rename({'band_data': 'elevation'})\n",
    "        # reproject the DEM to the optimal UTM zone\n",
    "        DEM = DEM.rio.reproject('EPSG:'+str(epsg_UTM)).rio.write_crs('EPSG:'+str(epsg_UTM))\n",
    "        # set no data values to NaN\n",
    "        DEM = xr.where((DEM > 1e38) | (DEM <= -9999), np.nan, DEM)\n",
    "        \n",
    "    print(' ')"
   ]
  },
  {
   "cell_type": "code",
   "execution_count": null,
   "id": "cea2154b-3613-4068-8856-8f75a3e55ffd",
   "metadata": {},
   "outputs": [],
   "source": []
  }
 ],
 "metadata": {
  "kernelspec": {
   "display_name": "snow-cover-mapping",
   "language": "python",
   "name": "snow-cover-mapping"
  },
  "language_info": {
   "codemirror_mode": {
    "name": "ipython",
    "version": 3
   },
   "file_extension": ".py",
   "mimetype": "text/x-python",
   "name": "python",
   "nbconvert_exporter": "python",
   "pygments_lexer": "ipython3",
   "version": "3.11.3"
  }
 },
 "nbformat": 4,
 "nbformat_minor": 5
}
