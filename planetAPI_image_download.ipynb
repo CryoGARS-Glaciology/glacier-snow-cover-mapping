{
 "cells": [
  {
   "cell_type": "markdown",
   "metadata": {},
   "source": [
    "## Notebook to bulk download Planet imagery through the API\n",
    "Rainey Aberle, Fall 2021\n",
    "\n",
    "Modified from [Planet Developers API Tutorial](https://developers.planet.com/docs/apis/data/) and Planet Labs GitHub Repository: [planetlabs/notebooks/jupyter-notebooks/orders/](https://github.com/planetlabs/notebooks/tree/master/jupyter-notebooks/orders)\n",
    "\n",
    "\n",
    "__To-Do:__\n",
    "- View image footprints before downloading.  \n",
    "- Implement percent AOI coverage filter for image search"
   ]
  },
  {
   "cell_type": "markdown",
   "metadata": {},
   "source": [
    "### Import necessary packages"
   ]
  },
  {
   "cell_type": "code",
   "execution_count": 1,
   "metadata": {},
   "outputs": [],
   "source": [
    "import os\n",
    "import json\n",
    "import requests\n",
    "import time\n",
    "import geopandas as gpd\n",
    "from pathlib import Path\n",
    "import rasterio as rio\n",
    "import numpy as np\n",
    "from rasterio.plot import show\n",
    "from requests.auth import HTTPBasicAuth"
   ]
  },
  {
   "cell_type": "markdown",
   "metadata": {},
   "source": [
    "### Define filters for image search\n",
    "#### _Modify these sections_"
   ]
  },
  {
   "cell_type": "code",
   "execution_count": 2,
   "metadata": {},
   "outputs": [],
   "source": [
    "# ----------Area of Interest (AOI)----------\n",
    "#### OPTION 1: Use geojson.io to create a polygon\n",
    "#    - Type geojson.io into a new browser page\n",
    "#    - Draw a RECTANGULAR polygon over your AOI  \n",
    "#    - Copy only the geometry below\n",
    "# AOI_box = {\n",
    "#         \"type\": \"Polygon\",\n",
    "#         \"coordinates\": [\n",
    "#           [\n",
    "#             [\n",
    "#               -148.96774291992188,\n",
    "#               60.366355109034046\n",
    "#             ],\n",
    "#             [\n",
    "#               -148.84963989257812,\n",
    "#               60.366355109034046\n",
    "#             ],\n",
    "#             [\n",
    "#               -148.84963989257812,\n",
    "#               60.440285056170616\n",
    "#             ],\n",
    "#             [\n",
    "#               -148.96774291992188,\n",
    "#               60.440285056170616\n",
    "#             ],\n",
    "#             [\n",
    "#               -148.96774291992188,\n",
    "#               60.366355109034046\n",
    "#             ]\n",
    "#           ]\n",
    "#         ]\n",
    "#       }\n",
    "# AOI_box"
   ]
  },
  {
   "cell_type": "code",
   "execution_count": 3,
   "metadata": {},
   "outputs": [
    {
     "data": {
      "text/plain": [
       "{'type': 'Polygon',\n",
       " 'coordinates': [[[-148.97493073077095, 60.35056373052069],\n",
       "   [-148.83419955670448, 60.35056373052069],\n",
       "   [-148.83419955670448, 60.45403189448731],\n",
       "   [-148.97493073077095, 60.45403189448731],\n",
       "   [-148.97493073077095, 60.35056373052069]]]}"
      ]
     },
     "execution_count": 3,
     "metadata": {},
     "output_type": "execute_result"
    }
   ],
   "source": [
    "#### OPTION 2: Import an existing shapefile\n",
    "\n",
    "# Name of your file\n",
    "# If your shapefile is not currently in this directory, you need to include the full file path in 'file_name' below\n",
    "file_name = 'inputs/wolverineGlacier.shp'\n",
    "\n",
    "# Read in the shapefile\n",
    "AOI = gpd.read_file(file_name)\n",
    "\n",
    "# File extension index (we don't want the .shp extension in the next line)\n",
    "i = file_name.index('.shp')\n",
    "\n",
    "# Convert to geojson\n",
    "AOI.to_file(file_name[0:i]+'.geojson', driver='GeoJSON')\n",
    "\n",
    "# Adjust AOI polygon to a rectangular shape \n",
    "# Planet only excepts a bounding BOX as a spatial filter, \n",
    "# so we need to convert our AOI to a box (if it is not already). \n",
    "AOI_box = {\"type\": \"Polygon\",\n",
    "           \"coordinates\": [[\n",
    "               [AOI.bounds.minx[0],AOI.bounds.miny[0]],\n",
    "               [AOI.bounds.maxx[0],AOI.bounds.miny[0]],\n",
    "               [AOI.bounds.maxx[0],AOI.bounds.maxy[0]],\n",
    "               [AOI.bounds.minx[0],AOI.bounds.maxy[0]],\n",
    "               [AOI.bounds.minx[0],AOI.bounds.miny[0]]\n",
    "           ]]\n",
    "          }\n",
    "AOI_box"
   ]
  },
  {
   "cell_type": "code",
   "execution_count": 4,
   "metadata": {},
   "outputs": [
    {
     "name": "stdout",
     "output_type": "stream",
     "text": [
      "Enter Planet API Key: \n",
      "21d92c1c372146c089f0182295d3b028\n"
     ]
    }
   ],
   "source": [
    "# ----------AOI clipping----------\n",
    "# Would you like to clip images to the AOI (True/False)?\n",
    "# This greatly speeds up the ordering and downloading process.\n",
    "clip_AOI = True\n",
    "\n",
    "# ----------Date Range----------\n",
    "# Format: 'YYYY-MM-DD'\n",
    "start_date = \"2021-01-01\"\n",
    "end_date = \"2022-01-01\"\n",
    "\n",
    "# ----------Cloud Filter----------\n",
    "# Format: decimal (e.g., 50% max cloud cover = 0.5)\n",
    "max_cloud_cover = 0.05\n",
    "\n",
    "# ----------Item Type----------\n",
    "# See here for possible image (\"item\") types:\n",
    "# https://developers.planet.com/docs/apis/data/items-assets/\n",
    "item_type = \"PSScene4Band\"\n",
    "\n",
    "# ----------Asset Type----------\n",
    "# Each Item Type has a number of asset types to choose from.\n",
    "# Use the Item Type link above click on your Item Type to view the available Asset Types\n",
    "asset_type = \"analytic_sr\"\n",
    "\n",
    "# ----------Planet API Key----------\n",
    "# Find your API key on your Planet Account: account.planet.com\n",
    "# My Settings > API Key\n",
    "# 21d92c1c372146c089f0182295d3b028\n",
    "print('Enter Planet API Key: ')\n",
    "API_key = input()\n",
    "\n",
    "# ----------Output folder----------\n",
    "# AKA, where you want your images to be downloaded in your directory\n",
    "out_folder = '/Users/raineyaberle/Desktop/Research/PhD/Wolverine/imagery/Planet/'"
   ]
  },
  {
   "cell_type": "markdown",
   "metadata": {},
   "source": [
    "---------------------\n",
    "### Authentication via basic HTTP"
   ]
  },
  {
   "cell_type": "code",
   "execution_count": 5,
   "metadata": {},
   "outputs": [
    {
     "data": {
      "text/plain": [
       "<Response [200]>"
      ]
     },
     "execution_count": 5,
     "metadata": {},
     "output_type": "execute_result"
    }
   ],
   "source": [
    "# set API key as environment variable\n",
    "os.environ['PL_API_KEY'] = API_key\n",
    "\n",
    "# Setup the API Key stored as the `PL_API_KEY` environment variable\n",
    "PLANET_API_KEY = os.getenv('PL_API_KEY')\n",
    "\n",
    "# Orders URL\n",
    "orders_url = 'https://api.planet.com/compute/ops/orders/v2'\n",
    "\n",
    "# Authorize\n",
    "auth = HTTPBasicAuth(PLANET_API_KEY, '')\n",
    "response = requests.get(orders_url, auth=auth)\n",
    "response"
   ]
  },
  {
   "cell_type": "markdown",
   "metadata": {},
   "source": [
    "### Compile filters and use Quick Search to grab image IDs"
   ]
  },
  {
   "cell_type": "code",
   "execution_count": 6,
   "metadata": {},
   "outputs": [
    {
     "name": "stdout",
     "output_type": "stream",
     "text": [
      "['20211119_214329_72_1058', '20211119_214328_22_1058', '20211119_214326_72_1058', '20211117_214553_20_105e', '20211117_214551_70_105e', '20211116_214233_71_1058', '20211116_214232_21_1058', '20211116_214230_71_1058', '20211115_211414_02_2406', '20211115_211411_73_2406', '20211109_210756_16_2426', '20211109_210753_86_2426', '20211109_204525_1013', '20211109_204524_1013', '20211109_201722_54_2453', '20211109_201720_06_2453', '20211109_211033_65_2403', '20211109_211031_35_2403', '20211108_202503_66_241d', '20211108_202501_19_241d', '20211108_210609_38_227a', '20211108_201956_30_2451', '20211108_204432_1039', '20211108_204431_1039', '20211108_204430_1039', '20211107_204511_101f', '20211107_204510_101f', '20211107_204509_101f', '20211106_210541_16_227c', '20211106_210538_68_227c', '20211103_204745_1009', '20211016_202323_22_245a', '20211015_214050_21_1061', '20211010_210821_73_2416', '20211010_210819_25_2416', '20211010_202330_32_2235', '20211010_202328_11_2235', '20211009_202021_01_242d', '20211004_202442_51_2434', '20211004_202440_21_2434', '20211004_202214_68_2223', '20211004_202212_47_2223', '20211004_202012_13_2427', '20211004_202009_83_2427', '20211003_204919_1002', '20211003_204918_1002', '20210930_202052_50_2223', '20210929_210745_81_2254', '20210929_210743_33_2254', '20210929_202033_59_2447', '20210929_202031_29_2447', '20210928_204655_1009', '20210928_202324_54_242a', '20210928_202322_24_242a', '20210928_204654_1009', '20210927_214111_72_105d', '20210927_214109_72_105d', '20210927_202224_53_2451', '20210927_202222_23_2451', '20210926_210923_63_2426', '20210926_210921_33_2426', '20210926_205023_1035', '20210922_204614_1039', '20210922_204613_1039', '20210919_210440_49_240f', '20210919_204637_1034', '20210919_204636_1034', '20210919_202432_03_2453', '20210919_202429_73_2453', '20210919_204638_1034', '20210911_213814_73_105a', '20210911_213812_73_105a', '20210911_202242_05_2450', '20210911_202239_75_2450', '20210911_202151_83_241b', '20210911_202149_53_241b', '20210911_204738_1039', '20210911_204737_1039', '20210830_202447_97_2457', '20210830_202445_50_2457', '20210830_204340_1009', '20210830_204339_1009', '20210829_204609_103b', '20210829_202201_64_2428', '20210829_202159_34_2428', '20210829_163740_1_104e', '20210829_163740_104e', '20210829_163739_104e', '20210829_204608_103b', '20210828_210712_03_240a', '20210828_210709_68_240a', '20210821_204640_1013', '20210821_201830_73_2428', '20210821_201828_26_2428', '20210818_204911_1014', '20210818_204909_1014', '20210818_164256_104e', '20210818_204910_1014', '20210818_164255_104e', '20210815_202832_67_225a', '20210815_202830_37_225a', '20210815_202055_60_2459', '20210815_202053_12_2459', '20210815_202058_05_2429', '20210815_202055_57_2429', '20210815_204455_1010', '20210815_204454_1010', '20210815_204453_1010', '20210801_210822_19_240c', '20210801_210819_89_240c', '20210802_213636_22_1057', '20210802_213634_72_1057', '20210802_203626_91_225a', '20210802_203624_62_225a', '20210802_204543_1012', '20210802_204542_1012', '20210802_204541_1012', '20210801_202256_48_2456', '20210801_202254_00_2456', '20210801_193330_13_106d', '20210801_193328_61_106d', '20210801_193327_08_106d', '20210801_164622_104a', '20210801_164620_104a', '20210801_204541_1003', '20210801_164621_104a', '20210731_204804_0f17', '20210731_204803_0f17', '20210731_204802_0f17', '20210731_201802_89_2212', '20210731_201800_68_2212', '20210726_204316_100c', '20210726_164152_1053', '20210718_204744_100a', '20210718_204743_100a', '20210718_213550_71_1066', '20210717_213412_67_1057', '20210717_213411_17_1057', '20210717_213409_67_1057', '20210717_203016_37_2262', '20210716_202701_03_245d', '20210715_204553_1035', '20210715_204552_1035', '20210715_204551_1035', '20210715_211159_05_2402', '20210715_211156_75_2402', '20210714_204343_1025', '20210704_164734_0f49', '20210704_204515_1040', '20210704_204640_1013', '20210704_204639_1013', '20210704_204638_1013', '20210629_165003_1050', '20210629_165002_1050', '20210629_165001_1050', '20210615_211619_25_2426', '20210615_211616_96_2426', '20210614_164801_0f49', '20210614_164800_0f49', '20210614_164759_0f49', '20210614_164758_0f49', '20210614_205247_1025', '20210613_202526_75_245d', '20210613_193954_72_106c', '20210613_193952_72_106c', '20210611_193904_93_106e', '20210611_193902_91_106e', '20210611_165004_104b', '20210611_165003_104b', '20210606_201944_58_2463', '20210606_202722_10_2428', '20210605_202116_69_222b', '20210605_202114_48_222b', '20210605_165245_1_0f21', '20210605_165245_0f21', '20210524_165520_104b', '20210524_165519_104b', '20210524_165518_104b', '20210518_211341_30_2401', '20210518_211339_01_2401', '20210517_202036_71_2206', '20210517_202034_50_2206', '20210507_165517_1_100d', '20210507_165516_100d', '20210507_165515_100d', '20210501_202302_55_2463', '20210501_202300_20_2463', '20210427_194055_78_106d', '20210427_194054_25_106d', '20210426_203018_09_2262', '20210426_203015_80_2262', '20210426_203132_93_2251', '20210426_170329_0f3c', '20210426_170328_0f3c', '20210426_170327_0f3c', '20210425_165657_1050', '20210425_165655_1050', '20210425_165656_1050', '20210425_165654_1050', '20210425_211428_03_2406', '20210425_211425_74_2406', '20210424_202443_93_2431', '20210423_170031_1_1053', '20210423_170031_1053', '20210423_170030_1053', '20210423_170029_1053', '20210421_165700_0f21', '20210421_165659_0f21', '20210421_165658_0f21', '20210421_211435_88_2254', '20210419_170222_0f36', '20210419_170222_1_0f36', '20210417_194053_34_106a', '20210417_194054_87_106a', '20210417_194051_80_106a', '20210416_165914_1052', '20210416_165915_1052', '20210416_165913_1_1052', '20210407_165956_0f2b', '20210407_165955_1_0f2b', '20210407_165955_0f2b', '20210405_202131_76_2449', '20210403_170039_1054', '20210402_211301_41_2401', '20210401_170343_1_0f3c', '20210327_170646_1054', '20210327_170645_1054', '20210327_170644_1054', '20210327_194230_02_1062', '20210322_202230_85_2462', '20210324_213206_76_1057', '20210324_213204_76_1057', '20210321_203628_23_2264', '20210321_203625_97_2264', '20210322_202354_65_2212', '20210322_202352_44_2212', '20210322_213112_71_1059', '20210322_212009_89_2412', '20210321_202844_45_2439', '20210317_202236_52_2450', '20210317_213042_66_1058', '20210317_194056_46_106e', '20210317_194054_41_106e', '20210317_194052_36_106e', '20210317_205426_1040', '20210317_205425_1040', '20210317_213040_66_1058', '20210313_202718_36_2421', '20210313_202716_01_2421', '20210316_202512_26_2460']\n"
     ]
    }
   ],
   "source": [
    "# get images that overlap with our AOI \n",
    "geometry_filter = {\n",
    "  \"type\": \"GeometryFilter\",\n",
    "  \"field_name\": \"geometry\",\n",
    "  \"config\": AOI_box\n",
    "}\n",
    "\n",
    "# get images acquired within a date range\n",
    "date_range_filter = {\n",
    "  \"type\": \"DateRangeFilter\",\n",
    "  \"field_name\": \"acquired\",\n",
    "  \"config\": {\n",
    "    \"gte\": start_date + \"T00:00:00.000Z\",\n",
    "    \"lte\": end_date + \"T00:00:00.000Z\"\n",
    "  }\n",
    "}\n",
    "\n",
    "# only get images which have <50% cloud coverage\n",
    "cloud_cover_filter = {\n",
    "  \"type\": \"RangeFilter\",\n",
    "  \"field_name\": \"cloud_cover\",\n",
    "  \"config\": {\n",
    "    \"lte\": max_cloud_cover\n",
    "  }\n",
    "}\n",
    "\n",
    "# combine our geo, date, cloud filters\n",
    "combined_filter = {\n",
    "  \"type\": \"AndFilter\",\n",
    "  \"config\": [geometry_filter, date_range_filter, cloud_cover_filter]\n",
    "}\n",
    "\n",
    "# define the clip tool\n",
    "clip = {\n",
    "    \"clip\": {\n",
    "        \"aoi\": AOI_box\n",
    "    }\n",
    "}\n",
    "\n",
    "# API request object\n",
    "QS_request = {\n",
    "  #\"interval\":\"day\",\n",
    "  \"item_types\": [item_type], \n",
    "  \"asset_types\": [asset_type],\n",
    "  \"filter\":combined_filter\n",
    "}\n",
    "\n",
    "# fire off the POST request\n",
    "QS_result = \\\n",
    "  requests.post(\n",
    "    'https://api.planet.com/data/v1/quick-search',\n",
    "    auth=HTTPBasicAuth(PLANET_API_KEY, ''),\n",
    "    json=QS_request)\n",
    "\n",
    "# Print resulting image IDs\n",
    "im_ids = [feature['id'] for feature in QS_result.json()['features']]\n",
    "print(im_ids)"
   ]
  },
  {
   "cell_type": "markdown",
   "metadata": {},
   "source": [
    "### Place Order"
   ]
  },
  {
   "cell_type": "code",
   "execution_count": 7,
   "metadata": {},
   "outputs": [
    {
     "name": "stdout",
     "output_type": "stream",
     "text": [
      "<Response [202]>\n",
      "2ebbd8dd-21a5-45db-9b18-386e32e5adcf\n"
     ]
    }
   ],
   "source": [
    "# set content type to json\n",
    "headers = {'content-type': 'application/json'}\n",
    "\n",
    "# create a request object\n",
    "# (clip images if clip==True)\n",
    "if clip_AOI:\n",
    "    request = {  \n",
    "       \"name\":\"simple order\",\n",
    "       \"products\":[\n",
    "          {\n",
    "              \"item_ids\": im_ids,\n",
    "              \"item_type\": item_type,\n",
    "              \"product_bundle\": asset_type\n",
    "          }\n",
    "       ],\n",
    "        \"tools\": [clip]\n",
    "    }\n",
    "else:\n",
    "    request = {  \n",
    "       \"name\":\"simple order\",\n",
    "       \"products\":[\n",
    "          {\n",
    "              \"item_ids\": im_ids,\n",
    "              \"item_type\": item_type,\n",
    "              \"product_bundle\": asset_type\n",
    "          }\n",
    "       ],\n",
    "    }\n",
    "\n",
    "# define function to place order\n",
    "def place_order(search_request, auth):\n",
    "    response = requests.post(orders_url, data=json.dumps(search_request), auth=auth, headers=headers)\n",
    "    print(response)\n",
    "    order_id = response.json()['id']\n",
    "    print(order_id)\n",
    "    order_url = orders_url + '/' + order_id\n",
    "    return order_url\n",
    "\n",
    "# place order\n",
    "order_url = place_order(request, auth)"
   ]
  },
  {
   "cell_type": "markdown",
   "metadata": {},
   "source": [
    "### Poll for Order Success\n",
    "- This section outputs the status of the order every ~10 sec. This will take a few minutes... \n",
    "- Wait until it outputs `success` to proceed to the next section. It will stop after 30 loops, so try proceeding to the next section if it finishes running and does not output `success`.\n",
    "- If you are ordering a LOT of images, consider narrowing your date range to download less images at a time. "
   ]
  },
  {
   "cell_type": "code",
   "execution_count": 12,
   "metadata": {},
   "outputs": [
    {
     "name": "stdout",
     "output_type": "stream",
     "text": [
      "running\n",
      "running\n",
      "running\n",
      "running\n",
      "running\n",
      "running\n",
      "running\n",
      "running\n",
      "running\n",
      "running\n",
      "running\n",
      "running\n",
      "running\n",
      "running\n",
      "running\n",
      "running\n",
      "running\n",
      "running\n",
      "running\n",
      "running\n",
      "running\n",
      "running\n",
      "running\n",
      "running\n",
      "running\n",
      "running\n",
      "running\n",
      "running\n",
      "running\n",
      "running\n"
     ]
    }
   ],
   "source": [
    "def poll_for_success(order_url, auth, num_loops=30):\n",
    "    count = 0\n",
    "    while(count < num_loops):\n",
    "        count += 1\n",
    "        r = requests.get(order_url, auth=auth)\n",
    "        response = r.json()\n",
    "        state = response['state']\n",
    "        print(state)\n",
    "        end_states = ['success', 'failed', 'partial']\n",
    "        if state in end_states:\n",
    "            break\n",
    "        time.sleep(10)\n",
    "        \n",
    "poll_for_success(order_url, auth)"
   ]
  },
  {
   "cell_type": "markdown",
   "metadata": {},
   "source": [
    "### View Results"
   ]
  },
  {
   "cell_type": "code",
   "execution_count": null,
   "metadata": {},
   "outputs": [],
   "source": [
    "r = requests.get(order_url, auth=auth)\n",
    "response = r.json()\n",
    "results = response['_links']['results']\n",
    "\n",
    "[r['name'] for r in results]"
   ]
  },
  {
   "cell_type": "markdown",
   "metadata": {},
   "source": [
    "### Download each asset individually"
   ]
  },
  {
   "cell_type": "code",
   "execution_count": null,
   "metadata": {},
   "outputs": [],
   "source": [
    "# make directory for images using image dates\n",
    "out_im_path = outpath+start_date+'_'+end_date\n",
    "if os.path.isdir(stitch_path)==0:\n",
    "    os.mkdir(stitch_path)\n",
    "    print(stitch_path+' directory made')\n",
    "\n",
    "# define function to download results\n",
    "def download_results(results, overwrite=False):\n",
    "    results_urls = [r['location'] for r in results]\n",
    "    results_names = [r['name'] for r in results]\n",
    "    print('{} items to download'.format(len(results_urls)))\n",
    "    \n",
    "    for url, name in zip(results_urls, results_names):\n",
    "        path = Path(os.path.join(out_folder,name)) #pathlib.Path(os.path.join('data', name))\n",
    "        \n",
    "        if overwrite or not path.exists():\n",
    "            print('downloading {} to {}'.format(name, path))\n",
    "            r = requests.get(url, allow_redirects=True)\n",
    "            path.parent.mkdir(parents=True, exist_ok=True)\n",
    "            open(path, 'wb').write(r.content)\n",
    "        else:\n",
    "            print('{} already exists, skipping {}'.format(path, name))\n",
    "            \n",
    "# download images!\n",
    "download_results(results)"
   ]
  },
  {
   "cell_type": "markdown",
   "metadata": {},
   "source": [
    "### Visualize downloaded images"
   ]
  },
  {
   "cell_type": "code",
   "execution_count": null,
   "metadata": {},
   "outputs": [],
   "source": [
    "# define helpful functions for visualizing downloaded imagery\n",
    "def show_rgb(img_file):\n",
    "    with rio.open(img_file) as src:\n",
    "        b,g,r,n = src.read()\n",
    "\n",
    "    rgb = np.stack((r,g,b), axis=0)\n",
    "    show(rgb/rgb.max())\n",
    "    \n",
    "def show_gray(img_file):\n",
    "    with rio.open(img_file) as src:\n",
    "        g = src.read(1)\n",
    "    show(g/g.max())\n",
    "    \n",
    "# Replace this path with your image file path\n",
    "img_file = out_folder+'2021-04-20_2021-08-25/PSScene4Band/20211007_202318_88_245c_3B_AnalyticMS_clip.tif'\n",
    "show_rgb(img_file)"
   ]
  },
  {
   "cell_type": "markdown",
   "metadata": {},
   "source": [
    "## You did it!\n",
    "\n",
    "<div>\n",
    "<img src=\"sandy-cheeks.jpeg\" width=\"400\"/>\n",
    "</div>"
   ]
  }
 ],
 "metadata": {
  "kernelspec": {
   "display_name": "Python 3",
   "language": "python",
   "name": "python3"
  },
  "language_info": {
   "codemirror_mode": {
    "name": "ipython",
    "version": 3
   },
   "file_extension": ".py",
   "mimetype": "text/x-python",
   "name": "python",
   "nbconvert_exporter": "python",
   "pygments_lexer": "ipython3",
   "version": "3.8.5"
  }
 },
 "nbformat": 4,
 "nbformat_minor": 4
}
