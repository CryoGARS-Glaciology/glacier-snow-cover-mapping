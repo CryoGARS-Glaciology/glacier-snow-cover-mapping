{
 "cells": [
  {
   "cell_type": "markdown",
   "metadata": {},
   "source": [
    "## Notebook to bulk download Planet imagery through the API\n",
    "Rainey Aberle, Fall 2021\n",
    "\n",
    "Modified from [Planet Developers API Tutorial](https://developers.planet.com/docs/apis/data/) and Planet Labs GitHub Repository: [planetlabs/notebooks/jupyter-notebooks/orders/](https://github.com/planetlabs/notebooks/tree/master/jupyter-notebooks/orders)\n",
    "\n",
    "\n",
    "__To-Do:__\n",
    "- View image footprints before downloading.  \n",
    "- Implement percent AOI coverage filter for image search"
   ]
  },
  {
   "cell_type": "markdown",
   "metadata": {},
   "source": [
    "### Import necessary packages"
   ]
  },
  {
   "cell_type": "code",
   "execution_count": 2,
   "metadata": {},
   "outputs": [],
   "source": [
    "import os\n",
    "import json\n",
    "import requests\n",
    "import time\n",
    "import geopandas as gpd\n",
    "from pathlib import Path\n",
    "import rasterio as rio\n",
    "import numpy as np\n",
    "from rasterio.plot import show\n",
    "from requests.auth import HTTPBasicAuth"
   ]
  },
  {
   "cell_type": "markdown",
   "metadata": {},
   "source": [
    "### Define filters for image search\n",
    "#### _Modify these sections_"
   ]
  },
  {
   "cell_type": "code",
   "execution_count": null,
   "metadata": {},
   "outputs": [],
   "source": [
    "# ----------Area of Interest (AOI)----------\n",
    "#### OPTION 1: Use geojson.io to create a polygon\n",
    "#    - Type geojson.io into a new browser page\n",
    "#    - Draw a RECTANGULAR polygon over your AOI  \n",
    "#    - Copy only the geometry below\n",
    "# AOI_box = {\n",
    "#         \"type\": \"Polygon\",\n",
    "#         \"coordinates\": [\n",
    "#           [\n",
    "#             [\n",
    "#               -148.96774291992188,\n",
    "#               60.366355109034046\n",
    "#             ],\n",
    "#             [\n",
    "#               -148.84963989257812,\n",
    "#               60.366355109034046\n",
    "#             ],\n",
    "#             [\n",
    "#               -148.84963989257812,\n",
    "#               60.440285056170616\n",
    "#             ],\n",
    "#             [\n",
    "#               -148.96774291992188,\n",
    "#               60.440285056170616\n",
    "#             ],\n",
    "#             [\n",
    "#               -148.96774291992188,\n",
    "#               60.366355109034046\n",
    "#             ]\n",
    "#           ]\n",
    "#         ]\n",
    "#       }\n",
    "# AOI_box"
   ]
  },
  {
   "cell_type": "code",
   "execution_count": null,
   "metadata": {},
   "outputs": [],
   "source": [
    "#### OPTION 2: Import an existing shapefile\n",
    "\n",
    "# Name of your file\n",
    "# If your shapefile is not currently in this directory, you need to include the full file path in 'file_name' below\n",
    "file_name = 'inputs/wolverineGlacier.shp'\n",
    "\n",
    "# Read in the shapefile\n",
    "AOI = gpd.read_file(file_name)\n",
    "\n",
    "# File extension index (we don't want the .shp extension in the next line)\n",
    "i = file_name.index('.shp')\n",
    "\n",
    "# Convert to geojson\n",
    "AOI.to_file(file_name[0:i]+'.geojson', driver='GeoJSON')\n",
    "\n",
    "# Adjust AOI polygon to a rectangular shape \n",
    "# Planet only excepts a bounding BOX as a spatial filter, \n",
    "# so we need to convert our AOI to a box (if it is not already). \n",
    "AOI_box = {\"type\": \"Polygon\",\n",
    "           \"coordinates\": [[\n",
    "               [AOI.bounds.minx[0],AOI.bounds.miny[0]],\n",
    "               [AOI.bounds.maxx[0],AOI.bounds.miny[0]],\n",
    "               [AOI.bounds.maxx[0],AOI.bounds.maxy[0]],\n",
    "               [AOI.bounds.minx[0],AOI.bounds.maxy[0]],\n",
    "               [AOI.bounds.minx[0],AOI.bounds.miny[0]]\n",
    "           ]]\n",
    "          }\n",
    "AOI_box"
   ]
  },
  {
   "cell_type": "code",
   "execution_count": null,
   "metadata": {},
   "outputs": [],
   "source": [
    "# ----------AOI clipping----------\n",
    "# Would you like to clip images to the AOI (True/False)?\n",
    "# This greatly speeds up the ordering and downloading process.\n",
    "clip_AOI = True\n",
    "\n",
    "# ----------Date Range----------\n",
    "# Format: 'YYYY-MM-DD'\n",
    "start_date = \"2021-04-20\"\n",
    "end_date = \"2021-08-25\"\n",
    "\n",
    "# ----------Cloud Filter----------\n",
    "# Format: decimal (e.g., 50% max cloud cover = 0.5)\n",
    "max_cloud_cover = 0.2\n",
    "\n",
    "# ----------Item Type----------\n",
    "# See here for possible image (\"item\") types:\n",
    "# https://developers.planet.com/docs/apis/data/items-assets/\n",
    "item_type = \"PSScene4Band\"\n",
    "\n",
    "# ----------Asset Type----------\n",
    "# Each Item Type has a number of asset types to choose from.\n",
    "# Use the Item Type link above click on your Item Type to view the available Asset Types\n",
    "asset_type = \"analytic_sr\"\n",
    "\n",
    "# ----------Planet API Key----------\n",
    "# Find your API key on your Planet Account: account.planet.com\n",
    "# My Settings > API Key\n",
    "API_key = '21d92c1c372146c089f0182295d3b028'\n",
    "\n",
    "# ----------Output folder----------\n",
    "# AKA, where you want your images to be downloaded in your directory\n",
    "out_folder = '/Users/raineyaberle/Desktop/Research/PhD/Wolverine/images/'"
   ]
  },
  {
   "cell_type": "markdown",
   "metadata": {},
   "source": [
    "---------------------\n",
    "### Authentication via basic HTTP"
   ]
  },
  {
   "cell_type": "code",
   "execution_count": null,
   "metadata": {},
   "outputs": [],
   "source": [
    "# set API key as environment variable\n",
    "os.environ['PL_API_KEY'] = API_key\n",
    "\n",
    "# Setup the API Key stored as the `PL_API_KEY` environment variable\n",
    "PLANET_API_KEY = os.getenv('PL_API_KEY')\n",
    "\n",
    "# Orders URL\n",
    "orders_url = 'https://api.planet.com/compute/ops/orders/v2'\n",
    "\n",
    "# Authorize\n",
    "auth = HTTPBasicAuth(PLANET_API_KEY, '')\n",
    "response = requests.get(orders_url, auth=auth)\n",
    "response"
   ]
  },
  {
   "cell_type": "markdown",
   "metadata": {},
   "source": [
    "### Compile filters and use Quick Search to grab image IDs"
   ]
  },
  {
   "cell_type": "code",
   "execution_count": null,
   "metadata": {},
   "outputs": [],
   "source": [
    "# get images that overlap with our AOI \n",
    "geometry_filter = {\n",
    "  \"type\": \"GeometryFilter\",\n",
    "  \"field_name\": \"geometry\",\n",
    "  \"config\": AOI_box\n",
    "}\n",
    "\n",
    "# get images acquired within a date range\n",
    "date_range_filter = {\n",
    "  \"type\": \"DateRangeFilter\",\n",
    "  \"field_name\": \"acquired\",\n",
    "  \"config\": {\n",
    "    \"gte\": start_date + \"T00:00:00.000Z\",\n",
    "    \"lte\": end_date + \"T00:00:00.000Z\"\n",
    "  }\n",
    "}\n",
    "\n",
    "# only get images which have <50% cloud coverage\n",
    "cloud_cover_filter = {\n",
    "  \"type\": \"RangeFilter\",\n",
    "  \"field_name\": \"cloud_cover\",\n",
    "  \"config\": {\n",
    "    \"lte\": max_cloud_cover\n",
    "  }\n",
    "}\n",
    "\n",
    "# combine our geo, date, cloud filters\n",
    "combined_filter = {\n",
    "  \"type\": \"AndFilter\",\n",
    "  \"config\": [geometry_filter, date_range_filter, cloud_cover_filter]\n",
    "}\n",
    "\n",
    "# define the clip tool\n",
    "clip = {\n",
    "    \"clip\": {\n",
    "        \"aoi\": AOI_box\n",
    "    }\n",
    "}\n",
    "\n",
    "# API request object\n",
    "QS_request = {\n",
    "  #\"interval\":\"day\",\n",
    "  \"item_types\": [item_type], \n",
    "  \"asset_types\": [asset_type],\n",
    "  \"filter\":combined_filter\n",
    "}\n",
    "\n",
    "# fire off the POST request\n",
    "QS_result = \\\n",
    "  requests.post(\n",
    "    'https://api.planet.com/data/v1/quick-search',\n",
    "    auth=HTTPBasicAuth(PLANET_API_KEY, ''),\n",
    "    json=QS_request)\n",
    "\n",
    "# Print resulting image IDs\n",
    "im_ids = [feature['id'] for feature in QS_result.json()['features']]\n",
    "print(im_ids)"
   ]
  },
  {
   "cell_type": "markdown",
   "metadata": {},
   "source": [
    "### Place Order"
   ]
  },
  {
   "cell_type": "code",
   "execution_count": null,
   "metadata": {},
   "outputs": [],
   "source": [
    "# set content type to json\n",
    "headers = {'content-type': 'application/json'}\n",
    "\n",
    "# create a request object\n",
    "# (clip images if clip==True)\n",
    "if clip_AOI:\n",
    "    request = {  \n",
    "       \"name\":\"simple order\",\n",
    "       \"products\":[\n",
    "          {\n",
    "              \"item_ids\": im_ids,\n",
    "              \"item_type\": item_type,\n",
    "              \"product_bundle\": asset_type\n",
    "          }\n",
    "       ],\n",
    "        \"tools\": [clip]\n",
    "    }\n",
    "else:\n",
    "    request = {  \n",
    "       \"name\":\"simple order\",\n",
    "       \"products\":[\n",
    "          {\n",
    "              \"item_ids\": im_ids,\n",
    "              \"item_type\": item_type,\n",
    "              \"product_bundle\": asset_type\n",
    "          }\n",
    "       ],\n",
    "    }\n",
    "\n",
    "# define function to place order\n",
    "def place_order(search_request, auth):\n",
    "    response = requests.post(orders_url, data=json.dumps(search_request), auth=auth, headers=headers)\n",
    "    print(response)\n",
    "    order_id = response.json()['id']\n",
    "    print(order_id)\n",
    "    order_url = orders_url + '/' + order_id\n",
    "    return order_url\n",
    "\n",
    "# place order\n",
    "order_url = place_order(request, auth)"
   ]
  },
  {
   "cell_type": "markdown",
   "metadata": {},
   "source": [
    "### Poll for Order Success\n",
    "- This section outputs the status of the order every ~10 sec. This will take a few minutes... \n",
    "- Wait until it outputs `success` to proceed to the next section. It will stop after 30 loops, so try proceeding to the next section if it finishes running and does not output `success`.\n",
    "- If you are ordering a LOT of images, consider narrowing your date range to download less images at a time. "
   ]
  },
  {
   "cell_type": "code",
   "execution_count": null,
   "metadata": {},
   "outputs": [],
   "source": [
    "def poll_for_success(order_url, auth, num_loops=30):\n",
    "    count = 0\n",
    "    while(count < num_loops):\n",
    "        count += 1\n",
    "        r = requests.get(order_url, auth=auth)\n",
    "        response = r.json()\n",
    "        state = response['state']\n",
    "        print(state)\n",
    "        end_states = ['success', 'failed', 'partial']\n",
    "        if state in end_states:\n",
    "            break\n",
    "        time.sleep(10)\n",
    "        \n",
    "poll_for_success(order_url, auth)"
   ]
  },
  {
   "cell_type": "markdown",
   "metadata": {},
   "source": [
    "### View Results"
   ]
  },
  {
   "cell_type": "code",
   "execution_count": null,
   "metadata": {},
   "outputs": [],
   "source": [
    "r = requests.get(order_url, auth=auth)\n",
    "response = r.json()\n",
    "results = response['_links']['results']\n",
    "\n",
    "[r['name'] for r in results]"
   ]
  },
  {
   "cell_type": "markdown",
   "metadata": {},
   "source": [
    "### Download each asset individually"
   ]
  },
  {
   "cell_type": "code",
   "execution_count": null,
   "metadata": {},
   "outputs": [],
   "source": [
    "# define function to download results\n",
    "def download_results(results, overwrite=False):\n",
    "    results_urls = [r['location'] for r in results]\n",
    "    results_names = [r['name'] for r in results]\n",
    "    print('{} items to download'.format(len(results_urls)))\n",
    "    \n",
    "    for url, name in zip(results_urls, results_names):\n",
    "        path = Path(os.path.join(out_folder,name)) #pathlib.Path(os.path.join('data', name))\n",
    "        \n",
    "        if overwrite or not path.exists():\n",
    "            print('downloading {} to {}'.format(name, path))\n",
    "            r = requests.get(url, allow_redirects=True)\n",
    "            path.parent.mkdir(parents=True, exist_ok=True)\n",
    "            open(path, 'wb').write(r.content)\n",
    "        else:\n",
    "            print('{} already exists, skipping {}'.format(path, name))\n",
    "            \n",
    "# download images!\n",
    "download_results(results)"
   ]
  },
  {
   "cell_type": "markdown",
   "metadata": {},
   "source": [
    "### Visualize downloaded images"
   ]
  },
  {
   "cell_type": "code",
   "execution_count": null,
   "metadata": {},
   "outputs": [],
   "source": [
    "# define helpful functions for visualizing downloaded imagery\n",
    "def show_rgb(img_file):\n",
    "    with rio.open(img_file) as src:\n",
    "        b,g,r,n = src.read()\n",
    "\n",
    "    rgb = np.stack((r,g,b), axis=0)\n",
    "    show(rgb/rgb.max())\n",
    "    \n",
    "def show_gray(img_file):\n",
    "    with rio.open(img_file) as src:\n",
    "        g = src.read(1)\n",
    "    show(g/g.max())\n",
    "    \n",
    "# Replace this path with your image file path\n",
    "img_file = out_folder+'2021-04-20_2021-08-25/PSScene4Band/20211007_202318_88_245c_3B_AnalyticMS_clip.tif'\n",
    "show_rgb(img_file)"
   ]
  },
  {
   "cell_type": "markdown",
   "metadata": {},
   "source": [
    "## You did it!\n",
    "\n",
    "<div>\n",
    "<img src=\"sandy-cheeks.jpeg\" width=\"400\"/>\n",
    "</div>"
   ]
  }
 ],
 "metadata": {
  "kernelspec": {
   "display_name": "Python 3 (ipykernel)",
   "language": "python",
   "name": "python3"
  },
  "language_info": {
   "codemirror_mode": {
    "name": "ipython",
    "version": 3
   },
   "file_extension": ".py",
   "mimetype": "text/x-python",
   "name": "python",
   "nbconvert_exporter": "python",
   "pygments_lexer": "ipython3",
   "version": "3.10.2"
  }
 },
 "nbformat": 4,
 "nbformat_minor": 4
}
