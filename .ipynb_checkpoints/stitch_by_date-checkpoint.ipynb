{
 "cells": [
  {
   "cell_type": "code",
   "execution_count": null,
   "metadata": {},
   "outputs": [],
   "source": [
    "import os\n",
    "from osgeo import gdal, ogr\n",
    "import subprocess"
   ]
  },
  {
   "cell_type": "code",
   "execution_count": null,
   "metadata": {},
   "outputs": [],
   "source": [
    "### ---path to images--- ###\n",
    "basepath = '/Users/raineyaberle/Research/PhD/Wolverine/images/2021-04-20_2021-08-25/PSScene4Band/'\n",
    "\n",
    "### ---path for output stitched images--- ###\n",
    "outpath = '/Users/raineyaberle/Research/PhD/Wolverine/images/2021-04-20_2021-08-25/SR-stitched/'\n",
    "\n",
    "### ---extension for mosaicing--- ###\n",
    "ext = 'SR'\n",
    "# ext = 'udm2'\n",
    "# ext = 'DN_udm'"
   ]
  },
  {
   "cell_type": "markdown",
   "metadata": {},
   "source": [
    "## Mosaic image files with a specified extension"
   ]
  },
  {
   "cell_type": "code",
   "execution_count": null,
   "metadata": {},
   "outputs": [],
   "source": [
    "uniquescenes = [] # grab unique scenes from a folder with all scenefiles\n",
    "for scene in os.listdir(basepath):\n",
    "    date = scene[0:8]\n",
    "    uniquescenes.append(date)\n",
    "uniquescenes = list(set(uniquescenes))\n",
    "uniquescenes.sort() # sort in order\n",
    "uniquescenes"
   ]
  },
  {
   "cell_type": "code",
   "execution_count": null,
   "metadata": {},
   "outputs": [],
   "source": [
    "for scene in uniquescenes:\n",
    "    filepaths = [] # files from the same date to mosaic together\n",
    "    for file in os.listdir(basepath): # check all files\n",
    "        if file.startswith(scene) and file.endswith(ext+'_clip.tif'): # if they match the scene date and end in the right extension\n",
    "            filepaths.append(basepath+file) # add the path to the file\n",
    "    \n",
    "    # construct the gdal_merge command\n",
    "    cmd = 'gdal_merge.py -v '\n",
    "\n",
    "    # add in input files\n",
    "    for filepath in filepaths:\n",
    "        cmd += filepath+' '\n",
    "    \n",
    "    # define the out path with correct extension\n",
    "    if ext == 'DN_udm':\n",
    "        out = os.path.join(outpath, out_dir, scene + \"_DN_mask.tif\")\n",
    "    elif ext == 'udm2':\n",
    "        out = os.path.join(outpath, out_dir, scene + \"_mask.tif\")\n",
    "    else:\n",
    "        out = os.path.join(outpath, out_dir, scene + \".tif\")\n",
    "\n",
    "    cmd += '-o '+out\n",
    "\n",
    "    # Run the command \n",
    "    p = subprocess.run(cmd, shell=True, capture_output=True) \n",
    "    print(p)"
   ]
  },
  {
   "cell_type": "code",
   "execution_count": null,
   "metadata": {},
   "outputs": [],
   "source": [
    "# Print files in outpath to verify\n",
    "os.listdir(outpath)"
   ]
  }
 ],
 "metadata": {
  "kernelspec": {
   "display_name": "Python 3 (ipykernel)",
   "language": "python",
   "name": "python3"
  },
  "language_info": {
   "codemirror_mode": {
    "name": "ipython",
    "version": 3
   },
   "file_extension": ".py",
   "mimetype": "text/x-python",
   "name": "python",
   "nbconvert_exporter": "python",
   "pygments_lexer": "ipython3",
   "version": "3.8.5"
  }
 },
 "nbformat": 4,
 "nbformat_minor": 4
}
