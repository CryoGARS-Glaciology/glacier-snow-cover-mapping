{
 "cells": [
  {
   "cell_type": "markdown",
   "id": "6ed430d2",
   "metadata": {},
   "source": [
    "### Notebook to calculate modified NDSI (MNDSI) for identifying snow in PlanetScope 4-band imagery\n",
    "Rainey Aberle\n",
    "\n",
    "December 2021\n",
    "\n",
    "__To-Do:__\n",
    "- crop image to AOI before computing area of snow"
   ]
  },
  {
   "cell_type": "code",
   "execution_count": 7,
   "id": "f4e7fcf6",
   "metadata": {},
   "outputs": [],
   "source": [
    "# Install any necessary packages listed below\n",
    "#!pip3 install earthpy"
   ]
  },
  {
   "cell_type": "code",
   "execution_count": 6,
   "id": "2060f810",
   "metadata": {},
   "outputs": [],
   "source": [
    "# Import packages\n",
    "import geopandas as gpd\n",
    "import os\n",
    "import numpy as np\n",
    "import rasterio as rio\n",
    "from rasterio.mask import mask\n",
    "from rasterio.plot import show\n",
    "import earthpy.spatial as es\n",
    "import matplotlib.dates as mdates\n",
    "from matplotlib.dates import DateFormatter\n",
    "import matplotlib.pyplot as plt\n",
    "import glob\n",
    "\n",
    "# base directory\n",
    "basepath = '/Users/raineyaberle/Research/PhD/Wolverine/'\n",
    "# image directory\n",
    "impath = basepath+'imagery/Planet/2021-04-20_2021-08-25/SR-stitched/'\n",
    "# output folder\n",
    "outpath = basepath+'imagery/Planet/2021-04-20_2021-08-25/MNDSI'"
   ]
  },
  {
   "cell_type": "code",
   "execution_count": null,
   "id": "b1874ebd",
   "metadata": {},
   "outputs": [],
   "source": [
    "### Area of Interest (AOI) ###\n",
    "# Read in shapefile with AOI polygon\n",
    "fn = basepath+'GIS_data/wolverine_RGI.shp'\n",
    "AOI = gpd.read_file(fn)\n",
    "print('Original shapefile CRS:',AOI.crs)\n",
    "\n",
    "# Reproject to imagery CRS if necessary\n",
    "AOI = AOI.to_crs(32606)\n",
    "\n",
    "# print information\n",
    "print('Reprojected shapefile CRS: ',AOI.crs)\n",
    "print('Shapefile bounds:',AOI.boundary)"
   ]
  },
  {
   "cell_type": "code",
   "execution_count": null,
   "id": "521f1a24",
   "metadata": {},
   "outputs": [],
   "source": [
    "### Load images ###\n",
    "os.chdir(impath) # change directory\n",
    "im_names = glob.glob('*.tif') # load all .tif file names\n",
    "im_names.sort() # sort file names by date\n",
    "print(im_names)"
   ]
  },
  {
   "cell_type": "code",
   "execution_count": null,
   "id": "cbf0f787",
   "metadata": {},
   "outputs": [],
   "source": [
    "### Compute MNDSI ###\n",
    "\n",
    "# function to calculate MNDSI\n",
    "def calculate_mndsi(nir,red):\n",
    "    mndsi = es.normalized_diff(nir, red)\n",
    "    return mndsi\n",
    "\n",
    "# loop through images\n",
    "snow_areas = []\n",
    "dates=[]\n",
    "for im_name in im_names:\n",
    "    \n",
    "    # open image\n",
    "    im = rio.open(im_name)\n",
    "    im_mask = rio.mask.mask(im,AOI.geometry,crop=True)\n",
    "    \n",
    "    # define bands, convert to TOA reflectance\n",
    "    red = im.read(3)\n",
    "    nir = im.read(4)\n",
    "    # compute MNDSI\n",
    "    mndsi = calculate_mndsi(nir,red) \n",
    "    \n",
    "    # threshold MNDSI to determine snow cover\n",
    "    thresh = 5.6\n",
    "    snow = np.where(mndsi<thresh,1,np.nan)\n",
    "    #snow_mask = rio.mask.mask(snow,AOI,crop=True)\n",
    "    \n",
    "    # calculate total area of snow\n",
    "    pA = im.res[0]*im.res[1] # pixel area [m^2]\n",
    "    snow_count = np.count_nonzero(~np.isnan(snow)) # number of snow pixels\n",
    "    snow_A = pA * snow_count /10e3 # area of snow [km^2]\n",
    "    snow_areas = snow_areas + [snow_A]\n",
    "    print('Area of snow = ',snow_A/10e3,' km^2')\n",
    "    \n",
    "    # extract date from image name\n",
    "    date = im_name[0:4] + '-' + im_name[4:6] + '-' + im_name[6:8]\n",
    "    dates = dates + [np.datetime64(date)]\n",
    "    \n",
    "    # plot \n",
    "    fig, ax1 = plt.subplots(1,1,figsize=(8,8))\n",
    "    ax1.set_title(date)\n",
    "    #show(mndsi, transform=im.transform, cmap='Purples', clim=(0,1), ax=ax1)\n",
    "    show(snow, transform=im.transform, cmap='Blues', clim=(0,1), ax=ax1)\n",
    "    AOI.plot(ax=ax1,facecolor='none',edgecolor='black')\n",
    "    plt.show()"
   ]
  },
  {
   "cell_type": "code",
   "execution_count": null,
   "id": "83ef6c3a",
   "metadata": {},
   "outputs": [],
   "source": [
    "# plot dates and areas\n",
    "fig, ax = plt.subplots(1,1,figsize=(6,6))\n",
    "plt.plot(dates,snow_areas,'-b')\n",
    "plt.grid()\n",
    "plt.ylabel('Area of Snow [km^2]')\n",
    "ax.xaxis.set_major_formatter(mdates.DateFormatter('%Y-%m'))\n",
    "# Rotates and right-aligns the x labels so they don't crowd each other.\n",
    "for label in ax.get_xticklabels(which='major'):\n",
    "    label.set(rotation=30, horizontalalignment='right')\n",
    "plt.show()"
   ]
  },
  {
   "cell_type": "code",
   "execution_count": null,
   "id": "aed928e0",
   "metadata": {},
   "outputs": [],
   "source": []
  }
 ],
 "metadata": {
  "kernelspec": {
   "display_name": "Python 3 (ipykernel)",
   "language": "python",
   "name": "python3"
  },
  "language_info": {
   "codemirror_mode": {
    "name": "ipython",
    "version": 3
   },
   "file_extension": ".py",
   "mimetype": "text/x-python",
   "name": "python",
   "nbconvert_exporter": "python",
   "pygments_lexer": "ipython3",
   "version": "3.8.5"
  }
 },
 "nbformat": 4,
 "nbformat_minor": 5
}
