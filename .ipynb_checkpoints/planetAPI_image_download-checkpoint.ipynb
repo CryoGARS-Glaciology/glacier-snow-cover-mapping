{
 "cells": [
  {
   "cell_type": "markdown",
   "metadata": {},
   "source": [
    "## Notebook to bulk download Planet imagery through the API\n",
    "Rainey Aberle, Fall 2021\n",
    "\n",
    "Modified from [Planet Developers API Tutorial](https://developers.planet.com/docs/apis/data/) and Planet Labs GitHub Repository: [planetlabs/notebooks/jupyter-notebooks/orders/](https://github.com/planetlabs/notebooks/tree/master/jupyter-notebooks/orders)\n",
    "\n",
    "\n",
    "__To-Do:__\n",
    "- View image footprints before downloading. Will need to download only the metadata first, then plot the coordinates over a regional map. \n",
    "- Implement percent AOI coverage filter for image search"
   ]
  },
  {
   "cell_type": "markdown",
   "metadata": {},
   "source": [
    "### Import necessary packages"
   ]
  },
  {
   "cell_type": "code",
   "execution_count": 1,
   "metadata": {},
   "outputs": [],
   "source": [
    "import os\n",
    "import json\n",
    "import requests\n",
    "import time\n",
    "import geopandas as gpd\n",
    "from pathlib import Path\n",
    "import rasterio as rio\n",
    "import numpy as np\n",
    "from rasterio.plot import show\n",
    "from requests.auth import HTTPBasicAuth"
   ]
  },
  {
   "cell_type": "code",
   "execution_count": 2,
   "metadata": {},
   "outputs": [],
   "source": [
    "# If you don't have one of these packages installed, install it here, then run the previous cell again.\n",
    "# !conda install -c conda-forge geopandas"
   ]
  },
  {
   "cell_type": "markdown",
   "metadata": {},
   "source": [
    "### Install Planet API Client\n",
    "\n",
    "This will allow you to interact with the Planet API through this notebook. Refer to the __[Planet API documentation](https://developers.planet.com/docs/apis/data/)__ for more info. "
   ]
  },
  {
   "cell_type": "code",
   "execution_count": 3,
   "metadata": {},
   "outputs": [
    {
     "name": "stdout",
     "output_type": "stream",
     "text": [
      "Requirement already satisfied: planet in /Users/raineyaberle/opt/anaconda3/lib/python3.8/site-packages (1.4.7)\r\n",
      "Requirement already satisfied: click in /Users/raineyaberle/opt/anaconda3/lib/python3.8/site-packages (from planet) (8.0.3)\r\n",
      "Requirement already satisfied: requests in /Users/raineyaberle/opt/anaconda3/lib/python3.8/site-packages (from planet) (2.26.0)\r\n",
      "Requirement already satisfied: requests-futures==0.9.7 in /Users/raineyaberle/opt/anaconda3/lib/python3.8/site-packages (from planet) (0.9.7)\r\n",
      "Requirement already satisfied: certifi>=2017.4.17 in /Users/raineyaberle/opt/anaconda3/lib/python3.8/site-packages (from requests->planet) (2021.10.8)\r\n",
      "Requirement already satisfied: urllib3<1.27,>=1.21.1 in /Users/raineyaberle/opt/anaconda3/lib/python3.8/site-packages (from requests->planet) (1.26.7)\r\n",
      "Requirement already satisfied: charset-normalizer~=2.0.0 in /Users/raineyaberle/opt/anaconda3/lib/python3.8/site-packages (from requests->planet) (2.0.4)\r\n",
      "Requirement already satisfied: idna<4,>=2.5 in /Users/raineyaberle/opt/anaconda3/lib/python3.8/site-packages (from requests->planet) (3.2)\r\n"
     ]
    }
   ],
   "source": [
    "!pip3 install planet"
   ]
  },
  {
   "cell_type": "markdown",
   "metadata": {},
   "source": [
    "### Define filters for image search\n",
    "#### _Modify these sections_"
   ]
  },
  {
   "cell_type": "code",
   "execution_count": 4,
   "metadata": {},
   "outputs": [],
   "source": [
    "# ----------Area of Interest (AOI)----------\n",
    "#### OPTION 1: Use geojson.io to create a polygon\n",
    "#    - Type geojson.io into a new browser page\n",
    "#    - Draw a RECTANGULAR polygon over your AOI  \n",
    "#    - Copy only the geometry below\n",
    "# AOI_box = {\n",
    "#         \"type\": \"Polygon\",\n",
    "#         \"coordinates\": [\n",
    "#           [\n",
    "#             [\n",
    "#               -148.96774291992188,\n",
    "#               60.366355109034046\n",
    "#             ],\n",
    "#             [\n",
    "#               -148.84963989257812,\n",
    "#               60.366355109034046\n",
    "#             ],\n",
    "#             [\n",
    "#               -148.84963989257812,\n",
    "#               60.440285056170616\n",
    "#             ],\n",
    "#             [\n",
    "#               -148.96774291992188,\n",
    "#               60.440285056170616\n",
    "#             ],\n",
    "#             [\n",
    "#               -148.96774291992188,\n",
    "#               60.366355109034046\n",
    "#             ]\n",
    "#           ]\n",
    "#         ]\n",
    "#       }\n",
    "# AOI_box"
   ]
  },
  {
   "cell_type": "code",
   "execution_count": 5,
   "metadata": {},
   "outputs": [
    {
     "data": {
      "text/plain": [
       "{'type': 'Polygon',\n",
       " 'coordinates': [[[-148.97493073077095, 60.35056373052069],\n",
       "   [-148.83419955670448, 60.35056373052069],\n",
       "   [-148.83419955670448, 60.45403189448731],\n",
       "   [-148.97493073077095, 60.45403189448731],\n",
       "   [-148.97493073077095, 60.35056373052069]]]}"
      ]
     },
     "execution_count": 5,
     "metadata": {},
     "output_type": "execute_result"
    }
   ],
   "source": [
    "#### OPTION 2: Import an existing shapefile\n",
    "\n",
    "# Name of your file\n",
    "# If your shapefile is not currently in this directory, you need to include the full file path in 'file_name' below\n",
    "file_name = 'inputs/wolverineGlacier.shp'\n",
    "\n",
    "# Read in the shapefile\n",
    "AOI = gpd.read_file(file_name)\n",
    "\n",
    "# File extension index (we don't want the .shp extension in the next line)\n",
    "i = file_name.index('.shp')\n",
    "\n",
    "# Convert to geojson\n",
    "AOI.to_file(file_name[0:i]+'.geojson', driver='GeoJSON')\n",
    "\n",
    "# Adjust AOI polygon to a rectangular shape \n",
    "# Planet only excepts a bounding BOX as a spatial filter, \n",
    "# so we need to convert our AOI to a box (if it is not already). \n",
    "AOI_box = {\"type\": \"Polygon\",\n",
    "           \"coordinates\": [[\n",
    "               [AOI.bounds.minx[0],AOI.bounds.miny[0]],\n",
    "               [AOI.bounds.maxx[0],AOI.bounds.miny[0]],\n",
    "               [AOI.bounds.maxx[0],AOI.bounds.maxy[0]],\n",
    "               [AOI.bounds.minx[0],AOI.bounds.maxy[0]],\n",
    "               [AOI.bounds.minx[0],AOI.bounds.miny[0]]\n",
    "           ]]\n",
    "          }\n",
    "AOI_box"
   ]
  },
  {
   "cell_type": "code",
   "execution_count": 6,
   "metadata": {},
   "outputs": [],
   "source": [
    "# ----------AOI clipping----------\n",
    "# Would you like to clip images to the AOI (True/False)?\n",
    "# This greatly speeds up the ordering and downloading process.\n",
    "clip_AOI = True\n",
    "\n",
    "# ----------Date Range----------\n",
    "# Format: 'YYYY-MM-DD'\n",
    "start_date = \"2021-04-20\"\n",
    "end_date = \"2021-04-30\"\n",
    "\n",
    "# ----------Cloud Filter----------\n",
    "# Format: decimal (e.g., 50% max cloud cover = 0.5)\n",
    "max_cloud_cover = 0.2\n",
    "\n",
    "# ----------Item Type----------\n",
    "# See here for possible image (\"item\") types:\n",
    "# https://developers.planet.com/docs/apis/data/items-assets/\n",
    "item_type = \"PSScene4Band\"\n",
    "\n",
    "# ----------Asset Type----------\n",
    "# Each Item Type has a number of asset types to choose from.\n",
    "# Use the Item Type link above click on your Item Type to view the available Asset Types\n",
    "asset_type = \"analytic_sr\"\n",
    "\n",
    "# ----------Planet API Key----------\n",
    "# Find your API key on your Planet Account: account.planet.com\n",
    "# My Settings > API Key\n",
    "API_key = '21d92c1c372146c089f0182295d3b028'\n",
    "\n",
    "# ----------Output folder----------\n",
    "# AKA, where you want your images to be downloaded in your directory\n",
    "out_folder = '/Users/raineyaberle/Desktop/Research/PhD/Wolverine/images/'"
   ]
  },
  {
   "cell_type": "markdown",
   "metadata": {},
   "source": [
    "---------------------\n",
    "### Authentication via basic HTTP"
   ]
  },
  {
   "cell_type": "code",
   "execution_count": 7,
   "metadata": {},
   "outputs": [
    {
     "data": {
      "text/plain": [
       "<Response [200]>"
      ]
     },
     "execution_count": 7,
     "metadata": {},
     "output_type": "execute_result"
    }
   ],
   "source": [
    "# set API key as environment variable\n",
    "os.environ['PL_API_KEY'] = API_key\n",
    "\n",
    "# Setup the API Key stored as the `PL_API_KEY` environment variable\n",
    "PLANET_API_KEY = os.getenv('PL_API_KEY')\n",
    "\n",
    "# Orders URL\n",
    "orders_url = 'https://api.planet.com/compute/ops/orders/v2'\n",
    "\n",
    "# Authorize\n",
    "auth = HTTPBasicAuth(PLANET_API_KEY, '')\n",
    "response = requests.get(orders_url, auth=auth)\n",
    "response"
   ]
  },
  {
   "cell_type": "markdown",
   "metadata": {},
   "source": [
    "### Compile filters and use Quick Search to grab image IDs"
   ]
  },
  {
   "cell_type": "code",
   "execution_count": 8,
   "metadata": {},
   "outputs": [
    {
     "name": "stdout",
     "output_type": "stream",
     "text": [
      "['20210821_204640_1013', '20210821_201830_73_2428', '20210821_201828_26_2428', '20210818_204911_1014', '20210818_204909_1014', '20210818_164256_104e', '20210818_204910_1014', '20210818_164255_104e', '20210816_202318_59_242a', '20210816_202316_11_242a', '20210815_202832_67_225a', '20210815_202830_37_225a', '20210815_202055_60_2459', '20210815_202053_12_2459', '20210815_202058_05_2429', '20210815_202055_57_2429', '20210815_204455_1010', '20210815_204454_1010', '20210815_204453_1010', '20210813_204649_1012', '20210801_210822_19_240c', '20210801_210819_89_240c', '20210802_213636_22_1057', '20210802_213634_72_1057', '20210802_203626_91_225a', '20210802_203624_62_225a', '20210802_204543_1012', '20210802_204542_1012', '20210802_204541_1012', '20210801_202256_48_2456', '20210801_202254_00_2456', '20210801_193330_13_106d', '20210801_193328_61_106d', '20210801_193327_08_106d', '20210801_164622_104a', '20210801_164620_104a', '20210801_204541_1003', '20210801_164621_104a', '20210731_204804_0f17', '20210731_204803_0f17', '20210731_204802_0f17', '20210731_201802_89_2212', '20210731_201800_68_2212', '20210726_204318_100c', '20210726_204317_100c', '20210726_204316_100c', '20210726_202247_62_2436', '20210726_164153_1053', '20210726_164152_1053', '20210719_205616_68_105c', '20210718_204744_100a', '20210718_204742_100a', '20210718_204743_100a', '20210718_213550_71_1066', '20210718_213549_21_1066', '20210718_213547_71_1066', '20210717_213412_67_1057', '20210717_213411_17_1057', '20210717_213409_67_1057', '20210717_203016_37_2262', '20210716_202703_50_245d', '20210716_202701_03_245d', '20210715_204553_1035', '20210715_204552_1035', '20210715_204551_1035', '20210715_211159_05_2402', '20210715_211156_75_2402', '20210714_204343_1025', '20210714_204344_1025', '20210714_204342_1025', '20210704_164734_0f49', '20210704_204517_1040', '20210704_204516_1040', '20210704_204515_1040', '20210704_204640_1013', '20210704_204639_1013', '20210704_204638_1013', '20210701_203411_12_2441', '20210701_203408_83_2441', '20210630_205214_1035', '20210629_203040_14_2233', '20210629_165003_1050', '20210629_165002_1050', '20210629_165001_1050', '20210615_211619_25_2426', '20210615_211616_96_2426', '20210615_202558_58_245f', '20210615_202556_27_245f', '20210615_202553_97_245f', '20210614_164801_0f49', '20210614_164800_0f49', '20210614_164759_0f49', '20210614_164758_0f49', '20210614_205247_1025', '20210613_202529_05_245d', '20210613_202526_75_245d', '20210613_193954_72_106c', '20210613_193952_72_106c', '20210612_210955_70_227a', '20210612_210953_21_227a', '20210611_205334_1011', '20210611_193904_93_106e', '20210611_193902_91_106e', '20210611_165004_104b', '20210611_165002_104b', '20210611_165003_104b', '20210606_201946_88_2463', '20210606_201944_58_2463', '20210606_202722_10_2428', '20210606_202719_80_2428', '20210605_202116_69_222b', '20210605_202114_48_222b', '20210605_202404_27_2431', '20210605_165245_1_0f21', '20210605_165245_0f21', '20210524_165520_104b', '20210524_165519_104b', '20210524_165518_104b', '20210518_211341_30_2401', '20210518_211339_01_2401', '20210517_202036_71_2206', '20210517_202034_50_2206', '20210507_170008_1054', '20210507_165517_1_100d', '20210507_165516_100d', '20210507_165515_100d', '20210501_211800_15_227a', '20210501_211757_67_227a', '20210501_202302_55_2463', '20210501_202300_20_2463', '20210429_170034_1048', '20210427_194055_78_106d', '20210427_194054_25_106d', '20210426_203018_09_2262', '20210426_203015_80_2262', '20210426_203130_64_2251', '20210426_203132_93_2251', '20210426_170329_0f3c', '20210426_170328_0f3c', '20210426_170327_0f3c', '20210425_165657_1050', '20210425_165655_1050', '20210425_165656_1050', '20210425_165654_1050', '20210425_211428_03_2406', '20210425_211425_74_2406', '20210424_202443_93_2431', '20210423_202540_54_241a', '20210423_170031_1_1053', '20210423_170031_1053', '20210423_170030_1053', '20210423_170029_1053', '20210422_213334_99_105d', '20210421_165700_0f21', '20210421_165659_0f21', '20210421_165658_0f21', '20210421_211435_88_2254', '20210421_211433_53_2254', '20210421_202734_37_2423']\n"
     ]
    }
   ],
   "source": [
    "# get images that overlap with our AOI \n",
    "geometry_filter = {\n",
    "  \"type\": \"GeometryFilter\",\n",
    "  \"field_name\": \"geometry\",\n",
    "  \"config\": AOI_box\n",
    "}\n",
    "\n",
    "# get images acquired within a date range\n",
    "date_range_filter = {\n",
    "  \"type\": \"DateRangeFilter\",\n",
    "  \"field_name\": \"acquired\",\n",
    "  \"config\": {\n",
    "    \"gte\": start_date + \"T00:00:00.000Z\",\n",
    "    \"lte\": end_date + \"T00:00:00.000Z\"\n",
    "  }\n",
    "}\n",
    "\n",
    "# only get images which have <50% cloud coverage\n",
    "cloud_cover_filter = {\n",
    "  \"type\": \"RangeFilter\",\n",
    "  \"field_name\": \"cloud_cover\",\n",
    "  \"config\": {\n",
    "    \"lte\": max_cloud_cover\n",
    "  }\n",
    "}\n",
    "\n",
    "# combine our geo, date, cloud filters\n",
    "combined_filter = {\n",
    "  \"type\": \"AndFilter\",\n",
    "  \"config\": [geometry_filter, date_range_filter, cloud_cover_filter]\n",
    "}\n",
    "\n",
    "# define the clip tool\n",
    "clip = {\n",
    "    \"clip\": {\n",
    "        \"aoi\": AOI_box\n",
    "    }\n",
    "}\n",
    "\n",
    "# API request object\n",
    "QS_request = {\n",
    "  #\"interval\":\"day\",\n",
    "  \"item_types\": [item_type], \n",
    "  \"asset_types\": [asset_type],\n",
    "  \"filter\":combined_filter\n",
    "}\n",
    "\n",
    "# fire off the POST request\n",
    "QS_result = \\\n",
    "  requests.post(\n",
    "    'https://api.planet.com/data/v1/quick-search',\n",
    "    auth=HTTPBasicAuth(PLANET_API_KEY, ''),\n",
    "    json=QS_request)\n",
    "\n",
    "# Print resulting image IDs\n",
    "im_ids = [feature['id'] for feature in QS_result.json()['features']]\n",
    "print(im_ids)"
   ]
  },
  {
   "cell_type": "markdown",
   "metadata": {},
   "source": [
    "### Place Order"
   ]
  },
  {
   "cell_type": "code",
   "execution_count": 9,
   "metadata": {},
   "outputs": [
    {
     "name": "stdout",
     "output_type": "stream",
     "text": [
      "<Response [400]>\n"
     ]
    },
    {
     "ename": "KeyError",
     "evalue": "'id'",
     "output_type": "error",
     "traceback": [
      "\u001b[0;31m---------------------------------------------------------------------------\u001b[0m",
      "\u001b[0;31mKeyError\u001b[0m                                  Traceback (most recent call last)",
      "\u001b[0;32m<ipython-input-9-ee5a22e010a2>\u001b[0m in \u001b[0;36m<module>\u001b[0;34m\u001b[0m\n\u001b[1;32m     38\u001b[0m \u001b[0;34m\u001b[0m\u001b[0m\n\u001b[1;32m     39\u001b[0m \u001b[0;31m# place order\u001b[0m\u001b[0;34m\u001b[0m\u001b[0;34m\u001b[0m\u001b[0;34m\u001b[0m\u001b[0m\n\u001b[0;32m---> 40\u001b[0;31m \u001b[0morder_url\u001b[0m \u001b[0;34m=\u001b[0m \u001b[0mplace_order\u001b[0m\u001b[0;34m(\u001b[0m\u001b[0mrequest\u001b[0m\u001b[0;34m,\u001b[0m \u001b[0mauth\u001b[0m\u001b[0;34m)\u001b[0m\u001b[0;34m\u001b[0m\u001b[0;34m\u001b[0m\u001b[0m\n\u001b[0m",
      "\u001b[0;32m<ipython-input-9-ee5a22e010a2>\u001b[0m in \u001b[0;36mplace_order\u001b[0;34m(search_request, auth)\u001b[0m\n\u001b[1;32m     32\u001b[0m     \u001b[0mresponse\u001b[0m \u001b[0;34m=\u001b[0m \u001b[0mrequests\u001b[0m\u001b[0;34m.\u001b[0m\u001b[0mpost\u001b[0m\u001b[0;34m(\u001b[0m\u001b[0morders_url\u001b[0m\u001b[0;34m,\u001b[0m \u001b[0mdata\u001b[0m\u001b[0;34m=\u001b[0m\u001b[0mjson\u001b[0m\u001b[0;34m.\u001b[0m\u001b[0mdumps\u001b[0m\u001b[0;34m(\u001b[0m\u001b[0msearch_request\u001b[0m\u001b[0;34m)\u001b[0m\u001b[0;34m,\u001b[0m \u001b[0mauth\u001b[0m\u001b[0;34m=\u001b[0m\u001b[0mauth\u001b[0m\u001b[0;34m,\u001b[0m \u001b[0mheaders\u001b[0m\u001b[0;34m=\u001b[0m\u001b[0mheaders\u001b[0m\u001b[0;34m)\u001b[0m\u001b[0;34m\u001b[0m\u001b[0;34m\u001b[0m\u001b[0m\n\u001b[1;32m     33\u001b[0m     \u001b[0mprint\u001b[0m\u001b[0;34m(\u001b[0m\u001b[0mresponse\u001b[0m\u001b[0;34m)\u001b[0m\u001b[0;34m\u001b[0m\u001b[0;34m\u001b[0m\u001b[0m\n\u001b[0;32m---> 34\u001b[0;31m     \u001b[0morder_id\u001b[0m \u001b[0;34m=\u001b[0m \u001b[0mresponse\u001b[0m\u001b[0;34m.\u001b[0m\u001b[0mjson\u001b[0m\u001b[0;34m(\u001b[0m\u001b[0;34m)\u001b[0m\u001b[0;34m[\u001b[0m\u001b[0;34m'id'\u001b[0m\u001b[0;34m]\u001b[0m\u001b[0;34m\u001b[0m\u001b[0;34m\u001b[0m\u001b[0m\n\u001b[0m\u001b[1;32m     35\u001b[0m     \u001b[0mprint\u001b[0m\u001b[0;34m(\u001b[0m\u001b[0morder_id\u001b[0m\u001b[0;34m)\u001b[0m\u001b[0;34m\u001b[0m\u001b[0;34m\u001b[0m\u001b[0m\n\u001b[1;32m     36\u001b[0m     \u001b[0morder_url\u001b[0m \u001b[0;34m=\u001b[0m \u001b[0morders_url\u001b[0m \u001b[0;34m+\u001b[0m \u001b[0;34m'/'\u001b[0m \u001b[0;34m+\u001b[0m \u001b[0morder_id\u001b[0m\u001b[0;34m\u001b[0m\u001b[0;34m\u001b[0m\u001b[0m\n",
      "\u001b[0;31mKeyError\u001b[0m: 'id'"
     ]
    }
   ],
   "source": [
    "# set content type to json\n",
    "headers = {'content-type': 'application/json'}\n",
    "\n",
    "# create a request object\n",
    "# (clip images if clip==True)\n",
    "if clip_AOI:\n",
    "    request = {  \n",
    "       \"name\":\"simple order\",\n",
    "       \"products\":[\n",
    "          {\n",
    "              \"item_ids\": im_ids,\n",
    "              \"item_type\": item_type\n",
    "              #\"product_bundle\": asset_type\n",
    "          }\n",
    "       ],\n",
    "        \"tools\": [clip]\n",
    "    }\n",
    "else:\n",
    "    request = {  \n",
    "       \"name\":\"simple order\",\n",
    "       \"products\":[\n",
    "          {\n",
    "              \"item_ids\": im_ids,\n",
    "              \"item_type\": item_type,\n",
    "              #\"product_bundle\":\"analytic\"\n",
    "          }\n",
    "       ],\n",
    "    }\n",
    "\n",
    "# define function to place order\n",
    "def place_order(search_request, auth):\n",
    "    response = requests.post(orders_url, data=json.dumps(search_request), auth=auth, headers=headers)\n",
    "    print(response)\n",
    "    order_id = response.json()['id']\n",
    "    print(order_id)\n",
    "    order_url = orders_url + '/' + order_id\n",
    "    return order_url\n",
    "\n",
    "# place order\n",
    "order_url = place_order(request, auth)"
   ]
  },
  {
   "cell_type": "code",
   "execution_count": 16,
   "metadata": {},
   "outputs": [
    {
     "data": {
      "text/plain": [
       "20"
      ]
     },
     "execution_count": 16,
     "metadata": {},
     "output_type": "execute_result"
    }
   ],
   "source": [
    "response.json()['orders']\n",
    "len(response.json()['orders'])"
   ]
  },
  {
   "cell_type": "markdown",
   "metadata": {},
   "source": [
    "### Poll for Order Success\n",
    "- This section outputs the status of the order every ~10 sec. This will take a few minutes... \n",
    "- Wait until it outputs `success` to proceed to the next section. It will stop after 30 loops, so try proceeding to the next section if it finishes running and does not output `success`.\n",
    "- If you are ordering a LOT of images, consider narrowing your date range to download less images at a time. "
   ]
  },
  {
   "cell_type": "code",
   "execution_count": 11,
   "metadata": {},
   "outputs": [
    {
     "ename": "NameError",
     "evalue": "name 'order_url' is not defined",
     "output_type": "error",
     "traceback": [
      "\u001b[0;31m---------------------------------------------------------------------------\u001b[0m",
      "\u001b[0;31mNameError\u001b[0m                                 Traceback (most recent call last)",
      "\u001b[0;32m<ipython-input-11-a110ccac2743>\u001b[0m in \u001b[0;36m<module>\u001b[0;34m\u001b[0m\n\u001b[1;32m     12\u001b[0m         \u001b[0mtime\u001b[0m\u001b[0;34m.\u001b[0m\u001b[0msleep\u001b[0m\u001b[0;34m(\u001b[0m\u001b[0;36m10\u001b[0m\u001b[0;34m)\u001b[0m\u001b[0;34m\u001b[0m\u001b[0;34m\u001b[0m\u001b[0m\n\u001b[1;32m     13\u001b[0m \u001b[0;34m\u001b[0m\u001b[0m\n\u001b[0;32m---> 14\u001b[0;31m \u001b[0mpoll_for_success\u001b[0m\u001b[0;34m(\u001b[0m\u001b[0morder_url\u001b[0m\u001b[0;34m,\u001b[0m \u001b[0mauth\u001b[0m\u001b[0;34m)\u001b[0m\u001b[0;34m\u001b[0m\u001b[0;34m\u001b[0m\u001b[0m\n\u001b[0m",
      "\u001b[0;31mNameError\u001b[0m: name 'order_url' is not defined"
     ]
    }
   ],
   "source": [
    "def poll_for_success(order_url, auth, num_loops=30):\n",
    "    count = 0\n",
    "    while(count < num_loops):\n",
    "        count += 1\n",
    "        r = requests.get(order_url, auth=auth)\n",
    "        response = r.json()\n",
    "        state = response['state']\n",
    "        print(state)\n",
    "        end_states = ['success', 'failed', 'partial']\n",
    "        if state in end_states:\n",
    "            break\n",
    "        time.sleep(10)\n",
    "        \n",
    "poll_for_success(order_url, auth)"
   ]
  },
  {
   "cell_type": "markdown",
   "metadata": {},
   "source": [
    "### View Results"
   ]
  },
  {
   "cell_type": "code",
   "execution_count": null,
   "metadata": {},
   "outputs": [],
   "source": [
    "r = requests.get(order_url, auth=auth)\n",
    "response = r.json()\n",
    "results = response['_links']['results']\n",
    "\n",
    "[r['name'] for r in results]"
   ]
  },
  {
   "cell_type": "markdown",
   "metadata": {},
   "source": [
    "### Download each asset individually"
   ]
  },
  {
   "cell_type": "code",
   "execution_count": null,
   "metadata": {},
   "outputs": [],
   "source": [
    "# define function to download results\n",
    "def download_results(results, overwrite=False):\n",
    "    results_urls = [r['location'] for r in results]\n",
    "    results_names = [r['name'] for r in results]\n",
    "    print('{} items to download'.format(len(results_urls)))\n",
    "    \n",
    "    for url, name in zip(results_urls, results_names):\n",
    "        path = Path(os.path.join(out_folder,name)) #pathlib.Path(os.path.join('data', name))\n",
    "        \n",
    "        if overwrite or not path.exists():\n",
    "            print('downloading {} to {}'.format(name, path))\n",
    "            r = requests.get(url, allow_redirects=True)\n",
    "            path.parent.mkdir(parents=True, exist_ok=True)\n",
    "            open(path, 'wb').write(r.content)\n",
    "        else:\n",
    "            print('{} already exists, skipping {}'.format(path, name))\n",
    "            \n",
    "# download images!\n",
    "download_results(results)"
   ]
  },
  {
   "cell_type": "markdown",
   "metadata": {},
   "source": [
    "### Visualize downloaded images"
   ]
  },
  {
   "cell_type": "code",
   "execution_count": null,
   "metadata": {},
   "outputs": [],
   "source": [
    "# define helpful functions for visualizing downloaded imagery\n",
    "def show_rgb(img_file):\n",
    "    with rio.open(img_file) as src:\n",
    "        b,g,r,n = src.read()\n",
    "\n",
    "    rgb = np.stack((r,g,b), axis=0)\n",
    "    show(rgb/rgb.max())\n",
    "    \n",
    "def show_gray(img_file):\n",
    "    with rio.open(img_file) as src:\n",
    "        g = src.read(1)\n",
    "    show(g/g.max())\n",
    "    \n",
    "# Replace this path with your image file path\n",
    "img_file = out_folder+'a58eac2e-c15c-4cae-bc0a-5af4eafaf051/PSScene4Band/20211007_202318_88_245c_3B_AnalyticMS_clip.tif'\n",
    "show_rgb(img_file)"
   ]
  },
  {
   "cell_type": "markdown",
   "metadata": {},
   "source": [
    "## You did it!\n",
    "\n",
    "<div>\n",
    "<img src=\"sandy-cheeks.jpeg\" width=\"400\"/>\n",
    "</div>"
   ]
  }
 ],
 "metadata": {
  "kernelspec": {
   "display_name": "Python 3",
   "language": "python",
   "name": "python3"
  },
  "language_info": {
   "codemirror_mode": {
    "name": "ipython",
    "version": 3
   },
   "file_extension": ".py",
   "mimetype": "text/x-python",
   "name": "python",
   "nbconvert_exporter": "python",
   "pygments_lexer": "ipython3",
   "version": "3.8.5"
  }
 },
 "nbformat": 4,
 "nbformat_minor": 4
}
